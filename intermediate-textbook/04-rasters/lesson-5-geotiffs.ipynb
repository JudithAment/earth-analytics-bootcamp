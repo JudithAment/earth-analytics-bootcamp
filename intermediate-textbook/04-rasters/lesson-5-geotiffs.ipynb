{
 "cells": [
  {
   "cell_type": "code",
   "execution_count": 1,
   "metadata": {},
   "outputs": [],
   "source": [
    "# Import necessary packages\n",
    "import os\n",
    "import rioxarray as rxr\n",
    "import earthpy as et\n",
    "\n",
    "# Get data and set working directory\n",
    "et.data.get_data(\"colorado-flood\")\n",
    "os.chdir(os.path.join(et.io.HOME,\n",
    "                      'earth-analytics',\n",
    "                      'data'))"
   ]
  },
  {
   "cell_type": "code",
   "execution_count": 2,
   "metadata": {},
   "outputs": [
    {
     "data": {
      "text/plain": [
       "(472000.0, 4434000.0, 476000.0, 4436000.0)"
      ]
     },
     "execution_count": 2,
     "metadata": {},
     "output_type": "execute_result"
    }
   ],
   "source": [
    "# Define relative path to file\n",
    "lidar_dem_path = os.path.join(\n",
    "    \"colorado-flood\",\n",
    "    \"spatial\",\n",
    "    \"boulder-leehill-rd\",\n",
    "    \"pre-flood\",\n",
    "    \"lidar\",\n",
    "    \"pre_DTM.tif\"\n",
    ")\n",
    "\n",
    "pre_lidar_dem = rxr.open_rasterio(lidar_dem_path, masked=True)\n",
    "pre_lidar_dem.rio.bounds()\n"
   ]
  },
  {
   "cell_type": "code",
   "execution_count": 4,
   "metadata": {},
   "outputs": [
    {
     "name": "stdout",
     "output_type": "stream",
     "text": [
      "The crs of your data is: EPSG:32613\n",
      "The nodatavalue of your data is: nan\n",
      "The shape of your data is: (1, 2000, 4000)\n",
      "The spatial resolution for your data is: (1.0, -1.0)\n",
      "The metadata for your data is: {'scale_factor': 1.0, 'add_offset': 0.0}\n",
      "The spatial extent of this data is:  (472000.0, 4434000.0, 476000.0, 4436000.0)\n"
     ]
    }
   ],
   "source": [
    "# View generate metadata associated with the raster file\n",
    "print(\"The crs of your data is:\", pre_lidar_dem.rio.crs)\n",
    "print(\"The nodatavalue of your data is:\", pre_lidar_dem.rio.nodata)\n",
    "print(\"The shape of your data is:\", pre_lidar_dem.shape)\n",
    "print(\"The spatial resolution for your data is:\", pre_lidar_dem.rio.resolution())\n",
    "print(\"The metadata for your data is:\", pre_lidar_dem.attrs)\n",
    "print(\"The spatial extent of this data is: \",pre_lidar_dem.rio.bounds())"
   ]
  },
  {
   "cell_type": "code",
   "execution_count": 6,
   "metadata": {},
   "outputs": [],
   "source": [
    "# Define relative path to file\n",
    "lidar_dsm_path = os.path.join(\n",
    "    \"colorado-flood\",\n",
    "    \"spatial\",\n",
    "    \"boulder-leehill-rd\",\n",
    "    \"pre-flood\",\n",
    "    \"lidar\",\n",
    "    \"pre_DSM.tif\"\n",
    ")\n",
    "\n",
    "# Open lidar dsm\n",
    "pre_lidar_dsm = rxr.open_rasterio(lidar_dsm_path)"
   ]
  },
  {
   "cell_type": "code",
   "execution_count": 7,
   "metadata": {},
   "outputs": [
    {
     "name": "stdout",
     "output_type": "stream",
     "text": [
      "Both datasets cover the same spatial extent.\n"
     ]
    }
   ],
   "source": [
    "if pre_lidar_dem.rio.bounds() == pre_lidar_dsm.rio.bounds():\n",
    "    print(\"Both datasets cover the same spatial extent.\")"
   ]
  },
  {
   "cell_type": "code",
   "execution_count": 8,
   "metadata": {},
   "outputs": [
    {
     "data": {
      "text/plain": [
       "True"
      ]
     },
     "execution_count": 8,
     "metadata": {},
     "output_type": "execute_result"
    }
   ],
   "source": [
    "# Do both layers have the same spatial resolution?\n",
    "pre_lidar_dem.rio.resolution() == pre_lidar_dsm.rio.resolution()"
   ]
  },
  {
   "cell_type": "code",
   "execution_count": 9,
   "metadata": {},
   "outputs": [
    {
     "data": {
      "text/plain": [
       "CRS.from_epsg(32613)"
      ]
     },
     "execution_count": 9,
     "metadata": {},
     "output_type": "execute_result"
    }
   ],
   "source": [
    "# Get crs of a crs object\n",
    "pre_lidar_dem.rio.crs"
   ]
  }
 ],
 "metadata": {
  "kernelspec": {
   "display_name": "Python 3.8.12 ('earth-analytics-python': conda)",
   "language": "python",
   "name": "python3"
  },
  "language_info": {
   "codemirror_mode": {
    "name": "ipython",
    "version": 3
   },
   "file_extension": ".py",
   "mimetype": "text/x-python",
   "name": "python",
   "nbconvert_exporter": "python",
   "pygments_lexer": "ipython3",
   "version": "3.8.12"
  },
  "orig_nbformat": 4,
  "vscode": {
   "interpreter": {
    "hash": "73eae905298475c16bdd19598b4d23324c5ca2c3eaa9b70999c04e70ee60c08c"
   }
  }
 },
 "nbformat": 4,
 "nbformat_minor": 2
}
