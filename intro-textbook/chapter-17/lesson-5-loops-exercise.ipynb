{
 "cells": [
  {
   "cell_type": "markdown",
   "metadata": {},
   "source": [
    "# Challenge 1: Print Numbers in a list"
   ]
  },
  {
   "cell_type": "code",
   "execution_count": null,
   "metadata": {},
   "outputs": [
    {
     "name": "stdout",
     "output_type": "stream",
     "text": [
      "temp: 47\n",
      "temp: 49\n",
      "temp: 57\n",
      "temp: 64\n",
      "temp: 72\n",
      "temp: 83\n",
      "temp: 89\n",
      "temp: 87\n",
      "temp: 79\n",
      "temp: 67\n",
      "temp: 55\n",
      "temp: 47\n"
     ]
    }
   ],
   "source": [
    "# Data to convert to celsius\n",
    "\n",
    "boulder_avg_high_temp_f = [\n",
    "    47,\n",
    "    49,\n",
    "    57,\n",
    "    64,\n",
    "    72,\n",
    "    83,\n",
    "    89,\n",
    "    87,\n",
    "    79,\n",
    "    67,\n",
    "    55,\n",
    "    47\n",
    "]\n",
    "\n",
    "for temp in boulder_avg_high_temp_f:\n",
    "    print(\"temp:\", temp)"
   ]
  },
  {
   "cell_type": "markdown",
   "metadata": {},
   "source": [
    "#  Challenge 2: Modify Numeric Values in a List"
   ]
  },
  {
   "cell_type": "code",
   "execution_count": 6,
   "metadata": {},
   "outputs": [
    {
     "data": {
      "text/plain": [
       "[8.33,\n",
       " 9.44,\n",
       " 13.89,\n",
       " 17.78,\n",
       " 22.22,\n",
       " 28.33,\n",
       " 31.67,\n",
       " 30.56,\n",
       " 26.11,\n",
       " 19.44,\n",
       " 12.78,\n",
       " 8.33]"
      ]
     },
     "execution_count": 6,
     "metadata": {},
     "output_type": "execute_result"
    }
   ],
   "source": [
    "def f_to_c(fahrenheit):\n",
    "    celcius = (fahrenheit - 32) * 5/9\n",
    "    return(round(celcius, 2))\n",
    "\n",
    "boulder_avg_high_temp_c = [f_to_c(temp) for temp in boulder_avg_high_temp_f]\n",
    "\n",
    "boulder_avg_high_temp_c"
   ]
  },
  {
   "cell_type": "markdown",
   "metadata": {},
   "source": [
    "# Challenge 4: Print A List of Directories"
   ]
  },
  {
   "cell_type": "code",
   "execution_count": 7,
   "metadata": {},
   "outputs": [],
   "source": [
    "import os \n",
    "from glob import glob\n",
    "import earthpy as et \n",
    "\n",
    "# Download data on average monthly temp for two California sites\n",
    "file_url = \"https://ndownloader.figshare.com/files/21894528\"\n",
    "out_path = et.data.get_data(url = file_url)\n",
    "\n",
    "\n",
    "# Set working directory to earth-analytics\n",
    "os.chdir(os.path.join(et.io.HOME, \n",
    "                      \"earth-analytics\", \n",
    "                      \"data\",\n",
    "                      \"earthpy-downloads\"))\n",
    "\n",
    "# Creating all_dirs list of directories to loop through\n",
    "\n",
    "data_dirs = os.path.join(out_path, \"*\")\n",
    "all_dirs = glob(data_dirs)"
   ]
  },
  {
   "cell_type": "code",
   "execution_count": 8,
   "metadata": {},
   "outputs": [
    {
     "name": "stdout",
     "output_type": "stream",
     "text": [
      "/Users/judith/earth-analytics/data/earthpy-downloads/avg-monthly-temp-fahr/San-Diego\n",
      "/Users/judith/earth-analytics/data/earthpy-downloads/avg-monthly-temp-fahr/Sonoma\n"
     ]
    }
   ],
   "source": [
    "for dir in all_dirs:\n",
    "    print(dir)"
   ]
  },
  {
   "cell_type": "markdown",
   "metadata": {},
   "source": [
    "# Challenge 5: Print A List of All Files Within Each Directory\n",
    "Above, you printed the name of each directory stored in a list of directories. Use the same for loop that you created above to print a list of all files in each directory.\n",
    "\n",
    "HINT: you will want to use the glob function to create a list of files within each directory."
   ]
  },
  {
   "cell_type": "code",
   "execution_count": 14,
   "metadata": {},
   "outputs": [
    {
     "data": {
      "text/plain": [
       "['/Users/judith/earth-analytics/data/earthpy-downloads/avg-monthly-temp-fahr/San-Diego/San-Diego-2002-temp.csv',\n",
       " '/Users/judith/earth-analytics/data/earthpy-downloads/avg-monthly-temp-fahr/San-Diego/San-Diego-2003-temp.csv',\n",
       " '/Users/judith/earth-analytics/data/earthpy-downloads/avg-monthly-temp-fahr/San-Diego/San-Diego-1999-temp.csv',\n",
       " '/Users/judith/earth-analytics/data/earthpy-downloads/avg-monthly-temp-fahr/San-Diego/San-Diego-2001-temp.csv',\n",
       " '/Users/judith/earth-analytics/data/earthpy-downloads/avg-monthly-temp-fahr/San-Diego/San-Diego-2000-temp.csv',\n",
       " '/Users/judith/earth-analytics/data/earthpy-downloads/avg-monthly-temp-fahr/Sonoma/Sonoma-2000-temp.csv',\n",
       " '/Users/judith/earth-analytics/data/earthpy-downloads/avg-monthly-temp-fahr/Sonoma/Sonoma-2001-temp.csv',\n",
       " '/Users/judith/earth-analytics/data/earthpy-downloads/avg-monthly-temp-fahr/Sonoma/Sonoma-1999-temp.csv',\n",
       " '/Users/judith/earth-analytics/data/earthpy-downloads/avg-monthly-temp-fahr/Sonoma/Sonoma-2003-temp.csv',\n",
       " '/Users/judith/earth-analytics/data/earthpy-downloads/avg-monthly-temp-fahr/Sonoma/Sonoma-2002-temp.csv']"
      ]
     },
     "execution_count": 14,
     "metadata": {},
     "output_type": "execute_result"
    }
   ],
   "source": [
    "file_list = []\n",
    "\n",
    "for dir in all_dirs:\n",
    "    files_in_dir = glob(os.path.join(dir, \"*\"))\n",
    "    for file in files_in_dir:\n",
    "        file_list.append(file)\n",
    "\n",
    "file_list"
   ]
  },
  {
   "cell_type": "markdown",
   "metadata": {},
   "source": [
    "# Bonus Challenge 1: Get Data from List of Files\n",
    "Above, you created a list inside of a for loop to view all of the files stored in two separate folders. These files are csv files that can be opened with pandas as a DataFrame. The files contain the average monthly temperature for two different study locations, Sonoma and San Diego. Their are csv files for each location for the years between 1999 and 2003.\n",
    "\n",
    "For this challenge, use nested for loops to get data from the files and find the average temperature in January over the years for the two sites. The end result should be two variables that represent the average January temperature for each site. Their are many ways to get this data, so don’t be afraid to get creative!"
   ]
  },
  {
   "cell_type": "code",
   "execution_count": 23,
   "metadata": {},
   "outputs": [
    {
     "data": {
      "text/html": [
       "<div>\n",
       "<style scoped>\n",
       "    .dataframe tbody tr th:only-of-type {\n",
       "        vertical-align: middle;\n",
       "    }\n",
       "\n",
       "    .dataframe tbody tr th {\n",
       "        vertical-align: top;\n",
       "    }\n",
       "\n",
       "    .dataframe thead th {\n",
       "        text-align: right;\n",
       "    }\n",
       "</style>\n",
       "<table border=\"1\" class=\"dataframe\">\n",
       "  <thead>\n",
       "    <tr style=\"text-align: right;\">\n",
       "      <th></th>\n",
       "      <th>Year</th>\n",
       "      <th>January</th>\n",
       "      <th>February</th>\n",
       "      <th>March</th>\n",
       "      <th>April</th>\n",
       "      <th>May</th>\n",
       "      <th>June</th>\n",
       "      <th>July</th>\n",
       "      <th>August</th>\n",
       "      <th>September</th>\n",
       "      <th>October</th>\n",
       "      <th>November</th>\n",
       "      <th>December</th>\n",
       "      <th>location</th>\n",
       "    </tr>\n",
       "  </thead>\n",
       "  <tbody>\n",
       "    <tr>\n",
       "      <th>0</th>\n",
       "      <td>2002</td>\n",
       "      <td>63.0</td>\n",
       "      <td>66.2</td>\n",
       "      <td>63.6</td>\n",
       "      <td>63.7</td>\n",
       "      <td>66.1</td>\n",
       "      <td>68.7</td>\n",
       "      <td>71.8</td>\n",
       "      <td>73.4</td>\n",
       "      <td>75.5</td>\n",
       "      <td>68.4</td>\n",
       "      <td>71.4</td>\n",
       "      <td>63.7</td>\n",
       "      <td>San-Diego</td>\n",
       "    </tr>\n",
       "    <tr>\n",
       "      <th>0</th>\n",
       "      <td>2003</td>\n",
       "      <td>71.4</td>\n",
       "      <td>64.6</td>\n",
       "      <td>66.5</td>\n",
       "      <td>65.2</td>\n",
       "      <td>66.9</td>\n",
       "      <td>67.4</td>\n",
       "      <td>74.3</td>\n",
       "      <td>77.5</td>\n",
       "      <td>74.0</td>\n",
       "      <td>73.1</td>\n",
       "      <td>67.4</td>\n",
       "      <td>64.6</td>\n",
       "      <td>San-Diego</td>\n",
       "    </tr>\n",
       "    <tr>\n",
       "      <th>0</th>\n",
       "      <td>1999</td>\n",
       "      <td>65.2</td>\n",
       "      <td>64.9</td>\n",
       "      <td>63.6</td>\n",
       "      <td>64.6</td>\n",
       "      <td>64.4</td>\n",
       "      <td>66.9</td>\n",
       "      <td>72.7</td>\n",
       "      <td>72.7</td>\n",
       "      <td>71.4</td>\n",
       "      <td>77.7</td>\n",
       "      <td>67.4</td>\n",
       "      <td>67.6</td>\n",
       "      <td>San-Diego</td>\n",
       "    </tr>\n",
       "    <tr>\n",
       "      <th>0</th>\n",
       "      <td>2001</td>\n",
       "      <td>62.2</td>\n",
       "      <td>61.7</td>\n",
       "      <td>63.7</td>\n",
       "      <td>63.6</td>\n",
       "      <td>67.5</td>\n",
       "      <td>72.0</td>\n",
       "      <td>73.0</td>\n",
       "      <td>73.5</td>\n",
       "      <td>73.2</td>\n",
       "      <td>71.1</td>\n",
       "      <td>66.9</td>\n",
       "      <td>63.3</td>\n",
       "      <td>San-Diego</td>\n",
       "    </tr>\n",
       "    <tr>\n",
       "      <th>0</th>\n",
       "      <td>2000</td>\n",
       "      <td>65.8</td>\n",
       "      <td>65.3</td>\n",
       "      <td>63.7</td>\n",
       "      <td>67.7</td>\n",
       "      <td>69.1</td>\n",
       "      <td>72.4</td>\n",
       "      <td>73.5</td>\n",
       "      <td>76.3</td>\n",
       "      <td>75.5</td>\n",
       "      <td>69.5</td>\n",
       "      <td>66.0</td>\n",
       "      <td>66.9</td>\n",
       "      <td>San-Diego</td>\n",
       "    </tr>\n",
       "    <tr>\n",
       "      <th>0</th>\n",
       "      <td>2000</td>\n",
       "      <td>56.8</td>\n",
       "      <td>58.0</td>\n",
       "      <td>64.8</td>\n",
       "      <td>69.5</td>\n",
       "      <td>75.0</td>\n",
       "      <td>79.5</td>\n",
       "      <td>81.4</td>\n",
       "      <td>83.7</td>\n",
       "      <td>83.4</td>\n",
       "      <td>71.8</td>\n",
       "      <td>60.7</td>\n",
       "      <td>58.5</td>\n",
       "      <td>Sonoma</td>\n",
       "    </tr>\n",
       "    <tr>\n",
       "      <th>0</th>\n",
       "      <td>2001</td>\n",
       "      <td>56.5</td>\n",
       "      <td>58.4</td>\n",
       "      <td>68.0</td>\n",
       "      <td>66.7</td>\n",
       "      <td>83.1</td>\n",
       "      <td>86.1</td>\n",
       "      <td>81.2</td>\n",
       "      <td>85.3</td>\n",
       "      <td>81.0</td>\n",
       "      <td>78.4</td>\n",
       "      <td>64.0</td>\n",
       "      <td>55.6</td>\n",
       "      <td>Sonoma</td>\n",
       "    </tr>\n",
       "    <tr>\n",
       "      <th>0</th>\n",
       "      <td>1999</td>\n",
       "      <td>56.1</td>\n",
       "      <td>56.6</td>\n",
       "      <td>58.7</td>\n",
       "      <td>68.3</td>\n",
       "      <td>72.7</td>\n",
       "      <td>80.6</td>\n",
       "      <td>80.9</td>\n",
       "      <td>82.9</td>\n",
       "      <td>81.3</td>\n",
       "      <td>79.1</td>\n",
       "      <td>64.2</td>\n",
       "      <td>61.5</td>\n",
       "      <td>Sonoma</td>\n",
       "    </tr>\n",
       "    <tr>\n",
       "      <th>0</th>\n",
       "      <td>2003</td>\n",
       "      <td>58.9</td>\n",
       "      <td>61.8</td>\n",
       "      <td>66.4</td>\n",
       "      <td>61.5</td>\n",
       "      <td>74.2</td>\n",
       "      <td>81.1</td>\n",
       "      <td>87.0</td>\n",
       "      <td>83.5</td>\n",
       "      <td>85.0</td>\n",
       "      <td>82.7</td>\n",
       "      <td>61.0</td>\n",
       "      <td>56.4</td>\n",
       "      <td>Sonoma</td>\n",
       "    </tr>\n",
       "    <tr>\n",
       "      <th>0</th>\n",
       "      <td>2002</td>\n",
       "      <td>55.8</td>\n",
       "      <td>62.9</td>\n",
       "      <td>63.5</td>\n",
       "      <td>66.9</td>\n",
       "      <td>74.5</td>\n",
       "      <td>84.2</td>\n",
       "      <td>82.8</td>\n",
       "      <td>82.1</td>\n",
       "      <td>84.5</td>\n",
       "      <td>75.7</td>\n",
       "      <td>67.6</td>\n",
       "      <td>57.4</td>\n",
       "      <td>Sonoma</td>\n",
       "    </tr>\n",
       "  </tbody>\n",
       "</table>\n",
       "</div>"
      ],
      "text/plain": [
       "   Year  January  February  March  April   May  June  July  August  September  \\\n",
       "0  2002     63.0      66.2   63.6   63.7  66.1  68.7  71.8    73.4       75.5   \n",
       "0  2003     71.4      64.6   66.5   65.2  66.9  67.4  74.3    77.5       74.0   \n",
       "0  1999     65.2      64.9   63.6   64.6  64.4  66.9  72.7    72.7       71.4   \n",
       "0  2001     62.2      61.7   63.7   63.6  67.5  72.0  73.0    73.5       73.2   \n",
       "0  2000     65.8      65.3   63.7   67.7  69.1  72.4  73.5    76.3       75.5   \n",
       "0  2000     56.8      58.0   64.8   69.5  75.0  79.5  81.4    83.7       83.4   \n",
       "0  2001     56.5      58.4   68.0   66.7  83.1  86.1  81.2    85.3       81.0   \n",
       "0  1999     56.1      56.6   58.7   68.3  72.7  80.6  80.9    82.9       81.3   \n",
       "0  2003     58.9      61.8   66.4   61.5  74.2  81.1  87.0    83.5       85.0   \n",
       "0  2002     55.8      62.9   63.5   66.9  74.5  84.2  82.8    82.1       84.5   \n",
       "\n",
       "   October  November  December   location  \n",
       "0     68.4      71.4      63.7  San-Diego  \n",
       "0     73.1      67.4      64.6  San-Diego  \n",
       "0     77.7      67.4      67.6  San-Diego  \n",
       "0     71.1      66.9      63.3  San-Diego  \n",
       "0     69.5      66.0      66.9  San-Diego  \n",
       "0     71.8      60.7      58.5     Sonoma  \n",
       "0     78.4      64.0      55.6     Sonoma  \n",
       "0     79.1      64.2      61.5     Sonoma  \n",
       "0     82.7      61.0      56.4     Sonoma  \n",
       "0     75.7      67.6      57.4     Sonoma  "
      ]
     },
     "execution_count": 23,
     "metadata": {},
     "output_type": "execute_result"
    }
   ],
   "source": [
    "import pandas as pd\n",
    "import os as os\n",
    "\n",
    "data_frame = []\n",
    "\n",
    "for dir in all_dirs:\n",
    "    files_in_dir = glob(os.path.join(dir, \"*\"))\n",
    "    for file in files_in_dir:\n",
    "        temp = pd.read_csv(file)\n",
    "        temp[\"location\"] = os.path.basename(dir)\n",
    "        data_frame.append(temp)\n",
    "\n",
    "\n",
    "data_frame = pd.concat(data_frame)\n",
    "data_frame.sort()"
   ]
  },
  {
   "cell_type": "code",
   "execution_count": 47,
   "metadata": {},
   "outputs": [],
   "source": [
    "month_names_url = 'https://ndownloader.figshare.com/files/12565619'\n",
    "\n",
    "# Download data\n",
    "months_path = et.data.get_data(url=month_names_url)"
   ]
  },
  {
   "cell_type": "code",
   "execution_count": 70,
   "metadata": {},
   "outputs": [
    {
     "name": "stdout",
     "output_type": "stream",
     "text": [
      "['Jan' 'Feb' 'Mar' 'Apr' 'May' 'June' 'July' 'Aug' 'Sept' 'Oct' 'Nov'\n",
      " 'Dec']\n"
     ]
    },
    {
     "data": {
      "text/plain": [
       "array([[63. , 66.2, 63.6, 63.7, 66.1, 68.7, 71.8, 73.4, 75.5, 68.4, 71.4,\n",
       "        63.7],\n",
       "       [71.4, 64.6, 66.5, 65.2, 66.9, 67.4, 74.3, 77.5, 74. , 73.1, 67.4,\n",
       "        64.6],\n",
       "       [65.2, 64.9, 63.6, 64.6, 64.4, 66.9, 72.7, 72.7, 71.4, 77.7, 67.4,\n",
       "        67.6],\n",
       "       [62.2, 61.7, 63.7, 63.6, 67.5, 72. , 73. , 73.5, 73.2, 71.1, 66.9,\n",
       "        63.3],\n",
       "       [65.8, 65.3, 63.7, 67.7, 69.1, 72.4, 73.5, 76.3, 75.5, 69.5, 66. ,\n",
       "        66.9],\n",
       "       [56.8, 58. , 64.8, 69.5, 75. , 79.5, 81.4, 83.7, 83.4, 71.8, 60.7,\n",
       "        58.5],\n",
       "       [56.5, 58.4, 68. , 66.7, 83.1, 86.1, 81.2, 85.3, 81. , 78.4, 64. ,\n",
       "        55.6],\n",
       "       [56.1, 56.6, 58.7, 68.3, 72.7, 80.6, 80.9, 82.9, 81.3, 79.1, 64.2,\n",
       "        61.5],\n",
       "       [58.9, 61.8, 66.4, 61.5, 74.2, 81.1, 87. , 83.5, 85. , 82.7, 61. ,\n",
       "        56.4],\n",
       "       [55.8, 62.9, 63.5, 66.9, 74.5, 84.2, 82.8, 82.1, 84.5, 75.7, 67.6,\n",
       "        57.4]])"
      ]
     },
     "execution_count": 70,
     "metadata": {},
     "output_type": "execute_result"
    }
   ],
   "source": [
    "import numpy as np\n",
    "\n",
    "# Check for files and then load data files for plot\n",
    "if os.path.exists(months_path):\n",
    "    months = np.loadtxt(months_path,'str')\n",
    "    print(months)\n",
    "else:\n",
    "    print(\"Data file not found!\")\n"
   ]
  },
  {
   "cell_type": "code",
   "execution_count": 69,
   "metadata": {},
   "outputs": [
    {
     "data": {
      "image/png": "[encoded data removed]",
      "text/plain": [
       "<Figure size 1080x720 with 1 Axes>"
      ]
     },
     "metadata": {
      "needs_background": "light"
     },
     "output_type": "display_data"
    }
   ],
   "source": [
    "import matplotlib.pyplot as plt\n",
    "import seaborn as sns\n",
    "\n",
    "boulder_annual_precip_mm = data_frame.loc[:, 'January':'December']\n",
    "boulder_annual_precip_mm = boulder_annual_precip_mm.to_numpy()\n",
    "\n",
    "# Define plot space\n",
    "fig, ax = plt.subplots(figsize=(15, 10))\n",
    "\n",
    "# Set up plot variables\n",
    "plot_years = [*range(1999, 2003, 1)] \n",
    "plot_colors = sns.color_palette(\"mako\", n_colors=len(plot_years))\n",
    "\n",
    "\n",
    "for ayear, acolor, annual_precip in zip(plot_years, plot_colors, boulder_annual_precip_mm):\n",
    "    ax.plot(months,\n",
    "            annual_precip,\n",
    "            label=\"plot_years\",\n",
    "            color=acolor)\n",
    "\n",
    "# Set plot title and axes labels\n",
    "ax.set(title=\"Average Monthly Precip (mm) 1998-2017\",\n",
    "       xlabel=\"Month\",\n",
    "       ylabel=\"Precipitation (mm)\")\n",
    "\n",
    "# Set Legend\n",
    "plt.legend(plot_years, title=\"Legend\", loc='best')\n",
    "\n",
    "plt.show()"
   ]
  },
  {
   "cell_type": "code",
   "execution_count": 33,
   "metadata": {},
   "outputs": [
    {
     "data": {
      "text/plain": [
       "65.52"
      ]
     },
     "execution_count": 33,
     "metadata": {},
     "output_type": "execute_result"
    }
   ],
   "source": [
    "sandiego = data_frame[data_frame['location'] == \"San-Diego\"]\n",
    "sandiego[\"January\"].mean().round(2)"
   ]
  },
  {
   "cell_type": "code",
   "execution_count": 34,
   "metadata": {},
   "outputs": [
    {
     "data": {
      "text/plain": [
       "56.82"
      ]
     },
     "execution_count": 34,
     "metadata": {},
     "output_type": "execute_result"
    }
   ],
   "source": [
    "sonoma = data_frame[data_frame['location'] == \"Sonoma\"]\n",
    "sonoma[\"January\"].mean().round(2)"
   ]
  },
  {
   "cell_type": "markdown",
   "metadata": {},
   "source": [
    "#  Bonus Challenge 2: Collatz Conjecture"
   ]
  },
  {
   "cell_type": "code",
   "execution_count": 38,
   "metadata": {},
   "outputs": [
    {
     "name": "stdout",
     "output_type": "stream",
     "text": [
      "5000.0\n",
      "2500.0\n",
      "1250.0\n",
      "625.0\n",
      "1876.0\n",
      "938.0\n",
      "469.0\n",
      "1408.0\n",
      "704.0\n",
      "352.0\n",
      "176.0\n",
      "88.0\n",
      "44.0\n",
      "22.0\n",
      "11.0\n",
      "34.0\n",
      "17.0\n",
      "52.0\n",
      "26.0\n",
      "13.0\n",
      "40.0\n",
      "20.0\n",
      "10.0\n",
      "5.0\n",
      "16.0\n",
      "8.0\n",
      "4.0\n",
      "2.0\n",
      "1.0\n"
     ]
    }
   ],
   "source": [
    "x = 10000\n",
    "\n",
    "while x != 1:\n",
    "    if (x%2) == 0:\n",
    "        x *= .5\n",
    "        print(x)\n",
    "    else:\n",
    "        x = (x * 3) + 1\n",
    "        print(x)\n",
    "\n",
    "    "
   ]
  }
 ],
 "metadata": {
  "kernelspec": {
   "display_name": "Python 3.8.12 ('earth-analytics-python')",
   "language": "python",
   "name": "python3"
  },
  "language_info": {
   "codemirror_mode": {
    "name": "ipython",
    "version": 3
   },
   "file_extension": ".py",
   "mimetype": "text/x-python",
   "name": "python",
   "nbconvert_exporter": "python",
   "pygments_lexer": "ipython3",
   "version": "3.8.12"
  },
  "orig_nbformat": 4,
  "vscode": {
   "interpreter": {
    "hash": "73eae905298475c16bdd19598b4d23324c5ca2c3eaa9b70999c04e70ee60c08c"
   }
  }
 },
 "nbformat": 4,
 "nbformat_minor": 2
}
