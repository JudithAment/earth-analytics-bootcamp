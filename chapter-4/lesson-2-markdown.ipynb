{
 "cells": [
  {
   "cell_type": "markdown",
   "id": "a30fe383",
   "metadata": {},
   "source": [
    "# Intro to Earth Analytics - Chapter Four\n",
    "\n",
    "**Author:** Judith Ament \\\n",
    "**Date:** 2022-01-12"
   ]
  },
  {
   "cell_type": "markdown",
   "id": "2e2f68ef",
   "metadata": {},
   "source": [
    "My favourite foods: \n",
    "- *blueberries*\n",
    "- chocolate bars (<a href=\"https://tonyschocolonely.com/nl/nl\" target=\"_blank\">Tony Chocolonely</a>)\n",
    "- avocados ![avo](https://cdn.cbs.nl/images/697657545630786f554c4846646e507a3545566368413d3d/900x450.jpg)"
   ]
  }
 ],
 "metadata": {
  "kernelspec": {
   "display_name": "Python 3 (ipykernel)",
   "language": "python",
   "name": "python3"
  },
  "language_info": {
   "codemirror_mode": {
    "name": "ipython",
    "version": 3
   },
   "file_extension": ".py",
   "mimetype": "text/x-python",
   "name": "python",
   "nbconvert_exporter": "python",
   "pygments_lexer": "ipython3",
   "version": "3.9.7"
  }
 },
 "nbformat": 4,
 "nbformat_minor": 5
}
