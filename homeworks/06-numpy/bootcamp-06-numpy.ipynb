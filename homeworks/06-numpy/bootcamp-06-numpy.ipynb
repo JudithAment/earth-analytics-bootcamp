{
 "cells": [
  {
   "cell_type": "markdown",
   "metadata": {},
   "source": [
    "<img style=\"float: left;\" src=\"earth-lab-logo-rgb.png\" width=\"150\" height=\"150\" />\n",
    "\n",
    "# Earth Analytics Education - Bootcamp Course Fall 2020"
   ]
  },
  {
   "cell_type": "markdown",
   "metadata": {},
   "source": [
    "## Important  - Assignment Guidelines\n",
    "\n",
    "1. Before you submit your assignment to GitHub, make sure to run the entire notebook with a fresh kernel. To do this first, **restart the kernel** (in the menubar, select Kernel$\\rightarrow$Restart & Run All)\n",
    "2. Always replace the `raise NotImplementedError()` code with your code that addresses the activity challenge. If you don't replace that code, your notebook will not run.\n",
    "\n",
    "```\n",
    "# YOUR CODE HERE\n",
    "raise NotImplementedError()\n",
    "```\n",
    "\n",
    "3. Any open ended questions will have a \"YOUR ANSWER HERE\" within a markdown cell. Replace that text with your answer also formatted using Markdown.\n",
    "4. **DO NOT RENAME THIS NOTEBOOK File!** If the file name changes, the autograder will not grade your assignment properly.\n",
    "6. When you create a figure, comment out `plt.show()` to ensure the autograder can grade your plots. For figure cells, DO NOT DELETE the code that says `DO NOT REMOVE LINE BELOW`.\n",
    "\n",
    "```\n",
    "### DO NOT REMOVE LINE BELOW ###\n",
    "student_plot1_ax = nb.convert_axes(plt)\n",
    "```\n",
    "\n",
    "* Only include the package imports, code, and outputs that are required to run your homework assignment.\n",
    "* Be sure that your code can be run on any operating system. This means that:\n",
    "   1. the data should be downloaded in the notebook to ensure it's reproducible\n",
    "   2. all paths should be created dynamically using the `os.path.join`\n",
    "\n",
    "## Follow to PEP 8 Syntax Guidelines & Documentation\n",
    "\n",
    "* Run the `autopep8` tool on all cells prior to submitting (HINT: hit shift + the tool to run it on all cells at once!\n",
    "* Use clear and expressive names for variables. \n",
    "* Organize your code to support readability.\n",
    "* Check for code line length\n",
    "* Use comments and white space sparingly where it is needed\n",
    "* Make sure all python imports are at the top of your notebook and follow PEP 8 order conventions\n",
    "* Spell check your Notebook before submitting it.\n",
    "\n",
    "For all of the plots below, be sure to do the following:\n",
    "\n",
    "* Make sure each plot has a clear TITLE and, where appropriate, label the x and y axes. Be sure to include UNITS in your labels.\n"
   ]
  },
  {
   "cell_type": "markdown",
   "metadata": {},
   "source": [
    "### Add Your Name Below \n",
    "**Your Name:** Judith Ament"
   ]
  },
  {
   "cell_type": "markdown",
   "metadata": {},
   "source": [
    "<img style=\"float: left;\" src=\"colored-bar.png\"/>"
   ]
  },
  {
   "cell_type": "markdown",
   "metadata": {},
   "source": [
    "---"
   ]
  },
  {
   "cell_type": "markdown",
   "metadata": {
    "deletable": false,
    "editable": false,
    "nbgrader": {
     "cell_type": "markdown",
     "checksum": "b84b176f202e117ccb84702b7fe32f25",
     "grade": false,
     "grade_id": "hw-instructions",
     "locked": true,
     "schema_version": 3,
     "solution": false
    }
   },
   "source": [
    "# Week 6 Homework Template - Numpy Arrays\n",
    "\n",
    "To complete assignment 5, be sure you have reviewed Chapters 11 and 12 in Section 4 and Chapter 14 in Section 6 of the <a href=\"https://www.earthdatascience.org/courses/intro-to-earth-data-science/\" target=\"_blank\">Intro to Earth Data Science online textbook</a> online textbook, which cover working with packages and paths as well as the numpy package.\n",
    "\n",
    "Read the instructions for each question carefully to successfully complete the required tasks.\n",
    "\n",
    "## Assignment Data\n",
    "\n",
    "For this assignment, you will write **Python** code to download and plot average monthly temperatures in 2017 for Boulder, CO <a href=\"https://www.esrl.noaa.gov/psd/boulder/Boulder.mm.html\" target=\"_blank\">U.S. National Oceanic and Atmospheric Administration (NOAA)</a>. Then you will process some NOAA precipitation data also collected in Boulder, Colorado."
   ]
  },
  {
   "cell_type": "code",
   "execution_count": 118,
   "metadata": {
    "deletable": false,
    "editable": false,
    "nbgrader": {
     "cell_type": "code",
     "checksum": "cd025397a79e79a05c34322fd27f7b41",
     "grade": false,
     "grade_id": "core-imports",
     "locked": true,
     "schema_version": 3,
     "solution": false
    }
   },
   "outputs": [],
   "source": [
    "# Core imports needed for grading - Do not modify this cell!\n",
    "import matplotcheck.notebook as nb\n",
    "from matplotcheck.base import PlotTester\n",
    "import pandas as pd"
   ]
  },
  {
   "cell_type": "markdown",
   "metadata": {
    "deletable": false,
    "editable": false,
    "nbgrader": {
     "cell_type": "markdown",
     "checksum": "79bf38b0525bbc1ae26f2db711429c65",
     "grade": false,
     "grade_id": "question-student-imports",
     "locked": true,
     "schema_version": 3,
     "solution": false
    }
   },
   "source": [
    "## Import Python Packages\n",
    "\n",
    "In the cell below, add code **after the line for `Your Code Here`**, replacing `raise NotImplementedError()` with your code to import the package/module needed to:\n",
    "* create plots (hint: you have only learned about one so far!)\n",
    "* set your working directory\n",
    "* download data using earthpy functions\n",
    "* work with numpy arrays\n",
    "\n",
    "Be sure to list the package imports following the appropriate PEP 8 order. "
   ]
  },
  {
   "cell_type": "code",
   "execution_count": 119,
   "metadata": {
    "deletable": false,
    "nbgrader": {
     "cell_type": "code",
     "checksum": "20489880accefdb27a2f10ca8cc97835",
     "grade": false,
     "grade_id": "student-imports-answer",
     "locked": false,
     "schema_version": 3,
     "solution": true,
     "task": false
    }
   },
   "outputs": [],
   "source": [
    "# YOUR CODE HERE\n",
    "import os\n",
    "import matplotlib.pyplot as plt\n",
    "import earthpy as et\n",
    "import numpy as np"
   ]
  },
  {
   "cell_type": "code",
   "execution_count": 120,
   "metadata": {
    "deletable": false,
    "editable": false,
    "nbgrader": {
     "cell_type": "code",
     "checksum": "ef3b99acb1e3acd6a604a3748761c768",
     "grade": true,
     "grade_id": "student-imports-tests",
     "locked": true,
     "points": 4,
     "schema_version": 3,
     "solution": false,
     "task": false
    }
   },
   "outputs": [
    {
     "name": "stdout",
     "output_type": "stream",
     "text": [
      "✅ Score! Numpy has been imported as a np!\n",
      "✅ Nice! matplotlib.pyplot has been imported as plt!\n",
      "✅ Great work! The os module has imported correctly!\n",
      "✅ Great work! The earthpy package has imported correctly!\n",
      "\n",
      " ➡ You received 4 out of 4 points.\n"
     ]
    },
    {
     "data": {
      "text/plain": [
       "4"
      ]
     },
     "execution_count": 120,
     "metadata": {},
     "output_type": "execute_result"
    }
   ],
   "source": [
    "# Test package imports - DO NOT MODIFY THIS CELL!\n",
    "import_answer_points = 0\n",
    "\n",
    "try:\n",
    "    np.nan\n",
    "    print(\"\\u2705 Score! Numpy has been imported as a np!\")\n",
    "    import_answer_points += 1\n",
    "except NameError:\n",
    "    print(\"\\u274C Numpy has not been imported as a np, please make sure to import is properly.\")\n",
    "\n",
    "try:\n",
    "    plt.show()\n",
    "    print(\"\\u2705 Nice! matplotlib.pyplot has been imported as plt!\")\n",
    "    import_answer_points += 1\n",
    "except NameError:\n",
    "    print(\"matplotlib.pyplot has not been imported as plt, please make sure to import is properly.\")\n",
    "\n",
    "try:\n",
    "    os.getcwd()\n",
    "    print(\"\\u2705 Great work! The os module has imported correctly!\")\n",
    "    import_answer_points += 1\n",
    "except NameError:\n",
    "    print(\"\\u274C Oops make sure that the os package is imported.\")\n",
    "\n",
    "try:\n",
    "    data = et.io\n",
    "    print(\"\\u2705 Great work! The earthpy package has imported correctly!\")\n",
    "    import_answer_points += 1\n",
    "except NameError:\n",
    "    print(\"\\u274C Oops make sure that the earthpy package is imported using the alias et.\")\n",
    "\n",
    "print(\"\\n \\u27A1 You received {} out of 4 points.\".format(import_answer_points))\n",
    "\n",
    "import_answer_points"
   ]
  },
  {
   "cell_type": "markdown",
   "metadata": {
    "deletable": false,
    "editable": false,
    "nbgrader": {
     "cell_type": "markdown",
     "checksum": "7631d4c3700fc76702fa84f437b2243b",
     "grade": false,
     "grade_id": "question-calc-variables",
     "locked": true,
     "schema_version": 3,
     "solution": false,
     "task": false
    }
   },
   "source": [
    "## Dataset 1: Download Temperature Data Using EarthPy\n",
    "\n",
    "In the cell below, add code **after the line for `Your Code Here`**, replacing `raise NotImplementedError()` with your code, to complete the following task:\n",
    "\n",
    "* Download the following datasets: \n",
    "    * months.txt from https://ndownloader.figshare.com/files/12565619\n",
    "        * this file contains abbreviated month names as text strings\n",
    "    * boulder-temp-2017.txt from https://ndownloader.figshare.com/files/12767966\n",
    "        * this file contains average monthly temperature (Fahrenheit) in 2017 for Boulder, Colorado"
   ]
  },
  {
   "cell_type": "code",
   "execution_count": 121,
   "metadata": {
    "deletable": false,
    "nbgrader": {
     "cell_type": "code",
     "checksum": "d429cf7a69bb61ee853675b77e8cb153",
     "grade": true,
     "grade_id": "student-calc-variables-answer",
     "locked": false,
     "points": 8,
     "schema_version": 3,
     "solution": true,
     "task": false
    }
   },
   "outputs": [],
   "source": [
    "# YOUR CODE HERE\n",
    "months_url = 'https://ndownloader.figshare.com/files/12565619'\n",
    "months_path = et.data.get_data(url = months_url)\n",
    "\n",
    "data_url = \"https://ndownloader.figshare.com/files/12767966\"\n",
    "boulder_temp_path = et.data.get_data(url = data_url)"
   ]
  },
  {
   "cell_type": "markdown",
   "metadata": {
    "deletable": false,
    "editable": false,
    "nbgrader": {
     "cell_type": "markdown",
     "checksum": "af3bcdc11c5e9b724a50c87c74861adf",
     "grade": false,
     "grade_id": "question-create-mean-fire-size",
     "locked": true,
     "schema_version": 3,
     "solution": false,
     "task": false
    }
   },
   "source": [
    "## Set Your Working Directory\n",
    "\n",
    "In the cell below, add code **after the line for `Your Code Here`**, replacing `raise NotImplementedError()` with your code, to set your working directory to **your `earth-analytics` directory in your home directory**.\n",
    "\n",
    "Be sure to use the appropriate functions that will allow your code to run successfully on any operating system."
   ]
  },
  {
   "cell_type": "code",
   "execution_count": 122,
   "metadata": {
    "deletable": false,
    "nbgrader": {
     "cell_type": "code",
     "checksum": "ddb3fa6c1f81b60c0a3db9b87b4a78a6",
     "grade": true,
     "grade_id": "student-create-list-mean-fire-size-answer",
     "locked": false,
     "points": 8,
     "schema_version": 3,
     "solution": true,
     "task": false
    }
   },
   "outputs": [],
   "source": [
    "# YOUR CODE HERE\n",
    "os.chdir(os.path.join(et.io.HOME, 'earth-analytics'))"
   ]
  },
  {
   "cell_type": "markdown",
   "metadata": {
    "deletable": false,
    "editable": false,
    "nbgrader": {
     "cell_type": "markdown",
     "checksum": "88d7f06e6935b26e34ea5c1c941cae56",
     "grade": false,
     "grade_id": "cell-divider-1",
     "locked": true,
     "schema_version": 3,
     "solution": false,
     "task": false
    }
   },
   "source": [
    "<img style=\"float: left;\" src=\"colored-bar.png\"/>"
   ]
  },
  {
   "cell_type": "markdown",
   "metadata": {
    "deletable": false,
    "editable": false,
    "nbgrader": {
     "cell_type": "markdown",
     "checksum": "4a84fccab5afdcef450965e64be798be",
     "grade": false,
     "grade_id": "cell-c482ebfb71f07c1a",
     "locked": true,
     "schema_version": 3,
     "solution": false,
     "task": false
    }
   },
   "source": [
    "# Challenge - Create Paths to Files\n",
    "\n",
    "Create a path variable called `boulder_temp_path` that directs python to the \n",
    "`boulder-temp-2017.txt` file using `os.path.join`.\n",
    "The path should assume that you working directory is **earth-analytics** and \n",
    "should be RELATIVE to the earth-analytics directory\n",
    " \n",
    "Create a second path variable that directs Python to the **month.txt** file. \n",
    "Name that variable: `months_path`."
   ]
  },
  {
   "cell_type": "code",
   "execution_count": 123,
   "metadata": {
    "deletable": false,
    "nbgrader": {
     "cell_type": "code",
     "checksum": "1fd0c914995dc45f266e171a3f6535c6",
     "grade": false,
     "grade_id": "student-set-data-paths",
     "locked": false,
     "schema_version": 3,
     "solution": true,
     "task": false
    }
   },
   "outputs": [],
   "source": [
    "# YOUR CODE HERE\n",
    "boulder_temp_path = boulder_temp_path\n",
    "months_path = months_path"
   ]
  },
  {
   "cell_type": "code",
   "execution_count": 124,
   "metadata": {
    "deletable": false,
    "editable": false,
    "nbgrader": {
     "cell_type": "code",
     "checksum": "ac991811e7e77c533398a5f6a8659f21",
     "grade": true,
     "grade_id": "test-data-paths",
     "locked": true,
     "points": 4,
     "schema_version": 3,
     "solution": false,
     "task": false
    }
   },
   "outputs": [
    {
     "name": "stdout",
     "output_type": "stream",
     "text": [
      "✅ Variable boulder_temp_path exists and points to the right file!\n",
      "✅ Variable months_path exists exists and points to the right file!\n",
      "\n",
      " ➡ You received 4 out of 4 points.\n"
     ]
    },
    {
     "data": {
      "text/plain": [
       "4"
      ]
     },
     "execution_count": 124,
     "metadata": {},
     "output_type": "execute_result"
    }
   ],
   "source": [
    "# DO NOT MODIFY ANY CODE IN THIS CELL  - TESTS THAT THE DATA PATHS ARE SET CORRECTLY\n",
    "path_set_points = 0\n",
    "try:\n",
    "    if not os.path.isfile(boulder_temp_path):\n",
    "        print(\"Variable boulder_temp_path exists, but is not a valid file path. Make sure the path you entered points to the file, and is formatted like a path using os.path.join()\")\n",
    "    else:\n",
    "        if os.path.basename(os.path.normpath(boulder_temp_path)) == 'boulder-temp-2017.txt':\n",
    "            print(\n",
    "                \"\\u2705 Variable boulder_temp_path exists and points to the right file!\")\n",
    "            path_set_points += 2\n",
    "        else:\n",
    "            print(\n",
    "                \"\\u274C Variable boulder_temp_path exists, but points to the wrong file.\")\n",
    "except NameError:\n",
    "    print(\"\\u274C Variable boulder_temp_path wasn't assigned.\")\n",
    "\n",
    "try:\n",
    "    if not os.path.isfile(months_path):\n",
    "        print(\"\\u274C Variable months_path exists, but is not a valid file path. Make sure the path you entered points to the file, and is formatted like a path using os.path.join()\")\n",
    "    else:\n",
    "        if os.path.basename(os.path.normpath(months_path)) == 'months.txt':\n",
    "            print(\n",
    "                \"\\u2705 Variable months_path exists exists and points to the right file!\")\n",
    "            path_set_points += 2\n",
    "        else:\n",
    "            print(\"\\u274C Variable months_path exists, but points to the wrong file.\")\n",
    "except NameError:\n",
    "    print(\"\\u274C Variable months_path wasn't assigned.\")\n",
    "\n",
    "print(\"\\n \\u27A1 You received {} out of 4 points.\".format(path_set_points))\n",
    "\n",
    "path_set_points"
   ]
  },
  {
   "cell_type": "markdown",
   "metadata": {
    "deletable": false,
    "editable": false,
    "nbgrader": {
     "cell_type": "markdown",
     "checksum": "dca82e7f1023c8548b0cd077f0810c09",
     "grade": false,
     "grade_id": "cell-divider-2",
     "locked": true,
     "schema_version": 3,
     "solution": false,
     "task": false
    }
   },
   "source": [
    "<img style=\"float: left;\" src=\"colored-bar.png\"/>"
   ]
  },
  {
   "cell_type": "markdown",
   "metadata": {
    "deletable": false,
    "editable": false,
    "nbgrader": {
     "cell_type": "markdown",
     "checksum": "7d3831a9080e7b84e16a875de47aa66d",
     "grade": false,
     "grade_id": "question-create-list-number-fires",
     "locked": true,
     "schema_version": 3,
     "solution": false,
     "task": false
    }
   },
   "source": [
    "## Import Data Into Numpy Arrays\n",
    "\n",
    "In the cell below, add your code **after the line for `Your Code Here`**, replacing `raise NotImplementedError()` with your code, to import the downloaded text data files into individual numpy arrays using **relative paths**. \n",
    "\n",
    "Your code should create two individual numpy arrays: one for month names and one for the temperature data. \n",
    "\n",
    "Be sure to use the appropriate functions that will allow your code to run successfully on any operating system."
   ]
  },
  {
   "cell_type": "code",
   "execution_count": 125,
   "metadata": {
    "deletable": false,
    "nbgrader": {
     "cell_type": "code",
     "checksum": "e8db1d974ad02967f926dc90995e241a",
     "grade": true,
     "grade_id": "student-create-list-number-fires-answer",
     "locked": false,
     "points": 12,
     "schema_version": 3,
     "solution": true,
     "task": false
    }
   },
   "outputs": [],
   "source": [
    "# YOUR CODE HERE\n",
    "temp_2017 = np.loadtxt(boulder_temp_path)\n",
    "month_names = np.genfromtxt(months_path, dtype = \"str\")"
   ]
  },
  {
   "cell_type": "markdown",
   "metadata": {
    "deletable": false,
    "editable": false,
    "nbgrader": {
     "cell_type": "markdown",
     "checksum": "982e8c061ff005a396774af935c7e35f",
     "grade": false,
     "grade_id": "challenge-plot-1",
     "locked": true,
     "schema_version": 3,
     "solution": false
    }
   },
   "source": [
    "## Challenge Figure 1: Create Figure From Numpy Arrays\n",
    "\n",
    "In the cell below, replace `raise NotImplementedError()` with your code, to complete the following task:\n",
    "\n",
    "* Create a bar plot that plots the two numpy arrays that you opened up above. \n",
    "    * The x axis should contains months, \n",
    "    * The y axis should contain temperature values.   \n",
    "* Modify the bar plot color. \n",
    "* Include an appropriate title and axes labels. Include units of measurement where appropriate. \n",
    "\n",
    "For your title and labels, be sure to think about the following pieces of information that could help someone easily interpret the plot:\n",
    "* geographic coverage or extent of data.\n",
    "* duration or temporal extent of the data.\n",
    "* what was actually measured and/or represented by the data.\n",
    "* units of measurement.\n",
    "\n",
    "**IMPORTANT:** Comment out the code line `plt.show()` in your plot code to avoid an additional blank subplot."
   ]
  },
  {
   "cell_type": "code",
   "execution_count": 126,
   "metadata": {
    "deletable": false,
    "nbgrader": {
     "cell_type": "code",
     "checksum": "5e4df20684218132dbfb6eff86e2401a",
     "grade": false,
     "grade_id": "student-create-plot-1-answer",
     "locked": false,
     "schema_version": 3,
     "solution": true,
     "task": false
    }
   },
   "outputs": [
    {
     "data": {
      "image/png": "[encoded data removed]",
      "text/plain": [
       "<Figure size 432x288 with 1 Axes>"
      ]
     },
     "metadata": {
      "needs_background": "light"
     },
     "output_type": "display_data"
    }
   ],
   "source": [
    "# YOUR CODE HERE\n",
    "f, ax = plt.subplots(1,1)\n",
    "\n",
    "ax.bar(\n",
    "    x = month_names,\n",
    "    height = temp_2017,\n",
    "    color = \"darkorange\"\n",
    ")\n",
    "\n",
    "ax.set_title(\"Average Monthly Temperature in 2017\\nBoulder, CO\")\n",
    "ax.set_xlabel(\"Month\")\n",
    "ax.set_ylabel(\"Degrees (F)\")\n",
    "\n",
    "### DO NOT REMOVE LINE BELOW ###\n",
    "student_plot1_ax = nb.convert_axes(plt)"
   ]
  },
  {
   "cell_type": "code",
   "execution_count": 127,
   "metadata": {
    "deletable": false,
    "editable": false,
    "nbgrader": {
     "cell_type": "code",
     "checksum": "19826cd3d3824353d660162c39e9e045",
     "grade": true,
     "grade_id": "test-plot-1-answer",
     "locked": true,
     "points": 15,
     "schema_version": 3,
     "solution": false,
     "task": false
    }
   },
   "outputs": [
    {
     "name": "stdout",
     "output_type": "stream",
     "text": [
      "✅ Successfully created a plot of bar type!\n"
     ]
    }
   ],
   "source": [
    "# DO NOT MODIFY THIS CELL - Test For Your Plot\n",
    "\n",
    "# This will test that your plot above was created correctly\n",
    "# Remember that plt.show() should be commented out for this to work\n",
    "plot_1_check = PlotTester(student_plot1_ax)\n",
    "bar_plot = False\n",
    "\n",
    "try:\n",
    "    plot_1_check.assert_plot_type('bar')\n",
    "    print(\"\\u2705 Successfully created a plot of bar type!\")\n",
    "    bar_plot = True\n",
    "except AssertionError:\n",
    "    print(\"\\u274C The plot is not a bar plot, make sure to make it to a bar plot. Tests will not run successfully if this does not pass.\")\n",
    "\n"
   ]
  },
  {
   "cell_type": "markdown",
   "metadata": {
    "deletable": false,
    "editable": false,
    "nbgrader": {
     "cell_type": "markdown",
     "checksum": "565e99582032066531c832198f1f82f3",
     "grade": false,
     "grade_id": "question-explain-plot",
     "locked": true,
     "schema_version": 3,
     "solution": false
    }
   },
   "source": [
    "## Discussion Figure 1: Explain Your Plot\n",
    "\n",
    "In the Markdown cell below, answer the following questions about your plot using a **bullet list**.\n",
    "\n",
    "1. What was the warmest month in 2017?\n",
    "2. What was the coolest month in 2017?\n",
    "3. The data provided are only for one year (2017). What other data would be useful to add to a plot like this to begin to evaluate whether 2017 was a warm year compared to previous years? \n",
    "\n",
    "Remove any existing text in the cell below before adding your answer."
   ]
  },
  {
   "cell_type": "markdown",
   "metadata": {
    "deletable": false,
    "nbgrader": {
     "cell_type": "markdown",
     "checksum": "7a66815bf18d4c139714e072691069cb",
     "grade": true,
     "grade_id": "student-explain-pep-8",
     "locked": false,
     "points": 5,
     "schema_version": 3,
     "solution": true,
     "task": false
    }
   },
   "source": [
    "1. July\n",
    "2. January\n",
    "3. Decadal average as a benchmark"
   ]
  },
  {
   "cell_type": "markdown",
   "metadata": {
    "deletable": false,
    "editable": false,
    "nbgrader": {
     "cell_type": "markdown",
     "checksum": "e58507cd1b690109f18fc56bea49c5d0",
     "grade": false,
     "grade_id": "cell-download-data-task",
     "locked": true,
     "schema_version": 3,
     "solution": false,
     "task": false
    }
   },
   "source": [
    "## Dataset 2: Download Monthly Precipitation Data\n",
    "\n",
    "In the cell below complete the following task:\n",
    "\n",
    "* Download the `monthly-precip-mm-1998-to-2017.csv` using the url: https://ndownloader.figshare.com/files/12799931 . This **.csv** file \n",
    "contains average monthly precipitation (millimeters) for the years 1998 to \n",
    "2017 for Boulder, Colorado.\n",
    "* Then open the data as a numpy array using `np.loadtxt()`"
   ]
  },
  {
   "cell_type": "code",
   "execution_count": 128,
   "metadata": {
    "deletable": false,
    "nbgrader": {
     "cell_type": "code",
     "checksum": "ab9a45c0f74d02a4e0164529fb2d442f",
     "grade": false,
     "grade_id": "student-boulder-precip",
     "locked": false,
     "schema_version": 3,
     "solution": true,
     "task": false
    }
   },
   "outputs": [],
   "source": [
    "# YOUR CODE HERE\n",
    "precip_1998_2017_url = 'https://ndownloader.figshare.com/files/12799931'\n",
    "file_path = et.data.get_data(url = precip_1998_2017_url)\n",
    "precip_1998_2017 = np.loadtxt(file_path, delimiter = \",\")"
   ]
  },
  {
   "cell_type": "markdown",
   "metadata": {},
   "source": [
    "## Check Shape of Numpy Array\n",
    "\n",
    "In the cell below, add code **after the line for `Your Code Here`**, replacing `raise NotImplementedError()` with your code, to check the shape of the numpy array containing the average monthly precipitation data. "
   ]
  },
  {
   "cell_type": "code",
   "execution_count": 129,
   "metadata": {
    "deletable": false,
    "nbgrader": {
     "cell_type": "code",
     "checksum": "f5eaa98eba7ef34e5087305247a92765",
     "grade": false,
     "grade_id": "student-check-shape",
     "locked": false,
     "schema_version": 3,
     "solution": true,
     "task": false
    }
   },
   "outputs": [
    {
     "data": {
      "text/plain": [
       "(20, 12)"
      ]
     },
     "execution_count": 129,
     "metadata": {},
     "output_type": "execute_result"
    }
   ],
   "source": [
    "# YOUR CODE HERE\n",
    "precip_1998_2017.shape"
   ]
  },
  {
   "cell_type": "code",
   "execution_count": 130,
   "metadata": {
    "deletable": false,
    "editable": false,
    "nbgrader": {
     "cell_type": "code",
     "checksum": "850ba3428c18adad0101326b0be00a0d",
     "grade": true,
     "grade_id": "test-shape-correct",
     "locked": true,
     "points": 2,
     "schema_version": 3,
     "solution": false,
     "task": false
    }
   },
   "outputs": [],
   "source": [
    "# Test that the tuple output of shape produced above is correct\n"
   ]
  },
  {
   "cell_type": "markdown",
   "metadata": {
    "deletable": false,
    "editable": false,
    "nbgrader": {
     "cell_type": "markdown",
     "checksum": "6315cec0ef8ada02e04f43b31d25bb85",
     "grade": false,
     "grade_id": "cell-numpy-stats-text",
     "locked": true,
     "schema_version": 3,
     "solution": false,
     "task": false
    }
   },
   "source": [
    "## Run Summary Statistics on Numpy Array\n",
    "\n",
    "In the cell below:\n",
    "\n",
    "* Calculate the mean of the precipitation values for each year (i.e. across all months in each year).\n",
    "* Calculate the median precipitation value for each year\n",
    "\n",
    "Once you have these values, create a python list `[]` that contains the numpy array \n",
    "for mean values first (at the first index) and the median values numpy array second.\n",
    "\n",
    "At the end of your cell, be sure to call the newly created list object so \n",
    "the output prints below (do not use the print statement!). Just call the variable\n",
    "name at the end of the cell. \n"
   ]
  },
  {
   "cell_type": "code",
   "execution_count": 131,
   "metadata": {
    "deletable": false,
    "nbgrader": {
     "cell_type": "code",
     "checksum": "8384d78c8f50980aadff57233b10ce27",
     "grade": false,
     "grade_id": "student-get-mean-median",
     "locked": false,
     "schema_version": 3,
     "solution": true,
     "task": false
    }
   },
   "outputs": [
    {
     "data": {
      "text/plain": [
       "[array([19.1008, 25.0698, 48.387 , 81.2546, 77.4319, 41.783 , 51.6509,\n",
       "        42.1513, 58.5216, 43.0911, 20.7518, 25.2095]),\n",
       " array([16.129, 20.193, 42.037, 78.359, 67.056, 36.576, 48.895, 36.068,\n",
       "        45.847, 35.814, 20.066, 22.225])]"
      ]
     },
     "execution_count": 131,
     "metadata": {},
     "output_type": "execute_result"
    }
   ],
   "source": [
    "# YOUR CODE HERE\n",
    "mean_precip = precip_1998_2017.mean(axis = 0)\n",
    "median_precip = np.median(precip_1998_2017, axis=0)\n",
    "\n",
    "precip_summary = list([mean_precip, median_precip])\n",
    "\n",
    "precip_summary"
   ]
  },
  {
   "cell_type": "code",
   "execution_count": 132,
   "metadata": {
    "deletable": false,
    "editable": false,
    "nbgrader": {
     "cell_type": "code",
     "checksum": "27fd6d3bcca4bb8028e27be441d086b5",
     "grade": true,
     "grade_id": "test-mean-median-1",
     "locked": true,
     "points": 2,
     "schema_version": 3,
     "solution": false,
     "task": false
    }
   },
   "outputs": [
    {
     "name": "stdout",
     "output_type": "stream",
     "text": [
      "✅ You created a list, well done!\n",
      "✅ The data stored in the numpy array inside your lists is in the expected format: float64!\n"
     ]
    },
    {
     "data": {
      "text/plain": [
       "2"
      ]
     },
     "execution_count": 132,
     "metadata": {},
     "output_type": "execute_result"
    }
   ],
   "source": [
    "student_list = _\n",
    "list_points = 0\n",
    "\n",
    "if isinstance(student_list, list):\n",
    "    print(\"\\u2705 You created a list, well done!\")\n",
    "    list_points += 1\n",
    "else:\n",
    "    print(\"\\u274C The variable you made isn't a list, please assign it to be one.\")\n",
    "\n",
    "if student_list[0].dtype == 'float64':\n",
    "    print(\"\\u2705 The data stored in the numpy array inside your lists is in the expected format: float64!\")\n",
    "    list_points += 1\n",
    "else:\n",
    "    print(\"\\u274C The data stored inside your numpy arrays in your list is not in the expected format: float64.\")\n",
    "\n",
    "list_points"
   ]
  },
  {
   "cell_type": "code",
   "execution_count": 133,
   "metadata": {
    "deletable": false,
    "editable": false,
    "nbgrader": {
     "cell_type": "code",
     "checksum": "96a17a04e08328f806d4bea4367307df",
     "grade": true,
     "grade_id": "test-mean-median-2",
     "locked": true,
     "points": 4,
     "schema_version": 3,
     "solution": false,
     "task": false
    }
   },
   "outputs": [],
   "source": [
    "# DO NOT MODIFY THIS CELL\n"
   ]
  },
  {
   "cell_type": "markdown",
   "metadata": {
    "deletable": false,
    "editable": false,
    "nbgrader": {
     "cell_type": "markdown",
     "checksum": "f836836493f2d5def95206e3f5e3251d",
     "grade": false,
     "grade_id": "cell-numpy-arrays-text",
     "locked": true,
     "schema_version": 3,
     "solution": false,
     "task": false
    }
   },
   "source": [
    "## Run Calculations on Numpy Arrays\n",
    "\n",
    "Above, you were working with precipitation data collected in millimeters. \n",
    "\n",
    "Create a new list that contains median and mean precipitation values in INCHES.\n",
    "\n",
    "* Convert the values in the **numpy** arrays you created above (i.e. the median and mean of the precipitation values for each month) **from millimeters to inches** (1 inch = 25.4 millimeters). \n",
    "* Use the appropriate **assignment operator** to convert both arrays. Think about which mathematical operation (e.g. `+`, `*`) you need to run this calculation. \n",
    "\n",
    "Be sure to call the final list variable at the end of the cell. \n"
   ]
  },
  {
   "cell_type": "code",
   "execution_count": 134,
   "metadata": {
    "deletable": false,
    "nbgrader": {
     "cell_type": "code",
     "checksum": "6eef1220f339a50ae94d5125bdd77bf6",
     "grade": false,
     "grade_id": "student-convert-units",
     "locked": false,
     "schema_version": 3,
     "solution": true,
     "task": false
    }
   },
   "outputs": [
    {
     "data": {
      "text/plain": [
       "[array([0.752 , 0.987 , 1.905 , 3.199 , 3.0485, 1.645 , 2.0335, 1.6595,\n",
       "        2.304 , 1.6965, 0.817 , 0.9925]),\n",
       " array([0.635, 0.795, 1.655, 3.085, 2.64 , 1.44 , 1.925, 1.42 , 1.805,\n",
       "        1.41 , 0.79 , 0.875])]"
      ]
     },
     "execution_count": 134,
     "metadata": {},
     "output_type": "execute_result"
    }
   ],
   "source": [
    "# YOUR CODE HERE\n",
    "mean_precip_inch = mean_precip / 25.4\n",
    "mean_precip_inch\n",
    "\n",
    "median_precip_inch = median_precip / 25.4\n",
    "median_precip_inch\n",
    "\n",
    "precip_summary_inch = list([mean_precip_inch, median_precip_inch])\n",
    "precip_summary_inch"
   ]
  },
  {
   "cell_type": "code",
   "execution_count": 135,
   "metadata": {
    "deletable": false,
    "editable": false,
    "nbgrader": {
     "cell_type": "code",
     "checksum": "6e3dd62095e5923d0cc2c203a267b35b",
     "grade": false,
     "grade_id": "student-list-of-arrays-test",
     "locked": true,
     "schema_version": 3,
     "solution": false,
     "task": false
    }
   },
   "outputs": [
    {
     "name": "stdout",
     "output_type": "stream",
     "text": [
      "✅ Yes! You have created a list above - great work!\n"
     ]
    }
   ],
   "source": [
    "# visible test that the output above is a list object\n",
    "\n",
    "student_list = _\n",
    "\n",
    "if isinstance(student_list, list):\n",
    "    print(\"\\u2705 Yes! You have created a list above - great work!\")\n",
    "else:\n",
    "    print(\"\\u274C Oops, please make sure that you've outputted a list above with \"\n",
    "          \"with two numpy  arrays in it\")"
   ]
  },
  {
   "cell_type": "code",
   "execution_count": 136,
   "metadata": {
    "deletable": false,
    "editable": false,
    "nbgrader": {
     "cell_type": "code",
     "checksum": "d551ca189f6daf3616651615b84a144d",
     "grade": true,
     "grade_id": "test-list-of-arrays",
     "locked": true,
     "points": 4,
     "schema_version": 3,
     "solution": false,
     "task": false
    }
   },
   "outputs": [],
   "source": [
    "# DO NOT MODIFY THIS CELL\n"
   ]
  },
  {
   "cell_type": "markdown",
   "metadata": {
    "deletable": false,
    "editable": false,
    "nbgrader": {
     "cell_type": "markdown",
     "checksum": "6935eb2de0681489df0c523b0b0fa004",
     "grade": false,
     "grade_id": "cell-divider-4",
     "locked": true,
     "schema_version": 3,
     "solution": false,
     "task": false
    }
   },
   "source": [
    "<img style=\"float: left;\" src=\"colored-bar.png\"/>"
   ]
  },
  {
   "cell_type": "markdown",
   "metadata": {
    "deletable": false,
    "editable": false,
    "nbgrader": {
     "cell_type": "markdown",
     "checksum": "a958c9a55e12ace9656c1aa493241530",
     "grade": false,
     "grade_id": "cell-figure-2-assignment",
     "locked": true,
     "schema_version": 3,
     "solution": false,
     "task": false
    }
   },
   "source": [
    "## Challenge Figure 2: Create Multi-plot Figure From Arrays (20 points)\n",
    "\n",
    "In the cell below complete the following tasks:\n",
    "\n",
    "* Create one multi-plot figure that contains two subplots that are **side by side**:\n",
    "    * top plot: median of the precipitation values for each month in inches as a scatter plot\n",
    "    * bottom plot: mean of the precipitation values for each month in inches as a scatter plot\n",
    "* **Use a different color for each plot and adjust the marker styles.**\n",
    "    * For each plot, be sure to include appropriate titles and axes labels including units of measurement where appropriate. \n",
    "* Add an overall title for the entire figure. \n",
    "\n",
    "For your titles and labels, be sure to think about the following pieces of information that could help someone easily interpret the plot:\n",
    "* geographic coverage or extent of data.\n",
    "* duration or temporal extent of the data.\n",
    "* what was actually measured and/or represented by the data.\n",
    "* units of measurement.\n",
    "\n",
    "Remember to always comment out the code line `plt.show()` in your plot code. \n",
    "If you do not comment out that code line, you may see an extra empty plot \n",
    "underneath your desired figure. \n",
    "\n",
    "HINT: Are your labels overlapping? See what happens when you add `plt.tight_layout()` above the \n",
    "**### DO NOT REMOVE LINE BELOW ###** part of your plot \n",
    "code cell below"
   ]
  },
  {
   "cell_type": "code",
   "execution_count": 137,
   "metadata": {
    "deletable": false,
    "nbgrader": {
     "cell_type": "code",
     "checksum": "20f0e9b77f1985065faedc0903938a0e",
     "grade": false,
     "grade_id": "figure-2-median-mean-plots-solution",
     "locked": false,
     "schema_version": 3,
     "solution": true,
     "task": false
    }
   },
   "outputs": [
    {
     "data": {
      "image/png": "[encoded data removed]",
      "text/plain": [
       "<Figure size 864x288 with 2 Axes>"
      ]
     },
     "metadata": {
      "needs_background": "light"
     },
     "output_type": "display_data"
    }
   ],
   "source": [
    "# YOUR CODE HERE\n",
    "f, (ax1, ax2) = plt.subplots(1, 2, figsize = (12, 4))\n",
    "\n",
    "ax1.scatter(\n",
    "    months, \n",
    "    median_precip_inch,\n",
    "    marker = \"*\",\n",
    "    color = \"purple\"\n",
    ")\n",
    "\n",
    "ax1.set(\n",
    "    ylabel = \"Precipitation (inch)\",\n",
    "    title = \"Median Precipitation\"\n",
    ")\n",
    "\n",
    "ax2.scatter(\n",
    "    months, \n",
    "    mean_precip_inch,\n",
    "    marker = \"o\",\n",
    "    color = \"turquoise\"\n",
    ")\n",
    "\n",
    "ax2.set(\n",
    "    ylabel = \"Precipitation (inch)\",\n",
    "    title = \"Mean Precipitation\"\n",
    ")\n",
    "\n",
    "f.suptitle(\"Monthly Precipitation Statistics (1998-2017)\\nBoulder, CO\", fontsize = 16)\n",
    "plt.tight_layout()\n",
    "\n",
    "### DO NOT REMOVE LINE BELOW ###\n",
    "numpy_2_plot = nb.convert_axes(plt, which_axes=\"all\")"
   ]
  },
  {
   "cell_type": "code",
   "execution_count": 138,
   "metadata": {
    "deletable": false,
    "editable": false,
    "nbgrader": {
     "cell_type": "code",
     "checksum": "fe9ea429f1973f3df9cac45509153bf4",
     "grade": true,
     "grade_id": "figure-2-hidden-tests",
     "locked": true,
     "points": 20,
     "schema_version": 3,
     "solution": false,
     "task": false
    }
   },
   "outputs": [],
   "source": [
    "# DO NOT MODIFY THIS CELL"
   ]
  },
  {
   "cell_type": "markdown",
   "metadata": {
    "deletable": false,
    "editable": false,
    "nbgrader": {
     "cell_type": "markdown",
     "checksum": "b8691999a53a06f0deb8b1c4ae16901b",
     "grade": false,
     "grade_id": "cell-divider-5",
     "locked": true,
     "schema_version": 3,
     "solution": false,
     "task": false
    }
   },
   "source": [
    "<img style=\"float: left;\" src=\"colored-bar.png\"/>"
   ]
  },
  {
   "cell_type": "markdown",
   "metadata": {
    "deletable": false,
    "editable": false,
    "nbgrader": {
     "cell_type": "markdown",
     "checksum": "4fd90b4a7b6fc78d8ce4d4be465b0cf8",
     "grade": false,
     "grade_id": "q-explain-reproducibility",
     "locked": true,
     "schema_version": 3,
     "solution": false,
     "task": false
    }
   },
   "source": [
    "## Discuss Your Workflow In This Notebook\n",
    "\n",
    "In the Markdown cell below, answer the following questions using a **numbered list**:\n",
    "\n",
    "1. List two elements in this Jupyter Notebook file that supports reproducibility.\n",
    "\n",
    "Remove any existing text in the cell before adding your answer."
   ]
  },
  {
   "cell_type": "markdown",
   "metadata": {
    "deletable": false,
    "nbgrader": {
     "cell_type": "markdown",
     "checksum": "1f29037b52f0b0c03da45648b77fdc68",
     "grade": true,
     "grade_id": "student-explain-reproduc-answer",
     "locked": false,
     "points": 5,
     "schema_version": 3,
     "solution": true
    }
   },
   "source": [
    "YOUR ANSWER HERE"
   ]
  },
  {
   "cell_type": "markdown",
   "metadata": {
    "deletable": false,
    "editable": false,
    "nbgrader": {
     "cell_type": "markdown",
     "checksum": "18ac09cef35b922c97bda94551d09198",
     "grade": false,
     "grade_id": "cell-divider-6",
     "locked": true,
     "schema_version": 3,
     "solution": false,
     "task": false
    }
   },
   "source": [
    "<img style=\"float: left;\" src=\"colored-bar.png\"/>"
   ]
  },
  {
   "cell_type": "markdown",
   "metadata": {
    "deletable": false,
    "editable": false,
    "nbgrader": {
     "cell_type": "markdown",
     "checksum": "605f659d2c78d1f04105c8222ff2be64",
     "grade": false,
     "grade_id": "cell-pep-8-checks",
     "locked": true,
     "points": 7,
     "schema_version": 3,
     "solution": false,
     "task": true
    }
   },
   "source": [
    "# PEP 8, Syntax and Spelling / Grammar\n",
    "\n",
    "* the notebook starts at [1] and runs all the way through (2 points)\n",
    "* PEP 8 syntax is followed for code format, comments, imports, etc (3 points)\n",
    "* Spelling, grammar and good use of Markdown syntax are considered for all text answers. (2 points)"
   ]
  },
  {
   "cell_type": "markdown",
   "metadata": {
    "deletable": false,
    "editable": false,
    "nbgrader": {
     "cell_type": "markdown",
     "checksum": "12ed429674f88644aec5aa0b3cf99ba4",
     "grade": false,
     "grade_id": "cell-bonus-challenge-description",
     "locked": true,
     "schema_version": 3,
     "solution": false,
     "task": false
    }
   },
   "source": [
    "## OPTIONAL Bonus Challenge Plot: Create Figure with Loops (10 points)\n",
    "\n",
    "**This is an optional bonus plot if you want a challenge this week!**\n",
    "\n",
    "In the cell below:\n",
    "\n",
    "- Create a plot with lines showing the monthly precipitation for each year in the `monthly-precip-mm-1998-to-2017.csv` dataset. In your plot, be sure to do the following:\n",
    "    - **Use a different color for each line representing one year in the dataset.**\n",
    "    - Include appropriate titles and axes labels including units of measurement where appropriate.\n",
    "    - Add a legend to the plot showing what color line represents each year.\n",
    "\n",
    "### Using For Loops to Plot\n",
    "\n",
    "In order to completely this task, you will need to write a for loop \n",
    "in your code to assign unique color and year values to each line in the plot. \n",
    "\n",
    "1. **Create a list of Years** First, create a list of years that the data covers. The file name tells you that \n",
    "the data ranges from 1998 to 2017. In order to assign a year to each row in the \n",
    "`numpy` array that you have our data in, you need to make a list of years that \n",
    "covers that range. \n",
    "\n",
    "2. **Create a list of Colors** Create a list of unique colors to assign to each line in the plot \n",
    "(each line represents data for one year). You can do this manually, \n",
    "(i.e., `['blue', 'green', ... , 'red']`) or you can do this using `seaborn`, \n",
    "a package that is used to style plots in **Python**. Using `seaborn`, you can \n",
    "create a list of unique color values from a colormap (`cmap`). For example, \n",
    "`sns.color_palette(\"mako\", n_colors=10)` will return you a list of 10 unique colors \n",
    "found within the `mako` color map. How many unique colors it returns depends on \n",
    "what you set the `n_colors` argument to. You can use this to get the number of \n",
    "unique colors you need for your plot.\n",
    "\n",
    "3. **Write a for loop** You will need to loop through all of these lists alongside your \n",
    "`boulder_precip` data in order to plot all of the years individually. You \n",
    "can loop through multiple lists at a time with the help of the `zip` function \n",
    "found in default **Python**. This will combine all of your lists into one `zip` \n",
    "object, which can be looped through. For example, if you have three lists, `list_a`, \n",
    "`list_b`, and `list_c`, and you wanted to loop through all three of them simultaneously, \n",
    "you could use `zip` to do this:\n",
    "\n",
    "```\n",
    "for var_a, var_b, var_c in zip(list_a, list_b, list_c):\n",
    "    print(var_a, var_b, var_c)\n",
    "```\n",
    "\n",
    "Here, each variable `var_x` is the variable found in each respective list at that index. You can use this principle in combination with `ax.plot()` to plot each line in the `boulder_precip` dataset by year and with a unique color. Set the x data to a list of months, the y data to the data in the `boulder_precip` dataset, the `label` argument to the year, and the `color` argument to the unique color for each year. \n",
    "\n",
    "4. **Create a legend** Legends can be tricky in python. To create a legend you need to do two things\n",
    "   * First, you need to assigne a label value - this will create the text for each line in your plot. In this case each line represents a year so label will equal a string with the year in it for each iteration of your for loop.\n",
    "   * Finally you need to call `plt.legend()` at the end of your plot code to tell Python to render your legend. \n",
    "   \n",
    "Your code will looks something like this\n",
    "\n",
    "for ayear, acolor, anarray in zip(years_list, colors_list, numpyarray):\n",
    "    ax.plot(months, # the x axis months\n",
    "            anarray, # the array dimension being iterated on\n",
    "            label=ayear, # the year being iterated on\n",
    "            color=acolor) # The color that is being iterated on\n",
    "\n",
    "*****\n",
    "Remember to always comment out the code line `plt.show()` in your plot code. If you do not comment out that code line, you may see an extra empty plot underneath your desired figure and it will cause issues with the autograder.\n",
    "\n",
    "HINT: Are your labels overlapping? See what happens when you add `plt.tight_layout()` above the ### DO NOT REMOVE LINE BELOW ### part of your plot code cell below\n",
    "\n",
    "***\n",
    "\n",
    "HINT - run the code below to see how \"zip\" works in Python\n",
    "\n",
    "```python\n",
    "colors = [\"red\", \"green\", \"blue\"]\n",
    "years = [\"2015\", \"2016\", \"2017\"]\n",
    "\n",
    "for acolor, ayear in zip(colors, years):\n",
    "    print(acolor)\n",
    "    print(ayear)\n",
    "```\n",
    "***"
   ]
  },
  {
   "cell_type": "code",
   "execution_count": 147,
   "metadata": {
    "deletable": false,
    "nbgrader": {
     "cell_type": "code",
     "checksum": "d5abb3728dd4c948b0a0f3df40eff3b3",
     "grade": false,
     "grade_id": "cell-bonus-plot-solution",
     "locked": false,
     "schema_version": 3,
     "solution": true,
     "task": false
    }
   },
   "outputs": [
    {
     "data": {
      "image/png": "[encoded data removed]",
      "text/plain": [
       "<Figure size 432x288 with 1 Axes>"
      ]
     },
     "metadata": {
      "needs_background": "light"
     },
     "output_type": "display_data"
    }
   ],
   "source": [
    "# YOUR CODE HERE\n",
    "import seaborn as sns\n",
    "\n",
    "\n",
    "colors = sns.color_palette(\"Set1\", n_colors = 20)\n",
    "years = range(1998, 2017)\n",
    "#index = range(0, len(years))\n",
    "\n",
    "f, ax = plt.subplots(1,1)\n",
    "\n",
    "for acolor, ayear, anarray in zip(colors, years, precip_1998_2017):\n",
    "    ax.plot(\n",
    "        month_names,\n",
    "        anarray,\n",
    "        color = acolor,\n",
    "        label = ayear\n",
    ")\n",
    "\n",
    "ax.set_title(\"Monthly Precipitation in 1998-2017\\nBoulder, CO\")\n",
    "ax.set_xlabel(\"Month\")\n",
    "ax.set_ylabel(\"Precipitation (mm)\")\n",
    "\n",
    "plt.legend()\n",
    "plt.tight_layout()\n",
    "\n",
    "### DO NOT REMOVE LINE BELOW ###\n",
    "numpy_3_plot = nb.convert_axes(plt)"
   ]
  },
  {
   "cell_type": "code",
   "execution_count": null,
   "metadata": {
    "deletable": false,
    "editable": false,
    "nbgrader": {
     "cell_type": "code",
     "checksum": "2977480f4365960471a85d83cf227353",
     "grade": true,
     "grade_id": "cell-bonus-figure-tests",
     "locked": true,
     "points": 0,
     "schema_version": 3,
     "solution": false,
     "task": false
    }
   },
   "outputs": [],
   "source": []
  }
 ],
 "metadata": {
  "kernelspec": {
   "display_name": "Python 3 (ipykernel)",
   "language": "python",
   "name": "python3"
  },
  "language_info": {
   "codemirror_mode": {
    "name": "ipython",
    "version": 3
   },
   "file_extension": ".py",
   "mimetype": "text/x-python",
   "name": "python",
   "nbconvert_exporter": "python",
   "pygments_lexer": "ipython3",
   "version": "3.8.12"
  },
  "toc": {
   "base_numbering": 1,
   "nav_menu": {},
   "number_sections": true,
   "sideBar": true,
   "skip_h1_title": true,
   "title_cell": "Table of Contents",
   "title_sidebar": "Contents",
   "toc_cell": false,
   "toc_position": {
    "height": "calc(100% - 180px)",
    "left": "10px",
    "top": "150px",
    "width": "245.4px"
   },
   "toc_section_display": true,
   "toc_window_display": true
  },
  "varInspector": {
   "cols": {
    "lenName": 16,
    "lenType": 16,
    "lenVar": 40
   },
   "kernels_config": {
    "python": {
     "delete_cmd_postfix": "",
     "delete_cmd_prefix": "del ",
     "library": "var_list.py",
     "varRefreshCmd": "print(var_dic_list())"
    },
    "r": {
     "delete_cmd_postfix": ") ",
     "delete_cmd_prefix": "rm(",
     "library": "var_list.r",
     "varRefreshCmd": "cat(var_dic_list()) "
    }
   },
   "types_to_exclude": [
    "module",
    "function",
    "builtin_function_or_method",
    "instance",
    "_Feature"
   ],
   "window_display": false
  }
 },
 "nbformat": 4,
 "nbformat_minor": 2
}
