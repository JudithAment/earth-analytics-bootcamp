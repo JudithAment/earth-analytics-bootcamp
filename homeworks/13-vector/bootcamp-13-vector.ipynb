{
 "cells": [
  {
   "cell_type": "markdown",
   "metadata": {
    "deletable": false,
    "editable": false,
    "nbgrader": {
     "cell_type": "markdown",
     "checksum": "e70cbdfb411cbd0fd854d3617967b7d5",
     "grade": false,
     "grade_id": "hw-instructions",
     "locked": true,
     "schema_version": 3,
     "solution": false,
     "task": false
    }
   },
   "source": [
    "# Week 12 Spatial Vector Data Homework Template\n",
    "\n",
    "## Assignment Background\n",
    "\n",
    "In this assignment, you will explore an area in California called the [San Joaquin Experimental Range](https://www.neonscience.org/field-sites/field-sites-map/SJER) known by the acronym SJER.\n",
    "\n",
    "The data that you will use for this week is available from **earthpy** using the following download: \n",
    "\n",
    "`et.data.get_data('spatial-vector-lidar')`\n",
    "\n",
    "To begin, add all of the needed package imports, download the data and set your working directory in the cells below. "
   ]
  },
  {
   "cell_type": "code",
   "execution_count": 1,
   "metadata": {
    "deletable": false,
    "editable": false,
    "nbgrader": {
     "cell_type": "code",
     "checksum": "d58c2f11370526115e1d84ca84d6e008",
     "grade": false,
     "grade_id": "core-imports",
     "locked": true,
     "schema_version": 3,
     "solution": false,
     "task": false
    }
   },
   "outputs": [],
   "source": [
    "# Autograding imports - do not modify this cell\n",
    "import matplotcheck.notebook as nb\n",
    "import matplotcheck.autograde as ag\n",
    "import matplotcheck.vector as vct\n",
    "import numpy as np\n",
    "import pandas as pd\n",
    "\n",
    "# This will hide one of geopandas warnings in cell 3\n",
    "import warnings\n",
    "warnings.filterwarnings(\n",
    "    'ignore',\n",
    "    'GeoSeries.notna',\n",
    "    UserWarning\n",
    ")\n"
   ]
  },
  {
   "cell_type": "code",
   "execution_count": 15,
   "metadata": {
    "deletable": false,
    "nbgrader": {
     "cell_type": "code",
     "checksum": "4c85344ebbcb212c7d7575f9758b780d",
     "grade": false,
     "grade_id": "student-imports-answer",
     "locked": false,
     "schema_version": 3,
     "solution": true,
     "task": false
    },
    "tags": [
     "hide"
    ]
   },
   "outputs": [],
   "source": [
    "# Import packages, download data, and set working directory here\n",
    "\n",
    "# YOUR CODE HERE\n",
    "import os\n",
    "import numpy as np\n",
    "import geopandas as gpd\n",
    "import earthpy as et\n",
    "import matplotlib.pyplot as plt\n",
    "\n",
    "et.data.get_data(\"spatial-vector-lidar\")\n",
    "os.chdir(os.path.join(\n",
    "    et.io.HOME,\n",
    "    'earth-analytics',\n",
    "    'data'\n",
    "))"
   ]
  },
  {
   "cell_type": "code",
   "execution_count": 3,
   "metadata": {
    "deletable": false,
    "editable": false,
    "hideCode": false,
    "hidePrompt": false,
    "nbgrader": {
     "cell_type": "code",
     "checksum": "84edae54e78cd8f1ff794e6bc7557d00",
     "grade": true,
     "grade_id": "student-download-tests",
     "locked": true,
     "points": 4,
     "schema_version": 3,
     "solution": false,
     "task": false
    }
   },
   "outputs": [
    {
     "name": "stdout",
     "output_type": "stream",
     "text": [
      "✅ Great - it looks like your working directory is set correctly to ~/earth-analytics/data\n",
      "\n",
      " ➡ You received 4 out of 4 points for setting your working directory and imports.\n"
     ]
    },
    {
     "data": {
      "text/plain": [
       "4"
      ]
     },
     "execution_count": 3,
     "metadata": {},
     "output_type": "execute_result"
    }
   ],
   "source": [
    "# DO NOT MODIFY THIS CELL\n",
    "# Tests that the working directory is set to earth-analytics/data\n",
    "\n",
    "path = os.path.normpath(os.getcwd())\n",
    "student_wd_parts = path.split(os.sep)\n",
    "\n",
    "wd_import_points = 0\n",
    "\n",
    "if student_wd_parts[-2:] == ['earth-analytics', 'data']:\n",
    "    print(\"\\u2705 Great - it looks like your working directory is set correctly to ~/earth-analytics/data\")\n",
    "    wd_import_points += 4\n",
    "else:\n",
    "    print(\"\\u274C Oops, the autograder will not run unless your working directory is set to earth-analytics/data\")\n",
    "\n",
    "print(\"\\n \\u27A1 You received {} out of 4 points for setting your working directory and imports.\".format(\n",
    "    wd_import_points))\n",
    "wd_import_points"
   ]
  },
  {
   "cell_type": "markdown",
   "metadata": {
    "deletable": false,
    "editable": false,
    "nbgrader": {
     "cell_type": "markdown",
     "checksum": "9155561cc77afd29e09904c4f09d85a2",
     "grade": false,
     "grade_id": "challenge-1a-instructions",
     "locked": true,
     "schema_version": 3,
     "solution": false,
     "task": false
    }
   },
   "source": [
    "\n",
    "## Challenge 1a: Open And Clip Your Vector Data\n",
    "\n",
    "The NEON **SJER** field site is located in California. Your first task is to explore the area by creating a map of California roads that has symbology that represents different road types.\n",
    "\n",
    "### Open the roads layer and clip it using the SJER_crop extent\n",
    "\n",
    "In the cell below:\n",
    "\n",
    "1. Open the `california/madera-county-roads/tl_2013_06039_roads.shp` file located in your `spatial-vector-lidar` data download using GeoPandas. \n",
    "2. Reproject the roads data to be the same CRS as the area of interest. They should both have the CRS of `EPSG:32611`.\n",
    "3. Clip the data using the SJER boundary (`california/neon-sjer-site/vector_data/SJER_crop.shp`) layer. \n",
    "4. Open the SJER plot locations data (`california/neon-sjer-site/vector_data/SJER_plot_centroids.shp`). \n",
    "5. Set all `RTTYP` that are \"none\" to \"Unknown\" using the syntax: `roads-object-name[\"RTTYP\"].fillna(\"Unknown\", inplace=True)`\n",
    "\n",
    "Call the **clipped and reprojected roads shapefile geodataframe object** at the \n",
    "end of the cell to ensure the tests below run.\n"
   ]
  },
  {
   "cell_type": "code",
   "execution_count": 52,
   "metadata": {
    "deletable": false,
    "nbgrader": {
     "cell_type": "code",
     "checksum": "eca8526759758d4d32bd2564d1fc7ed1",
     "grade": false,
     "grade_id": "initial-clip-solution",
     "locked": false,
     "schema_version": 3,
     "solution": true,
     "task": false
    }
   },
   "outputs": [
    {
     "data": {
      "text/html": [
       "<div>\n",
       "<style scoped>\n",
       "    .dataframe tbody tr th:only-of-type {\n",
       "        vertical-align: middle;\n",
       "    }\n",
       "\n",
       "    .dataframe tbody tr th {\n",
       "        vertical-align: top;\n",
       "    }\n",
       "\n",
       "    .dataframe thead th {\n",
       "        text-align: right;\n",
       "    }\n",
       "</style>\n",
       "<table border=\"1\" class=\"dataframe\">\n",
       "  <thead>\n",
       "    <tr style=\"text-align: right;\">\n",
       "      <th></th>\n",
       "      <th>LINEARID</th>\n",
       "      <th>FULLNAME</th>\n",
       "      <th>RTTYP</th>\n",
       "      <th>MTFCC</th>\n",
       "      <th>geometry</th>\n",
       "    </tr>\n",
       "  </thead>\n",
       "  <tbody>\n",
       "    <tr>\n",
       "      <th>2189</th>\n",
       "      <td>110454253913</td>\n",
       "      <td>None</td>\n",
       "      <td>Unknown</td>\n",
       "      <td>S1400</td>\n",
       "      <td>LINESTRING (258166.923 4108351.911, 258165.443...</td>\n",
       "    </tr>\n",
       "    <tr>\n",
       "      <th>5606</th>\n",
       "      <td>110454253912</td>\n",
       "      <td>None</td>\n",
       "      <td>Unknown</td>\n",
       "      <td>S1400</td>\n",
       "      <td>LINESTRING (258166.923 4108351.911, 258196.856...</td>\n",
       "    </tr>\n",
       "    <tr>\n",
       "      <th>6742</th>\n",
       "      <td>110454253914</td>\n",
       "      <td>None</td>\n",
       "      <td>Unknown</td>\n",
       "      <td>S1400</td>\n",
       "      <td>LINESTRING (258068.216 4108434.372, 258077.141...</td>\n",
       "    </tr>\n",
       "    <tr>\n",
       "      <th>2167</th>\n",
       "      <td>110454253911</td>\n",
       "      <td>None</td>\n",
       "      <td>Unknown</td>\n",
       "      <td>S1400</td>\n",
       "      <td>LINESTRING (258110.740 4108527.332, 258108.670...</td>\n",
       "    </tr>\n",
       "    <tr>\n",
       "      <th>6717</th>\n",
       "      <td>110454253910</td>\n",
       "      <td>None</td>\n",
       "      <td>Unknown</td>\n",
       "      <td>S1400</td>\n",
       "      <td>LINESTRING (257983.127 4108743.339, 257976.016...</td>\n",
       "    </tr>\n",
       "    <tr>\n",
       "      <th>5587</th>\n",
       "      <td>110454253909</td>\n",
       "      <td>None</td>\n",
       "      <td>Unknown</td>\n",
       "      <td>S1400</td>\n",
       "      <td>LINESTRING (257983.127 4108743.339, 258001.855...</td>\n",
       "    </tr>\n",
       "    <tr>\n",
       "      <th>7879</th>\n",
       "      <td>110454245219</td>\n",
       "      <td>O'Neal Rd</td>\n",
       "      <td>M</td>\n",
       "      <td>S1400</td>\n",
       "      <td>LINESTRING (257423.271 4107303.077, 257414.988...</td>\n",
       "    </tr>\n",
       "    <tr>\n",
       "      <th>6718</th>\n",
       "      <td>110454238841</td>\n",
       "      <td>211 Rd</td>\n",
       "      <td>M</td>\n",
       "      <td>S1400</td>\n",
       "      <td>LINESTRING (257423.271 4107303.077, 257414.988...</td>\n",
       "    </tr>\n",
       "    <tr>\n",
       "      <th>6716</th>\n",
       "      <td>110454254255</td>\n",
       "      <td>None</td>\n",
       "      <td>Unknown</td>\n",
       "      <td>S1400</td>\n",
       "      <td>LINESTRING (258726.876 4109197.037, 258677.968...</td>\n",
       "    </tr>\n",
       "    <tr>\n",
       "      <th>311</th>\n",
       "      <td>110454242886</td>\n",
       "      <td>Old Oak Stage Pl</td>\n",
       "      <td>M</td>\n",
       "      <td>S1400</td>\n",
       "      <td>LINESTRING (258867.409 4109636.978, 258866.813...</td>\n",
       "    </tr>\n",
       "    <tr>\n",
       "      <th>6715</th>\n",
       "      <td>110454255291</td>\n",
       "      <td>None</td>\n",
       "      <td>Unknown</td>\n",
       "      <td>S1400</td>\n",
       "      <td>LINESTRING (258436.586 4110705.994, 258408.911...</td>\n",
       "    </tr>\n",
       "    <tr>\n",
       "      <th>2168</th>\n",
       "      <td>110454253897</td>\n",
       "      <td>None</td>\n",
       "      <td>Unknown</td>\n",
       "      <td>S1400</td>\n",
       "      <td>LINESTRING (258224.931 4111150.752, 258214.627...</td>\n",
       "    </tr>\n",
       "    <tr>\n",
       "      <th>5588</th>\n",
       "      <td>110454255293</td>\n",
       "      <td>None</td>\n",
       "      <td>Unknown</td>\n",
       "      <td>S1400</td>\n",
       "      <td>LINESTRING (258224.931 4111150.752, 258241.188...</td>\n",
       "    </tr>\n",
       "    <tr>\n",
       "      <th>4369</th>\n",
       "      <td>110454253898</td>\n",
       "      <td>None</td>\n",
       "      <td>Unknown</td>\n",
       "      <td>S1400</td>\n",
       "      <td>LINESTRING (256065.990 4107303.077, 256061.562...</td>\n",
       "    </tr>\n",
       "    <tr>\n",
       "      <th>4368</th>\n",
       "      <td>110454255017</td>\n",
       "      <td>None</td>\n",
       "      <td>Unknown</td>\n",
       "      <td>S1400</td>\n",
       "      <td>LINESTRING (256711.652 4107303.077, 256724.805...</td>\n",
       "    </tr>\n",
       "    <tr>\n",
       "      <th>2059</th>\n",
       "      <td>110454255018</td>\n",
       "      <td>None</td>\n",
       "      <td>Unknown</td>\n",
       "      <td>S1400</td>\n",
       "      <td>LINESTRING (256454.331 4107303.077, 256452.671...</td>\n",
       "    </tr>\n",
       "    <tr>\n",
       "      <th>2061</th>\n",
       "      <td>110454255021</td>\n",
       "      <td>None</td>\n",
       "      <td>Unknown</td>\n",
       "      <td>S1400</td>\n",
       "      <td>LINESTRING (255606.645 4107675.793, 255643.956...</td>\n",
       "    </tr>\n",
       "    <tr>\n",
       "      <th>5491</th>\n",
       "      <td>110454255025</td>\n",
       "      <td>None</td>\n",
       "      <td>Unknown</td>\n",
       "      <td>S1400</td>\n",
       "      <td>LINESTRING (256175.266 4107926.449, 256314.380...</td>\n",
       "    </tr>\n",
       "    <tr>\n",
       "      <th>8951</th>\n",
       "      <td>110454255024</td>\n",
       "      <td>None</td>\n",
       "      <td>Unknown</td>\n",
       "      <td>S1400</td>\n",
       "      <td>LINESTRING (256175.266 4107926.449, 256143.156...</td>\n",
       "    </tr>\n",
       "    <tr>\n",
       "      <th>8950</th>\n",
       "      <td>110454253908</td>\n",
       "      <td>None</td>\n",
       "      <td>Unknown</td>\n",
       "      <td>S1400</td>\n",
       "      <td>LINESTRING (257412.929 4108582.242, 257413.557...</td>\n",
       "    </tr>\n",
       "    <tr>\n",
       "      <th>5493</th>\n",
       "      <td>110454244509</td>\n",
       "      <td>Bates Station Rd</td>\n",
       "      <td>M</td>\n",
       "      <td>S1400</td>\n",
       "      <td>LINESTRING (255506.820 4108929.033, 255480.727...</td>\n",
       "    </tr>\n",
       "    <tr>\n",
       "      <th>7788</th>\n",
       "      <td>110454238898</td>\n",
       "      <td>Rd 406</td>\n",
       "      <td>M</td>\n",
       "      <td>S1400</td>\n",
       "      <td>LINESTRING (255506.820 4108929.033, 255480.727...</td>\n",
       "    </tr>\n",
       "    <tr>\n",
       "      <th>6739</th>\n",
       "      <td>110454253936</td>\n",
       "      <td>None</td>\n",
       "      <td>Unknown</td>\n",
       "      <td>S1400</td>\n",
       "      <td>LINESTRING (258393.406 4107670.066, 258408.964...</td>\n",
       "    </tr>\n",
       "    <tr>\n",
       "      <th>1017</th>\n",
       "      <td>110454253915</td>\n",
       "      <td>None</td>\n",
       "      <td>Unknown</td>\n",
       "      <td>S1400</td>\n",
       "      <td>LINESTRING (257900.762 4107661.752, 257904.069...</td>\n",
       "    </tr>\n",
       "    <tr>\n",
       "      <th>6740</th>\n",
       "      <td>110454253937</td>\n",
       "      <td>None</td>\n",
       "      <td>Unknown</td>\n",
       "      <td>S1400</td>\n",
       "      <td>LINESTRING (258393.406 4107670.066, 258366.372...</td>\n",
       "    </tr>\n",
       "    <tr>\n",
       "      <th>7895</th>\n",
       "      <td>110454253938</td>\n",
       "      <td>None</td>\n",
       "      <td>Unknown</td>\n",
       "      <td>S1400</td>\n",
       "      <td>LINESTRING (258867.409 4107693.343, 258814.347...</td>\n",
       "    </tr>\n",
       "    <tr>\n",
       "      <th>8751</th>\n",
       "      <td>1104468825854</td>\n",
       "      <td>State Hwy 41</td>\n",
       "      <td>S</td>\n",
       "      <td>S1200</td>\n",
       "      <td>LINESTRING (254775.557 4107303.077, 254791.165...</td>\n",
       "    </tr>\n",
       "    <tr>\n",
       "      <th>9047</th>\n",
       "      <td>110454243802</td>\n",
       "      <td>Jewel Vista Dr</td>\n",
       "      <td>M</td>\n",
       "      <td>S1400</td>\n",
       "      <td>LINESTRING (254570.567 4107937.842, 254572.533...</td>\n",
       "    </tr>\n",
       "    <tr>\n",
       "      <th>7028</th>\n",
       "      <td>110454253016</td>\n",
       "      <td>None</td>\n",
       "      <td>Unknown</td>\n",
       "      <td>S1400</td>\n",
       "      <td>LINESTRING (255060.079 4108069.811, 254989.742...</td>\n",
       "    </tr>\n",
       "    <tr>\n",
       "      <th>4707</th>\n",
       "      <td>110454253069</td>\n",
       "      <td>None</td>\n",
       "      <td>Unknown</td>\n",
       "      <td>S1400</td>\n",
       "      <td>LINESTRING (255072.082 4111879.731, 255062.326...</td>\n",
       "    </tr>\n",
       "    <tr>\n",
       "      <th>6622</th>\n",
       "      <td>110454239218</td>\n",
       "      <td>Rd 8063</td>\n",
       "      <td>M</td>\n",
       "      <td>S1400</td>\n",
       "      <td>LINESTRING (257646.165 4108540.554, 257632.367...</td>\n",
       "    </tr>\n",
       "    <tr>\n",
       "      <th>6621</th>\n",
       "      <td>110454253032</td>\n",
       "      <td>None</td>\n",
       "      <td>Unknown</td>\n",
       "      <td>S1400</td>\n",
       "      <td>LINESTRING (255506.820 4108929.033, 255535.287...</td>\n",
       "    </tr>\n",
       "    <tr>\n",
       "      <th>5494</th>\n",
       "      <td>110454255030</td>\n",
       "      <td>None</td>\n",
       "      <td>Unknown</td>\n",
       "      <td>S1400</td>\n",
       "      <td>LINESTRING (257947.495 4108775.903, 257939.449...</td>\n",
       "    </tr>\n",
       "    <tr>\n",
       "      <th>4370</th>\n",
       "      <td>110454255031</td>\n",
       "      <td>None</td>\n",
       "      <td>Unknown</td>\n",
       "      <td>S1400</td>\n",
       "      <td>LINESTRING (255672.200 4109005.428, 255703.905...</td>\n",
       "    </tr>\n",
       "    <tr>\n",
       "      <th>9384</th>\n",
       "      <td>110454255041</td>\n",
       "      <td>None</td>\n",
       "      <td>Unknown</td>\n",
       "      <td>S1400</td>\n",
       "      <td>LINESTRING (256047.646 4110143.617, 256027.106...</td>\n",
       "    </tr>\n",
       "    <tr>\n",
       "      <th>1112</th>\n",
       "      <td>110454253894</td>\n",
       "      <td>None</td>\n",
       "      <td>Unknown</td>\n",
       "      <td>S1400</td>\n",
       "      <td>LINESTRING (256577.679 4110296.113, 256544.130...</td>\n",
       "    </tr>\n",
       "    <tr>\n",
       "      <th>6839</th>\n",
       "      <td>110454253896</td>\n",
       "      <td>None</td>\n",
       "      <td>Unknown</td>\n",
       "      <td>S1400</td>\n",
       "      <td>LINESTRING (256843.264 4110344.536, 256815.721...</td>\n",
       "    </tr>\n",
       "    <tr>\n",
       "      <th>9173</th>\n",
       "      <td>110454253895</td>\n",
       "      <td>None</td>\n",
       "      <td>Unknown</td>\n",
       "      <td>S1400</td>\n",
       "      <td>LINESTRING (256577.679 4110296.113, 256580.975...</td>\n",
       "    </tr>\n",
       "    <tr>\n",
       "      <th>5495</th>\n",
       "      <td>110454255042</td>\n",
       "      <td>None</td>\n",
       "      <td>Unknown</td>\n",
       "      <td>S1400</td>\n",
       "      <td>LINESTRING (256843.264 4110344.536, 256890.998...</td>\n",
       "    </tr>\n",
       "    <tr>\n",
       "      <th>2449</th>\n",
       "      <td>110454253070</td>\n",
       "      <td>None</td>\n",
       "      <td>Unknown</td>\n",
       "      <td>S1400</td>\n",
       "      <td>LINESTRING (255993.449 4110213.489, 256004.106...</td>\n",
       "    </tr>\n",
       "    <tr>\n",
       "      <th>3624</th>\n",
       "      <td>110454253071</td>\n",
       "      <td>None</td>\n",
       "      <td>Unknown</td>\n",
       "      <td>S1400</td>\n",
       "      <td>MULTILINESTRING ((255993.449 4110213.489, 2559...</td>\n",
       "    </tr>\n",
       "    <tr>\n",
       "      <th>2450</th>\n",
       "      <td>110454255566</td>\n",
       "      <td>None</td>\n",
       "      <td>Unknown</td>\n",
       "      <td>S1400</td>\n",
       "      <td>LINESTRING (256410.586 4111756.860, 256414.803...</td>\n",
       "    </tr>\n",
       "    <tr>\n",
       "      <th>2438</th>\n",
       "      <td>110454245165</td>\n",
       "      <td>Outback Industrial Way</td>\n",
       "      <td>M</td>\n",
       "      <td>S1400</td>\n",
       "      <td>LINESTRING (257764.669 4111791.796, 257709.492...</td>\n",
       "    </tr>\n",
       "    <tr>\n",
       "      <th>2452</th>\n",
       "      <td>110454255848</td>\n",
       "      <td>None</td>\n",
       "      <td>Unknown</td>\n",
       "      <td>S1400</td>\n",
       "      <td>LINESTRING (254993.084 4112178.792, 254942.733...</td>\n",
       "    </tr>\n",
       "    <tr>\n",
       "      <th>7004</th>\n",
       "      <td>110454253096</td>\n",
       "      <td>None</td>\n",
       "      <td>Unknown</td>\n",
       "      <td>S1400</td>\n",
       "      <td>LINESTRING (254570.567 4112153.393, 254581.960...</td>\n",
       "    </tr>\n",
       "    <tr>\n",
       "      <th>4706</th>\n",
       "      <td>110454255849</td>\n",
       "      <td>None</td>\n",
       "      <td>Unknown</td>\n",
       "      <td>S1400</td>\n",
       "      <td>LINESTRING (254993.084 4112178.792, 254984.967...</td>\n",
       "    </tr>\n",
       "    <tr>\n",
       "      <th>6419</th>\n",
       "      <td>1104258031278</td>\n",
       "      <td>State Rte 41</td>\n",
       "      <td>S</td>\n",
       "      <td>S1200</td>\n",
       "      <td>LINESTRING (254775.557 4107303.077, 254791.165...</td>\n",
       "    </tr>\n",
       "    <tr>\n",
       "      <th>45</th>\n",
       "      <td>110454239306</td>\n",
       "      <td>N Fork Rd</td>\n",
       "      <td>M</td>\n",
       "      <td>S1200</td>\n",
       "      <td>LINESTRING (256848.128 4112181.255, 256898.607...</td>\n",
       "    </tr>\n",
       "    <tr>\n",
       "      <th>2016</th>\n",
       "      <td>110454238820</td>\n",
       "      <td>Rd 200</td>\n",
       "      <td>M</td>\n",
       "      <td>S1200</td>\n",
       "      <td>LINESTRING (256848.128 4112181.255, 256898.607...</td>\n",
       "    </tr>\n",
       "  </tbody>\n",
       "</table>\n",
       "</div>"
      ],
      "text/plain": [
       "           LINEARID                FULLNAME    RTTYP  MTFCC  \\\n",
       "2189   110454253913                    None  Unknown  S1400   \n",
       "5606   110454253912                    None  Unknown  S1400   \n",
       "6742   110454253914                    None  Unknown  S1400   \n",
       "2167   110454253911                    None  Unknown  S1400   \n",
       "6717   110454253910                    None  Unknown  S1400   \n",
       "5587   110454253909                    None  Unknown  S1400   \n",
       "7879   110454245219               O'Neal Rd        M  S1400   \n",
       "6718   110454238841                  211 Rd        M  S1400   \n",
       "6716   110454254255                    None  Unknown  S1400   \n",
       "311    110454242886        Old Oak Stage Pl        M  S1400   \n",
       "6715   110454255291                    None  Unknown  S1400   \n",
       "2168   110454253897                    None  Unknown  S1400   \n",
       "5588   110454255293                    None  Unknown  S1400   \n",
       "4369   110454253898                    None  Unknown  S1400   \n",
       "4368   110454255017                    None  Unknown  S1400   \n",
       "2059   110454255018                    None  Unknown  S1400   \n",
       "2061   110454255021                    None  Unknown  S1400   \n",
       "5491   110454255025                    None  Unknown  S1400   \n",
       "8951   110454255024                    None  Unknown  S1400   \n",
       "8950   110454253908                    None  Unknown  S1400   \n",
       "5493   110454244509        Bates Station Rd        M  S1400   \n",
       "7788   110454238898                  Rd 406        M  S1400   \n",
       "6739   110454253936                    None  Unknown  S1400   \n",
       "1017   110454253915                    None  Unknown  S1400   \n",
       "6740   110454253937                    None  Unknown  S1400   \n",
       "7895   110454253938                    None  Unknown  S1400   \n",
       "8751  1104468825854            State Hwy 41        S  S1200   \n",
       "9047   110454243802          Jewel Vista Dr        M  S1400   \n",
       "7028   110454253016                    None  Unknown  S1400   \n",
       "4707   110454253069                    None  Unknown  S1400   \n",
       "6622   110454239218                 Rd 8063        M  S1400   \n",
       "6621   110454253032                    None  Unknown  S1400   \n",
       "5494   110454255030                    None  Unknown  S1400   \n",
       "4370   110454255031                    None  Unknown  S1400   \n",
       "9384   110454255041                    None  Unknown  S1400   \n",
       "1112   110454253894                    None  Unknown  S1400   \n",
       "6839   110454253896                    None  Unknown  S1400   \n",
       "9173   110454253895                    None  Unknown  S1400   \n",
       "5495   110454255042                    None  Unknown  S1400   \n",
       "2449   110454253070                    None  Unknown  S1400   \n",
       "3624   110454253071                    None  Unknown  S1400   \n",
       "2450   110454255566                    None  Unknown  S1400   \n",
       "2438   110454245165  Outback Industrial Way        M  S1400   \n",
       "2452   110454255848                    None  Unknown  S1400   \n",
       "7004   110454253096                    None  Unknown  S1400   \n",
       "4706   110454255849                    None  Unknown  S1400   \n",
       "6419  1104258031278            State Rte 41        S  S1200   \n",
       "45     110454239306               N Fork Rd        M  S1200   \n",
       "2016   110454238820                  Rd 200        M  S1200   \n",
       "\n",
       "                                               geometry  \n",
       "2189  LINESTRING (258166.923 4108351.911, 258165.443...  \n",
       "5606  LINESTRING (258166.923 4108351.911, 258196.856...  \n",
       "6742  LINESTRING (258068.216 4108434.372, 258077.141...  \n",
       "2167  LINESTRING (258110.740 4108527.332, 258108.670...  \n",
       "6717  LINESTRING (257983.127 4108743.339, 257976.016...  \n",
       "5587  LINESTRING (257983.127 4108743.339, 258001.855...  \n",
       "7879  LINESTRING (257423.271 4107303.077, 257414.988...  \n",
       "6718  LINESTRING (257423.271 4107303.077, 257414.988...  \n",
       "6716  LINESTRING (258726.876 4109197.037, 258677.968...  \n",
       "311   LINESTRING (258867.409 4109636.978, 258866.813...  \n",
       "6715  LINESTRING (258436.586 4110705.994, 258408.911...  \n",
       "2168  LINESTRING (258224.931 4111150.752, 258214.627...  \n",
       "5588  LINESTRING (258224.931 4111150.752, 258241.188...  \n",
       "4369  LINESTRING (256065.990 4107303.077, 256061.562...  \n",
       "4368  LINESTRING (256711.652 4107303.077, 256724.805...  \n",
       "2059  LINESTRING (256454.331 4107303.077, 256452.671...  \n",
       "2061  LINESTRING (255606.645 4107675.793, 255643.956...  \n",
       "5491  LINESTRING (256175.266 4107926.449, 256314.380...  \n",
       "8951  LINESTRING (256175.266 4107926.449, 256143.156...  \n",
       "8950  LINESTRING (257412.929 4108582.242, 257413.557...  \n",
       "5493  LINESTRING (255506.820 4108929.033, 255480.727...  \n",
       "7788  LINESTRING (255506.820 4108929.033, 255480.727...  \n",
       "6739  LINESTRING (258393.406 4107670.066, 258408.964...  \n",
       "1017  LINESTRING (257900.762 4107661.752, 257904.069...  \n",
       "6740  LINESTRING (258393.406 4107670.066, 258366.372...  \n",
       "7895  LINESTRING (258867.409 4107693.343, 258814.347...  \n",
       "8751  LINESTRING (254775.557 4107303.077, 254791.165...  \n",
       "9047  LINESTRING (254570.567 4107937.842, 254572.533...  \n",
       "7028  LINESTRING (255060.079 4108069.811, 254989.742...  \n",
       "4707  LINESTRING (255072.082 4111879.731, 255062.326...  \n",
       "6622  LINESTRING (257646.165 4108540.554, 257632.367...  \n",
       "6621  LINESTRING (255506.820 4108929.033, 255535.287...  \n",
       "5494  LINESTRING (257947.495 4108775.903, 257939.449...  \n",
       "4370  LINESTRING (255672.200 4109005.428, 255703.905...  \n",
       "9384  LINESTRING (256047.646 4110143.617, 256027.106...  \n",
       "1112  LINESTRING (256577.679 4110296.113, 256544.130...  \n",
       "6839  LINESTRING (256843.264 4110344.536, 256815.721...  \n",
       "9173  LINESTRING (256577.679 4110296.113, 256580.975...  \n",
       "5495  LINESTRING (256843.264 4110344.536, 256890.998...  \n",
       "2449  LINESTRING (255993.449 4110213.489, 256004.106...  \n",
       "3624  MULTILINESTRING ((255993.449 4110213.489, 2559...  \n",
       "2450  LINESTRING (256410.586 4111756.860, 256414.803...  \n",
       "2438  LINESTRING (257764.669 4111791.796, 257709.492...  \n",
       "2452  LINESTRING (254993.084 4112178.792, 254942.733...  \n",
       "7004  LINESTRING (254570.567 4112153.393, 254581.960...  \n",
       "4706  LINESTRING (254993.084 4112178.792, 254984.967...  \n",
       "6419  LINESTRING (254775.557 4107303.077, 254791.165...  \n",
       "45    LINESTRING (256848.128 4112181.255, 256898.607...  \n",
       "2016  LINESTRING (256848.128 4112181.255, 256898.607...  "
      ]
     },
     "execution_count": 52,
     "metadata": {},
     "output_type": "execute_result"
    }
   ],
   "source": [
    "# YOUR CODE HERE\n",
    "roads_str = \"spatial-vector-lidar/california/madera-county-roads/tl_2013_06039_roads.shp\"\n",
    "roads_path = os.path.normpath(roads_str)\n",
    "roads = gpd.read_file(roads_path)\n",
    "roads = roads.to_crs(\"EPSG:32611\")\n",
    "\n",
    "sjer_str = \"spatial-vector-lidar/california/neon-sjer-site/vector_data/SJER_crop.shp\"\n",
    "sjer_path = os.path.normpath(sjer_str)\n",
    "sjer = gpd.read_file(sjer_path)\n",
    "sjer = sjer.to_crs(\"EPSG:32611\")\n",
    "\n",
    "clipped_roads = gpd.clip(roads, sjer)\n",
    "\n",
    "sjer_plot_str = \"spatial-vector-lidar/california/neon-sjer-site/vector_data/SJER_plot_centroids.shp\"\n",
    "sjer_plot_path = os.path.normpath(sjer_plot_str)\n",
    "sjer_plot = gpd.read_file(sjer_plot_path)\n",
    "sjer_plot = sjer_plot.to_crs(\"EPSG:32611\")\n",
    "\n",
    "clipped_roads[\"RTTYP\"].fillna(\"Unknown\", inplace=True)\n",
    "clipped_roads\n"
   ]
  },
  {
   "cell_type": "code",
   "execution_count": 53,
   "metadata": {
    "deletable": false,
    "editable": false,
    "nbgrader": {
     "cell_type": "code",
     "checksum": "f1e89c29ac75ffcde8a55b732eb2f966",
     "grade": true,
     "grade_id": "initial-clip-tests",
     "locked": true,
     "points": 5,
     "schema_version": 3,
     "solution": false,
     "task": false
    }
   },
   "outputs": [],
   "source": [
    "# DO NOT MODIFY THIS CELL"
   ]
  },
  {
   "cell_type": "markdown",
   "metadata": {
    "deletable": false,
    "editable": false,
    "nbgrader": {
     "cell_type": "markdown",
     "checksum": "37e405e4facaf16a69adb7befd3fc2ed",
     "grade": false,
     "grade_id": "challenge-1b-instructions",
     "locked": true,
     "schema_version": 3,
     "solution": false,
     "task": false
    }
   },
   "source": [
    "## Challenge 1b: Create a Figure Of Your Study Area\n",
    "\n",
    "In the cell below, add code to create your challenge figure using the \n",
    "objects that you generated above.\n",
    "\n",
    "Create a map that shows the madera roads layer, SJER plot locations and the SJER boundary (`california/neon-sjer-site/vector_data/SJER_crop.shp`). All data should be cropped to your\n",
    "SJER boundary crop extent (your Area Of Interest or AOI)\n",
    "\n",
    "### Important Notes For Your Figure\n",
    "\n",
    "1. Plot the roads so different **road types** are represented using unique symbology using the `RTTYP` attribute.\n",
    "2. Add the plot locations to your map. Color each location according to the attribute **plot type** using unique symbology for each `plot_type` in the data.\n",
    "3. Add a **title** to your figure.\n",
    "4. Be sure that your plot legend is not covering your final map.\n",
    "5. **IMPORTANT:** be sure that all of the data are cropped to the **same spatial extent**\n",
    "and **crs**. This means that you have to clip and reproject your data prior to plotting it."
   ]
  },
  {
   "cell_type": "code",
   "execution_count": 54,
   "metadata": {},
   "outputs": [
    {
     "data": {
      "text/plain": [
       "array(['trees', 'grass', 'soil'], dtype=object)"
      ]
     },
     "execution_count": 54,
     "metadata": {},
     "output_type": "execute_result"
    }
   ],
   "source": [
    "sjer_plot.plot_type.unique()"
   ]
  },
  {
   "cell_type": "code",
   "execution_count": 60,
   "metadata": {
    "deletable": false,
    "nbgrader": {
     "cell_type": "code",
     "checksum": "790ed1c6ef72d79384bcaff8e0928d1a",
     "grade": false,
     "grade_id": "challenge-1-plot-answer",
     "locked": false,
     "schema_version": 3,
     "solution": true,
     "task": false
    },
    "tags": [
     "hide"
    ]
   },
   "outputs": [
    {
     "data": {
      "image/png": "[encoded data removed]",
      "text/plain": [
       "<Figure size 360x360 with 1 Axes>"
      ]
     },
     "metadata": {
      "needs_background": "light"
     },
     "output_type": "display_data"
    }
   ],
   "source": [
    "# PLOT 1 - Place only the code required to create a plot of your data here\n",
    "# Additional processing code can go above this code cell\n",
    "\n",
    "# YOUR CODE HERE\n",
    "# Plot Data\n",
    "fig, ax = plt.subplots(figsize=(5, 5))\n",
    "\n",
    "# Add the plot points in sets grouped by plot_type\n",
    "roads_symb = {'M': 'red',\n",
    "               'S': 'black',\n",
    "               'Unknown': 'brown'}\n",
    "\n",
    "for rtype, road_type_df in clipped_roads.groupby('RTTYP'):\n",
    "    color = roads_symb[rtype]\n",
    "    label = rtype\n",
    "    road_type_df.plot(color=color,\n",
    "                   ax=ax,\n",
    "                   label=label,\n",
    "                   markersize=50)\n",
    "\n",
    "points_symb = {'trees': 'chartreuse',\n",
    "               'grass': 'darkgreen',\n",
    "               'soil': 'burlywood'}\n",
    "\n",
    "for ctype, sjer_plot_type in sjer_plot.groupby('plot_type'):\n",
    "    color = points_symb[ctype]\n",
    "    label = ctype\n",
    "    sjer_plot_type.plot(color=color,\n",
    "                   ax=ax,\n",
    "                   label=label,\n",
    "                   markersize=50)\n",
    "\n",
    "# Add a legend\n",
    "plt.legend(bbox_to_anchor=(1, 1), loc=\"upper left\")\n",
    "plt.title(\"Roads and SJER plot centroids by type\")\n",
    "plt.tight_layout()\n",
    "\n",
    "### DO NOT REMOVE LINE BELOW ###\n",
    "plot01_roads_plot_locs = nb.convert_axes(plt, which_axes=\"current\")"
   ]
  },
  {
   "cell_type": "code",
   "execution_count": 56,
   "metadata": {
    "deletable": false,
    "editable": false,
    "nbgrader": {
     "cell_type": "code",
     "checksum": "8072ecb784ded9ab1cbc13dddf7ac709",
     "grade": true,
     "grade_id": "challenge-1-plot-test",
     "locked": true,
     "points": 20,
     "schema_version": 3,
     "solution": false,
     "task": false
    }
   },
   "outputs": [],
   "source": [
    "# DO NOT MODIFY THIS CELL\n"
   ]
  },
  {
   "cell_type": "markdown",
   "metadata": {
    "deletable": false,
    "editable": false,
    "nbgrader": {
     "cell_type": "markdown",
     "checksum": "7062525addd8ba3163f4c9bd2cb33e57",
     "grade": false,
     "grade_id": "challenge-1-plot-test-2",
     "locked": true,
     "points": 2,
     "schema_version": 3,
     "solution": false,
     "task": true
    }
   },
   "source": [
    "### Figure 1 - Manual Points - \n",
    "* Points for plot title being expressive"
   ]
  },
  {
   "cell_type": "markdown",
   "metadata": {
    "deletable": false,
    "editable": false,
    "nbgrader": {
     "cell_type": "markdown",
     "checksum": "1851988329d482a84f701a578580da50",
     "grade": false,
     "grade_id": "challenge-1-question-1",
     "locked": true,
     "schema_version": 3,
     "solution": false,
     "task": false
    }
   },
   "source": [
    "## Question (5 points)\n",
    "\n",
    "What does the RTTYP road type acronyms **M** and **S** stand for? \n",
    "Please your answer in the markdown cell BELOW.\n",
    "\n",
    "HINT: use the `tl_2013_06039_roads.shp.xml` file in your data download to help you figure out the answer to this question\n",
    "HINT2: you can also find good results using Google (on the column name)! "
   ]
  },
  {
   "cell_type": "markdown",
   "metadata": {
    "deletable": false,
    "nbgrader": {
     "cell_type": "markdown",
     "checksum": "7507d435acb0bda1af8992c39b4bbf9e",
     "grade": true,
     "grade_id": "challenge-1-question-points",
     "locked": false,
     "points": 5,
     "schema_version": 3,
     "solution": true,
     "task": false
    }
   },
   "source": [
    "M = Common Name;\n",
    "S = State recognized"
   ]
  },
  {
   "cell_type": "markdown",
   "metadata": {
    "deletable": false,
    "editable": false,
    "nbgrader": {
     "cell_type": "markdown",
     "checksum": "bcc12ce0c099346eeec37b73ee4fe4ae",
     "grade": false,
     "grade_id": "challenge-2-instructions",
     "locked": true,
     "schema_version": 3,
     "solution": false,
     "task": false
    }
   },
   "source": [
    "## Challenge 2: Figure 2 - Roads in Del Norte, Modoc & Siskiyou Counties\n",
    "\n",
    "Create a plot of roads that are located in: Del Norte, Modoc & Siskiyou Counties. To do this, you will need the following layers:\n",
    "\n",
    "* Counties in California: `california/CA_Counties/CA_Counties_TIGER2016.shp`\n",
    "* Roads: `spatial-vector-lidar/global/ne_10m_roads/ne_10m_roads.shp` \n",
    "\n",
    "To create this plot, you will need to:\n",
    "\n",
    "1. Reproject the roads and the county data to `epsg=5070`\n",
    "2. Select the three counties that you want to work with in the counties dataset. One fast way to do this is using syntax as follows: \n",
    "\n",
    "`roads_df[roads_df['NAME'].isin([\"Siskiyou\", \"Modoc\", \"Del Norte\"])]`\n",
    "\n",
    "3. Clip the roads data to the boundary of the counties that you wish to look at.\n",
    "4. Assign each road segment an attribute that identifies it as within each county.\n",
    "\n",
    "Color the roads in each county using a unique color.\n",
    "\n",
    "HINT: use the `legend=True` argument in `.plot()` to create a legend.\n",
    "Because you are only creating a legend for one layer, you can quickly use `.plot()`\n",
    "rather than `ax.legend()` which is what you used to create the figure above.\n",
    "\n",
    "\n",
    "### IMPORTANT: \n",
    "\n",
    "* Both layers need to the in the SAME coordinate reference system for you to work with them together. REPROJECT both data layers to albers `.to_crs(epsg=5070)`\n",
    "* Clip the roads to the boundary of the three_counties layer that you created which only contains the 3 selected counties: `\"Siskiyou\", \"Modoc\", \"Del Norte\"`\n",
    "* To assign each road to its respective county, you will perform a spatial join using `.sjoin()`.\n",
    "* You will need to redefine the CRS of the roads layer, after the clip, which you can do using something like:\n",
    "\n",
    "```county_roads.crs = ca_cty_albers.crs```\n",
    "\n",
    "**NOTE:** you can ignore the warning from pyproj: `'+init=<authority>:<code>' syntax is deprecated.`, which will be resolved by GeoPandas in the next release."
   ]
  },
  {
   "cell_type": "markdown",
   "metadata": {
    "deletable": false,
    "editable": false,
    "nbgrader": {
     "cell_type": "markdown",
     "checksum": "cc91a19ee012c0fb7308ce92738d41c3",
     "grade": false,
     "grade_id": "challenge-2-instructions-1-2",
     "locked": true,
     "schema_version": 3,
     "solution": false,
     "task": false
    }
   },
   "source": [
    "In the cell below, add the code needed to \n",
    "\n",
    "* Open each layer\n",
    "* Reproject the data \n",
    "* Clip and subset the data \n",
    "\n",
    "At the end of the cell, be sure to call the clipped roads layer."
   ]
  },
  {
   "cell_type": "code",
   "execution_count": 72,
   "metadata": {
    "deletable": false,
    "nbgrader": {
     "cell_type": "code",
     "checksum": "6a89b2ebd07249679e0dd59261ca7501",
     "grade": false,
     "grade_id": "challenge-2-answer",
     "locked": false,
     "schema_version": 3,
     "solution": true,
     "task": false
    }
   },
   "outputs": [],
   "source": [
    "# In this cell, add the code needed to open, reproject and clip / subset the data\n",
    "\n",
    "# YOUR CODE HERE\n",
    "counties_str = \"spatial-vector-lidar/california/CA_Counties/CA_Counties_TIGER2016.shp\"\n",
    "counties_path = os.path.normpath(counties_str)\n",
    "counties = gpd.read_file(counties_path)\n",
    "counties = counties.to_crs(\"EPSG:5070\")\n",
    "\n",
    "roads_str = \"spatial-vector-lidar/global/ne_10m_roads/ne_10m_roads.shp\"\n",
    "roads_path = os.path.normpath(roads_str)\n",
    "roads = gpd.read_file(roads_path)\n",
    "roads = roads.to_crs(\"EPSG:5070\")\n",
    "\n",
    "counties = counties.loc[counties[\"NAME\"].isin([\"Siskiyou\", \"Modoc\", \"Del Norte\"])]\n",
    "roads = gpd.clip(roads, counties)\n",
    "\n",
    "roads_by_county = gpd.sjoin(roads, counties)\n"
   ]
  },
  {
   "cell_type": "code",
   "execution_count": 79,
   "metadata": {
    "deletable": false,
    "editable": false,
    "nbgrader": {
     "cell_type": "code",
     "checksum": "5506aa3a94587f16d05d7d2bda98454e",
     "grade": true,
     "grade_id": "challenge-2-tests",
     "locked": true,
     "points": 0,
     "schema_version": 3,
     "solution": false,
     "task": false
    }
   },
   "outputs": [
    {
     "name": "stdout",
     "output_type": "stream",
     "text": [
      "✅ Great! Your clipped object is a GeoDataFrame!\n",
      "✅ Great! Your clipped object has the correct CRS!\n"
     ]
    }
   ],
   "source": [
    "student_three_counties = _\n",
    "\n",
    "three_counties_points = 0\n",
    "\n",
    "if isinstance(student_three_counties, gpd.geodataframe.GeoDataFrame):\n",
    "    print(\"\\u2705 Great! Your clipped object is a GeoDataFrame!\")\n",
    "    three_counties_points += 1\n",
    "else:\n",
    "    print(\"\\u274C Oops, your clipped object is not a GeoDataFrame.\")\n",
    "\n",
    "if student_three_counties.crs.to_epsg() == 5070:\n",
    "    print(\"\\u2705 Great! Your clipped object has the correct CRS!\")\n",
    "    three_counties_points += 2\n",
    "else:\n",
    "    print(\"\\u274C Oops, your clipped object does not have the correct CRS.\")"
   ]
  },
  {
   "cell_type": "code",
   "execution_count": 80,
   "metadata": {
    "deletable": false,
    "editable": false,
    "nbgrader": {
     "cell_type": "code",
     "checksum": "ae0bead0db96928bc731f992150bfed1",
     "grade": true,
     "grade_id": "challenge-2-tests-2",
     "locked": true,
     "points": 5,
     "schema_version": 3,
     "solution": false,
     "task": false
    }
   },
   "outputs": [],
   "source": [
    "# DO NOT MODIFY THIS CELL"
   ]
  },
  {
   "cell_type": "markdown",
   "metadata": {
    "deletable": false,
    "editable": false,
    "nbgrader": {
     "cell_type": "markdown",
     "checksum": "0b7f72d102fd069f6e1d130ed59fc9a7",
     "grade": false,
     "grade_id": "challenge-2-instructions-2",
     "locked": true,
     "schema_version": 3,
     "solution": false,
     "task": false
    }
   },
   "source": [
    "## Challenge 2b: Figure\n",
    "\n",
    "In the cell beloow,  add code to create the figure described above."
   ]
  },
  {
   "cell_type": "code",
   "execution_count": 81,
   "metadata": {
    "caption": "Map showing the roads layer clipped to the three counties and colored according to which county the road is in.",
    "deletable": false,
    "nbgrader": {
     "cell_type": "code",
     "checksum": "f64acf588186664b552fde47b10c3275",
     "grade": false,
     "grade_id": "challenge-2-plot",
     "locked": false,
     "schema_version": 3,
     "solution": true,
     "task": false
    },
    "tags": [
     "hide"
    ]
   },
   "outputs": [
    {
     "data": {
      "image/png": "[encoded data removed]",
      "text/plain": [
       "<Figure size 360x360 with 1 Axes>"
      ]
     },
     "metadata": {
      "needs_background": "light"
     },
     "output_type": "display_data"
    }
   ],
   "source": [
    "# Figure 2 - Place only the code required to plot your data here\n",
    "# Additional processing code can go above this code cell\n",
    "\n",
    "# YOUR CODE HERE\n",
    "# Plot\n",
    "fig, ax = plt.subplots(figsize=(5, 5))\n",
    "\n",
    "# Add the plot points in sets grouped by plot_type\n",
    "counties.boundary.plot(\n",
    "    ax=ax,\n",
    "    color=\"lightgray\"\n",
    ")\n",
    "\n",
    "roads_by_county.plot(\n",
    "    ax=ax,\n",
    "    column=\"NAME\",\n",
    "    legend=True,\n",
    "    cmap=\"Set3\"\n",
    ")\n",
    "\n",
    "plt.title(\"Roads by county\")\n",
    "plt.tight_layout()\n",
    "\n",
    "### DO NOT REMOVE LINE BELOW ###\n",
    "plot02_county_roads_clip = nb.convert_axes(plt, which_axes=\"current\")"
   ]
  },
  {
   "cell_type": "code",
   "execution_count": 82,
   "metadata": {
    "deletable": false,
    "editable": false,
    "nbgrader": {
     "cell_type": "code",
     "checksum": "33128d407dbc2ab908dadc780a5211b6",
     "grade": true,
     "grade_id": "challenge-2-plot-tests",
     "locked": true,
     "points": 20,
     "schema_version": 3,
     "solution": false,
     "task": false
    }
   },
   "outputs": [
    {
     "name": "stdout",
     "output_type": "stream",
     "text": [
      "✅ Plot title exists!\n"
     ]
    }
   ],
   "source": [
    "# DO NOT MODIFY THIS CELL\n",
    "hw_plot2 = vct.VectorTester(plot02_county_roads_clip)\n",
    "\n",
    "\n",
    "plot_title = ag.run_test(hw_plot2.assert_title_contains,\n",
    "                         strings_expected='',\n",
    "                         points=1,\n",
    "                         correct_message=\"\\u2705 Plot title exists!\",\n",
    "                         error_message=\"\\u274C Check your plot title exists.\")\n",
    "\n",
    "print(plot_title['message'])\n"
   ]
  },
  {
   "cell_type": "markdown",
   "metadata": {
    "deletable": false,
    "editable": false,
    "nbgrader": {
     "cell_type": "markdown",
     "checksum": "b69776e576e55e77a6ab4856f0bc5250",
     "grade": false,
     "grade_id": "challenge-3-instructions",
     "locked": true,
     "schema_version": 3,
     "solution": false,
     "task": false
    }
   },
   "source": [
    "## Challenge 3:  Calculate Total Length of Road Siskiyou, Modoc, Del Norte County in California\n",
    "\n",
    "Create a dataframe that shows the total length of road in these counties used in plot 2: Siskiyou, Modoc, and Del Norte. To calculate this, use the data you created for plot 2.\n",
    "\n",
    "To calculate length of each line in your geodataframe, you can use the syntax `gdf.length`. Create a new column using the syntax:\n",
    "\n",
    "`gdf[\"length\"] = gdf.length`\n",
    "\n",
    "You can summarize the data to calculate total length using pandas `.groupby()` on the county column name.\n",
    "\n",
    "Note: you can use: `pd.options.display.float_format = '{:.4f}'.format` if you'd like to turn off scientific notation for your outputs.\n",
    "\n",
    "It should look something like this:\n",
    "\n",
    "\n",
    "||length|\n",
    "|----|----|\n",
    "|NAME|| \n",
    "|Del Norte| road length here|\n",
    "|Modoc| road length here|\n",
    "|Siskiyou| road length here|\n",
    "\n",
    "\n",
    "At the end of the cell, call the dataframe object"
   ]
  },
  {
   "cell_type": "code",
   "execution_count": 93,
   "metadata": {
    "deletable": false,
    "nbgrader": {
     "cell_type": "code",
     "checksum": "62a627696ff27d7562f50a7cb0c82856",
     "grade": false,
     "grade_id": "challenge-3-answer",
     "locked": false,
     "schema_version": 3,
     "solution": true,
     "task": false
    },
    "tags": [
     "hide"
    ]
   },
   "outputs": [
    {
     "data": {
      "text/html": [
       "<div>\n",
       "<style scoped>\n",
       "    .dataframe tbody tr th:only-of-type {\n",
       "        vertical-align: middle;\n",
       "    }\n",
       "\n",
       "    .dataframe tbody tr th {\n",
       "        vertical-align: top;\n",
       "    }\n",
       "\n",
       "    .dataframe thead th {\n",
       "        text-align: right;\n",
       "    }\n",
       "</style>\n",
       "<table border=\"1\" class=\"dataframe\">\n",
       "  <thead>\n",
       "    <tr style=\"text-align: right;\">\n",
       "      <th></th>\n",
       "      <th>scalerank</th>\n",
       "      <th>question</th>\n",
       "      <th>length_km</th>\n",
       "      <th>toll</th>\n",
       "      <th>labelrank</th>\n",
       "      <th>ignore</th>\n",
       "      <th>add</th>\n",
       "      <th>rwdb_rd_id</th>\n",
       "      <th>orig_fid</th>\n",
       "      <th>uident</th>\n",
       "      <th>expressway</th>\n",
       "      <th>min_zoom</th>\n",
       "      <th>min_label</th>\n",
       "      <th>index_right</th>\n",
       "      <th>ALAND</th>\n",
       "      <th>AWATER</th>\n",
       "      <th>length</th>\n",
       "    </tr>\n",
       "    <tr>\n",
       "      <th>NAME</th>\n",
       "      <th></th>\n",
       "      <th></th>\n",
       "      <th></th>\n",
       "      <th></th>\n",
       "      <th></th>\n",
       "      <th></th>\n",
       "      <th></th>\n",
       "      <th></th>\n",
       "      <th></th>\n",
       "      <th></th>\n",
       "      <th></th>\n",
       "      <th></th>\n",
       "      <th></th>\n",
       "      <th></th>\n",
       "      <th></th>\n",
       "      <th></th>\n",
       "      <th></th>\n",
       "    </tr>\n",
       "  </thead>\n",
       "  <tbody>\n",
       "    <tr>\n",
       "      <th>Del Norte</th>\n",
       "      <td>26</td>\n",
       "      <td>0</td>\n",
       "      <td>297</td>\n",
       "      <td>0</td>\n",
       "      <td>0</td>\n",
       "      <td>0</td>\n",
       "      <td>0</td>\n",
       "      <td>0</td>\n",
       "      <td>0</td>\n",
       "      <td>295425</td>\n",
       "      <td>0</td>\n",
       "      <td>25.1</td>\n",
       "      <td>38.5</td>\n",
       "      <td>170</td>\n",
       "      <td>13030501085</td>\n",
       "      <td>2893801820</td>\n",
       "      <td>121307.565363</td>\n",
       "    </tr>\n",
       "    <tr>\n",
       "      <th>Modoc</th>\n",
       "      <td>33</td>\n",
       "      <td>0</td>\n",
       "      <td>637</td>\n",
       "      <td>0</td>\n",
       "      <td>0</td>\n",
       "      <td>0</td>\n",
       "      <td>0</td>\n",
       "      <td>0</td>\n",
       "      <td>542</td>\n",
       "      <td>262353</td>\n",
       "      <td>0</td>\n",
       "      <td>33.0</td>\n",
       "      <td>41.6</td>\n",
       "      <td>175</td>\n",
       "      <td>50704778150</td>\n",
       "      <td>3727126005</td>\n",
       "      <td>245029.146972</td>\n",
       "    </tr>\n",
       "    <tr>\n",
       "      <th>Siskiyou</th>\n",
       "      <td>37</td>\n",
       "      <td>0</td>\n",
       "      <td>776</td>\n",
       "      <td>0</td>\n",
       "      <td>0</td>\n",
       "      <td>0</td>\n",
       "      <td>0</td>\n",
       "      <td>0</td>\n",
       "      <td>1024</td>\n",
       "      <td>305790</td>\n",
       "      <td>3</td>\n",
       "      <td>37.0</td>\n",
       "      <td>51.8</td>\n",
       "      <td>378</td>\n",
       "      <td>113833823929</td>\n",
       "      <td>1253757946</td>\n",
       "      <td>472427.949970</td>\n",
       "    </tr>\n",
       "  </tbody>\n",
       "</table>\n",
       "</div>"
      ],
      "text/plain": [
       "           scalerank  question  length_km  toll  labelrank  ignore  add  \\\n",
       "NAME                                                                      \n",
       "Del Norte         26         0        297     0          0       0    0   \n",
       "Modoc             33         0        637     0          0       0    0   \n",
       "Siskiyou          37         0        776     0          0       0    0   \n",
       "\n",
       "           rwdb_rd_id  orig_fid  uident  expressway  min_zoom  min_label  \\\n",
       "NAME                                                                       \n",
       "Del Norte           0         0  295425           0      25.1       38.5   \n",
       "Modoc               0       542  262353           0      33.0       41.6   \n",
       "Siskiyou            0      1024  305790           3      37.0       51.8   \n",
       "\n",
       "           index_right         ALAND      AWATER         length  \n",
       "NAME                                                             \n",
       "Del Norte          170   13030501085  2893801820  121307.565363  \n",
       "Modoc              175   50704778150  3727126005  245029.146972  \n",
       "Siskiyou           378  113833823929  1253757946  472427.949970  "
      ]
     },
     "execution_count": 93,
     "metadata": {},
     "output_type": "execute_result"
    }
   ],
   "source": [
    "# TABLE 1 - Place the code required to create the dataframe\n",
    "\n",
    "roads_by_county[\"length\"] = roads_by_county.length\n",
    "length_by_county = roads_by_county.groupby(\"NAME\").sum()\n",
    "\n",
    "length_by_county"
   ]
  },
  {
   "cell_type": "code",
   "execution_count": 94,
   "metadata": {
    "deletable": false,
    "editable": false,
    "nbgrader": {
     "cell_type": "code",
     "checksum": "b6c85bdb73ba7abcc55abb9cc12c7b08",
     "grade": true,
     "grade_id": "challenge-3-tests-visible",
     "locked": true,
     "points": 0,
     "schema_version": 3,
     "solution": false,
     "task": false
    }
   },
   "outputs": [
    {
     "name": "stdout",
     "output_type": "stream",
     "text": [
      "✅ Correct number of entries in the dataframe, good job!\n",
      "✅ Length column has the correct datatype!\n"
     ]
    }
   ],
   "source": [
    "# DO NOT MODIFY THIS CELL\n",
    "# Test that the cali_roads_summary is of type dataframe and named correctly\n",
    "\n",
    "# Let's make sure you created an object with the correct name and of the correct type above!\n",
    "\n",
    "student_length_dataframe = _\n",
    "\n",
    "length_points = 0\n",
    "\n",
    "if len(student_length_dataframe) == 3:\n",
    "    print(\"\\u2705 Correct number of entries in the dataframe, good job!\")\n",
    "    length_points += 2\n",
    "else:\n",
    "    print(\"\\u274C Incorrect amount of entries in the dataframe.\")\n",
    "\n",
    "if student_length_dataframe.length.dtype == 'float':\n",
    "    print(\"\\u2705 Length column has the correct datatype!\")\n",
    "    length_points += 2\n",
    "else:\n",
    "    print(\"\\u274C Length column does not have the correct datetype.\")"
   ]
  },
  {
   "cell_type": "code",
   "execution_count": 95,
   "metadata": {
    "deletable": false,
    "editable": false,
    "nbgrader": {
     "cell_type": "code",
     "checksum": "82163c627cf738f0a50a4ca821854c47",
     "grade": true,
     "grade_id": "challenge-3-tests-hidden",
     "locked": true,
     "points": 9,
     "schema_version": 3,
     "solution": false,
     "task": false
    }
   },
   "outputs": [],
   "source": [
    "# DO NOT MODIFY THIS CELL"
   ]
  },
  {
   "cell_type": "markdown",
   "metadata": {
    "deletable": false,
    "editable": false,
    "nbgrader": {
     "cell_type": "markdown",
     "checksum": "d8813ddf67835f7e275cc1852f7347c5",
     "grade": false,
     "grade_id": "challenge-4-instructions",
     "locked": true,
     "schema_version": 3,
     "solution": false,
     "task": false
    }
   },
   "source": [
    "## Challenge 4: Plot 3 - Global  Estimated Population \n",
    "\n",
    "Create a plot of quantile maps of the sum of global estimated population by region. To do this, you will use the  natural earth data of global political boundaries. This can be found inside of the `spatial-vector-lidar` data downloaded at the start of this assignment. The country data is missing from the earthpy download, so you will need to download it separately, by putting the url directly into `gpd.read_file()`. The url to download country data is:\n",
    "`https://naturalearth.s3.amazonaws.com/110m_cultural/ne_110m_admin_0_countries.zip`\n",
    "\n",
    "After you have downloaded the data, import the data and \n",
    "1. subset the data to include the following columns: `[\"REGION_WB\", \"POP_EST\", 'geometry']`\n",
    "2. Dissolve the data by region (`REGION_WB`) column and aggregate by `sum`. \n",
    "    * HINT: you can provide the aggfun= argument with a `[list]` of function names in quotes and it will summarize numeric columns using each function.\n",
    "3. Create a figure that shows the sum of estimated population (`POP_EST`) by region.\n",
    "    \n",
    "**NOTE:** you can ignore the warning from merge: `UserWarning: merging between different levels can give an unintended result`."
   ]
  },
  {
   "cell_type": "markdown",
   "metadata": {
    "deletable": false,
    "editable": false,
    "nbgrader": {
     "cell_type": "markdown",
     "checksum": "77475c016ea539cd7da923e588e4fd0a",
     "grade": false,
     "grade_id": "challenge-4-instructions-1-2",
     "locked": true,
     "schema_version": 3,
     "solution": false,
     "task": false
    }
   },
   "source": [
    "In the cell below:\n",
    "\n",
    "* Open up the data\n",
    "* Subset the columns needed using `dataframe[[\"column-1\", \"column-2\", \"column-3\"]]`\n",
    "* use the `dissolve` function to dissolve the data by the `REGION_WB` column\n",
    "\n",
    "Call your final dissolved geodataframe at the end of the cell"
   ]
  },
  {
   "cell_type": "code",
   "execution_count": 106,
   "metadata": {
    "deletable": false,
    "nbgrader": {
     "cell_type": "code",
     "checksum": "cd75e0a0ee9494520722a9ad327b4408",
     "grade": false,
     "grade_id": "challenge-4-answer",
     "locked": false,
     "schema_version": 3,
     "solution": true,
     "task": false
    }
   },
   "outputs": [
    {
     "name": "stderr",
     "output_type": "stream",
     "text": [
      "/Users/judith/opt/anaconda3/envs/earth-analytics-python/lib/python3.8/site-packages/geopandas/geodataframe.py:1545: FutureWarning: merging between different levels is deprecated and will be removed in a future version. (1 levels on the left, 2 on the right)\n",
      "  aggregated = aggregated_geometry.join(aggregated_data)\n"
     ]
    },
    {
     "data": {
      "text/html": [
       "<div>\n",
       "<style scoped>\n",
       "    .dataframe tbody tr th:only-of-type {\n",
       "        vertical-align: middle;\n",
       "    }\n",
       "\n",
       "    .dataframe tbody tr th {\n",
       "        vertical-align: top;\n",
       "    }\n",
       "\n",
       "    .dataframe thead th {\n",
       "        text-align: right;\n",
       "    }\n",
       "</style>\n",
       "<table border=\"1\" class=\"dataframe\">\n",
       "  <thead>\n",
       "    <tr style=\"text-align: right;\">\n",
       "      <th></th>\n",
       "      <th>geometry</th>\n",
       "      <th>(POP_EST, sum)</th>\n",
       "    </tr>\n",
       "    <tr>\n",
       "      <th>REGION_WB</th>\n",
       "      <th></th>\n",
       "      <th></th>\n",
       "    </tr>\n",
       "  </thead>\n",
       "  <tbody>\n",
       "    <tr>\n",
       "      <th>Antarctica</th>\n",
       "      <td>MULTIPOLYGON (((-61.13898 -79.98137, -60.61012...</td>\n",
       "      <td>4.490000e+03</td>\n",
       "    </tr>\n",
       "    <tr>\n",
       "      <th>East Asia &amp; Pacific</th>\n",
       "      <td>MULTIPOLYGON (((-179.91737 -16.50178, -180.000...</td>\n",
       "      <td>2.325561e+09</td>\n",
       "    </tr>\n",
       "    <tr>\n",
       "      <th>Europe &amp; Central Asia</th>\n",
       "      <td>MULTIPOLYGON (((-53.77852 2.37670, -54.08806 2...</td>\n",
       "      <td>9.209389e+08</td>\n",
       "    </tr>\n",
       "    <tr>\n",
       "      <th>Latin America &amp; Caribbean</th>\n",
       "      <td>MULTIPOLYGON (((-71.37525 -17.77380, -71.46204...</td>\n",
       "      <td>6.449377e+08</td>\n",
       "    </tr>\n",
       "    <tr>\n",
       "      <th>Middle East &amp; North Africa</th>\n",
       "      <td>MULTIPOLYGON (((-11.93722 23.37459, -12.87422 ...</td>\n",
       "      <td>4.551668e+08</td>\n",
       "    </tr>\n",
       "    <tr>\n",
       "      <th>North America</th>\n",
       "      <td>MULTIPOLYGON (((-155.22217 19.23972, -155.5421...</td>\n",
       "      <td>3.658288e+08</td>\n",
       "    </tr>\n",
       "    <tr>\n",
       "      <th>South Asia</th>\n",
       "      <td>MULTIPOLYGON (((81.21802 6.19714, 80.34836 5.9...</td>\n",
       "      <td>1.835246e+09</td>\n",
       "    </tr>\n",
       "    <tr>\n",
       "      <th>Sub-Saharan Africa</th>\n",
       "      <td>MULTIPOLYGON (((9.30561 1.16091, 9.64916 2.283...</td>\n",
       "      <td>1.106408e+09</td>\n",
       "    </tr>\n",
       "  </tbody>\n",
       "</table>\n",
       "</div>"
      ],
      "text/plain": [
       "                                                                     geometry  \\\n",
       "REGION_WB                                                                       \n",
       "Antarctica                  MULTIPOLYGON (((-61.13898 -79.98137, -60.61012...   \n",
       "East Asia & Pacific         MULTIPOLYGON (((-179.91737 -16.50178, -180.000...   \n",
       "Europe & Central Asia       MULTIPOLYGON (((-53.77852 2.37670, -54.08806 2...   \n",
       "Latin America & Caribbean   MULTIPOLYGON (((-71.37525 -17.77380, -71.46204...   \n",
       "Middle East & North Africa  MULTIPOLYGON (((-11.93722 23.37459, -12.87422 ...   \n",
       "North America               MULTIPOLYGON (((-155.22217 19.23972, -155.5421...   \n",
       "South Asia                  MULTIPOLYGON (((81.21802 6.19714, 80.34836 5.9...   \n",
       "Sub-Saharan Africa          MULTIPOLYGON (((9.30561 1.16091, 9.64916 2.283...   \n",
       "\n",
       "                            (POP_EST, sum)  \n",
       "REGION_WB                                   \n",
       "Antarctica                    4.490000e+03  \n",
       "East Asia & Pacific           2.325561e+09  \n",
       "Europe & Central Asia         9.209389e+08  \n",
       "Latin America & Caribbean     6.449377e+08  \n",
       "Middle East & North Africa    4.551668e+08  \n",
       "North America                 3.658288e+08  \n",
       "South Asia                    1.835246e+09  \n",
       "Sub-Saharan Africa            1.106408e+09  "
      ]
     },
     "execution_count": 106,
     "metadata": {},
     "output_type": "execute_result"
    }
   ],
   "source": [
    "# YOUR CODE HERE\n",
    "country_pop = gpd.read_file(\"https://naturalearth.s3.amazonaws.com/110m_cultural/ne_110m_admin_0_countries.zip\")\n",
    "country_pop = country_pop.loc[:, [\"REGION_WB\", \"POP_EST\", 'geometry']]\n",
    "country_pop = country_pop.dissolve(by=\"REGION_WB\", aggfunc=[\"sum\"])\n",
    "\n",
    "country_pop"
   ]
  },
  {
   "cell_type": "code",
   "execution_count": 107,
   "metadata": {
    "deletable": false,
    "editable": false,
    "nbgrader": {
     "cell_type": "code",
     "checksum": "a4867a3568a9b60d7d106bf0e249c0cb",
     "grade": true,
     "grade_id": "challenge-4-tests",
     "locked": true,
     "points": 4,
     "schema_version": 3,
     "solution": false,
     "task": false
    }
   },
   "outputs": [
    {
     "name": "stdout",
     "output_type": "stream",
     "text": [
      "✅ Correct number of entries in the dataframe, good job!\n",
      "✅ Data is stored in a GeoDataFrame, good job!\n",
      "\n",
      " ➡ You received 4 out of 4 points.\n"
     ]
    },
    {
     "data": {
      "text/plain": [
       "4"
      ]
     },
     "execution_count": 107,
     "metadata": {},
     "output_type": "execute_result"
    }
   ],
   "source": [
    "# DO NOT MODIFY THIS CELL\n",
    "student_dissolve_dataframe = _\n",
    "\n",
    "dissolve_points = 0\n",
    "\n",
    "if len(student_dissolve_dataframe) == 8:\n",
    "    print(\"\\u2705 Correct number of entries in the dataframe, good job!\")\n",
    "    dissolve_points += 2\n",
    "else:\n",
    "    print(\"\\u274C Incorrect amount of entries in the dataframe.\")\n",
    "\n",
    "if isinstance(student_dissolve_dataframe, gpd.GeoDataFrame):\n",
    "    print(\"\\u2705 Data is stored in a GeoDataFrame, good job!\")\n",
    "    dissolve_points += 2\n",
    "else:\n",
    "    print(\"\\u274C Data is not stored in a GeoDataFrame.\")\n",
    "\n",
    "print(\"\\n \\u27A1 You received {} out of 4 points.\".format(\n",
    "    dissolve_points))\n",
    "dissolve_points"
   ]
  },
  {
   "cell_type": "code",
   "execution_count": 112,
   "metadata": {},
   "outputs": [
    {
     "data": {
      "text/html": [
       "<div>\n",
       "<style scoped>\n",
       "    .dataframe tbody tr th:only-of-type {\n",
       "        vertical-align: middle;\n",
       "    }\n",
       "\n",
       "    .dataframe tbody tr th {\n",
       "        vertical-align: top;\n",
       "    }\n",
       "\n",
       "    .dataframe thead th {\n",
       "        text-align: right;\n",
       "    }\n",
       "</style>\n",
       "<table border=\"1\" class=\"dataframe\">\n",
       "  <thead>\n",
       "    <tr style=\"text-align: right;\">\n",
       "      <th></th>\n",
       "      <th>featurecla</th>\n",
       "      <th>scalerank</th>\n",
       "      <th>geometry</th>\n",
       "    </tr>\n",
       "  </thead>\n",
       "  <tbody>\n",
       "    <tr>\n",
       "      <th>0</th>\n",
       "      <td>Country</td>\n",
       "      <td>1</td>\n",
       "      <td>POLYGON ((-59.57209 -80.04018, -59.86585 -80.5...</td>\n",
       "    </tr>\n",
       "    <tr>\n",
       "      <th>1</th>\n",
       "      <td>Country</td>\n",
       "      <td>1</td>\n",
       "      <td>POLYGON ((-159.20818 -79.49706, -161.12760 -79...</td>\n",
       "    </tr>\n",
       "    <tr>\n",
       "      <th>2</th>\n",
       "      <td>Country</td>\n",
       "      <td>1</td>\n",
       "      <td>POLYGON ((-45.15476 -78.04707, -43.92083 -78.4...</td>\n",
       "    </tr>\n",
       "    <tr>\n",
       "      <th>3</th>\n",
       "      <td>Country</td>\n",
       "      <td>1</td>\n",
       "      <td>POLYGON ((-121.21151 -73.50099, -119.91885 -73...</td>\n",
       "    </tr>\n",
       "    <tr>\n",
       "      <th>4</th>\n",
       "      <td>Country</td>\n",
       "      <td>1</td>\n",
       "      <td>POLYGON ((-125.55957 -73.48135, -124.03188 -73...</td>\n",
       "    </tr>\n",
       "    <tr>\n",
       "      <th>...</th>\n",
       "      <td>...</td>\n",
       "      <td>...</td>\n",
       "      <td>...</td>\n",
       "    </tr>\n",
       "    <tr>\n",
       "      <th>122</th>\n",
       "      <td>Country</td>\n",
       "      <td>1</td>\n",
       "      <td>POLYGON ((51.13619 80.54728, 49.79368 80.41543...</td>\n",
       "    </tr>\n",
       "    <tr>\n",
       "      <th>123</th>\n",
       "      <td>Country</td>\n",
       "      <td>1</td>\n",
       "      <td>POLYGON ((99.93976 78.88094, 97.75794 78.75620...</td>\n",
       "    </tr>\n",
       "    <tr>\n",
       "      <th>124</th>\n",
       "      <td>Country</td>\n",
       "      <td>1</td>\n",
       "      <td>POLYGON ((-87.02000 79.66000, -85.81435 79.336...</td>\n",
       "    </tr>\n",
       "    <tr>\n",
       "      <th>125</th>\n",
       "      <td>Country</td>\n",
       "      <td>1</td>\n",
       "      <td>POLYGON ((-68.50000 83.10632, -65.82735 83.028...</td>\n",
       "    </tr>\n",
       "    <tr>\n",
       "      <th>126</th>\n",
       "      <td>Country</td>\n",
       "      <td>1</td>\n",
       "      <td>POLYGON ((-27.10046 83.51966, -20.84539 82.726...</td>\n",
       "    </tr>\n",
       "  </tbody>\n",
       "</table>\n",
       "<p>127 rows × 3 columns</p>\n",
       "</div>"
      ],
      "text/plain": [
       "    featurecla  scalerank                                           geometry\n",
       "0      Country          1  POLYGON ((-59.57209 -80.04018, -59.86585 -80.5...\n",
       "1      Country          1  POLYGON ((-159.20818 -79.49706, -161.12760 -79...\n",
       "2      Country          1  POLYGON ((-45.15476 -78.04707, -43.92083 -78.4...\n",
       "3      Country          1  POLYGON ((-121.21151 -73.50099, -119.91885 -73...\n",
       "4      Country          1  POLYGON ((-125.55957 -73.48135, -124.03188 -73...\n",
       "..         ...        ...                                                ...\n",
       "122    Country          1  POLYGON ((51.13619 80.54728, 49.79368 80.41543...\n",
       "123    Country          1  POLYGON ((99.93976 78.88094, 97.75794 78.75620...\n",
       "124    Country          1  POLYGON ((-87.02000 79.66000, -85.81435 79.336...\n",
       "125    Country          1  POLYGON ((-68.50000 83.10632, -65.82735 83.028...\n",
       "126    Country          1  POLYGON ((-27.10046 83.51966, -20.84539 82.726...\n",
       "\n",
       "[127 rows x 3 columns]"
      ]
     },
     "execution_count": 112,
     "metadata": {},
     "output_type": "execute_result"
    }
   ],
   "source": [
    "global_bounds = gpd.read_file(\"spatial-vector-lidar/global/ne_110m_land/ne_110m_land.shp\")"
   ]
  },
  {
   "cell_type": "code",
   "execution_count": 136,
   "metadata": {},
   "outputs": [
    {
     "data": {
      "text/plain": [
       "Index(['geometry', ('POP_EST', 'sum')], dtype='object')"
      ]
     },
     "execution_count": 136,
     "metadata": {},
     "output_type": "execute_result"
    }
   ],
   "source": [
    "country_pop.columns"
   ]
  },
  {
   "cell_type": "code",
   "execution_count": null,
   "metadata": {
    "deletable": false,
    "editable": false,
    "nbgrader": {
     "cell_type": "code",
     "checksum": "07b9c3ff31c22fa5678f9db80dd909cf",
     "grade": true,
     "grade_id": "challenge-4-plot-tests-extra",
     "locked": true,
     "points": 0,
     "schema_version": 3,
     "solution": false,
     "task": false
    }
   },
   "outputs": [],
   "source": [
    "# DO NOT MODIFY THIS CELL"
   ]
  },
  {
   "cell_type": "code",
   "execution_count": null,
   "metadata": {
    "deletable": false,
    "editable": false,
    "nbgrader": {
     "cell_type": "code",
     "checksum": "bb617ef7e3814d6d6e89bd0e67178b94",
     "grade": true,
     "grade_id": "challenge-4-plot-tests",
     "locked": true,
     "points": 7,
     "schema_version": 3,
     "solution": false,
     "task": false
    }
   },
   "outputs": [],
   "source": [
    "# DO NOT MODIFY THIS CELL\n",
    "\n",
    "hw_plot4_rank = vct.VectorTester(plot04_global_population)\n",
    "\n",
    "results = []\n",
    "\n",
    "plot_title_rank = ag.run_test(hw_plot4_rank.assert_title_contains,\n",
    "                              strings_expected='',\n",
    "                              points=1,\n",
    "                              correct_message=\"\\u2705 Plot title exists!\",\n",
    "                              error_message=\"\\u274C Check that your plot title exists.\")\n",
    "\n"
   ]
  },
  {
   "cell_type": "markdown",
   "metadata": {
    "deletable": false,
    "editable": false,
    "nbgrader": {
     "cell_type": "markdown",
     "checksum": "253b4ed8a9d2f2aae57bf667a218767a",
     "grade": false,
     "grade_id": "plot-3-manual-points",
     "locked": true,
     "points": 9,
     "schema_version": 3,
     "solution": false,
     "task": true
    }
   },
   "source": [
    "## Manual points for geometries in plot "
   ]
  },
  {
   "cell_type": "markdown",
   "metadata": {
    "deletable": false,
    "editable": false,
    "nbgrader": {
     "cell_type": "markdown",
     "checksum": "e1194afb79e1dbdd538d449b2724caf3",
     "grade": false,
     "grade_id": "pep8-grading",
     "locked": true,
     "points": 10,
     "schema_version": 3,
     "solution": false,
     "task": true
    }
   },
   "source": [
    "## Do not modify this cell (10 points)\n",
    "\n",
    "* Here we will grade pep8 format and imports listed at the top following pep 8 conventions.\n",
    "* Notebook begins with cell [1] and runs without modifications. \n",
    "* Be sure that your code can be run on any operating system. This means that:\n",
    "    * the data should be downloaded in the notebook to ensure it's reproducible\n",
    "    * all paths should be created dynamically using the os package to ensure that they work across operating systems"
   ]
  },
  {
   "cell_type": "code",
   "execution_count": 154,
   "metadata": {
    "deletable": false,
    "nbgrader": {
     "cell_type": "code",
     "checksum": "35c35c158e0059d3fc2ee3f14f21ed1f",
     "grade": false,
     "grade_id": "challenge-4-plot",
     "locked": false,
     "schema_version": 3,
     "solution": true,
     "task": false
    }
   },
   "outputs": [
    {
     "data": {
      "image/png": "[encoded data removed]",
      "text/plain": [
       "<Figure size 576x252 with 2 Axes>"
      ]
     },
     "metadata": {
      "needs_background": "light"
     },
     "output_type": "display_data"
    }
   ],
   "source": [
    "# PLOT 3 - Place only the code required to plot your data here\n",
    "# Additional processing code can go above this code cell\n",
    "\n",
    "# YOUR CODE HERE\n",
    "fig, ax = plt.subplots(figsize=(8, 3.5))\n",
    "\n",
    "country_pop.plot(\n",
    "    ax=ax,\n",
    "    column=(\"POP_EST\", 'sum'),\n",
    "    legend=True,\n",
    "    cmap=\"plasma\"\n",
    ")\n",
    "\n",
    "global_bounds.boundary.plot(\n",
    "    ax=ax,\n",
    "    color=\"darkgray\",\n",
    "    linewidth=.5\n",
    ")\n",
    "\n",
    "plt.title(\"Pop by continent\")\n",
    "plt.tight_layout()\n",
    "\n",
    "ax.set_axisbelow(True)\n",
    "ax.yaxis.grid(color='gray', linestyle='--')\n",
    "ax.xaxis.grid(color='gray', linestyle='--')\n",
    "\n",
    "### DO NOT REMOVE LINE BELOW ###\n",
    "plot04_global_population = nb.convert_axes(plt, which_axes=\"current\")"
   ]
  }
 ],
 "metadata": {
  "anaconda-cloud": {},
  "kernelspec": {
   "display_name": "Python 3.8.12 ('earth-analytics-python': conda)",
   "language": "python",
   "name": "python3"
  },
  "language_info": {
   "codemirror_mode": {
    "name": "ipython",
    "version": 3
   },
   "file_extension": ".py",
   "mimetype": "text/x-python",
   "name": "python",
   "nbconvert_exporter": "python",
   "pygments_lexer": "ipython3",
   "version": "3.8.12"
  },
  "toc": {
   "base_numbering": 1,
   "nav_menu": {},
   "number_sections": true,
   "sideBar": true,
   "skip_h1_title": false,
   "title_cell": "Table of Contents",
   "title_sidebar": "Contents",
   "toc_cell": false,
   "toc_position": {},
   "toc_section_display": true,
   "toc_window_display": true
  },
  "varInspector": {
   "cols": {
    "lenName": 16,
    "lenType": 16,
    "lenVar": 40
   },
   "kernels_config": {
    "python": {
     "delete_cmd_postfix": "",
     "delete_cmd_prefix": "del ",
     "library": "var_list.py",
     "varRefreshCmd": "print(var_dic_list())"
    },
    "r": {
     "delete_cmd_postfix": ") ",
     "delete_cmd_prefix": "rm(",
     "library": "var_list.r",
     "varRefreshCmd": "cat(var_dic_list()) "
    }
   },
   "types_to_exclude": [
    "module",
    "function",
    "builtin_function_or_method",
    "instance",
    "_Feature"
   ],
   "window_display": false
  },
  "vscode": {
   "interpreter": {
    "hash": "73eae905298475c16bdd19598b4d23324c5ca2c3eaa9b70999c04e70ee60c08c"
   }
  }
 },
 "nbformat": 4,
 "nbformat_minor": 2
}
