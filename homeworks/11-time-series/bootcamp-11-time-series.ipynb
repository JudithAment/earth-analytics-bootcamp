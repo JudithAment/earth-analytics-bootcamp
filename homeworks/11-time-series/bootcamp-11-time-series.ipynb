{
 "cells": [
  {
   "cell_type": "markdown",
   "metadata": {
    "deletable": false,
    "editable": false,
    "hideCode": false,
    "hidePrompt": false,
    "nbgrader": {
     "cell_type": "markdown",
     "checksum": "6d62d501a6a0a4e2d8c64f3ee32b2d33",
     "grade": false,
     "grade_id": "hw-instructions",
     "locked": true,
     "schema_version": 3,
     "solution": false
    }
   },
   "source": [
    "# Week 10 Homework Template - Time Series Data\n",
    "\n",
    "To complete assignment 10, be sure to review the following chapters:\n",
    "\n",
    "* <a href=\"https://www.earthdatascience.org/courses/use-data-open-source-python/use-time-series-data-in-python/introduction-to-time-series-in-pandas-python/\" target=\"_blank\"> Time series data in Pandas </a>\n",
    "* <a href=\"https://www.earthdatascience.org/courses/use-data-open-source-python/data-stories/colorado-floods-2013/\" target=\"_blank\">The overview of the 2013 Floods in Colorado, USA</a>\n",
    "\n",
    "in the Earth Lab Intermediate Earth Data Science online textbook on the earthdatascience.org website.\n",
    "\n",
    "## Assignment Data\n",
    "\n",
    "For this assignment, you will write **Python** code to download and work with time \n",
    "series data associated with a large flood event that occured in Colorado, USA in \n",
    "2013. You will explore the relationship between precipitation and stream discharge \n",
    "for Boulder Creek in Boulder, CO as they increased and decreased during the flood \n",
    "event. You will also consider how the values compared to previous years before \n",
    "the flood event. \n",
    "\n",
    "There are two datasets that you will need to complete this assignment:\n",
    "\n",
    "* `colorado-flood/precipitation/805333-precip-daily-1948-2013.csv`:\n",
    "    * Hourly total precipitation in inches collected between 1948 and 2013\n",
    "    * Because the data are hourly, there can be multiple records for each day\n",
    "    * \"no data\" value is 999.99\n",
    "    * [Original datasource from National Oceanic and Atmospheric Administration (NOAA)](https://www.ncdc.noaa.gov/cdo-web/search)\n",
    "\n",
    "* `\"colorado-flood/precipitation/06730200-discharge-daily-1986-2013.csv`:\n",
    "    * Daily mean stream discharge in cubic feet per second (CFS) between 1986-2013 \n",
    "    * Dataset does not have a value for \"no data\"\n",
    "    * [Original datasource from U.S. Geological Survey (USGS)](http://waterdata.usgs.gov/nwis/dv?cb_00060=on&format=html&site_no=06730200&referred_module=sw&period=&begin_date=1986-10-01&end_date=2013-12-31)\n",
    "    \n",
    "## Data Download Instructions \n",
    "The data can be downloaded using earthpy as follows:\n",
    "\n",
    "`et.data.get_data(\"colorado-flood\")`"
   ]
  },
  {
   "cell_type": "code",
   "execution_count": 47,
   "metadata": {
    "deletable": false,
    "editable": false,
    "hideCode": false,
    "hidePrompt": false,
    "nbgrader": {
     "cell_type": "code",
     "checksum": "283b86969a1903b7aa448d3379cec4de",
     "grade": false,
     "grade_id": "core-imports",
     "locked": true,
     "schema_version": 3,
     "solution": false
    }
   },
   "outputs": [],
   "source": [
    "# Core imports needed for grading - Do not modify this cell!\n",
    "import matplotcheck.notebook as nb\n",
    "from matplotcheck.base import PlotTester\n",
    "import matplotcheck.autograde as ag\n",
    "import numpy as np"
   ]
  },
  {
   "cell_type": "markdown",
   "metadata": {
    "deletable": false,
    "editable": false,
    "hideCode": false,
    "hidePrompt": false,
    "nbgrader": {
     "cell_type": "markdown",
     "checksum": "9793c5034762eb173d6f39b74933b27d",
     "grade": false,
     "grade_id": "question-student-imports",
     "locked": true,
     "schema_version": 3,
     "solution": false
    }
   },
   "source": [
    "## Import Python Packages\n",
    "\n",
    "In the cell below, add code **after the line for `Your Code Here`**, replacing `raise NotImplementedError()` with your code to import the package/module needed to:\n",
    "* create plots\n",
    "* set your working directory\n",
    "* download data using earthpy functions\n",
    "* work with `pandas` DataFrames\n",
    "\n",
    "You will need a special **Python** package to help format the dates when plotting your data. Make sure to include the line below which imports `DateFormatter` from `matplotlib`.\n",
    "\n",
    "```\n",
    "from matplotlib.dates import DateFormatter\n",
    "```\n",
    "\n",
    "Be sure to list the package imports following the appropriate PEP 8 order and \n",
    "spacing requirements. "
   ]
  },
  {
   "cell_type": "code",
   "execution_count": 48,
   "metadata": {
    "deletable": false,
    "nbgrader": {
     "cell_type": "code",
     "checksum": "20489880accefdb27a2f10ca8cc97835",
     "grade": false,
     "grade_id": "student-imports-answer",
     "locked": false,
     "schema_version": 3,
     "solution": true,
     "task": false
    }
   },
   "outputs": [],
   "source": [
    "# YOUR CODE HERE\n",
    "import os\n",
    "import matplotlib.pyplot as plt\n",
    "import matplotlib.dates as mdates\n",
    "from matplotlib.dates import DateFormatter\n",
    "import pandas as pd\n",
    "import earthpy as et"
   ]
  },
  {
   "cell_type": "code",
   "execution_count": 49,
   "metadata": {
    "deletable": false,
    "editable": false,
    "hideCode": false,
    "hidePrompt": false,
    "nbgrader": {
     "cell_type": "code",
     "checksum": "6c18482f3e3f978877bca7ac30240851",
     "grade": true,
     "grade_id": "student-imports-tests",
     "locked": true,
     "points": 5,
     "schema_version": 3,
     "solution": false,
     "task": false
    }
   },
   "outputs": [
    {
     "name": "stdout",
     "output_type": "stream",
     "text": [
      "✅ Score! Pandas has been imported as a pd!\n",
      "✅ Nice! matplotlib.pyplot has been imported as plt!\n",
      "✅ Great work! The os module has imported correctly!\n",
      "✅ Score! The earthpy package has imported correctly!\n",
      "✅ Nice! The DateFormatter module from matplotlib has imported correctly!\n",
      "\n",
      " ➡ You received 5 out of 5 points.\n"
     ]
    },
    {
     "data": {
      "text/plain": [
       "5"
      ]
     },
     "execution_count": 49,
     "metadata": {},
     "output_type": "execute_result"
    }
   ],
   "source": [
    "# Test package imports - DO NOT MODIFY THIS CELL!\n",
    "import_answer_points = 0\n",
    "\n",
    "try:\n",
    "    na_val = pd.NA\n",
    "    print(\"\\u2705 Score! Pandas has been imported as a pd!\")\n",
    "    import_answer_points += 1\n",
    "except NameError:\n",
    "    print(\"\\u274C Pandas has not been imported as a pd, please make sure to import is properly.\")\n",
    "\n",
    "try:\n",
    "    t = plt.show()\n",
    "    print(\"\\u2705 Nice! matplotlib.pyplot has been imported as plt!\")\n",
    "    import_answer_points += 1\n",
    "except NameError:\n",
    "    print(\"matplotlib.pyplot has not been imported as plt, please make sure to import this properly.\")\n",
    "\n",
    "try:\n",
    "    wd = os.getcwd()\n",
    "    print(\"\\u2705 Great work! The os module has imported correctly!\")\n",
    "    import_answer_points += 1\n",
    "except NameError:\n",
    "    print(\"\\u274C Oops make sure that the os package is imported.\")\n",
    "\n",
    "try:\n",
    "    data = et.io\n",
    "    print(\"\\u2705 Score! The earthpy package has imported correctly!\")\n",
    "    import_answer_points += 1\n",
    "except NameError:\n",
    "    print(\"\\u274C Oops make sure that the earthpy package is imported using the alias et.\")\n",
    "\n",
    "try:\n",
    "    the_date = DateFormatter\n",
    "    print(\"\\u2705 Nice! The DateFormatter module from matplotlib has imported correctly!\")\n",
    "    import_answer_points += 1\n",
    "except NameError:\n",
    "    print(\"\\u274C Oops make sure that the DateFormatter module from matplotlib is imported.\")\n",
    "\n",
    "print(\"\\n \\u27A1 You received {} out of 5 points.\".format(import_answer_points))\n",
    "\n",
    "import_answer_points"
   ]
  },
  {
   "cell_type": "markdown",
   "metadata": {
    "deletable": false,
    "editable": false,
    "hideCode": false,
    "hidePrompt": false,
    "nbgrader": {
     "cell_type": "markdown",
     "checksum": "d6fa9790695b33d91a5929f48bb4ce8e",
     "grade": false,
     "grade_id": "set-working-directory-instructions",
     "locked": true,
     "schema_version": 3,
     "solution": false,
     "task": false
    }
   },
   "source": [
    "## Set Working Directory and Download Data\n",
    "\n",
    "In the cell below complete the following task:\n",
    "\n",
    "1. First, use EarthPy to download the `colorado-flood` data: `et.data.get_data(\"colorado-flood\")`. When you download the data, the `earth-analytics/data` directory gets created on your computer for you.\n",
    "2. **Use a conditional statement** to:\n",
    "    * Set the working directory to the **`earth-analytics/data` directory in your home directory** if the path exists.\n",
    "    * Print a helpful message if the path does not exist. \n",
    "* **Use reusable variable(s) to reduce repetition in your code.**\n",
    "* Use the `os` package to ensure that the paths you create will run successfully on any operating system.\n"
   ]
  },
  {
   "cell_type": "code",
   "execution_count": 50,
   "metadata": {
    "deletable": false,
    "hideCode": false,
    "hidePrompt": false,
    "nbgrader": {
     "cell_type": "code",
     "checksum": "63910669445a1f9ab3d48ebaf370ef73",
     "grade": false,
     "grade_id": "download-and-set-working-directory",
     "locked": false,
     "schema_version": 3,
     "solution": true,
     "task": false
    }
   },
   "outputs": [
    {
     "name": "stdout",
     "output_type": "stream",
     "text": [
      "Changed working dir to: /Users/judith/earth-analytics/data\n"
     ]
    }
   ],
   "source": [
    "# YOUR CODE HERE\n",
    "# Download the data\n",
    "data = et.data.get_data('colorado-flood')\n",
    "\n",
    "# Set working directory\n",
    "data_path = os.path.join(et.io.HOME,\n",
    "                      'earth-analytics',\n",
    "                      'data')\n",
    "if os.path.exists(data_path):\n",
    "    os.chdir(data_path)\n",
    "    print(\"Changed working dir to:\", data_path)\n",
    "else:\n",
    "    print(\"The path:\", data_path, \"does not exist\")"
   ]
  },
  {
   "cell_type": "code",
   "execution_count": 51,
   "metadata": {
    "deletable": false,
    "editable": false,
    "hideCode": false,
    "hidePrompt": false,
    "nbgrader": {
     "cell_type": "code",
     "checksum": "7f80f78039f60003adff2d0c3c2c7592",
     "grade": true,
     "grade_id": "student-download-tests",
     "locked": true,
     "points": 5,
     "schema_version": 3,
     "solution": false,
     "task": false
    }
   },
   "outputs": [
    {
     "name": "stdout",
     "output_type": "stream",
     "text": [
      "✅ Great - it looks like your working directory is set correctly to ~/earth-analytics/data\n",
      "\n",
      " ➡ You received 5 out of 5 points for setting your working directory.\n"
     ]
    },
    {
     "data": {
      "text/plain": [
       "5"
      ]
     },
     "execution_count": 51,
     "metadata": {},
     "output_type": "execute_result"
    }
   ],
   "source": [
    "# DO NOT MODIFY THIS CELL\n",
    "# Tests that the working directory is set to earth-analytics/data\n",
    "\n",
    "path = os.path.normpath(os.getcwd())\n",
    "student_wd_parts = path.split(os.sep)\n",
    "\n",
    "wd_points = 0\n",
    "\n",
    "if student_wd_parts[-2:] == ['earth-analytics', 'data']:\n",
    "    print(\"\\u2705 Great - it looks like your working directory is set correctly to ~/earth-analytics/data\")\n",
    "    wd_points += 5\n",
    "else:\n",
    "    print(\"\\u274C Oops, the autograder will not run unless your working directory is set to earth-analytics/data\")\n",
    "\n",
    "print(\"\\n \\u27A1 You received {} out of 5 points for setting your working directory.\".format(\n",
    "    wd_points))\n",
    "wd_points"
   ]
  },
  {
   "cell_type": "markdown",
   "metadata": {
    "deletable": false,
    "editable": false,
    "nbgrader": {
     "cell_type": "markdown",
     "checksum": "d62e12738d65334a1d99f1adb14c5e41",
     "grade": false,
     "grade_id": "data-paths-instructions",
     "locked": true,
     "schema_version": 3,
     "solution": false,
     "task": false
    }
   },
   "source": [
    "### Set Data Paths\n",
    "\n",
    "Create paths with the `os` package for the two datasets below (both are in the 'colorado-flood' directory): \n",
    "* `805333-precip-daily-1948-2013.csv` in the `precipitation` subdirectory\n",
    "* `06730200-discharge-daily-1986-2013.csv` in the `discharge` subdirectory"
   ]
  },
  {
   "cell_type": "code",
   "execution_count": 52,
   "metadata": {
    "deletable": false,
    "nbgrader": {
     "cell_type": "code",
     "checksum": "496d828d812f311b00afdeb4e3d234c6",
     "grade": false,
     "grade_id": "students-setting-paths",
     "locked": false,
     "schema_version": 3,
     "solution": true,
     "task": false
    }
   },
   "outputs": [],
   "source": [
    "# YOUR CODE HERE\n",
    "precip_path = os.path.join(\n",
    "    \"colorado-flood\",\n",
    "    \"precipitation\",\n",
    "    \"805333-precip-daily-1948-2013.csv\",\n",
    ")\n",
    "\n",
    "discharge_path = os.path.join(\n",
    "    \"colorado-flood\",\n",
    "    \"discharge\",\n",
    "    \"06730200-discharge-daily-1986-2013.csv\",\n",
    ")"
   ]
  },
  {
   "cell_type": "markdown",
   "metadata": {
    "deletable": false,
    "editable": false,
    "nbgrader": {
     "cell_type": "markdown",
     "checksum": "47a20ef8832fe4ca0d11141cfe90dd8c",
     "grade": false,
     "grade_id": "precip-read-in-instructions",
     "locked": true,
     "schema_version": 3,
     "solution": false,
     "task": false
    }
   },
   "source": [
    "## Challenge 1: Open Precipitation Data Using Pandas\n",
    "\n",
    "Using the `read_csv()` function in `pandas`, read in your precipitation data. Don't forget to use the `parse_dates` argument to parse the `DATE` column, and to set the `na_values` to the value specified in the information given about this data above. Set the `DATE` column to be the index of the DataFrame.\n",
    "\n",
    "Call the final `DataFrame` object at the end of the cell. "
   ]
  },
  {
   "cell_type": "code",
   "execution_count": 53,
   "metadata": {
    "deletable": false,
    "nbgrader": {
     "cell_type": "code",
     "checksum": "242bcc15fb284d02c4c9ef3c39adb034",
     "grade": false,
     "grade_id": "students-read-in-precip",
     "locked": false,
     "schema_version": 3,
     "solution": true,
     "task": false
    }
   },
   "outputs": [
    {
     "data": {
      "text/html": [
       "<div>\n",
       "<style scoped>\n",
       "    .dataframe tbody tr th:only-of-type {\n",
       "        vertical-align: middle;\n",
       "    }\n",
       "\n",
       "    .dataframe tbody tr th {\n",
       "        vertical-align: top;\n",
       "    }\n",
       "\n",
       "    .dataframe thead th {\n",
       "        text-align: right;\n",
       "    }\n",
       "</style>\n",
       "<table border=\"1\" class=\"dataframe\">\n",
       "  <thead>\n",
       "    <tr style=\"text-align: right;\">\n",
       "      <th></th>\n",
       "      <th>STATION</th>\n",
       "      <th>STATION_NAME</th>\n",
       "      <th>ELEVATION</th>\n",
       "      <th>LATITUDE</th>\n",
       "      <th>LONGITUDE</th>\n",
       "      <th>HPCP</th>\n",
       "      <th>Measurement Flag</th>\n",
       "      <th>Quality Flag</th>\n",
       "    </tr>\n",
       "    <tr>\n",
       "      <th>DATE</th>\n",
       "      <th></th>\n",
       "      <th></th>\n",
       "      <th></th>\n",
       "      <th></th>\n",
       "      <th></th>\n",
       "      <th></th>\n",
       "      <th></th>\n",
       "      <th></th>\n",
       "    </tr>\n",
       "  </thead>\n",
       "  <tbody>\n",
       "    <tr>\n",
       "      <th>1948-08-01 01:00:00</th>\n",
       "      <td>COOP:050843</td>\n",
       "      <td>BOULDER 2 CO US</td>\n",
       "      <td>unknown</td>\n",
       "      <td>unknown</td>\n",
       "      <td>unknown</td>\n",
       "      <td>0.00</td>\n",
       "      <td>g</td>\n",
       "      <td></td>\n",
       "    </tr>\n",
       "    <tr>\n",
       "      <th>1948-08-02 15:00:00</th>\n",
       "      <td>COOP:050843</td>\n",
       "      <td>BOULDER 2 CO US</td>\n",
       "      <td>unknown</td>\n",
       "      <td>unknown</td>\n",
       "      <td>unknown</td>\n",
       "      <td>0.05</td>\n",
       "      <td></td>\n",
       "      <td></td>\n",
       "    </tr>\n",
       "    <tr>\n",
       "      <th>1948-08-03 09:00:00</th>\n",
       "      <td>COOP:050843</td>\n",
       "      <td>BOULDER 2 CO US</td>\n",
       "      <td>unknown</td>\n",
       "      <td>unknown</td>\n",
       "      <td>unknown</td>\n",
       "      <td>0.01</td>\n",
       "      <td></td>\n",
       "      <td></td>\n",
       "    </tr>\n",
       "    <tr>\n",
       "      <th>1948-08-03 14:00:00</th>\n",
       "      <td>COOP:050843</td>\n",
       "      <td>BOULDER 2 CO US</td>\n",
       "      <td>unknown</td>\n",
       "      <td>unknown</td>\n",
       "      <td>unknown</td>\n",
       "      <td>0.03</td>\n",
       "      <td></td>\n",
       "      <td></td>\n",
       "    </tr>\n",
       "    <tr>\n",
       "      <th>1948-08-03 15:00:00</th>\n",
       "      <td>COOP:050843</td>\n",
       "      <td>BOULDER 2 CO US</td>\n",
       "      <td>unknown</td>\n",
       "      <td>unknown</td>\n",
       "      <td>unknown</td>\n",
       "      <td>0.03</td>\n",
       "      <td></td>\n",
       "      <td></td>\n",
       "    </tr>\n",
       "    <tr>\n",
       "      <th>...</th>\n",
       "      <td>...</td>\n",
       "      <td>...</td>\n",
       "      <td>...</td>\n",
       "      <td>...</td>\n",
       "      <td>...</td>\n",
       "      <td>...</td>\n",
       "      <td>...</td>\n",
       "      <td>...</td>\n",
       "    </tr>\n",
       "    <tr>\n",
       "      <th>2013-12-22 01:00:00</th>\n",
       "      <td>COOP:050843</td>\n",
       "      <td>BOULDER 2 CO US</td>\n",
       "      <td>1650.5</td>\n",
       "      <td>40.0338</td>\n",
       "      <td>-105.2811</td>\n",
       "      <td>NaN</td>\n",
       "      <td>[</td>\n",
       "      <td></td>\n",
       "    </tr>\n",
       "    <tr>\n",
       "      <th>2013-12-23 00:00:00</th>\n",
       "      <td>COOP:050843</td>\n",
       "      <td>BOULDER 2 CO US</td>\n",
       "      <td>1650.5</td>\n",
       "      <td>40.0338</td>\n",
       "      <td>-105.2811</td>\n",
       "      <td>NaN</td>\n",
       "      <td>]</td>\n",
       "      <td></td>\n",
       "    </tr>\n",
       "    <tr>\n",
       "      <th>2013-12-23 02:00:00</th>\n",
       "      <td>COOP:050843</td>\n",
       "      <td>BOULDER 2 CO US</td>\n",
       "      <td>1650.5</td>\n",
       "      <td>40.0338</td>\n",
       "      <td>-105.2811</td>\n",
       "      <td>0.10</td>\n",
       "      <td></td>\n",
       "      <td></td>\n",
       "    </tr>\n",
       "    <tr>\n",
       "      <th>2013-12-29 01:00:00</th>\n",
       "      <td>COOP:050843</td>\n",
       "      <td>BOULDER 2 CO US</td>\n",
       "      <td>1650.5</td>\n",
       "      <td>40.0338</td>\n",
       "      <td>-105.2811</td>\n",
       "      <td>NaN</td>\n",
       "      <td>[</td>\n",
       "      <td></td>\n",
       "    </tr>\n",
       "    <tr>\n",
       "      <th>2013-12-31 00:00:00</th>\n",
       "      <td>COOP:050843</td>\n",
       "      <td>BOULDER 2 CO US</td>\n",
       "      <td>1650.5</td>\n",
       "      <td>40.0338</td>\n",
       "      <td>-105.2811</td>\n",
       "      <td>NaN</td>\n",
       "      <td>]</td>\n",
       "      <td></td>\n",
       "    </tr>\n",
       "  </tbody>\n",
       "</table>\n",
       "<p>14476 rows × 8 columns</p>\n",
       "</div>"
      ],
      "text/plain": [
       "                         STATION     STATION_NAME ELEVATION LATITUDE  \\\n",
       "DATE                                                                   \n",
       "1948-08-01 01:00:00  COOP:050843  BOULDER 2 CO US   unknown  unknown   \n",
       "1948-08-02 15:00:00  COOP:050843  BOULDER 2 CO US   unknown  unknown   \n",
       "1948-08-03 09:00:00  COOP:050843  BOULDER 2 CO US   unknown  unknown   \n",
       "1948-08-03 14:00:00  COOP:050843  BOULDER 2 CO US   unknown  unknown   \n",
       "1948-08-03 15:00:00  COOP:050843  BOULDER 2 CO US   unknown  unknown   \n",
       "...                          ...              ...       ...      ...   \n",
       "2013-12-22 01:00:00  COOP:050843  BOULDER 2 CO US    1650.5  40.0338   \n",
       "2013-12-23 00:00:00  COOP:050843  BOULDER 2 CO US    1650.5  40.0338   \n",
       "2013-12-23 02:00:00  COOP:050843  BOULDER 2 CO US    1650.5  40.0338   \n",
       "2013-12-29 01:00:00  COOP:050843  BOULDER 2 CO US    1650.5  40.0338   \n",
       "2013-12-31 00:00:00  COOP:050843  BOULDER 2 CO US    1650.5  40.0338   \n",
       "\n",
       "                     LONGITUDE  HPCP Measurement Flag Quality Flag  \n",
       "DATE                                                                \n",
       "1948-08-01 01:00:00    unknown  0.00                g               \n",
       "1948-08-02 15:00:00    unknown  0.05                                \n",
       "1948-08-03 09:00:00    unknown  0.01                                \n",
       "1948-08-03 14:00:00    unknown  0.03                                \n",
       "1948-08-03 15:00:00    unknown  0.03                                \n",
       "...                        ...   ...              ...          ...  \n",
       "2013-12-22 01:00:00  -105.2811   NaN                [               \n",
       "2013-12-23 00:00:00  -105.2811   NaN                ]               \n",
       "2013-12-23 02:00:00  -105.2811  0.10                                \n",
       "2013-12-29 01:00:00  -105.2811   NaN                [               \n",
       "2013-12-31 00:00:00  -105.2811   NaN                ]               \n",
       "\n",
       "[14476 rows x 8 columns]"
      ]
     },
     "execution_count": 53,
     "metadata": {},
     "output_type": "execute_result"
    }
   ],
   "source": [
    "# YOUR CODE HERE\n",
    "precip = pd.read_csv(\n",
    "    precip_path,\n",
    "    parse_dates = ['DATE'],\n",
    "    index_col = ['DATE'],\n",
    "    na_values = ['999.99'])\n",
    "\n",
    "precip"
   ]
  },
  {
   "cell_type": "code",
   "execution_count": 54,
   "metadata": {
    "deletable": false,
    "editable": false,
    "nbgrader": {
     "cell_type": "code",
     "checksum": "1d56f5563232f8dcf15cb83a0f5aea77",
     "grade": true,
     "grade_id": "students-read-in-precip-visible-test",
     "locked": true,
     "points": 0,
     "schema_version": 3,
     "solution": false,
     "task": false
    }
   },
   "outputs": [
    {
     "name": "stdout",
     "output_type": "stream",
     "text": [
      "✅ Great, you created a pandas dataframe above\n"
     ]
    }
   ],
   "source": [
    "# Does your dataframe exist?\n",
    "# Important - do not add a cell immediately below this cell!\n",
    "\n",
    "student_precip_answer = _\n",
    "\n",
    "if isinstance(student_precip_answer, pd.DataFrame):\n",
    "    print(\"\\u2705 Great, you created a pandas dataframe above\")\n",
    "else:\n",
    "    print(\"\\u274C Oops - the cell above should have a DataFrame output.\")"
   ]
  },
  {
   "cell_type": "code",
   "execution_count": 55,
   "metadata": {
    "deletable": false,
    "editable": false,
    "nbgrader": {
     "cell_type": "code",
     "checksum": "8daf3fb6a3a0ad96b6a44fdefc07a5e9",
     "grade": true,
     "grade_id": "test-precip-read-in",
     "locked": true,
     "points": 5,
     "schema_version": 3,
     "solution": false,
     "task": false
    }
   },
   "outputs": [],
   "source": [
    "# DO NOT MODIFY THIS CELL\n"
   ]
  },
  {
   "cell_type": "markdown",
   "metadata": {
    "deletable": false,
    "editable": false,
    "nbgrader": {
     "cell_type": "markdown",
     "checksum": "89f74f82d73bd7234e7eff9f4eba0223",
     "grade": false,
     "grade_id": "precip-resample-instructions",
     "locked": true,
     "schema_version": 3,
     "solution": false,
     "task": false
    }
   },
   "source": [
    "### Challenge 1a: Resample Precipitation Data\n",
    "\n",
    "The precipitation data that you have contains more data than you need for your analysis:\n",
    "\n",
    "1. It has a time span that extends beyong your analysis time span which is the year of the Boulder Flood - 2013. \n",
    "2. It also contains hourly data yet you will want daily summaries for your analysis. \n",
    "\n",
    "To account for this in the cell below: \n",
    "\n",
    "1. Subset the data to only include data within your time period of interest: August 1st, 2013 and October 30th, 2013. This should include both August 1st and October 30th. Don't go to October 31st because there is no data for that date. \n",
    "2. Resample the data to represent the daily sum of precipitation. \n",
    "\n",
    "Hint: You can subset and resample in a single line of code if you wish. \n",
    "\n",
    "Call the final `DataFrame` object at the end of the cell below. "
   ]
  },
  {
   "cell_type": "code",
   "execution_count": 56,
   "metadata": {
    "deletable": false,
    "nbgrader": {
     "cell_type": "code",
     "checksum": "44f4e45c9db19eb8d6fea4fdb9767369",
     "grade": false,
     "grade_id": "precip-daily-sum",
     "locked": false,
     "schema_version": 3,
     "solution": true,
     "task": false
    }
   },
   "outputs": [
    {
     "data": {
      "text/html": [
       "<div>\n",
       "<style scoped>\n",
       "    .dataframe tbody tr th:only-of-type {\n",
       "        vertical-align: middle;\n",
       "    }\n",
       "\n",
       "    .dataframe tbody tr th {\n",
       "        vertical-align: top;\n",
       "    }\n",
       "\n",
       "    .dataframe thead th {\n",
       "        text-align: right;\n",
       "    }\n",
       "</style>\n",
       "<table border=\"1\" class=\"dataframe\">\n",
       "  <thead>\n",
       "    <tr style=\"text-align: right;\">\n",
       "      <th></th>\n",
       "      <th>HPCP</th>\n",
       "    </tr>\n",
       "    <tr>\n",
       "      <th>DATE</th>\n",
       "      <th></th>\n",
       "    </tr>\n",
       "  </thead>\n",
       "  <tbody>\n",
       "    <tr>\n",
       "      <th>2013-08-01</th>\n",
       "      <td>0.1</td>\n",
       "    </tr>\n",
       "    <tr>\n",
       "      <th>2013-08-02</th>\n",
       "      <td>0.0</td>\n",
       "    </tr>\n",
       "    <tr>\n",
       "      <th>2013-08-03</th>\n",
       "      <td>0.0</td>\n",
       "    </tr>\n",
       "    <tr>\n",
       "      <th>2013-08-04</th>\n",
       "      <td>0.0</td>\n",
       "    </tr>\n",
       "    <tr>\n",
       "      <th>2013-08-05</th>\n",
       "      <td>0.1</td>\n",
       "    </tr>\n",
       "    <tr>\n",
       "      <th>...</th>\n",
       "      <td>...</td>\n",
       "    </tr>\n",
       "    <tr>\n",
       "      <th>2013-10-26</th>\n",
       "      <td>0.0</td>\n",
       "    </tr>\n",
       "    <tr>\n",
       "      <th>2013-10-27</th>\n",
       "      <td>0.0</td>\n",
       "    </tr>\n",
       "    <tr>\n",
       "      <th>2013-10-28</th>\n",
       "      <td>0.1</td>\n",
       "    </tr>\n",
       "    <tr>\n",
       "      <th>2013-10-29</th>\n",
       "      <td>0.1</td>\n",
       "    </tr>\n",
       "    <tr>\n",
       "      <th>2013-10-30</th>\n",
       "      <td>0.2</td>\n",
       "    </tr>\n",
       "  </tbody>\n",
       "</table>\n",
       "<p>91 rows × 1 columns</p>\n",
       "</div>"
      ],
      "text/plain": [
       "            HPCP\n",
       "DATE            \n",
       "2013-08-01   0.1\n",
       "2013-08-02   0.0\n",
       "2013-08-03   0.0\n",
       "2013-08-04   0.0\n",
       "2013-08-05   0.1\n",
       "...          ...\n",
       "2013-10-26   0.0\n",
       "2013-10-27   0.0\n",
       "2013-10-28   0.1\n",
       "2013-10-29   0.1\n",
       "2013-10-30   0.2\n",
       "\n",
       "[91 rows x 1 columns]"
      ]
     },
     "execution_count": 56,
     "metadata": {},
     "output_type": "execute_result"
    }
   ],
   "source": [
    "# YOUR CODE HERE\n",
    "precip_aug_oct_2013_dailysum = (precip\n",
    "    .loc['2013-08-01':'2013-10-30']\n",
    "    .resample('D').sum()\n",
    ")\n",
    "precip_aug_oct_2013_dailysum"
   ]
  },
  {
   "cell_type": "code",
   "execution_count": 57,
   "metadata": {
    "deletable": false,
    "editable": false,
    "nbgrader": {
     "cell_type": "code",
     "checksum": "45c4f30b51bb2385b0e2753397c30a7b",
     "grade": true,
     "grade_id": "precip-daily-sum-tests",
     "locked": true,
     "points": 5,
     "schema_version": 3,
     "solution": false,
     "task": false
    }
   },
   "outputs": [],
   "source": [
    "# DO NOT MODIFY THIS CELL\n"
   ]
  },
  {
   "cell_type": "markdown",
   "metadata": {
    "deletable": false,
    "editable": false,
    "nbgrader": {
     "cell_type": "markdown",
     "checksum": "30b5262d311933d9ad73e257e128f76d",
     "grade": false,
     "grade_id": "precip-monthly-max-instructions",
     "locked": true,
     "schema_version": 3,
     "solution": false,
     "task": false
    }
   },
   "source": [
    "### Challenge 1b: Calculate the Monthly DAILY Maximum for Precipitation Data in 2013\n",
    "\n",
    "In the cell below, use the same hourly precipitation dataset to \n",
    "calculate the **max daily value** in each month in the year 2013.\n",
    "\n",
    "HINT: this means that you will need to calculate a daily sum first and \n",
    "then resample again to get the monthly max daily value. (the biggest\n",
    "day of rainfall in each month)\n",
    "\n",
    "Call the final `DataFrame` object at the end of the cell. "
   ]
  },
  {
   "cell_type": "code",
   "execution_count": 58,
   "metadata": {
    "deletable": false,
    "nbgrader": {
     "cell_type": "code",
     "checksum": "9c12f1cb59737cb886263ee51cf265aa",
     "grade": false,
     "grade_id": "precip-monthly-max",
     "locked": false,
     "schema_version": 3,
     "solution": true,
     "task": false
    }
   },
   "outputs": [
    {
     "data": {
      "text/html": [
       "<div>\n",
       "<style scoped>\n",
       "    .dataframe tbody tr th:only-of-type {\n",
       "        vertical-align: middle;\n",
       "    }\n",
       "\n",
       "    .dataframe tbody tr th {\n",
       "        vertical-align: top;\n",
       "    }\n",
       "\n",
       "    .dataframe thead th {\n",
       "        text-align: right;\n",
       "    }\n",
       "</style>\n",
       "<table border=\"1\" class=\"dataframe\">\n",
       "  <thead>\n",
       "    <tr style=\"text-align: right;\">\n",
       "      <th></th>\n",
       "      <th>HPCP</th>\n",
       "    </tr>\n",
       "    <tr>\n",
       "      <th>DATE</th>\n",
       "      <th></th>\n",
       "    </tr>\n",
       "  </thead>\n",
       "  <tbody>\n",
       "    <tr>\n",
       "      <th>2013-01-31</th>\n",
       "      <td>0.1</td>\n",
       "    </tr>\n",
       "    <tr>\n",
       "      <th>2013-02-28</th>\n",
       "      <td>0.4</td>\n",
       "    </tr>\n",
       "    <tr>\n",
       "      <th>2013-03-31</th>\n",
       "      <td>0.6</td>\n",
       "    </tr>\n",
       "    <tr>\n",
       "      <th>2013-04-30</th>\n",
       "      <td>0.9</td>\n",
       "    </tr>\n",
       "    <tr>\n",
       "      <th>2013-05-31</th>\n",
       "      <td>1.2</td>\n",
       "    </tr>\n",
       "    <tr>\n",
       "      <th>2013-06-30</th>\n",
       "      <td>0.2</td>\n",
       "    </tr>\n",
       "    <tr>\n",
       "      <th>2013-07-31</th>\n",
       "      <td>0.5</td>\n",
       "    </tr>\n",
       "    <tr>\n",
       "      <th>2013-08-31</th>\n",
       "      <td>0.2</td>\n",
       "    </tr>\n",
       "    <tr>\n",
       "      <th>2013-09-30</th>\n",
       "      <td>7.3</td>\n",
       "    </tr>\n",
       "    <tr>\n",
       "      <th>2013-10-31</th>\n",
       "      <td>0.7</td>\n",
       "    </tr>\n",
       "    <tr>\n",
       "      <th>2013-11-30</th>\n",
       "      <td>0.2</td>\n",
       "    </tr>\n",
       "    <tr>\n",
       "      <th>2013-12-31</th>\n",
       "      <td>0.3</td>\n",
       "    </tr>\n",
       "  </tbody>\n",
       "</table>\n",
       "</div>"
      ],
      "text/plain": [
       "            HPCP\n",
       "DATE            \n",
       "2013-01-31   0.1\n",
       "2013-02-28   0.4\n",
       "2013-03-31   0.6\n",
       "2013-04-30   0.9\n",
       "2013-05-31   1.2\n",
       "2013-06-30   0.2\n",
       "2013-07-31   0.5\n",
       "2013-08-31   0.2\n",
       "2013-09-30   7.3\n",
       "2013-10-31   0.7\n",
       "2013-11-30   0.2\n",
       "2013-12-31   0.3"
      ]
     },
     "execution_count": 58,
     "metadata": {},
     "output_type": "execute_result"
    }
   ],
   "source": [
    "# YOUR CODE HERE\n",
    "precip_2013_monthly_max_dailysum = (precip\n",
    "    .loc['2013']\n",
    "    .resample('D').sum()\n",
    "    .resample('M').max()\n",
    ")\n",
    "\n",
    "precip_2013_monthly_max_dailysum"
   ]
  },
  {
   "cell_type": "code",
   "execution_count": 59,
   "metadata": {
    "deletable": false,
    "editable": false,
    "nbgrader": {
     "cell_type": "code",
     "checksum": "cf5aa488ebb3f97074cc4981f795695c",
     "grade": true,
     "grade_id": "precip-monthly-max-tests",
     "locked": true,
     "points": 5,
     "schema_version": 3,
     "solution": false,
     "task": false
    }
   },
   "outputs": [],
   "source": [
    "# DO NOT MODIFY THIS CELL\n"
   ]
  },
  {
   "cell_type": "markdown",
   "metadata": {
    "deletable": false,
    "editable": false,
    "nbgrader": {
     "cell_type": "markdown",
     "checksum": "58c8fedb33edcd90a085d9ee8302997e",
     "grade": false,
     "grade_id": "precip-monthly-sum-instructions",
     "locked": true,
     "schema_version": 3,
     "solution": false,
     "task": false
    }
   },
   "source": [
    "### Challenge 1c: Summarize Precipitation Data by Month\n",
    "\n",
    "Find the monthly sum of the hourly precipitation dataset. This DataFrame should be for all months in the original dataset. \n",
    "\n",
    "Call the final `DataFrame` object at the end of the cell. "
   ]
  },
  {
   "cell_type": "code",
   "execution_count": 60,
   "metadata": {
    "deletable": false,
    "nbgrader": {
     "cell_type": "code",
     "checksum": "12020597bc2466d377a06b2bea88ad9b",
     "grade": false,
     "grade_id": "precip-monthly-sum",
     "locked": false,
     "schema_version": 3,
     "solution": true,
     "task": false
    }
   },
   "outputs": [
    {
     "data": {
      "text/html": [
       "<div>\n",
       "<style scoped>\n",
       "    .dataframe tbody tr th:only-of-type {\n",
       "        vertical-align: middle;\n",
       "    }\n",
       "\n",
       "    .dataframe tbody tr th {\n",
       "        vertical-align: top;\n",
       "    }\n",
       "\n",
       "    .dataframe thead th {\n",
       "        text-align: right;\n",
       "    }\n",
       "</style>\n",
       "<table border=\"1\" class=\"dataframe\">\n",
       "  <thead>\n",
       "    <tr style=\"text-align: right;\">\n",
       "      <th></th>\n",
       "      <th>HPCP</th>\n",
       "    </tr>\n",
       "    <tr>\n",
       "      <th>DATE</th>\n",
       "      <th></th>\n",
       "    </tr>\n",
       "  </thead>\n",
       "  <tbody>\n",
       "    <tr>\n",
       "      <th>1948-08-31</th>\n",
       "      <td>0.36</td>\n",
       "    </tr>\n",
       "    <tr>\n",
       "      <th>1948-09-30</th>\n",
       "      <td>0.83</td>\n",
       "    </tr>\n",
       "    <tr>\n",
       "      <th>1948-10-31</th>\n",
       "      <td>0.55</td>\n",
       "    </tr>\n",
       "    <tr>\n",
       "      <th>1948-11-30</th>\n",
       "      <td>0.99</td>\n",
       "    </tr>\n",
       "    <tr>\n",
       "      <th>1948-12-31</th>\n",
       "      <td>0.20</td>\n",
       "    </tr>\n",
       "    <tr>\n",
       "      <th>...</th>\n",
       "      <td>...</td>\n",
       "    </tr>\n",
       "    <tr>\n",
       "      <th>2013-08-31</th>\n",
       "      <td>1.00</td>\n",
       "    </tr>\n",
       "    <tr>\n",
       "      <th>2013-09-30</th>\n",
       "      <td>17.70</td>\n",
       "    </tr>\n",
       "    <tr>\n",
       "      <th>2013-10-31</th>\n",
       "      <td>2.00</td>\n",
       "    </tr>\n",
       "    <tr>\n",
       "      <th>2013-11-30</th>\n",
       "      <td>0.40</td>\n",
       "    </tr>\n",
       "    <tr>\n",
       "      <th>2013-12-31</th>\n",
       "      <td>0.50</td>\n",
       "    </tr>\n",
       "  </tbody>\n",
       "</table>\n",
       "<p>785 rows × 1 columns</p>\n",
       "</div>"
      ],
      "text/plain": [
       "             HPCP\n",
       "DATE             \n",
       "1948-08-31   0.36\n",
       "1948-09-30   0.83\n",
       "1948-10-31   0.55\n",
       "1948-11-30   0.99\n",
       "1948-12-31   0.20\n",
       "...           ...\n",
       "2013-08-31   1.00\n",
       "2013-09-30  17.70\n",
       "2013-10-31   2.00\n",
       "2013-11-30   0.40\n",
       "2013-12-31   0.50\n",
       "\n",
       "[785 rows x 1 columns]"
      ]
     },
     "execution_count": 60,
     "metadata": {},
     "output_type": "execute_result"
    }
   ],
   "source": [
    "# YOUR CODE HERE\n",
    "precip_monthlysum = (precip\n",
    "    .resample('M').sum()\n",
    ")\n",
    "\n",
    "precip_monthlysum"
   ]
  },
  {
   "cell_type": "code",
   "execution_count": 61,
   "metadata": {
    "deletable": false,
    "editable": false,
    "nbgrader": {
     "cell_type": "code",
     "checksum": "afca31356402eb7af47703c71fd88dba",
     "grade": true,
     "grade_id": "precip-monthly-sum-tests",
     "locked": true,
     "points": 5,
     "schema_version": 3,
     "solution": false,
     "task": false
    }
   },
   "outputs": [],
   "source": [
    "# DO NOT MODIFY THIS CELL\n"
   ]
  },
  {
   "cell_type": "markdown",
   "metadata": {
    "deletable": false,
    "editable": false,
    "nbgrader": {
     "cell_type": "markdown",
     "checksum": "7a0297347dab477dc939a97908c0d4ac",
     "grade": false,
     "grade_id": "precip-plotting-instructions",
     "locked": true,
     "schema_version": 3,
     "solution": false,
     "task": false
    }
   },
   "source": [
    "## Challenge 1d: Plot Precipitation Data in a Figure\n",
    "\n",
    "Create a figure with 3 line subplots using the data that you calculated above as follows:\n",
    "\n",
    "* Subplot 1: daily precipitation values from Aug 1, 2013 to Oct 31, 2013. This should include both August 1st and October 31st.\n",
    "    * Plot needs a title, x axis label, and y axis label. The y label should have units of measure in it. \n",
    "    * X axis tick labels should be month-day (e.g. \"Aug-01\")\n",
    "* Subplot 2: monthly maximum values of precipitation in 2013\n",
    "    * Plot needs a title, x axis label, and y axis label. The y label should have units of measure in it. \n",
    "    * X axis tick labels should be month-day (e.g. \"Aug-01\")\n",
    "* Subplot 3 monthly totals of precipitation for all years in dataset\n",
    "    * Plot needs a title, x axis label, and y axis label. The y label should have units of measure in it. \n",
    "    * X axis label should be Year (e.g. \"2013\")\n",
    "    \n",
    "You can use the `DateFormatter` package imported above to ensure you x axis labels are formatted correctly. "
   ]
  },
  {
   "cell_type": "code",
   "execution_count": 62,
   "metadata": {
    "deletable": false,
    "nbgrader": {
     "cell_type": "code",
     "checksum": "6aff2e3cb555b40e8daaa1f8e08b98c5",
     "grade": false,
     "grade_id": "precip-plots",
     "locked": false,
     "schema_version": 3,
     "solution": true,
     "task": false
    }
   },
   "outputs": [
    {
     "data": {
      "image/png": "[encoded data removed]",
      "text/plain": [
       "<Figure size 864x864 with 3 Axes>"
      ]
     },
     "metadata": {
      "needs_background": "light"
     },
     "output_type": "display_data"
    }
   ],
   "source": [
    "# YOUR CODE HERE\n",
    "fig, ax = plt.subplots(3, 1, figsize=(12, 12))\n",
    "\n",
    "# Fig 1\n",
    "ax[0].plot(\n",
    "    precip_aug_oct_2013_dailysum.index.values,\n",
    "    precip_aug_oct_2013_dailysum['HPCP'],\n",
    "    color='purple',\n",
    ")\n",
    "ax[0].set(\n",
    "       xlabel=\"Date\",\n",
    "       ylabel=\"Precipitation (inches)\",\n",
    "       title=\"Daily precipitation values from Aug 1, 2013 to Oct 31, 2013\",\n",
    ")\n",
    "date_form = DateFormatter(\"%b-%d\")\n",
    "ax[0].xaxis.set_major_formatter(date_form)\n",
    "\n",
    "# Fig 2\n",
    "ax[1].plot(\n",
    "    precip_2013_monthly_max_dailysum.index.values,\n",
    "    precip_2013_monthly_max_dailysum['HPCP'],\n",
    "    color='blue',\n",
    ")\n",
    "ax[1].set(\n",
    "       xlabel=\"Date\",\n",
    "       ylabel=\"Precipitation (inches)\",\n",
    "       title=\"Monthly maximum values of precipitation in 2013\",\n",
    ")\n",
    "date_form = DateFormatter(\"%b-%d\")\n",
    "ax[1].xaxis.set_major_formatter(date_form)\n",
    "\n",
    "# Fig 3\n",
    "ax[2].plot(\n",
    "    precip_monthlysum.index.values,\n",
    "    precip_monthlysum['HPCP'],\n",
    "    color='seagreen',\n",
    ")\n",
    "ax[2].set(\n",
    "       xlabel=\"Date\",\n",
    "       ylabel=\"Precipitation (inches)\",\n",
    "       title=\"Monthly totals of precipitation for all years in dataset\",\n",
    ")\n",
    "date_form = DateFormatter(\"%Y\")\n",
    "ax[2].xaxis.set_major_formatter(date_form)\n",
    "\n",
    "for x in ax:\n",
    "    plt.setp(x.get_xticklabels(), rotation=0)\n",
    "\n",
    "plt.tight_layout()\n",
    "\n",
    "### DO NOT REMOVE LINE BELOW ###\n",
    "precip_plot = nb.convert_axes(plt, which_axes=\"all\")"
   ]
  },
  {
   "cell_type": "code",
   "execution_count": 63,
   "metadata": {
    "deletable": false,
    "editable": false,
    "nbgrader": {
     "cell_type": "code",
     "checksum": "44da628645cd5995294ef41dd3706df2",
     "grade": true,
     "grade_id": "precip-plot-answers",
     "locked": true,
     "points": 0,
     "schema_version": 3,
     "solution": false,
     "task": false
    }
   },
   "outputs": [],
   "source": [
    "# DO NOT MODIFY THIS CELL\n"
   ]
  },
  {
   "cell_type": "code",
   "execution_count": 64,
   "metadata": {
    "deletable": false,
    "editable": false,
    "nbgrader": {
     "cell_type": "code",
     "checksum": "4e4937fb0c7cd72bba3dbecdc1108243",
     "grade": true,
     "grade_id": "precip-plot-tests",
     "locked": true,
     "points": 24,
     "schema_version": 3,
     "solution": false,
     "task": false
    }
   },
   "outputs": [
    {
     "name": "stdout",
     "output_type": "stream",
     "text": [
      "✅ First plot is a line plot!\n",
      "✅ Second plot is a line plot!\n",
      "✅ Third plot is a line plot!\n"
     ]
    }
   ],
   "source": [
    "# DO NOT MODIFY THIS CELL\n",
    "daily_precip = PlotTester(precip_plot[0])\n",
    "monthly_max_precip = PlotTester(precip_plot[1])\n",
    "sum_precip = PlotTester(precip_plot[2])\n",
    "\n",
    "line_plot_1_test = ag.run_test(daily_precip.assert_plot_type,\n",
    "                               plot_type='line',\n",
    "                               points=0,\n",
    "                               correct_message=\"\\u2705 First plot is a line plot!\",\n",
    "                               error_message=\"\\u274C The first plot is not a line plot, make sure to make it to a line plot. Tests will not run successfully if this does not pass.\")\n",
    "\n",
    "line_plot_2_test = ag.run_test(monthly_max_precip.assert_plot_type,\n",
    "                               plot_type='line',\n",
    "                               points=0,\n",
    "                               correct_message=\"\\u2705 Second plot is a line plot!\",\n",
    "                               error_message=\"\\u274C The second plot is not a line plot, make sure to make it to a line plot. Tests will not run successfully if this does not pass.\")\n",
    "\n",
    "line_plot_3_test = ag.run_test(sum_precip.assert_plot_type,\n",
    "                               plot_type='line',\n",
    "                               points=0,\n",
    "                               correct_message=\"\\u2705 Third plot is a line plot!\",\n",
    "                               error_message=\"\\u274C The third plot is not a line plot, make sure to make it to a line plot. Tests will not run successfully if this does not pass.\")\n",
    "\n",
    "\n",
    "print(line_plot_1_test['message'])\n",
    "print(line_plot_2_test['message'])\n",
    "print(line_plot_3_test['message'])\n"
   ]
  },
  {
   "cell_type": "markdown",
   "metadata": {
    "deletable": false,
    "editable": false,
    "nbgrader": {
     "cell_type": "markdown",
     "checksum": "c57eb3b4ef69a777e452f7c80bb9e1eb",
     "grade": false,
     "grade_id": "discharge-read-in-instructions",
     "locked": true,
     "schema_version": 3,
     "solution": false,
     "task": false
    }
   },
   "source": [
    "## Challenge 2: Open Stream Discharge Data Using Pandas\n",
    "\n",
    "Using the same functions as above, read in your discharge data. Don't forget to use the `parse_dates` argument to parse the `datetime` column, and to set the `na_values` to the value specified in the information given about this data above. Set the `datetime` column to be the index of the DataFrame.\n",
    "\n",
    "Call the final `DataFrame` object at the end of the cell. "
   ]
  },
  {
   "cell_type": "code",
   "execution_count": 65,
   "metadata": {
    "deletable": false,
    "nbgrader": {
     "cell_type": "code",
     "checksum": "5cd19d997ef199255a8e3f7d510f9aac",
     "grade": false,
     "grade_id": "students-read-in-discharge",
     "locked": false,
     "schema_version": 3,
     "solution": true,
     "task": false
    }
   },
   "outputs": [
    {
     "data": {
      "text/html": [
       "<div>\n",
       "<style scoped>\n",
       "    .dataframe tbody tr th:only-of-type {\n",
       "        vertical-align: middle;\n",
       "    }\n",
       "\n",
       "    .dataframe tbody tr th {\n",
       "        vertical-align: top;\n",
       "    }\n",
       "\n",
       "    .dataframe thead th {\n",
       "        text-align: right;\n",
       "    }\n",
       "</style>\n",
       "<table border=\"1\" class=\"dataframe\">\n",
       "  <thead>\n",
       "    <tr style=\"text-align: right;\">\n",
       "      <th></th>\n",
       "      <th>agency_cd</th>\n",
       "      <th>site_no</th>\n",
       "      <th>disValue</th>\n",
       "      <th>qualCode</th>\n",
       "    </tr>\n",
       "    <tr>\n",
       "      <th>datetime</th>\n",
       "      <th></th>\n",
       "      <th></th>\n",
       "      <th></th>\n",
       "      <th></th>\n",
       "    </tr>\n",
       "  </thead>\n",
       "  <tbody>\n",
       "    <tr>\n",
       "      <th>1986-10-01</th>\n",
       "      <td>USGS</td>\n",
       "      <td>6730200</td>\n",
       "      <td>30.0</td>\n",
       "      <td>A</td>\n",
       "    </tr>\n",
       "    <tr>\n",
       "      <th>1986-10-02</th>\n",
       "      <td>USGS</td>\n",
       "      <td>6730200</td>\n",
       "      <td>30.0</td>\n",
       "      <td>A</td>\n",
       "    </tr>\n",
       "    <tr>\n",
       "      <th>1986-10-03</th>\n",
       "      <td>USGS</td>\n",
       "      <td>6730200</td>\n",
       "      <td>30.0</td>\n",
       "      <td>A</td>\n",
       "    </tr>\n",
       "    <tr>\n",
       "      <th>1986-10-04</th>\n",
       "      <td>USGS</td>\n",
       "      <td>6730200</td>\n",
       "      <td>30.0</td>\n",
       "      <td>A</td>\n",
       "    </tr>\n",
       "    <tr>\n",
       "      <th>1986-10-05</th>\n",
       "      <td>USGS</td>\n",
       "      <td>6730200</td>\n",
       "      <td>30.0</td>\n",
       "      <td>A</td>\n",
       "    </tr>\n",
       "    <tr>\n",
       "      <th>...</th>\n",
       "      <td>...</td>\n",
       "      <td>...</td>\n",
       "      <td>...</td>\n",
       "      <td>...</td>\n",
       "    </tr>\n",
       "    <tr>\n",
       "      <th>2013-12-27</th>\n",
       "      <td>USGS</td>\n",
       "      <td>6730200</td>\n",
       "      <td>38.0</td>\n",
       "      <td>A</td>\n",
       "    </tr>\n",
       "    <tr>\n",
       "      <th>2013-12-28</th>\n",
       "      <td>USGS</td>\n",
       "      <td>6730200</td>\n",
       "      <td>32.0</td>\n",
       "      <td>A</td>\n",
       "    </tr>\n",
       "    <tr>\n",
       "      <th>2013-12-29</th>\n",
       "      <td>USGS</td>\n",
       "      <td>6730200</td>\n",
       "      <td>31.0</td>\n",
       "      <td>A</td>\n",
       "    </tr>\n",
       "    <tr>\n",
       "      <th>2013-12-30</th>\n",
       "      <td>USGS</td>\n",
       "      <td>6730200</td>\n",
       "      <td>30.0</td>\n",
       "      <td>A</td>\n",
       "    </tr>\n",
       "    <tr>\n",
       "      <th>2013-12-31</th>\n",
       "      <td>USGS</td>\n",
       "      <td>6730200</td>\n",
       "      <td>31.0</td>\n",
       "      <td>A</td>\n",
       "    </tr>\n",
       "  </tbody>\n",
       "</table>\n",
       "<p>9954 rows × 4 columns</p>\n",
       "</div>"
      ],
      "text/plain": [
       "           agency_cd  site_no  disValue qualCode\n",
       "datetime                                        \n",
       "1986-10-01      USGS  6730200      30.0        A\n",
       "1986-10-02      USGS  6730200      30.0        A\n",
       "1986-10-03      USGS  6730200      30.0        A\n",
       "1986-10-04      USGS  6730200      30.0        A\n",
       "1986-10-05      USGS  6730200      30.0        A\n",
       "...              ...      ...       ...      ...\n",
       "2013-12-27      USGS  6730200      38.0        A\n",
       "2013-12-28      USGS  6730200      32.0        A\n",
       "2013-12-29      USGS  6730200      31.0        A\n",
       "2013-12-30      USGS  6730200      30.0        A\n",
       "2013-12-31      USGS  6730200      31.0        A\n",
       "\n",
       "[9954 rows x 4 columns]"
      ]
     },
     "execution_count": 65,
     "metadata": {},
     "output_type": "execute_result"
    }
   ],
   "source": [
    "# YOUR CODE HERE\n",
    "discharge = pd.read_csv(\n",
    "    discharge_path,\n",
    "    parse_dates = ['datetime'],\n",
    "    index_col = ['datetime'],\n",
    ")\n",
    "\n",
    "discharge"
   ]
  },
  {
   "cell_type": "code",
   "execution_count": 66,
   "metadata": {
    "deletable": false,
    "editable": false,
    "nbgrader": {
     "cell_type": "code",
     "checksum": "02e831a0ad134628e4cad8fec12d3d96",
     "grade": true,
     "grade_id": "test-discharge-read-in",
     "locked": true,
     "points": 5,
     "schema_version": 3,
     "solution": false,
     "task": false
    }
   },
   "outputs": [],
   "source": [
    "# DO NOT MODIFY THIS CELL\n"
   ]
  },
  {
   "cell_type": "markdown",
   "metadata": {
    "deletable": false,
    "editable": false,
    "nbgrader": {
     "cell_type": "markdown",
     "checksum": "ec629e0085453fa7321765338cec8e99",
     "grade": false,
     "grade_id": "discharge-subset-instructions",
     "locked": true,
     "schema_version": 3,
     "solution": false,
     "task": false
    }
   },
   "source": [
    "### Challenge 2a: Subset Stream Discharge Data To Your Study Time Period\n",
    "\n",
    "In the cell below, subset the stream discharge data to the same timeframe \n",
    "that you are interested in: August 1st, 2013 to October 31st, 2013. This should include both August 1st and October 31st. Check your dataframe to ensure it starts and stops on the correct dates, some subsetting methods will return slightly different start and end times!\n",
    "\n",
    "Call the final `DataFrame` object at the end of the cell. "
   ]
  },
  {
   "cell_type": "code",
   "execution_count": 67,
   "metadata": {
    "deletable": false,
    "nbgrader": {
     "cell_type": "code",
     "checksum": "89f9f8ea1c69bde63c116ab0a6f1318c",
     "grade": false,
     "grade_id": "discharge-daily",
     "locked": false,
     "schema_version": 3,
     "solution": true,
     "task": false
    }
   },
   "outputs": [
    {
     "data": {
      "text/html": [
       "<div>\n",
       "<style scoped>\n",
       "    .dataframe tbody tr th:only-of-type {\n",
       "        vertical-align: middle;\n",
       "    }\n",
       "\n",
       "    .dataframe tbody tr th {\n",
       "        vertical-align: top;\n",
       "    }\n",
       "\n",
       "    .dataframe thead th {\n",
       "        text-align: right;\n",
       "    }\n",
       "</style>\n",
       "<table border=\"1\" class=\"dataframe\">\n",
       "  <thead>\n",
       "    <tr style=\"text-align: right;\">\n",
       "      <th></th>\n",
       "      <th>agency_cd</th>\n",
       "      <th>site_no</th>\n",
       "      <th>disValue</th>\n",
       "      <th>qualCode</th>\n",
       "    </tr>\n",
       "    <tr>\n",
       "      <th>datetime</th>\n",
       "      <th></th>\n",
       "      <th></th>\n",
       "      <th></th>\n",
       "      <th></th>\n",
       "    </tr>\n",
       "  </thead>\n",
       "  <tbody>\n",
       "    <tr>\n",
       "      <th>2013-08-01</th>\n",
       "      <td>USGS</td>\n",
       "      <td>6730200</td>\n",
       "      <td>64.0</td>\n",
       "      <td>A</td>\n",
       "    </tr>\n",
       "    <tr>\n",
       "      <th>2013-08-02</th>\n",
       "      <td>USGS</td>\n",
       "      <td>6730200</td>\n",
       "      <td>68.0</td>\n",
       "      <td>A</td>\n",
       "    </tr>\n",
       "    <tr>\n",
       "      <th>2013-08-03</th>\n",
       "      <td>USGS</td>\n",
       "      <td>6730200</td>\n",
       "      <td>65.0</td>\n",
       "      <td>A</td>\n",
       "    </tr>\n",
       "    <tr>\n",
       "      <th>2013-08-04</th>\n",
       "      <td>USGS</td>\n",
       "      <td>6730200</td>\n",
       "      <td>65.0</td>\n",
       "      <td>A</td>\n",
       "    </tr>\n",
       "    <tr>\n",
       "      <th>2013-08-05</th>\n",
       "      <td>USGS</td>\n",
       "      <td>6730200</td>\n",
       "      <td>62.0</td>\n",
       "      <td>A</td>\n",
       "    </tr>\n",
       "    <tr>\n",
       "      <th>...</th>\n",
       "      <td>...</td>\n",
       "      <td>...</td>\n",
       "      <td>...</td>\n",
       "      <td>...</td>\n",
       "    </tr>\n",
       "    <tr>\n",
       "      <th>2013-10-27</th>\n",
       "      <td>USGS</td>\n",
       "      <td>6730200</td>\n",
       "      <td>156.0</td>\n",
       "      <td>A</td>\n",
       "    </tr>\n",
       "    <tr>\n",
       "      <th>2013-10-28</th>\n",
       "      <td>USGS</td>\n",
       "      <td>6730200</td>\n",
       "      <td>148.0</td>\n",
       "      <td>A</td>\n",
       "    </tr>\n",
       "    <tr>\n",
       "      <th>2013-10-29</th>\n",
       "      <td>USGS</td>\n",
       "      <td>6730200</td>\n",
       "      <td>123.0</td>\n",
       "      <td>A</td>\n",
       "    </tr>\n",
       "    <tr>\n",
       "      <th>2013-10-30</th>\n",
       "      <td>USGS</td>\n",
       "      <td>6730200</td>\n",
       "      <td>114.0</td>\n",
       "      <td>A</td>\n",
       "    </tr>\n",
       "    <tr>\n",
       "      <th>2013-10-31</th>\n",
       "      <td>USGS</td>\n",
       "      <td>6730200</td>\n",
       "      <td>104.0</td>\n",
       "      <td>A</td>\n",
       "    </tr>\n",
       "  </tbody>\n",
       "</table>\n",
       "<p>92 rows × 4 columns</p>\n",
       "</div>"
      ],
      "text/plain": [
       "           agency_cd  site_no  disValue qualCode\n",
       "datetime                                        \n",
       "2013-08-01      USGS  6730200      64.0        A\n",
       "2013-08-02      USGS  6730200      68.0        A\n",
       "2013-08-03      USGS  6730200      65.0        A\n",
       "2013-08-04      USGS  6730200      65.0        A\n",
       "2013-08-05      USGS  6730200      62.0        A\n",
       "...              ...      ...       ...      ...\n",
       "2013-10-27      USGS  6730200     156.0        A\n",
       "2013-10-28      USGS  6730200     148.0        A\n",
       "2013-10-29      USGS  6730200     123.0        A\n",
       "2013-10-30      USGS  6730200     114.0        A\n",
       "2013-10-31      USGS  6730200     104.0        A\n",
       "\n",
       "[92 rows x 4 columns]"
      ]
     },
     "execution_count": 67,
     "metadata": {},
     "output_type": "execute_result"
    }
   ],
   "source": [
    "# YOUR CODE HERE\n",
    "discharge_aug_oct_2013 = (discharge\n",
    "    .loc['2013-08-01':'2013-10-31']\n",
    ")\n",
    "discharge_aug_oct_2013"
   ]
  },
  {
   "cell_type": "code",
   "execution_count": 68,
   "metadata": {
    "deletable": false,
    "editable": false,
    "nbgrader": {
     "cell_type": "code",
     "checksum": "3b634717e41c05114671475f05bd69ca",
     "grade": true,
     "grade_id": "discharge-daily-test",
     "locked": true,
     "points": 5,
     "schema_version": 3,
     "solution": false,
     "task": false
    }
   },
   "outputs": [],
   "source": [
    "# DO NOT MODIFY THIS CELL\n"
   ]
  },
  {
   "cell_type": "markdown",
   "metadata": {
    "deletable": false,
    "editable": false,
    "nbgrader": {
     "cell_type": "markdown",
     "checksum": "7ab9140666cd2ef030fd3509760ba55e",
     "grade": false,
     "grade_id": "discharge-monthly-max-instructions",
     "locked": true,
     "schema_version": 3,
     "solution": false,
     "task": false
    }
   },
   "source": [
    "### Challenge 2b: Calculate the Monthly Maximum and Sum for Stream Discharge Data in 2013\n",
    "\n",
    "Use your original stream discharge dataset to calculate the maximum \n",
    "daily discharge rate **for each month in the year 2013**.\n",
    "\n",
    "HINT: you can calulate multiple summary values using the `.agg()`.\n",
    "The approach looks like this:\n",
    "\n",
    "```python\n",
    "your_df['year-here'].resample('value-here').agg({'column-you-want-to-summarize': ['max', 'sum']})\n",
    "```\n",
    "\n",
    "In the code above, you use `.agg` to summarize a specific column. You then specify which \n",
    "summary statistics you want. In the example above you are using max and sum values.\n",
    "\n",
    "Call the final `DataFrame` object at the end of the cell. "
   ]
  },
  {
   "cell_type": "code",
   "execution_count": 76,
   "metadata": {
    "deletable": false,
    "nbgrader": {
     "cell_type": "code",
     "checksum": "fecf4ac619a6a3634f1250450ed77458",
     "grade": false,
     "grade_id": "dicharge-monthly-max",
     "locked": false,
     "schema_version": 3,
     "solution": true,
     "task": false
    }
   },
   "outputs": [
    {
     "data": {
      "text/html": [
       "<div>\n",
       "<style scoped>\n",
       "    .dataframe tbody tr th:only-of-type {\n",
       "        vertical-align: middle;\n",
       "    }\n",
       "\n",
       "    .dataframe tbody tr th {\n",
       "        vertical-align: top;\n",
       "    }\n",
       "\n",
       "    .dataframe thead tr th {\n",
       "        text-align: left;\n",
       "    }\n",
       "\n",
       "    .dataframe thead tr:last-of-type th {\n",
       "        text-align: right;\n",
       "    }\n",
       "</style>\n",
       "<table border=\"1\" class=\"dataframe\">\n",
       "  <thead>\n",
       "    <tr>\n",
       "      <th></th>\n",
       "      <th colspan=\"2\" halign=\"left\">disValue</th>\n",
       "    </tr>\n",
       "    <tr>\n",
       "      <th></th>\n",
       "      <th>max</th>\n",
       "      <th>sum</th>\n",
       "    </tr>\n",
       "    <tr>\n",
       "      <th>datetime</th>\n",
       "      <th></th>\n",
       "      <th></th>\n",
       "    </tr>\n",
       "  </thead>\n",
       "  <tbody>\n",
       "    <tr>\n",
       "      <th>2013-01-31</th>\n",
       "      <td>26.0</td>\n",
       "      <td>332.4</td>\n",
       "    </tr>\n",
       "    <tr>\n",
       "      <th>2013-02-28</th>\n",
       "      <td>4.7</td>\n",
       "      <td>93.6</td>\n",
       "    </tr>\n",
       "    <tr>\n",
       "      <th>2013-03-31</th>\n",
       "      <td>8.9</td>\n",
       "      <td>183.1</td>\n",
       "    </tr>\n",
       "    <tr>\n",
       "      <th>2013-04-30</th>\n",
       "      <td>35.0</td>\n",
       "      <td>477.2</td>\n",
       "    </tr>\n",
       "    <tr>\n",
       "      <th>2013-05-31</th>\n",
       "      <td>501.0</td>\n",
       "      <td>6937.0</td>\n",
       "    </tr>\n",
       "    <tr>\n",
       "      <th>2013-06-30</th>\n",
       "      <td>629.0</td>\n",
       "      <td>7888.0</td>\n",
       "    </tr>\n",
       "    <tr>\n",
       "      <th>2013-07-31</th>\n",
       "      <td>136.0</td>\n",
       "      <td>2714.0</td>\n",
       "    </tr>\n",
       "    <tr>\n",
       "      <th>2013-08-31</th>\n",
       "      <td>108.0</td>\n",
       "      <td>1704.0</td>\n",
       "    </tr>\n",
       "    <tr>\n",
       "      <th>2013-09-30</th>\n",
       "      <td>4770.0</td>\n",
       "      <td>25844.0</td>\n",
       "    </tr>\n",
       "    <tr>\n",
       "      <th>2013-10-31</th>\n",
       "      <td>424.0</td>\n",
       "      <td>6801.0</td>\n",
       "    </tr>\n",
       "    <tr>\n",
       "      <th>2013-11-30</th>\n",
       "      <td>94.0</td>\n",
       "      <td>1917.0</td>\n",
       "    </tr>\n",
       "    <tr>\n",
       "      <th>2013-12-31</th>\n",
       "      <td>53.0</td>\n",
       "      <td>1064.0</td>\n",
       "    </tr>\n",
       "  </tbody>\n",
       "</table>\n",
       "</div>"
      ],
      "text/plain": [
       "           disValue         \n",
       "                max      sum\n",
       "datetime                    \n",
       "2013-01-31     26.0    332.4\n",
       "2013-02-28      4.7     93.6\n",
       "2013-03-31      8.9    183.1\n",
       "2013-04-30     35.0    477.2\n",
       "2013-05-31    501.0   6937.0\n",
       "2013-06-30    629.0   7888.0\n",
       "2013-07-31    136.0   2714.0\n",
       "2013-08-31    108.0   1704.0\n",
       "2013-09-30   4770.0  25844.0\n",
       "2013-10-31    424.0   6801.0\n",
       "2013-11-30     94.0   1917.0\n",
       "2013-12-31     53.0   1064.0"
      ]
     },
     "execution_count": 76,
     "metadata": {},
     "output_type": "execute_result"
    }
   ],
   "source": [
    "# YOUR CODE HERE\n",
    "discharge_2013_monthly_max_sum = (discharge\n",
    "    .loc['2013']\n",
    "    .resample('M').agg({'disValue': ['max', 'sum']})\n",
    ")\n",
    "\n",
    "discharge_2013_monthly_max_sum"
   ]
  },
  {
   "cell_type": "code",
   "execution_count": 77,
   "metadata": {
    "deletable": false,
    "editable": false,
    "nbgrader": {
     "cell_type": "code",
     "checksum": "1d019e99784f0e0113a8c00fd357dfaf",
     "grade": true,
     "grade_id": "discharge-monthly-max-tests",
     "locked": true,
     "points": 10,
     "schema_version": 3,
     "solution": false,
     "task": false
    }
   },
   "outputs": [],
   "source": [
    "# DO NOT MODIFY THIS CELL\n"
   ]
  },
  {
   "cell_type": "markdown",
   "metadata": {
    "deletable": false,
    "editable": false,
    "nbgrader": {
     "cell_type": "markdown",
     "checksum": "965bdb486d6dfd67478bc0489f2305a6",
     "grade": false,
     "grade_id": "change-multiindex-instructions",
     "locked": true,
     "schema_version": 3,
     "solution": false,
     "task": false
    }
   },
   "source": [
    "## Challenge 2c: Clean Up Multi-index Dataframes\n",
    "\n",
    "Above you created an output dataframe with that is called a multi-index.\n",
    "A multi-index is when you have two or more header columns. It might \n",
    "be nice to clean that up for plotting. \n",
    "\n",
    "To combine the two headers into a single header in your dataframe, you can \n",
    "use the following approach (in the example below `df` is your dataframe\n",
    "name):\n",
    "\n",
    "`df.columns = df.columns.map('-'.join)`\n",
    "\n",
    "Below you are joining the headers and adding a `-` between the first \n",
    "header name and the second. The result should be a column called\n",
    "`disValue-max` or `disValue-sum`.\n",
    "\n",
    "Give this a try in the cell below.\n",
    "\n",
    "IMPORTANT: if you run the code more than once it will continue to modify your\n",
    "header columns! You may need to restart and run all cells to fix \n",
    "any issues with your columns if you have run the cell more than once. "
   ]
  },
  {
   "cell_type": "code",
   "execution_count": 78,
   "metadata": {
    "deletable": false,
    "nbgrader": {
     "cell_type": "code",
     "checksum": "acb5a11509d57d7afdb40f227f2fc4f1",
     "grade": false,
     "grade_id": "change-multiindex-answer",
     "locked": false,
     "schema_version": 3,
     "solution": true,
     "task": false
    }
   },
   "outputs": [
    {
     "data": {
      "text/html": [
       "<div>\n",
       "<style scoped>\n",
       "    .dataframe tbody tr th:only-of-type {\n",
       "        vertical-align: middle;\n",
       "    }\n",
       "\n",
       "    .dataframe tbody tr th {\n",
       "        vertical-align: top;\n",
       "    }\n",
       "\n",
       "    .dataframe thead th {\n",
       "        text-align: right;\n",
       "    }\n",
       "</style>\n",
       "<table border=\"1\" class=\"dataframe\">\n",
       "  <thead>\n",
       "    <tr style=\"text-align: right;\">\n",
       "      <th></th>\n",
       "      <th>disValue_max</th>\n",
       "      <th>disValue_sum</th>\n",
       "    </tr>\n",
       "    <tr>\n",
       "      <th>datetime</th>\n",
       "      <th></th>\n",
       "      <th></th>\n",
       "    </tr>\n",
       "  </thead>\n",
       "  <tbody>\n",
       "    <tr>\n",
       "      <th>2013-01-31</th>\n",
       "      <td>26.0</td>\n",
       "      <td>332.4</td>\n",
       "    </tr>\n",
       "    <tr>\n",
       "      <th>2013-02-28</th>\n",
       "      <td>4.7</td>\n",
       "      <td>93.6</td>\n",
       "    </tr>\n",
       "    <tr>\n",
       "      <th>2013-03-31</th>\n",
       "      <td>8.9</td>\n",
       "      <td>183.1</td>\n",
       "    </tr>\n",
       "    <tr>\n",
       "      <th>2013-04-30</th>\n",
       "      <td>35.0</td>\n",
       "      <td>477.2</td>\n",
       "    </tr>\n",
       "    <tr>\n",
       "      <th>2013-05-31</th>\n",
       "      <td>501.0</td>\n",
       "      <td>6937.0</td>\n",
       "    </tr>\n",
       "    <tr>\n",
       "      <th>2013-06-30</th>\n",
       "      <td>629.0</td>\n",
       "      <td>7888.0</td>\n",
       "    </tr>\n",
       "    <tr>\n",
       "      <th>2013-07-31</th>\n",
       "      <td>136.0</td>\n",
       "      <td>2714.0</td>\n",
       "    </tr>\n",
       "    <tr>\n",
       "      <th>2013-08-31</th>\n",
       "      <td>108.0</td>\n",
       "      <td>1704.0</td>\n",
       "    </tr>\n",
       "    <tr>\n",
       "      <th>2013-09-30</th>\n",
       "      <td>4770.0</td>\n",
       "      <td>25844.0</td>\n",
       "    </tr>\n",
       "    <tr>\n",
       "      <th>2013-10-31</th>\n",
       "      <td>424.0</td>\n",
       "      <td>6801.0</td>\n",
       "    </tr>\n",
       "    <tr>\n",
       "      <th>2013-11-30</th>\n",
       "      <td>94.0</td>\n",
       "      <td>1917.0</td>\n",
       "    </tr>\n",
       "    <tr>\n",
       "      <th>2013-12-31</th>\n",
       "      <td>53.0</td>\n",
       "      <td>1064.0</td>\n",
       "    </tr>\n",
       "  </tbody>\n",
       "</table>\n",
       "</div>"
      ],
      "text/plain": [
       "            disValue_max  disValue_sum\n",
       "datetime                              \n",
       "2013-01-31          26.0         332.4\n",
       "2013-02-28           4.7          93.6\n",
       "2013-03-31           8.9         183.1\n",
       "2013-04-30          35.0         477.2\n",
       "2013-05-31         501.0        6937.0\n",
       "2013-06-30         629.0        7888.0\n",
       "2013-07-31         136.0        2714.0\n",
       "2013-08-31         108.0        1704.0\n",
       "2013-09-30        4770.0       25844.0\n",
       "2013-10-31         424.0        6801.0\n",
       "2013-11-30          94.0        1917.0\n",
       "2013-12-31          53.0        1064.0"
      ]
     },
     "execution_count": 78,
     "metadata": {},
     "output_type": "execute_result"
    }
   ],
   "source": [
    "# YOUR CODE HERE\n",
    "discharge_2013_monthly_max_sum.columns = discharge_2013_monthly_max_sum.columns.map(\"_\".join)\n",
    "discharge_2013_monthly_max_sum"
   ]
  },
  {
   "cell_type": "code",
   "execution_count": 79,
   "metadata": {
    "deletable": false,
    "editable": false,
    "nbgrader": {
     "cell_type": "code",
     "checksum": "d8475e2fb6b7b924bf33d8a0a28a9bf3",
     "grade": true,
     "grade_id": "change-multiindex-tests",
     "locked": true,
     "points": 5,
     "schema_version": 3,
     "solution": false,
     "task": false
    }
   },
   "outputs": [
    {
     "name": "stdout",
     "output_type": "stream",
     "text": [
      "✅ Your monthly max for the discharge DataFrame is no longer a multi index, good job!\n"
     ]
    }
   ],
   "source": [
    "# DO NOT MODIFY THIS CELL\n",
    "\n",
    "# Test to ensure your dataframe no longer has a MultiIndex\n",
    "reindex_monthly_max_points = 0\n",
    "\n",
    "student_reindex_monthly = _\n",
    "\n",
    "if isinstance(student_reindex_monthly.columns, pd.MultiIndex):\n",
    "    print(\"\\u274C Your monthly max for the discharge DataFrame is still a multi index.\")\n",
    "else:\n",
    "    print(\"\\u2705 Your monthly max for the discharge DataFrame is no longer a multi index, good job!\")\n",
    "    reindex_monthly_max_points += 3\n"
   ]
  },
  {
   "cell_type": "markdown",
   "metadata": {
    "deletable": false,
    "editable": false,
    "nbgrader": {
     "cell_type": "markdown",
     "checksum": "84e0180d44025605cf973e6ed5c1d552",
     "grade": false,
     "grade_id": "monthly-total-discharge-instructions",
     "locked": true,
     "schema_version": 3,
     "solution": false,
     "task": false
    }
   },
   "source": [
    "## Challenge 2d: Calculate Monthly Total Stream Discharge\n",
    "\n",
    "In the cell below, calculate the sum for each month of stream discharge for \n",
    "the entire time period in the data.\n",
    "\n",
    "Be sure to call your dataframe at the end of the cell."
   ]
  },
  {
   "cell_type": "code",
   "execution_count": 80,
   "metadata": {
    "deletable": false,
    "nbgrader": {
     "cell_type": "code",
     "checksum": "6fb165775130e3f365f581485fee3ee2",
     "grade": false,
     "grade_id": "monthly-total-discharge-answer",
     "locked": false,
     "schema_version": 3,
     "solution": true,
     "task": false
    }
   },
   "outputs": [
    {
     "data": {
      "text/html": [
       "<div>\n",
       "<style scoped>\n",
       "    .dataframe tbody tr th:only-of-type {\n",
       "        vertical-align: middle;\n",
       "    }\n",
       "\n",
       "    .dataframe tbody tr th {\n",
       "        vertical-align: top;\n",
       "    }\n",
       "\n",
       "    .dataframe thead th {\n",
       "        text-align: right;\n",
       "    }\n",
       "</style>\n",
       "<table border=\"1\" class=\"dataframe\">\n",
       "  <thead>\n",
       "    <tr style=\"text-align: right;\">\n",
       "      <th></th>\n",
       "      <th>site_no</th>\n",
       "      <th>disValue</th>\n",
       "    </tr>\n",
       "    <tr>\n",
       "      <th>datetime</th>\n",
       "      <th></th>\n",
       "      <th></th>\n",
       "    </tr>\n",
       "  </thead>\n",
       "  <tbody>\n",
       "    <tr>\n",
       "      <th>1986-10-31</th>\n",
       "      <td>208636200</td>\n",
       "      <td>978.0</td>\n",
       "    </tr>\n",
       "    <tr>\n",
       "      <th>1986-11-30</th>\n",
       "      <td>201906000</td>\n",
       "      <td>1556.0</td>\n",
       "    </tr>\n",
       "    <tr>\n",
       "      <th>1986-12-31</th>\n",
       "      <td>208636200</td>\n",
       "      <td>2000.0</td>\n",
       "    </tr>\n",
       "    <tr>\n",
       "      <th>1987-01-31</th>\n",
       "      <td>208636200</td>\n",
       "      <td>2116.0</td>\n",
       "    </tr>\n",
       "    <tr>\n",
       "      <th>1987-02-28</th>\n",
       "      <td>188445600</td>\n",
       "      <td>1653.0</td>\n",
       "    </tr>\n",
       "    <tr>\n",
       "      <th>...</th>\n",
       "      <td>...</td>\n",
       "      <td>...</td>\n",
       "    </tr>\n",
       "    <tr>\n",
       "      <th>2013-08-31</th>\n",
       "      <td>208636200</td>\n",
       "      <td>1704.0</td>\n",
       "    </tr>\n",
       "    <tr>\n",
       "      <th>2013-09-30</th>\n",
       "      <td>201906000</td>\n",
       "      <td>25844.0</td>\n",
       "    </tr>\n",
       "    <tr>\n",
       "      <th>2013-10-31</th>\n",
       "      <td>208636200</td>\n",
       "      <td>6801.0</td>\n",
       "    </tr>\n",
       "    <tr>\n",
       "      <th>2013-11-30</th>\n",
       "      <td>201906000</td>\n",
       "      <td>1917.0</td>\n",
       "    </tr>\n",
       "    <tr>\n",
       "      <th>2013-12-31</th>\n",
       "      <td>208636200</td>\n",
       "      <td>1064.0</td>\n",
       "    </tr>\n",
       "  </tbody>\n",
       "</table>\n",
       "<p>327 rows × 2 columns</p>\n",
       "</div>"
      ],
      "text/plain": [
       "              site_no  disValue\n",
       "datetime                       \n",
       "1986-10-31  208636200     978.0\n",
       "1986-11-30  201906000    1556.0\n",
       "1986-12-31  208636200    2000.0\n",
       "1987-01-31  208636200    2116.0\n",
       "1987-02-28  188445600    1653.0\n",
       "...               ...       ...\n",
       "2013-08-31  208636200    1704.0\n",
       "2013-09-30  201906000   25844.0\n",
       "2013-10-31  208636200    6801.0\n",
       "2013-11-30  201906000    1917.0\n",
       "2013-12-31  208636200    1064.0\n",
       "\n",
       "[327 rows x 2 columns]"
      ]
     },
     "execution_count": 80,
     "metadata": {},
     "output_type": "execute_result"
    }
   ],
   "source": [
    "# YOUR CODE HERE\n",
    "discharge_monthlysum = (discharge\n",
    "    .resample('M').sum()\n",
    ")\n",
    "\n",
    "discharge_monthlysum"
   ]
  },
  {
   "cell_type": "code",
   "execution_count": 81,
   "metadata": {
    "deletable": false,
    "editable": false,
    "nbgrader": {
     "cell_type": "code",
     "checksum": "e25820c7259a3db94f3145a352c59f16",
     "grade": true,
     "grade_id": "monthly-total-discharge-tests",
     "locked": true,
     "points": 5,
     "schema_version": 3,
     "solution": false,
     "task": false
    }
   },
   "outputs": [],
   "source": [
    "# DO NOT MODIFY THIS CELL"
   ]
  },
  {
   "cell_type": "markdown",
   "metadata": {
    "deletable": false,
    "editable": false,
    "nbgrader": {
     "cell_type": "markdown",
     "checksum": "a1f0e606df0121badfa45699a8246341",
     "grade": false,
     "grade_id": "discharge-plots-instructions",
     "locked": true,
     "schema_version": 3,
     "solution": false,
     "task": false
    }
   },
   "source": [
    "## Challenge 2e: Figure - Plot Stream Discharge Data\n",
    "\n",
    "Create a vertically stacked figure that contains the following stream discharge subplots (You should have all of the data above needed to create these figures:\n",
    "\n",
    "* Subplot 1: daily discharge values from Aug 1, 2013 to Oct 31, 2013\n",
    "    * Plot needs a title, x axis label, and y axis label. The y label should have units of measure in it. \n",
    "    * X axis tick labels should be month-day (e.g. \"Aug-01\")\n",
    "* Subplot 2: Monthly maximum stream discharge for 2013\n",
    "    * Plot needs a title, x axis label, and y axis label. The y label should have units of measure in it. \n",
    "    * X axis tick labels should be month-day (e.g. \"Aug-01\")\n",
    "* Subplot 3: monthly totals of discharge for all years in dataset\n",
    "    * Plot needs a title, x axis label, and y axis label. The y label should have units of measure in it. \n",
    "    * X axis label should be Year (e.g. \"2013\")\n",
    "       \n",
    "You can use the `DateFormatter` package imported above to ensure you x axis labels are formatted correctly. "
   ]
  },
  {
   "cell_type": "code",
   "execution_count": 82,
   "metadata": {
    "deletable": false,
    "nbgrader": {
     "cell_type": "code",
     "checksum": "5a6a238eb42041f9a58b05783ebfc09c",
     "grade": false,
     "grade_id": "discharge-plots",
     "locked": false,
     "schema_version": 3,
     "solution": true,
     "task": false
    }
   },
   "outputs": [
    {
     "data": {
      "image/png": "[encoded data removed]",
      "text/plain": [
       "<Figure size 864x864 with 3 Axes>"
      ]
     },
     "metadata": {
      "needs_background": "light"
     },
     "output_type": "display_data"
    }
   ],
   "source": [
    "# YOUR CODE HERE\n",
    "fig, ax = plt.subplots(3, 1, figsize=(12, 12))\n",
    "\n",
    "# Fig 1\n",
    "ax[0].plot(\n",
    "    discharge_aug_oct_2013.index.values,\n",
    "    discharge_aug_oct_2013['disValue'],\n",
    "    color='purple',\n",
    ")\n",
    "ax[0].set(\n",
    "       xlabel=\"Date\",\n",
    "       ylabel=\"Discharge (cubic feet per second)\",\n",
    "       title=\"Daily discharge values from Aug 1, 2013 to Oct 31, 2013\",\n",
    ")\n",
    "date_form = DateFormatter(\"%b-%d\")\n",
    "ax[0].xaxis.set_major_formatter(date_form)\n",
    "\n",
    "# Fig 2\n",
    "ax[1].plot(\n",
    "    discharge_2013_monthly_max_sum.index.values,\n",
    "    discharge_2013_monthly_max_sum['disValue_max'],\n",
    "    color='blue',\n",
    ")\n",
    "ax[1].set(\n",
    "       xlabel=\"Date\",\n",
    "       ylabel=\"Discharge (cubic feet per second)\",\n",
    "       title=\"Monthly maximum stream discharge for 2013\",\n",
    ")\n",
    "date_form = DateFormatter(\"%b-%d\")\n",
    "ax[1].xaxis.set_major_formatter(date_form)\n",
    "\n",
    "# Fig 3\n",
    "ax[2].plot(\n",
    "    discharge_2013_monthly_max_sum.index.values,\n",
    "    discharge_2013_monthly_max_sum['disValue_sum'],\n",
    "    color='seagreen',\n",
    ")\n",
    "ax[2].set(\n",
    "       xlabel=\"Date\",\n",
    "       ylabel=\"Discharge (cubic feet per second)\",\n",
    "       title=\"monthly totals of discharge for all years in dataset\",\n",
    ")\n",
    "date_form = DateFormatter(\"%Y\")\n",
    "ax[2].xaxis.set_major_formatter(date_form)\n",
    "\n",
    "for x in ax:\n",
    "    plt.setp(x.get_xticklabels(), rotation=0)\n",
    "\n",
    "plt.tight_layout()\n",
    "\n",
    "### DO NOT REMOVE LINE BELOW ###\n",
    "disc_plot = nb.convert_axes(plt, which_axes=\"all\")"
   ]
  },
  {
   "cell_type": "code",
   "execution_count": 83,
   "metadata": {
    "deletable": false,
    "editable": false,
    "nbgrader": {
     "cell_type": "code",
     "checksum": "53547a031594eb083fce7a60f0b51c10",
     "grade": true,
     "grade_id": "discharge-plots-answers",
     "locked": true,
     "points": 0,
     "schema_version": 3,
     "solution": false,
     "task": false
    }
   },
   "outputs": [],
   "source": [
    "# DO NOT MODIFY THIS CELL\n"
   ]
  },
  {
   "cell_type": "code",
   "execution_count": 84,
   "metadata": {
    "deletable": false,
    "editable": false,
    "nbgrader": {
     "cell_type": "code",
     "checksum": "469a0beb2995e7484e67b6ba1d2b6b83",
     "grade": true,
     "grade_id": "discharge-plots-tests",
     "locked": true,
     "points": 24,
     "schema_version": 3,
     "solution": false,
     "task": false
    }
   },
   "outputs": [
    {
     "name": "stdout",
     "output_type": "stream",
     "text": [
      "✅ First plot is a line plot!\n",
      "✅ Second plot is a line plot!\n",
      "✅ Third plot is a line plot!\n"
     ]
    }
   ],
   "source": [
    "# DO NOT MODIFY THIS CELL\n",
    "daily_disc = PlotTester(disc_plot[0])\n",
    "monthly_max_disc = PlotTester(disc_plot[1])\n",
    "sum_disc = PlotTester(disc_plot[2])\n",
    "\n",
    "line_plot_1_test = ag.run_test(daily_disc.assert_plot_type,\n",
    "                               plot_type='line',\n",
    "                               points=0,\n",
    "                               correct_message=\"\\u2705 First plot is a line plot!\",\n",
    "                               error_message=\"\\u274C The first plot is not a line plot, make sure to make it to a line plot. Tests will not run successfully if this does not pass.\")\n",
    "\n",
    "line_plot_2_test = ag.run_test(monthly_max_disc.assert_plot_type,\n",
    "                               plot_type='line',\n",
    "                               points=0,\n",
    "                               correct_message=\"\\u2705 Second plot is a line plot!\",\n",
    "                               error_message=\"\\u274C The second plot is not a line plot, make sure to make it to a line plot. Tests will not run successfully if this does not pass.\")\n",
    "\n",
    "line_plot_3_test = ag.run_test(sum_disc.assert_plot_type,\n",
    "                               plot_type='line',\n",
    "                               points=0,\n",
    "                               correct_message=\"\\u2705 Third plot is a line plot!\",\n",
    "                               error_message=\"\\u274C The third plot is not a line plot, make sure to make it to a line plot. Tests will not run successfully if this does not pass.\")\n",
    "\n",
    "\n",
    "print(line_plot_1_test['message'])\n",
    "print(line_plot_2_test['message'])\n",
    "print(line_plot_3_test['message'])\n"
   ]
  },
  {
   "cell_type": "markdown",
   "metadata": {
    "deletable": false,
    "editable": false,
    "nbgrader": {
     "cell_type": "markdown",
     "checksum": "0b3f10639b5114a9e9f727a32f283164",
     "grade": false,
     "grade_id": "precip-discharge-compare-instructions",
     "locked": true,
     "schema_version": 3,
     "solution": false,
     "task": false
    }
   },
   "source": [
    "## Challenge 3 - Figure of Precipitation and Discharge Combined\n",
    "\n",
    "Above, you created code to plot precipitation and stream discharge in \n",
    "two different figures. Create a figure with two subplots stacked on \n",
    "top of each other in the cell below as follows:\n",
    "\n",
    "1. Subplot 1: Daily total precipitation for the flood event time period (aug-october 2013)\n",
    "2. Subplot 2: Daily stream discharge for the flood event time period (aug-october 2013)\n",
    "\n",
    "HINT: You can use the SAME CODE that you used above to create the first \n",
    "precipitation plot and the first discharge plot to create these subplots! You will\n",
    "just need to create a new figure and axis object(s) below.\n"
   ]
  },
  {
   "cell_type": "code",
   "execution_count": 95,
   "metadata": {
    "deletable": false,
    "nbgrader": {
     "cell_type": "code",
     "checksum": "328918fcfa50ae1803b7cdb5941ef0fe",
     "grade": false,
     "grade_id": "precip-discharge-compare-answer",
     "locked": false,
     "schema_version": 3,
     "solution": true,
     "task": false
    }
   },
   "outputs": [
    {
     "data": {
      "image/png": "[encoded data removed]",
      "text/plain": [
       "<Figure size 864x864 with 2 Axes>"
      ]
     },
     "metadata": {
      "needs_background": "light"
     },
     "output_type": "display_data"
    }
   ],
   "source": [
    "# YOUR CODE HERE\n",
    "fig, ax = plt.subplots(2, 1, figsize=(12, 12))\n",
    "\n",
    "# Fig 1\n",
    "ax[0].plot(\n",
    "    precip_aug_oct_2013_dailysum.index.values,\n",
    "    precip_aug_oct_2013_dailysum['HPCP'],\n",
    "    color='teal',\n",
    ")\n",
    "ax[0].set(\n",
    "       xlabel=\"Date\",\n",
    "       ylabel=\"Precipitation (inches)\",\n",
    "       title=\"Daily precipitation values from Aug 1, 2013 to Oct 31, 2013\",\n",
    ")\n",
    "date_form = DateFormatter(\"%b-%d\")\n",
    "ax[0].xaxis.set_major_formatter(date_form)\n",
    "\n",
    "# Fig 2\n",
    "ax[1].plot(\n",
    "    discharge_aug_oct_2013.index.values,\n",
    "    discharge_aug_oct_2013['disValue'],\n",
    "    color='sienna',\n",
    ")\n",
    "ax[1].set(\n",
    "       xlabel=\"Date\",\n",
    "       ylabel=\"Discharge (cubic feet per second)\",\n",
    "       title=\"Daily discharge values from Aug 1, 2013 to Oct 31, 2013\",\n",
    ")\n",
    "date_form = DateFormatter(\"%b-%d\")\n",
    "ax[1].xaxis.set_major_formatter(date_form)\n",
    "\n",
    "\n",
    "for x in ax:\n",
    "    plt.setp(x.get_xticklabels(), rotation=0)\n",
    "    x.xaxis.set_major_locator(mdates.WeekdayLocator(interval=1))\n",
    "\n",
    "plt.tight_layout()\n",
    "\n",
    "### DO NOT REMOVE LINE BELOW ###\n",
    "final_comparison_plot = nb.convert_axes(plt, which_axes=\"all\")"
   ]
  },
  {
   "cell_type": "code",
   "execution_count": 88,
   "metadata": {
    "deletable": false,
    "editable": false,
    "nbgrader": {
     "cell_type": "code",
     "checksum": "05ca85a943a77c8ff19093de7af476b7",
     "grade": true,
     "grade_id": "precip-discharge-compare-tests",
     "locked": true,
     "points": 10,
     "schema_version": 3,
     "solution": false,
     "task": false
    }
   },
   "outputs": [],
   "source": [
    "# DO NOT MODIFY THIS CELL\n"
   ]
  },
  {
   "cell_type": "markdown",
   "metadata": {
    "deletable": false,
    "editable": false,
    "nbgrader": {
     "cell_type": "markdown",
     "checksum": "73737d8293cde9dff5ec7b809ab4922e",
     "grade": false,
     "grade_id": "task-explain-patterns",
     "locked": true,
     "schema_version": 3,
     "solution": false,
     "task": false
    }
   },
   "source": [
    "## Challenge 3b - Explain Patterns In the Data\n",
    "\n",
    "Look at the plot that you created above. Describe any patterns you notice\n",
    "in the data?\n",
    "\n",
    "1. When was the peak precip / discharge period during the flood?\n",
    "2. Do the dates associated with peak precip and discharge line up (are they the same?)?\n",
    "\n",
    "Add your answers to the questions above in the makrdown cell below\n"
   ]
  },
  {
   "cell_type": "markdown",
   "metadata": {
    "deletable": false,
    "editable": false,
    "nbgrader": {
     "cell_type": "markdown",
     "checksum": "d8e6a07fba21cee27547b7fccf87bd5f",
     "grade": false,
     "grade_id": "task-explain-patterns-answer",
     "locked": true,
     "points": 5,
     "schema_version": 3,
     "solution": false,
     "task": true
    }
   },
   "source": [
    "1. 13 September 2013\n",
    "2. More or less, though discharge has heavier tail"
   ]
  },
  {
   "cell_type": "markdown",
   "metadata": {
    "deletable": false,
    "editable": false,
    "nbgrader": {
     "cell_type": "markdown",
     "checksum": "60508b9380c33d0b803a1bcc2de51692",
     "grade": false,
     "grade_id": "pep8-grading",
     "locked": true,
     "points": 7,
     "schema_version": 3,
     "solution": false,
     "task": true
    }
   },
   "source": [
    "## Pep 8, Spelling and Does the Notebook Run?\n",
    "In this cell, we will give you points for the following\n",
    "\n",
    "1. PEP 8 is followed throughout the notebook (4 points)\n",
    "2. Spelling and grammar are considered in your written responses above (4 points)\n",
    "3. The notebook runs from top to bottom without any editing (it is reproducible) - 4 points"
   ]
  }
 ],
 "metadata": {
  "kernelspec": {
   "display_name": "Python 3.8.12 ('earth-analytics-python': conda)",
   "language": "python",
   "name": "python3"
  },
  "language_info": {
   "codemirror_mode": {
    "name": "ipython",
    "version": 3
   },
   "file_extension": ".py",
   "mimetype": "text/x-python",
   "name": "python",
   "nbconvert_exporter": "python",
   "pygments_lexer": "ipython3",
   "version": "3.8.12"
  },
  "toc": {
   "base_numbering": 1,
   "nav_menu": {},
   "number_sections": true,
   "sideBar": true,
   "skip_h1_title": false,
   "title_cell": "Table of Contents",
   "title_sidebar": "Contents",
   "toc_cell": false,
   "toc_position": {
    "height": "calc(100% - 180px)",
    "left": "10px",
    "top": "150px",
    "width": "248.2px"
   },
   "toc_section_display": true,
   "toc_window_display": true
  },
  "varInspector": {
   "cols": {
    "lenName": 16,
    "lenType": 16,
    "lenVar": 40
   },
   "kernels_config": {
    "python": {
     "delete_cmd_postfix": "",
     "delete_cmd_prefix": "del ",
     "library": "var_list.py",
     "varRefreshCmd": "print(var_dic_list())"
    },
    "r": {
     "delete_cmd_postfix": ") ",
     "delete_cmd_prefix": "rm(",
     "library": "var_list.r",
     "varRefreshCmd": "cat(var_dic_list()) "
    }
   },
   "types_to_exclude": [
    "module",
    "function",
    "builtin_function_or_method",
    "instance",
    "_Feature"
   ],
   "window_display": false
  },
  "vscode": {
   "interpreter": {
    "hash": "73eae905298475c16bdd19598b4d23324c5ca2c3eaa9b70999c04e70ee60c08c"
   }
  }
 },
 "nbformat": 4,
 "nbformat_minor": 2
}
