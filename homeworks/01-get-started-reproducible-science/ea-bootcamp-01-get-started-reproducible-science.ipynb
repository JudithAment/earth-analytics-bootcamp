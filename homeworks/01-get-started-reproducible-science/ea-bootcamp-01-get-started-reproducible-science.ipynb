{
 "cells": [
  {
   "cell_type": "markdown",
   "metadata": {},
   "source": [
    "Before you turn this problem in, make sure everything runs as expected. First, **restart the kernel** (in the menubar, select Kernel$\\rightarrow$Restart) and then **run all cells** (in the menubar, select Cell$\\rightarrow$Run All).\n",
    "\n",
    "Make sure you fill in any place that says `YOUR CODE HERE` or \"YOUR ANSWER HERE\", as well as your name and collaborators below:"
   ]
  },
  {
   "cell_type": "code",
   "execution_count": 4,
   "metadata": {},
   "outputs": [],
   "source": [
    "NAME = \"\"\n",
    "COLLABORATORS = \"\""
   ]
  },
  {
   "cell_type": "markdown",
   "metadata": {},
   "source": [
    "---"
   ]
  },
  {
   "cell_type": "markdown",
   "metadata": {
    "deletable": false,
    "editable": false,
    "nbgrader": {
     "cell_type": "markdown",
     "checksum": "8115d981c69746150727eb6228c8d5a7",
     "grade": false,
     "grade_id": "header-logo",
     "locked": true,
     "schema_version": 3,
     "solution": false
    }
   },
   "source": [
    "<img style=\"float: left;\" src=\"earth-lab-logo-rgb.png\" width=\"150\" height=\"150\" />\n",
    "\n",
    "# Earth Analytics Education"
   ]
  },
  {
   "cell_type": "markdown",
   "metadata": {
    "deletable": false,
    "editable": false,
    "nbgrader": {
     "cell_type": "markdown",
     "checksum": "f3d7730698dcc06f75459e7a4b7887d2",
     "grade": false,
     "grade_id": "hw-instructions",
     "locked": true,
     "schema_version": 3,
     "solution": false
    }
   },
   "source": [
    "# Week 1 Homework Template\n",
    "\n",
    "Assignment 1 consists of completion of this notebook (for 60 % of your grade) and <a href=\"https://canvas.colorado.edu/courses/54396/quizzes/78827\" target=\"_blank\">a quiz on CANVAS</a> (for the remaining 40%).\n",
    "\n",
    "To complete assignment 1, be sure you have reviewed chapters 1 through 4 of the <a href=\"https://www.earthdatascience.org/courses/intro-to-earth-data-science/\" target=\"_blank\">Intro to Earth Data Science</a> online textbook, which covers open reproducible science, bash, Jupyter Notebook, and Markdown.   \n",
    "\n",
    "In this portion of assignment 1, you will work with Markdown and Code cells in Jupyter Notebook.\n",
    "\n",
    "Read the instructions for each question carefully to successfully complete the required tasks.\n",
    "\n",
    "**Important Note: each time that you open this notebook file, please be sure to run the Code cell below** for the core imports.  Otherwise, your plot in a later question will not execute successfully. "
   ]
  },
  {
   "cell_type": "code",
   "execution_count": 5,
   "metadata": {
    "deletable": false,
    "editable": false,
    "nbgrader": {
     "cell_type": "code",
     "checksum": "ed3c772fb9a2b325ebef40f19fc1b5c2",
     "grade": false,
     "grade_id": "core-imports",
     "locked": true,
     "schema_version": 3,
     "solution": false
    }
   },
   "outputs": [],
   "source": [
    "# Core imports needed for grading\n",
    "import matplotlib.pyplot as plt\n",
    "import matplotcheck.notebook as nb\n",
    "import matplotcheck.timeseries as ts"
   ]
  },
  {
   "cell_type": "markdown",
   "metadata": {
    "deletable": false,
    "editable": false,
    "nbgrader": {
     "cell_type": "markdown",
     "checksum": "827fec8dd48b66ea57f61755fa3b6a10",
     "grade": false,
     "grade_id": "question-introduce-likes",
     "locked": true,
     "schema_version": 3,
     "solution": false
    }
   },
   "source": [
    "## Introduce Your Favorites\n",
    "\n",
    "**Convert the cell below to a Markdown cell.** Remove any existing text in the cell. \n",
    "\n",
    "In the cell, add the following items using Markdown:\n",
    "1. A **header** for a location/place you want to visit\n",
    "2. A **hyperlink** to a webpage on this location (include the location's name in the hyperlink title)\n",
    "3. An **bold** word for a favorite food's name\n",
    "4. An **image** from the web for this food (include the food's name in the image alt text)"
   ]
  },
  {
   "cell_type": "markdown",
   "metadata": {
    "deletable": false,
    "nbgrader": {
     "cell_type": "code",
     "checksum": "0f39cb38eb3f124b94b02c0ff649eebc",
     "grade": true,
     "grade_id": "student-introduce-likes-answer7",
     "locked": false,
     "points": 12,
     "schema_version": 3,
     "solution": true
    }
   },
   "source": [
    "1. # Juneau, Alaska\n",
    "2. chocolate bars (<a href=\"https://tonyschocolonely.com/nl/nl\" target=\"_blank\">Tony Chocolonely</a>)\n",
    "3. **andijvie stamp**\n",
    "4. avocados ![avo](https://cdn.cbs.nl/images/697657545630786f554c4846646e507a3545566368413d3d/900x450.jpg)"
   ]
  },
  {
   "cell_type": "markdown",
   "metadata": {
    "deletable": false,
    "editable": false,
    "nbgrader": {
     "cell_type": "markdown",
     "checksum": "4794ad85d0173e7b5a861a948bde37b1",
     "grade": false,
     "grade_id": "question-reproducible-science",
     "locked": true,
     "schema_version": 3,
     "solution": false
    }
   },
   "source": [
    "## What Does Open Reproducible Science Mean To You?\n",
    "\n",
    "**Convert the cell below to a Markdown cell.** Remove any existing text in the cell. \n",
    "\n",
    "In the new cell, answer the following questions using a **numbered list** in Markdown:\n",
    "1. In 1-2 sentences, define open reproducible science.\n",
    "2. In 1-2 sentences, choose one of the open source tools that you have learned about in week 1 (i.e. Shell, Git/GitHub, Jupyter Notebook, Python) and explain how it supports open reproducible science.\n",
    "3. In 1-2 sentences, does this Jupyter Notebook file have a machine readable name? Explain your answer."
   ]
  },
  {
   "cell_type": "markdown",
   "metadata": {
    "deletable": false,
    "nbgrader": {
     "cell_type": "code",
     "checksum": "6afe870899f244ee3c92a19761fae98d",
     "grade": true,
     "grade_id": "student-reproducible-science-answer",
     "locked": false,
     "points": 12,
     "schema_version": 3,
     "solution": true
    }
   },
   "source": [
    "1. Reproducible science is when anyone (including others and your future self) can understand and replicate the steps of an analysis, applied to the same or even new data.\n",
    "2. Python enables one to read the specific steps to recreate an analysis like a recipe. every step is recorded.\n",
    "3. Yes: no spaces, but instead dashes as separators for words; no capitalized words."
   ]
  },
  {
   "cell_type": "markdown",
   "metadata": {
    "deletable": false,
    "editable": false,
    "nbgrader": {
     "cell_type": "markdown",
     "checksum": "50f450432c4d5dc605a643530b5de8c2",
     "grade": false,
     "grade_id": "question-math-1",
     "locked": true,
     "schema_version": 3,
     "solution": false
    }
   },
   "source": [
    "## Do Some Math With Python\n",
    "\n",
    "**Convert each of the four cells below to Code cells.** Remove any existing text in the cells. \n",
    "\n",
    "In each of the four cells below, run one of following calculations:\n",
    "1. 4 * 2\n",
    "2. 4 ** 2\n",
    "3. 4 / 2\n",
    "4. 4 == 2"
   ]
  },
  {
   "cell_type": "code",
   "execution_count": 6,
   "metadata": {
    "deletable": false,
    "nbgrader": {
     "cell_type": "markdown",
     "checksum": "c70f378a07f86f7af10cd237024b031d",
     "grade": true,
     "grade_id": "student-math-1",
     "locked": false,
     "points": 2,
     "schema_version": 3,
     "solution": true
    }
   },
   "outputs": [
    {
     "data": {
      "text/plain": [
       "8"
      ]
     },
     "execution_count": 6,
     "metadata": {},
     "output_type": "execute_result"
    }
   ],
   "source": [
    "4 * 2"
   ]
  },
  {
   "cell_type": "code",
   "execution_count": 7,
   "metadata": {
    "deletable": false,
    "nbgrader": {
     "cell_type": "markdown",
     "checksum": "67b14cef1fc1ec90e57f00027df3fe1e",
     "grade": true,
     "grade_id": "student-math-2",
     "locked": false,
     "points": 2,
     "schema_version": 3,
     "solution": true
    }
   },
   "outputs": [
    {
     "data": {
      "text/plain": [
       "16"
      ]
     },
     "execution_count": 7,
     "metadata": {},
     "output_type": "execute_result"
    }
   ],
   "source": [
    "4 ** 2"
   ]
  },
  {
   "cell_type": "code",
   "execution_count": 8,
   "metadata": {
    "deletable": false,
    "nbgrader": {
     "cell_type": "markdown",
     "checksum": "26a3961905cfe9c2dd03c0a5377d190d",
     "grade": true,
     "grade_id": "student-math-3",
     "locked": false,
     "points": 2,
     "schema_version": 3,
     "solution": true
    }
   },
   "outputs": [
    {
     "data": {
      "text/plain": [
       "2.0"
      ]
     },
     "execution_count": 8,
     "metadata": {},
     "output_type": "execute_result"
    }
   ],
   "source": [
    "4/2"
   ]
  },
  {
   "cell_type": "code",
   "execution_count": 9,
   "metadata": {
    "deletable": false,
    "nbgrader": {
     "cell_type": "markdown",
     "checksum": "0ddefceec5d58925ce3ac39ee30633f1",
     "grade": true,
     "grade_id": "student-math-4",
     "locked": false,
     "points": 2,
     "schema_version": 3,
     "solution": true
    }
   },
   "outputs": [
    {
     "data": {
      "text/plain": [
       "False"
      ]
     },
     "execution_count": 9,
     "metadata": {},
     "output_type": "execute_result"
    }
   ],
   "source": [
    "4 == 2"
   ]
  },
  {
   "cell_type": "markdown",
   "metadata": {
    "deletable": false,
    "editable": false,
    "nbgrader": {
     "cell_type": "markdown",
     "checksum": "55c5f4f95d3b2388dc5039e13e39a25b",
     "grade": false,
     "grade_id": "question-explain-math",
     "locked": true,
     "schema_version": 3,
     "solution": false
    }
   },
   "source": [
    "## Explain Your Calculation Results\n",
    "\n",
    "In the Markdown cell below, answer the following questions about the results of your calculations using a **numbered list**:\n",
    "1. What calculation does the ```**``` execute?\n",
    "2. What do you notice about the format of the result of the calculation ```4 / 2```?\n",
    "3. What do you think the ```==``` operation is used for in Python? (Hint: look at the result carefully.)\n",
    "\n",
    "Remove any existing text in the cell before adding your answer. "
   ]
  },
  {
   "cell_type": "markdown",
   "metadata": {
    "deletable": false,
    "nbgrader": {
     "cell_type": "markdown",
     "checksum": "1b527d2a17ef9a101411ecb3ff21a448",
     "grade": true,
     "grade_id": "student-explain-math-answer",
     "locked": false,
     "points": 6,
     "schema_version": 3,
     "solution": true
    }
   },
   "source": [
    "YOUR ANSWER HERE"
   ]
  },
  {
   "cell_type": "markdown",
   "metadata": {
    "deletable": false,
    "editable": false,
    "nbgrader": {
     "cell_type": "markdown",
     "checksum": "6ab65fa89c585f0575d308850f7c926b",
     "grade": false,
     "grade_id": "question-student-imports",
     "locked": true,
     "schema_version": 3,
     "solution": false
    }
   },
   "source": [
    "## Import Python Packages\n",
    "\n",
    "In the Code cell below, copy and paste the following code **after the line for `Your Code Here`**, replacing `raise NotImplementedError()` with your code:\n",
    "```python\n",
    "import pandas as pd\n",
    "```\n",
    "\n",
    "This line of code will import the Python package called pandas, which you will use in the next question to create a data table. \n",
    "\n",
    "You will learn more about Python packages in the next few weeks but for now, you can start to practice working with code cells and organizing Python code in Jupyter Notebook files.  "
   ]
  },
  {
   "cell_type": "code",
   "execution_count": 10,
   "metadata": {
    "deletable": false,
    "nbgrader": {
     "cell_type": "code",
     "checksum": "a05ce383dbecc615734c8da3ef33a517",
     "grade": true,
     "grade_id": "student-imports-answer",
     "locked": false,
     "points": 2,
     "schema_version": 3,
     "solution": true
    }
   },
   "outputs": [],
   "source": [
    "# Import necessary packages\n",
    "import pandas as pd"
   ]
  },
  {
   "cell_type": "markdown",
   "metadata": {
    "deletable": false,
    "editable": false,
    "nbgrader": {
     "cell_type": "markdown",
     "checksum": "560e88a6234d535a5b0363d8475c9594",
     "grade": false,
     "grade_id": "question-plot",
     "locked": true,
     "schema_version": 3,
     "solution": false
    }
   },
   "source": [
    "## Create Plot of X\n",
    "\n",
    "In the Code cell below, copy and paste the following code **between the lines for `Your Code Here` and `Do Not Remove Line Below`**, replacing `raise NotImplementedError()` with your code:\n",
    "\n",
    "```python\n",
    "# Create data\n",
    "boulder_precip = pd.DataFrame(columns=[\"date\", \"precip\"], \n",
    "                              data=[\n",
    "                                  [\"2013-09-09\", 0.1], [\"2013-09-10\", 1.0], \n",
    "                                  [\"2013-09-11\", 2.3], [\"2013-09-12\", 9.8], [\"2013-09-13\", 1.9],\n",
    "                                  [\"2013-09-14\", 0.01], [\"2013-09-15\", 1.4], [\"2013-09-16\", 0.4]])      \n",
    "# Create plot\n",
    "fig, ax = plt.subplots()\n",
    "ax.bar(boulder_precip['date'].values, boulder_precip['precip'].values)\n",
    "ax.set(title=\"Title Goes Here\", \n",
    "       xlabel=\"X Axis Label Goes Here\", ylabel=\"Y Axis Label Goes Here\")\n",
    "plt.setp(ax.get_xticklabels(), rotation=45);\n",
    "```\n",
    "\n",
    "This code block will create a **plot of daily precipitation values in inches for Boulder, CO** for one week in **September 2013**, during which there was a major flooding event. "
   ]
  },
  {
   "cell_type": "code",
   "execution_count": 11,
   "metadata": {
    "deletable": false,
    "nbgrader": {
     "cell_type": "code",
     "checksum": "8b56ed7e0b4f59b4abaafc42b63101d5",
     "grade": false,
     "grade_id": "student-plot-answer",
     "locked": false,
     "schema_version": 3,
     "solution": true
    }
   },
   "outputs": [
    {
     "data": {
      "image/png": "[encoded data removed]",
      "text/plain": [
       "<Figure size 432x288 with 1 Axes>"
      ]
     },
     "metadata": {
      "needs_background": "light"
     },
     "output_type": "display_data"
    }
   ],
   "source": [
    "# Create plot\n",
    "\n",
    "# Create data\n",
    "boulder_precip = pd.DataFrame(columns=[\"date\", \"precip\"], \n",
    "                              data=[\n",
    "                                  [\"2013-09-09\", 0.1], [\"2013-09-10\", 1.0], \n",
    "                                  [\"2013-09-11\", 2.3], [\"2013-09-12\", 9.8], [\"2013-09-13\", 1.9],\n",
    "                                  [\"2013-09-14\", 0.01], [\"2013-09-15\", 1.4], [\"2013-09-16\", 0.4]])      \n",
    "# Create plot\n",
    "fig, ax = plt.subplots()\n",
    "ax.bar(boulder_precip['date'].values, boulder_precip['precip'].values)\n",
    "ax.set(title=\"Title Goes Here\", \n",
    "       xlabel=\"X Axis Label Goes Here\", ylabel=\"Y Axis Label Goes Here\")\n",
    "plt.setp(ax.get_xticklabels(), rotation=45)\n",
    "\n",
    "### DO NOT REMOVE LINE BELOW ###\n",
    "ts_1_plot = nb.convert_axes(plt)"
   ]
  },
  {
   "cell_type": "markdown",
   "metadata": {
    "deletable": false,
    "editable": false,
    "nbgrader": {
     "cell_type": "markdown",
     "checksum": "da0f3d4603ad0107d0852000dd8c758c",
     "grade": false,
     "grade_id": "question-labels",
     "locked": true,
     "schema_version": 3,
     "solution": false
    }
   },
   "source": [
    "## Identify Plot Title and Axes Labels\n",
    "\n",
    "Note the text for the title and the axes labels in your plot - which words could you use to make them more descriptive of the plotted data? \n",
    "\n",
    "In the Markdown cell below, provide the following in a **bullet list**:\n",
    "1. an appropriate title for the plot\n",
    "2. a clear label for the x-axis\n",
    "3. a clear label for the y-axis\n",
    "\n",
    "Be sure to think about the following pieces of information that could help someone easily interpret the plot:\n",
    "* geographic coverage or extent of data\n",
    "* duration or temporal extent of the data\n",
    "* what was actually measured and/or represented by the data\n",
    "* units of measurement\n",
    "\n",
    "Remove any existing text in the cell before adding your answer. "
   ]
  },
  {
   "cell_type": "markdown",
   "metadata": {
    "deletable": false,
    "nbgrader": {
     "cell_type": "markdown",
     "checksum": "4e82fea07d7bfb72825ec113d54f071d",
     "grade": true,
     "grade_id": "student-labels-answer",
     "locked": false,
     "points": 6,
     "schema_version": 3,
     "solution": true
    }
   },
   "source": [
    "YOUR ANSWER HERE"
   ]
  },
  {
   "cell_type": "markdown",
   "metadata": {
    "deletable": false,
    "editable": false,
    "nbgrader": {
     "cell_type": "markdown",
     "checksum": "d4c466bc81e101c96ea0ee1ef0a85ac5",
     "grade": false,
     "grade_id": "question-explain-plot",
     "locked": true,
     "schema_version": 3,
     "solution": false
    }
   },
   "source": [
    "## Explain Your Plot\n",
    "\n",
    "In the Markdown cell below, answer the following question about your plot in 2-3 sentences (**in paragraph form**, not list):  \n",
    "\n",
    "* What does this plot tell you about this Sept 2013 flood event in Boulder, CO? Explain your answer. \n",
    "\n",
    "Remove any existing text in the cell before adding your answer. "
   ]
  },
  {
   "cell_type": "markdown",
   "metadata": {
    "deletable": false,
    "nbgrader": {
     "cell_type": "markdown",
     "checksum": "47fd8a16e13b04f7f8f7fd692342f69a",
     "grade": true,
     "grade_id": "student-explain-plot-answer",
     "locked": false,
     "points": 8,
     "schema_version": 3,
     "solution": true
    }
   },
   "source": [
    "YOUR ANSWER HERE"
   ]
  },
  {
   "cell_type": "code",
   "execution_count": null,
   "metadata": {
    "deletable": false,
    "editable": false,
    "nbgrader": {
     "cell_type": "code",
     "checksum": "09bd870d294af77e7b9d59389a7c10a1",
     "grade": true,
     "grade_id": "hidden-plot-tests",
     "locked": true,
     "points": 6,
     "schema_version": 3,
     "solution": false
    }
   },
   "outputs": [],
   "source": []
  }
 ],
 "metadata": {
  "kernelspec": {
   "display_name": "Python 3",
   "language": "python",
   "name": "python3"
  },
  "language_info": {
   "codemirror_mode": {
    "name": "ipython",
    "version": 3
   },
   "file_extension": ".py",
   "mimetype": "text/x-python",
   "name": "python",
   "nbconvert_exporter": "python",
   "pygments_lexer": "ipython3",
   "version": "3.8.12"
  }
 },
 "nbformat": 4,
 "nbformat_minor": 2
}
