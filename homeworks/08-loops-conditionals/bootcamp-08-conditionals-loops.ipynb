{
 "cells": [
  {
   "cell_type": "markdown",
   "metadata": {},
   "source": [
    "<img style=\"float: left;\" src=\"earth-lab-logo-rgb.png\" width=\"150\" height=\"150\" />\n",
    "\n",
    "# Earth Analytics Education - Bootcamp Course Fall 2020"
   ]
  },
  {
   "cell_type": "markdown",
   "metadata": {},
   "source": [
    "## Important  - Assignment Guidelines\n",
    "\n",
    "1. Before you submit your assignment to GitHub, make sure to run the entire notebook with a fresh kernel. To do this first, **restart the kernel** (in the menubar, select Kernel$\\rightarrow$Restart & Run All)\n",
    "2. Always replace the `raise NotImplementedError()` code with your code that addresses the activity challenge. If you don't replace that code, your notebook will not run.\n",
    "\n",
    "```\n",
    "# YOUR CODE HERE\n",
    "raise NotImplementedError()\n",
    "```\n",
    "\n",
    "3. Any open ended questions will have a \"YOUR ANSWER HERE\" within a markdown cell. Replace that text with your answer also formatted using Markdown.\n",
    "4. **DO NOT RENAME THIS NOTEBOOK File!** If the file name changes, the autograder will not grade your assignment properly.\n",
    "6. When you create a figure, comment out `plt.show()` to ensure the autograder can grade your plots. For figure cells, DO NOT DELETE the code that says `DO NOT REMOVE LINE BELOW`.\n",
    "\n",
    "```\n",
    "### DO NOT REMOVE LINE BELOW ###\n",
    "student_plot1_ax = nb.convert_axes(plt)\n",
    "```\n",
    "\n",
    "* Only include the package imports, code, and outputs that are required to run your homework assignment.\n",
    "* Be sure that your code can be run on any operating system. This means that:\n",
    "   1. the data should be downloaded in the notebook to ensure it's reproducible\n",
    "   2. all paths should be created dynamically using the `os.path.join`\n",
    "\n",
    "## Follow to PEP 8 Syntax Guidelines & Documentation\n",
    "\n",
    "* Run the `autopep8` tool on all cells prior to submitting (HINT: hit shift + the tool to run it on all cells at once!\n",
    "* Use clear and expressive names for variables. \n",
    "* Organize your code to support readability.\n",
    "* Check for code line length\n",
    "* Use comments and white space sparingly where it is needed\n",
    "* Make sure all python imports are at the top of your notebook and follow PEP 8 order conventions\n",
    "* Spell check your Notebook before submitting it.\n",
    "\n",
    "For all of the plots below, be sure to do the following:\n",
    "\n",
    "* Make sure each plot has a clear TITLE and, where appropriate, label the x and y axes. Be sure to include UNITS in your labels.\n"
   ]
  },
  {
   "cell_type": "markdown",
   "metadata": {},
   "source": [
    "### Add Your Name Below \n",
    "**Your Name:** Judith Ament"
   ]
  },
  {
   "cell_type": "markdown",
   "metadata": {},
   "source": [
    "<img style=\"float: left;\" src=\"colored-bar.png\"/>"
   ]
  },
  {
   "cell_type": "markdown",
   "metadata": {},
   "source": [
    "---"
   ]
  },
  {
   "cell_type": "markdown",
   "metadata": {
    "deletable": false,
    "editable": false,
    "hideCode": false,
    "hidePrompt": false,
    "nbgrader": {
     "cell_type": "markdown",
     "checksum": "0fb214a126133f1870f1b9b0a30998c1",
     "grade": false,
     "grade_id": "hw-instructions",
     "locked": true,
     "schema_version": 3,
     "solution": false
    }
   },
   "source": [
    "# Week 8 Homework - Loops & Conditionals\n",
    "\n",
    "To complete assignment 10, review Chaps 17-18 in Section 7 of the <a href=\"https://www.earthdatascience.org/courses/intro-to-earth-data-science/\" target=\"_blank\">Intro to Earth Data Science online textbook</a> online textbook, which conditional statements and loops in **Python**.   \n",
    "\n",
    "Read the instructions for each question carefully to successfully complete the required tasks.\n",
    "\n",
    "\n",
    "## Assignment Data\n",
    "\n",
    "For this assignment, you will write **Python** code to download and work with data on fire occurrence in California between 1992 and 2015 provided by <a href=\"https://www.fs.usda.gov/rds/archive/Product/RDS-2013-0009.4/\" target=\"_blank\">the United States Forest Service</a>."
   ]
  },
  {
   "cell_type": "code",
   "execution_count": 122,
   "metadata": {
    "deletable": false,
    "editable": false,
    "hideCode": false,
    "hidePrompt": false,
    "nbgrader": {
     "cell_type": "code",
     "checksum": "8143c1253a9392ac32afd28843d3bfee",
     "grade": false,
     "grade_id": "core-imports",
     "locked": true,
     "schema_version": 3,
     "solution": false
    }
   },
   "outputs": [],
   "source": [
    "# DO NOT MODIFY THIS CELL\n",
    "# Core imports needed for grading\n",
    "import matplotcheck.notebook as nb\n",
    "from matplotcheck.base import PlotTester\n",
    "import matplotcheck.autograde as ag\n",
    "import matplotlib\n",
    "import numpy as np"
   ]
  },
  {
   "cell_type": "markdown",
   "metadata": {
    "deletable": false,
    "editable": false,
    "hideCode": false,
    "hidePrompt": false,
    "nbgrader": {
     "cell_type": "markdown",
     "checksum": "c918bcad051b053e5f5dcc18eddc11bd",
     "grade": false,
     "grade_id": "question-student-imports",
     "locked": true,
     "schema_version": 3,
     "solution": false
    }
   },
   "source": [
    "## Import Python Packages\n",
    "\n",
    "In the cell below, add code **after the line for `Your Code Here`**, replacing `raise NotImplementedError()` with your code to import the packages/modules needed to:\n",
    "* create plots \n",
    "* set your working directory\n",
    "* get lists of files in a directory\n",
    "* download data using earthpy functions\n",
    "* work with pandas DataFrames\n",
    "\n",
    "Be sure to list the package imports following the appropriate PEP 8 order and spacing. \n"
   ]
  },
  {
   "cell_type": "code",
   "execution_count": 123,
   "metadata": {
    "deletable": false,
    "hideCode": false,
    "hidePrompt": false,
    "nbgrader": {
     "cell_type": "code",
     "checksum": "c82ca46f08745f749981abab3b3cf755",
     "grade": true,
     "grade_id": "student-imports-answer",
     "locked": false,
     "points": 1,
     "schema_version": 3,
     "solution": true
    }
   },
   "outputs": [],
   "source": [
    "# YOUR CODE HERE\n",
    "import matplotlib.pyplot as plt\n",
    "import seaborn as sns\n",
    "import os as os\n",
    "from glob import glob\n",
    "import earthpy as et\n",
    "import pandas as pd"
   ]
  },
  {
   "cell_type": "markdown",
   "metadata": {
    "deletable": false,
    "editable": false,
    "hideCode": false,
    "hidePrompt": false,
    "nbgrader": {
     "cell_type": "markdown",
     "checksum": "9f64da123482104f3b2d9855aed006c5",
     "grade": false,
     "grade_id": "question-set-wd",
     "locked": true,
     "schema_version": 3,
     "solution": false,
     "task": false
    }
   },
   "source": [
    "## Set Working Directory\n",
    "\n",
    "In the cell below complete the following task:\n",
    "\n",
    "* **Use a conditional statement** to:\n",
    "    * Set the working directory to **your `earth-analytics/data` directory in your home directory** if the path exists.\n",
    "    * Make the directory using `os.makedirs()` and then print a helpful message that the path does not exist but it's being created. \n",
    "\n",
    "Reduce repetition in your code with reusable variables. \n",
    "\n",
    "Be sure to use the appropriate functions that will allow your code to run successfully on any operating system."
   ]
  },
  {
   "cell_type": "code",
   "execution_count": 124,
   "metadata": {
    "deletable": false,
    "hideCode": false,
    "hidePrompt": false,
    "nbgrader": {
     "cell_type": "code",
     "checksum": "216a043acbc3557538bc5a7ee45b2178",
     "grade": false,
     "grade_id": "student-set-wd-answer",
     "locked": false,
     "schema_version": 3,
     "solution": true,
     "task": false
    }
   },
   "outputs": [],
   "source": [
    "# YOUR CODE HERE\n",
    "et_data_path = os.path.join(et.io.HOME, \"earth-analytics\", \"data\")\n",
    "\n",
    "if os.path.exists(et_data_path):\n",
    "    os.chdir(et_data_path)\n",
    "else:\n",
    "    os.makedirs(et_data_path)\n"
   ]
  },
  {
   "cell_type": "markdown",
   "metadata": {
    "deletable": false,
    "editable": false,
    "hideCode": false,
    "hidePrompt": false,
    "nbgrader": {
     "cell_type": "markdown",
     "checksum": "4fe93290f09e34d66abc039767ab4088",
     "grade": false,
     "grade_id": "question-download-data",
     "locked": true,
     "schema_version": 3,
     "solution": false,
     "task": false
    }
   },
   "source": [
    "## Download Data Using EarthPy\n",
    "\n",
    "In the cell below, add code **after the line for `Your Code Here`**, replacing `raise NotImplementedError()` with your code, to complete the following task:\n",
    "\n",
    "* **Use EarthPy to download this url: https://ndownloader.figshare.com/files/25033508**: \n",
    "\n",
    "In this download, you'll see three directories with files containing data by year:\n",
    "\n",
    "* ca-fires-yearly/monthly-fire-count\n",
    "    * The dataset contains the total number of fires (greater than 100 acres) that occurred in each month and year in California between 1992 and 2015. The data are organized with a file for each year from 1992 to 2015.\n",
    "* ca-fires-yearly/monthly-mean-size\n",
    "    * The dataset contains the mean fire size (acres) of all fires greater than 100 acres for each month and year in California between 1992 and 2015. The data are organized with a file for each year from 1992 to 2015\n",
    "* ca-fires-yearly/1992-2015-gt-100-acres\n",
    "    * The dataset contains the cause of all fires greater than 100 acres in California between 1992 and 2015. The data are organized with a file for each year from 1992 to 2015"
   ]
  },
  {
   "cell_type": "code",
   "execution_count": 125,
   "metadata": {
    "deletable": false,
    "hideCode": false,
    "hidePrompt": false,
    "nbgrader": {
     "cell_type": "code",
     "checksum": "f332460b2885b7e64dc8145f658a3eb0",
     "grade": false,
     "grade_id": "student-download-data-answer",
     "locked": false,
     "schema_version": 3,
     "solution": true,
     "task": false
    }
   },
   "outputs": [],
   "source": [
    "# YOUR CODE HERE\n",
    "file_url = \"https://ndownloader.figshare.com/files/25033508\"\n",
    "data_path = et.data.get_data(url = file_url)"
   ]
  },
  {
   "cell_type": "code",
   "execution_count": 126,
   "metadata": {
    "deletable": false,
    "editable": false,
    "hideCode": false,
    "hidePrompt": false,
    "nbgrader": {
     "cell_type": "code",
     "checksum": "20a1fb3207b3e24404d29bc4bfef1206",
     "grade": true,
     "grade_id": "student-download-tests",
     "locked": true,
     "points": 5,
     "schema_version": 3,
     "solution": false,
     "task": false
    }
   },
   "outputs": [
    {
     "name": "stdout",
     "output_type": "stream",
     "text": [
      "✅ Great - it looks like your working directory is set correctly to .../earth-analytics/data\n",
      "\n",
      " ➡ You received 5 out of 5 points for setting your working directory.\n"
     ]
    },
    {
     "data": {
      "text/plain": [
       "5"
      ]
     },
     "execution_count": 126,
     "metadata": {},
     "output_type": "execute_result"
    }
   ],
   "source": [
    "# DO NOT MODIFY THIS CELL\n",
    "# Tests that the working directory is set to earth-analytics/data\n",
    "\n",
    "path = os.path.normpath(os.getcwd())\n",
    "student_wd_parts = path.split(os.sep)\n",
    "\n",
    "wd_points = 0\n",
    "\n",
    "if student_wd_parts[-2:] == ['earth-analytics', 'data']:\n",
    "    print(\"\\u2705 Great - it looks like your working directory is set correctly to .../earth-analytics/data\")\n",
    "    wd_points += 5\n",
    "else:\n",
    "    print(\"\\u274C Oops, the autograder will not run unless your working directory is set to earth-analytics/data\")\n",
    "\n",
    "print(\"\\n \\u27A1 You received {} out of 5 points for setting your working directory.\".format(\n",
    "    wd_points))\n",
    "wd_points"
   ]
  },
  {
   "cell_type": "markdown",
   "metadata": {
    "deletable": false,
    "editable": false,
    "nbgrader": {
     "cell_type": "markdown",
     "checksum": "d5f368dde2556d0ddda78bafd22b45e9",
     "grade": false,
     "grade_id": "cell-ce7e4756075f9dfc",
     "locked": true,
     "schema_version": 3,
     "solution": false,
     "task": false
    }
   },
   "source": [
    "<img style=\"float: left;\" src=\"colored-bar.png\"/>"
   ]
  },
  {
   "cell_type": "markdown",
   "metadata": {
    "deletable": false,
    "editable": false,
    "hideCode": false,
    "hidePrompt": false,
    "nbgrader": {
     "cell_type": "markdown",
     "checksum": "f5d508b891e6676802f8509b0dd62db7",
     "grade": false,
     "grade_id": "question-import-data",
     "locked": true,
     "schema_version": 3,
     "solution": false,
     "task": false
    }
   },
   "source": [
    "## Challenge 1: Import Monthly Fire Count Data\n",
    "\n",
    "In the cell below complete the following task:\n",
    "\n",
    "* Create a for loop that prints the file name  for each `.csv` file in the `earthpy-downloads\\ca-fires-yearly\\monthly-fire-count` directory\n",
    "* In that same loop, extract the date for each year in each `.csv` file name and add it to a new list sorted in order from earliest to most recent  year using `list.append()`.\n",
    "\n",
    "Your final list should look something like this (with more years however): \n",
    "\n",
    "`[\"1992\", \"1993\", \"1994\"]`\n",
    "\n",
    "At the end of the cell, call the list object of years so that it prints below \n",
    "the cell as standard output (**do not use the print statement**)."
   ]
  },
  {
   "cell_type": "code",
   "execution_count": 127,
   "metadata": {
    "deletable": false,
    "hideCode": false,
    "hidePrompt": false,
    "nbgrader": {
     "cell_type": "code",
     "checksum": "dcda1eb98536da04053331b7438f553f",
     "grade": false,
     "grade_id": "student-import-count-answer",
     "locked": false,
     "schema_version": 3,
     "solution": true,
     "task": false
    }
   },
   "outputs": [
    {
     "name": "stdout",
     "output_type": "stream",
     "text": [
      "monthly-fire-count-1999.csv\n",
      "monthly-fire-count-1998.csv\n",
      "monthly-fire-count-2010.csv\n",
      "monthly-fire-count-2004.csv\n",
      "monthly-fire-count-2005.csv\n",
      "monthly-fire-count-2011.csv\n",
      "monthly-fire-count-2007.csv\n",
      "monthly-fire-count-2013.csv\n",
      "monthly-fire-count-2012.csv\n",
      "monthly-fire-count-2006.csv\n",
      "monthly-fire-count-2002.csv\n",
      "monthly-fire-count-2003.csv\n",
      "monthly-fire-count-2015.csv\n",
      "monthly-fire-count-2001.csv\n",
      "monthly-fire-count-2000.csv\n",
      "monthly-fire-count-2014.csv\n",
      "monthly-fire-count-2008.csv\n",
      "monthly-fire-count-2009.csv\n",
      "monthly-fire-count-1995.csv\n",
      "monthly-fire-count-1994.csv\n",
      "monthly-fire-count-1996.csv\n",
      "monthly-fire-count-1997.csv\n",
      "monthly-fire-count-1993.csv\n",
      "monthly-fire-count-1992.csv\n"
     ]
    },
    {
     "data": {
      "text/plain": [
       "['1992',\n",
       " '1993',\n",
       " '1994',\n",
       " '1995',\n",
       " '1996',\n",
       " '1997',\n",
       " '1998',\n",
       " '1999',\n",
       " '2000',\n",
       " '2001',\n",
       " '2002',\n",
       " '2003',\n",
       " '2004',\n",
       " '2005',\n",
       " '2006',\n",
       " '2007',\n",
       " '2008',\n",
       " '2009',\n",
       " '2010',\n",
       " '2011',\n",
       " '2012',\n",
       " '2013',\n",
       " '2014',\n",
       " '2015']"
      ]
     },
     "execution_count": 127,
     "metadata": {},
     "output_type": "execute_result"
    }
   ],
   "source": [
    "# YOUR CODE HERE\n",
    "import re\n",
    "\n",
    "monthly_fire_count_files = glob(os.path.join(data_path, \"monthly-fire-count\", \"*.csv\"))\n",
    "\n",
    "monthly_fire_count_years = []\n",
    "\n",
    "for file in monthly_fire_count_files:\n",
    "    filename = os.path.basename(file)\n",
    "    print(filename)\n",
    "    year = re.search('([0-9]{4})\\.csv', filename).group(1)\n",
    "    list.append(monthly_fire_count_years, year)\n",
    "\n",
    "monthly_fire_count_years.sort()\n",
    "monthly_fire_count_years\n"
   ]
  },
  {
   "cell_type": "code",
   "execution_count": 128,
   "metadata": {
    "deletable": false,
    "editable": false,
    "hideCode": false,
    "hidePrompt": false,
    "nbgrader": {
     "cell_type": "code",
     "checksum": "59cd1533c50178f75944425a5ed4a649",
     "grade": true,
     "grade_id": "student-import-count-tests-1",
     "locked": true,
     "points": 0,
     "schema_version": 3,
     "solution": false,
     "task": false
    }
   },
   "outputs": [
    {
     "name": "stdout",
     "output_type": "stream",
     "text": [
      "✅ The object you created is a list, good job!\n"
     ]
    }
   ],
   "source": [
    "# Test that the list was created and returned correctly\n",
    "\n",
    "student_year_list = monthly_fire_count_years\n",
    "\n",
    "if isinstance(student_year_list, list):\n",
    "    print(\"\\u2705 The object you created is a list, good job!\")\n",
    "else:\n",
    "    print(\"\\u274C The object you created is not a list, please make sure to create a list.\")"
   ]
  },
  {
   "cell_type": "code",
   "execution_count": 129,
   "metadata": {
    "deletable": false,
    "editable": false,
    "hideCode": false,
    "hidePrompt": false,
    "nbgrader": {
     "cell_type": "code",
     "checksum": "b3b6b26505d712fd8c8eea7472282011",
     "grade": true,
     "grade_id": "student-import-count-tests-2",
     "locked": true,
     "points": 5,
     "schema_version": 3,
     "solution": false,
     "task": false
    }
   },
   "outputs": [],
   "source": [
    "# DO NOT MODIFY THIS CELL"
   ]
  },
  {
   "cell_type": "markdown",
   "metadata": {
    "deletable": false,
    "editable": false,
    "hideCode": false,
    "hidePrompt": false,
    "nbgrader": {
     "cell_type": "markdown",
     "checksum": "ac11ff9bf4f7c72a8a4c7665de369075",
     "grade": false,
     "grade_id": "cell-bb906292772cf961",
     "locked": true,
     "schema_version": 3,
     "solution": false,
     "task": false
    }
   },
   "source": [
    "## Challenge 2: Create A Monthly Fire Count DataFrame With a Year Column\n",
    "\n",
    "In the cell below use the same for loop structure that you used above to create a dataframe containing \n",
    "data for all of the years. The dataframe should have month names as a header and should contain monthly fire counts for each year. \n",
    "\n",
    "1. loop through each `.csv` file sorted by name\n",
    "2. open that file using pandas\n",
    "3. add a new column to each data.frame that contains the year associated with the data. You will need to extract the year from the file name similar to what you did above. \n",
    "3. add the DataFrame object to a list object using `list-name.append()`\n",
    "4. When you loop is complete:\n",
    "   * combine all of the dataframes in the list into a new `DataFrame` using `pd.concat(list-name, ax=0)` to combine all of the dataframes in your list into a final dataframe that contains all of the data.\n",
    "   * Set the \"year\"  column as an index\n",
    "\n",
    "Call the final `DataFrame` object at the end of the cell. "
   ]
  },
  {
   "cell_type": "code",
   "execution_count": 130,
   "metadata": {
    "deletable": false,
    "hideCode": false,
    "hidePrompt": false,
    "nbgrader": {
     "cell_type": "code",
     "checksum": "707f870c92b709ce6e63482536b3d790",
     "grade": false,
     "grade_id": "student-count-year-answer",
     "locked": false,
     "schema_version": 3,
     "solution": true,
     "task": false
    }
   },
   "outputs": [
    {
     "data": {
      "text/html": [
       "<div>\n",
       "<style scoped>\n",
       "    .dataframe tbody tr th:only-of-type {\n",
       "        vertical-align: middle;\n",
       "    }\n",
       "\n",
       "    .dataframe tbody tr th {\n",
       "        vertical-align: top;\n",
       "    }\n",
       "\n",
       "    .dataframe thead th {\n",
       "        text-align: right;\n",
       "    }\n",
       "</style>\n",
       "<table border=\"1\" class=\"dataframe\">\n",
       "  <thead>\n",
       "    <tr style=\"text-align: right;\">\n",
       "      <th></th>\n",
       "      <th>Jan</th>\n",
       "      <th>Feb</th>\n",
       "      <th>Mar</th>\n",
       "      <th>Apr</th>\n",
       "      <th>May</th>\n",
       "      <th>Jun</th>\n",
       "      <th>Jul</th>\n",
       "      <th>Aug</th>\n",
       "      <th>Sep</th>\n",
       "      <th>Oct</th>\n",
       "      <th>Nov</th>\n",
       "      <th>Dec</th>\n",
       "    </tr>\n",
       "    <tr>\n",
       "      <th>year</th>\n",
       "      <th></th>\n",
       "      <th></th>\n",
       "      <th></th>\n",
       "      <th></th>\n",
       "      <th></th>\n",
       "      <th></th>\n",
       "      <th></th>\n",
       "      <th></th>\n",
       "      <th></th>\n",
       "      <th></th>\n",
       "      <th></th>\n",
       "      <th></th>\n",
       "    </tr>\n",
       "  </thead>\n",
       "  <tbody>\n",
       "    <tr>\n",
       "      <th>1999</th>\n",
       "      <td>0</td>\n",
       "      <td>2</td>\n",
       "      <td>2</td>\n",
       "      <td>3</td>\n",
       "      <td>7</td>\n",
       "      <td>19</td>\n",
       "      <td>33</td>\n",
       "      <td>89</td>\n",
       "      <td>37</td>\n",
       "      <td>22</td>\n",
       "      <td>3</td>\n",
       "      <td>2</td>\n",
       "    </tr>\n",
       "    <tr>\n",
       "      <th>1998</th>\n",
       "      <td>0</td>\n",
       "      <td>0</td>\n",
       "      <td>0</td>\n",
       "      <td>2</td>\n",
       "      <td>2</td>\n",
       "      <td>12</td>\n",
       "      <td>33</td>\n",
       "      <td>47</td>\n",
       "      <td>16</td>\n",
       "      <td>14</td>\n",
       "      <td>5</td>\n",
       "      <td>4</td>\n",
       "    </tr>\n",
       "    <tr>\n",
       "      <th>2010</th>\n",
       "      <td>1</td>\n",
       "      <td>0</td>\n",
       "      <td>1</td>\n",
       "      <td>0</td>\n",
       "      <td>9</td>\n",
       "      <td>16</td>\n",
       "      <td>31</td>\n",
       "      <td>22</td>\n",
       "      <td>7</td>\n",
       "      <td>4</td>\n",
       "      <td>3</td>\n",
       "      <td>0</td>\n",
       "    </tr>\n",
       "    <tr>\n",
       "      <th>2004</th>\n",
       "      <td>0</td>\n",
       "      <td>1</td>\n",
       "      <td>1</td>\n",
       "      <td>7</td>\n",
       "      <td>16</td>\n",
       "      <td>21</td>\n",
       "      <td>39</td>\n",
       "      <td>27</td>\n",
       "      <td>27</td>\n",
       "      <td>7</td>\n",
       "      <td>1</td>\n",
       "      <td>0</td>\n",
       "    </tr>\n",
       "    <tr>\n",
       "      <th>2005</th>\n",
       "      <td>0</td>\n",
       "      <td>0</td>\n",
       "      <td>0</td>\n",
       "      <td>2</td>\n",
       "      <td>5</td>\n",
       "      <td>28</td>\n",
       "      <td>47</td>\n",
       "      <td>27</td>\n",
       "      <td>43</td>\n",
       "      <td>15</td>\n",
       "      <td>4</td>\n",
       "      <td>0</td>\n",
       "    </tr>\n",
       "    <tr>\n",
       "      <th>2011</th>\n",
       "      <td>0</td>\n",
       "      <td>0</td>\n",
       "      <td>2</td>\n",
       "      <td>2</td>\n",
       "      <td>15</td>\n",
       "      <td>23</td>\n",
       "      <td>26</td>\n",
       "      <td>30</td>\n",
       "      <td>33</td>\n",
       "      <td>2</td>\n",
       "      <td>3</td>\n",
       "      <td>3</td>\n",
       "    </tr>\n",
       "    <tr>\n",
       "      <th>2007</th>\n",
       "      <td>3</td>\n",
       "      <td>1</td>\n",
       "      <td>8</td>\n",
       "      <td>4</td>\n",
       "      <td>21</td>\n",
       "      <td>23</td>\n",
       "      <td>31</td>\n",
       "      <td>30</td>\n",
       "      <td>11</td>\n",
       "      <td>25</td>\n",
       "      <td>3</td>\n",
       "      <td>0</td>\n",
       "    </tr>\n",
       "    <tr>\n",
       "      <th>2013</th>\n",
       "      <td>1</td>\n",
       "      <td>2</td>\n",
       "      <td>0</td>\n",
       "      <td>5</td>\n",
       "      <td>26</td>\n",
       "      <td>14</td>\n",
       "      <td>25</td>\n",
       "      <td>29</td>\n",
       "      <td>9</td>\n",
       "      <td>7</td>\n",
       "      <td>4</td>\n",
       "      <td>0</td>\n",
       "    </tr>\n",
       "    <tr>\n",
       "      <th>2012</th>\n",
       "      <td>0</td>\n",
       "      <td>1</td>\n",
       "      <td>0</td>\n",
       "      <td>1</td>\n",
       "      <td>7</td>\n",
       "      <td>25</td>\n",
       "      <td>31</td>\n",
       "      <td>43</td>\n",
       "      <td>15</td>\n",
       "      <td>3</td>\n",
       "      <td>1</td>\n",
       "      <td>0</td>\n",
       "    </tr>\n",
       "    <tr>\n",
       "      <th>2006</th>\n",
       "      <td>1</td>\n",
       "      <td>2</td>\n",
       "      <td>0</td>\n",
       "      <td>0</td>\n",
       "      <td>17</td>\n",
       "      <td>50</td>\n",
       "      <td>96</td>\n",
       "      <td>29</td>\n",
       "      <td>21</td>\n",
       "      <td>11</td>\n",
       "      <td>5</td>\n",
       "      <td>3</td>\n",
       "    </tr>\n",
       "    <tr>\n",
       "      <th>2002</th>\n",
       "      <td>0</td>\n",
       "      <td>4</td>\n",
       "      <td>7</td>\n",
       "      <td>3</td>\n",
       "      <td>19</td>\n",
       "      <td>42</td>\n",
       "      <td>34</td>\n",
       "      <td>21</td>\n",
       "      <td>20</td>\n",
       "      <td>6</td>\n",
       "      <td>11</td>\n",
       "      <td>0</td>\n",
       "    </tr>\n",
       "    <tr>\n",
       "      <th>2003</th>\n",
       "      <td>3</td>\n",
       "      <td>1</td>\n",
       "      <td>0</td>\n",
       "      <td>2</td>\n",
       "      <td>5</td>\n",
       "      <td>33</td>\n",
       "      <td>63</td>\n",
       "      <td>32</td>\n",
       "      <td>47</td>\n",
       "      <td>22</td>\n",
       "      <td>2</td>\n",
       "      <td>0</td>\n",
       "    </tr>\n",
       "    <tr>\n",
       "      <th>2015</th>\n",
       "      <td>0</td>\n",
       "      <td>3</td>\n",
       "      <td>0</td>\n",
       "      <td>8</td>\n",
       "      <td>2</td>\n",
       "      <td>17</td>\n",
       "      <td>57</td>\n",
       "      <td>29</td>\n",
       "      <td>9</td>\n",
       "      <td>5</td>\n",
       "      <td>1</td>\n",
       "      <td>1</td>\n",
       "    </tr>\n",
       "    <tr>\n",
       "      <th>2001</th>\n",
       "      <td>2</td>\n",
       "      <td>1</td>\n",
       "      <td>1</td>\n",
       "      <td>0</td>\n",
       "      <td>13</td>\n",
       "      <td>37</td>\n",
       "      <td>30</td>\n",
       "      <td>40</td>\n",
       "      <td>14</td>\n",
       "      <td>7</td>\n",
       "      <td>3</td>\n",
       "      <td>1</td>\n",
       "    </tr>\n",
       "    <tr>\n",
       "      <th>2000</th>\n",
       "      <td>0</td>\n",
       "      <td>0</td>\n",
       "      <td>3</td>\n",
       "      <td>3</td>\n",
       "      <td>5</td>\n",
       "      <td>19</td>\n",
       "      <td>31</td>\n",
       "      <td>22</td>\n",
       "      <td>17</td>\n",
       "      <td>10</td>\n",
       "      <td>0</td>\n",
       "      <td>3</td>\n",
       "    </tr>\n",
       "    <tr>\n",
       "      <th>2014</th>\n",
       "      <td>6</td>\n",
       "      <td>0</td>\n",
       "      <td>3</td>\n",
       "      <td>3</td>\n",
       "      <td>8</td>\n",
       "      <td>12</td>\n",
       "      <td>29</td>\n",
       "      <td>15</td>\n",
       "      <td>10</td>\n",
       "      <td>3</td>\n",
       "      <td>1</td>\n",
       "      <td>0</td>\n",
       "    </tr>\n",
       "    <tr>\n",
       "      <th>2008</th>\n",
       "      <td>0</td>\n",
       "      <td>1</td>\n",
       "      <td>1</td>\n",
       "      <td>4</td>\n",
       "      <td>13</td>\n",
       "      <td>159</td>\n",
       "      <td>39</td>\n",
       "      <td>31</td>\n",
       "      <td>13</td>\n",
       "      <td>17</td>\n",
       "      <td>3</td>\n",
       "      <td>0</td>\n",
       "    </tr>\n",
       "    <tr>\n",
       "      <th>2009</th>\n",
       "      <td>0</td>\n",
       "      <td>1</td>\n",
       "      <td>0</td>\n",
       "      <td>5</td>\n",
       "      <td>12</td>\n",
       "      <td>15</td>\n",
       "      <td>24</td>\n",
       "      <td>39</td>\n",
       "      <td>17</td>\n",
       "      <td>6</td>\n",
       "      <td>1</td>\n",
       "      <td>0</td>\n",
       "    </tr>\n",
       "    <tr>\n",
       "      <th>1995</th>\n",
       "      <td>0</td>\n",
       "      <td>1</td>\n",
       "      <td>0</td>\n",
       "      <td>0</td>\n",
       "      <td>11</td>\n",
       "      <td>25</td>\n",
       "      <td>53</td>\n",
       "      <td>35</td>\n",
       "      <td>25</td>\n",
       "      <td>25</td>\n",
       "      <td>11</td>\n",
       "      <td>3</td>\n",
       "    </tr>\n",
       "    <tr>\n",
       "      <th>1994</th>\n",
       "      <td>2</td>\n",
       "      <td>0</td>\n",
       "      <td>0</td>\n",
       "      <td>6</td>\n",
       "      <td>8</td>\n",
       "      <td>50</td>\n",
       "      <td>48</td>\n",
       "      <td>55</td>\n",
       "      <td>23</td>\n",
       "      <td>8</td>\n",
       "      <td>0</td>\n",
       "      <td>1</td>\n",
       "    </tr>\n",
       "    <tr>\n",
       "      <th>1996</th>\n",
       "      <td>2</td>\n",
       "      <td>0</td>\n",
       "      <td>1</td>\n",
       "      <td>15</td>\n",
       "      <td>39</td>\n",
       "      <td>64</td>\n",
       "      <td>64</td>\n",
       "      <td>93</td>\n",
       "      <td>25</td>\n",
       "      <td>26</td>\n",
       "      <td>3</td>\n",
       "      <td>1</td>\n",
       "    </tr>\n",
       "    <tr>\n",
       "      <th>1997</th>\n",
       "      <td>0</td>\n",
       "      <td>0</td>\n",
       "      <td>5</td>\n",
       "      <td>7</td>\n",
       "      <td>28</td>\n",
       "      <td>13</td>\n",
       "      <td>29</td>\n",
       "      <td>28</td>\n",
       "      <td>25</td>\n",
       "      <td>7</td>\n",
       "      <td>1</td>\n",
       "      <td>0</td>\n",
       "    </tr>\n",
       "    <tr>\n",
       "      <th>1993</th>\n",
       "      <td>0</td>\n",
       "      <td>0</td>\n",
       "      <td>0</td>\n",
       "      <td>2</td>\n",
       "      <td>27</td>\n",
       "      <td>44</td>\n",
       "      <td>33</td>\n",
       "      <td>30</td>\n",
       "      <td>23</td>\n",
       "      <td>17</td>\n",
       "      <td>9</td>\n",
       "      <td>2</td>\n",
       "    </tr>\n",
       "    <tr>\n",
       "      <th>1992</th>\n",
       "      <td>0</td>\n",
       "      <td>1</td>\n",
       "      <td>1</td>\n",
       "      <td>5</td>\n",
       "      <td>23</td>\n",
       "      <td>55</td>\n",
       "      <td>42</td>\n",
       "      <td>66</td>\n",
       "      <td>34</td>\n",
       "      <td>6</td>\n",
       "      <td>4</td>\n",
       "      <td>0</td>\n",
       "    </tr>\n",
       "  </tbody>\n",
       "</table>\n",
       "</div>"
      ],
      "text/plain": [
       "      Jan  Feb  Mar  Apr  May  Jun  Jul  Aug  Sep  Oct  Nov  Dec\n",
       "year                                                            \n",
       "1999    0    2    2    3    7   19   33   89   37   22    3    2\n",
       "1998    0    0    0    2    2   12   33   47   16   14    5    4\n",
       "2010    1    0    1    0    9   16   31   22    7    4    3    0\n",
       "2004    0    1    1    7   16   21   39   27   27    7    1    0\n",
       "2005    0    0    0    2    5   28   47   27   43   15    4    0\n",
       "2011    0    0    2    2   15   23   26   30   33    2    3    3\n",
       "2007    3    1    8    4   21   23   31   30   11   25    3    0\n",
       "2013    1    2    0    5   26   14   25   29    9    7    4    0\n",
       "2012    0    1    0    1    7   25   31   43   15    3    1    0\n",
       "2006    1    2    0    0   17   50   96   29   21   11    5    3\n",
       "2002    0    4    7    3   19   42   34   21   20    6   11    0\n",
       "2003    3    1    0    2    5   33   63   32   47   22    2    0\n",
       "2015    0    3    0    8    2   17   57   29    9    5    1    1\n",
       "2001    2    1    1    0   13   37   30   40   14    7    3    1\n",
       "2000    0    0    3    3    5   19   31   22   17   10    0    3\n",
       "2014    6    0    3    3    8   12   29   15   10    3    1    0\n",
       "2008    0    1    1    4   13  159   39   31   13   17    3    0\n",
       "2009    0    1    0    5   12   15   24   39   17    6    1    0\n",
       "1995    0    1    0    0   11   25   53   35   25   25   11    3\n",
       "1994    2    0    0    6    8   50   48   55   23    8    0    1\n",
       "1996    2    0    1   15   39   64   64   93   25   26    3    1\n",
       "1997    0    0    5    7   28   13   29   28   25    7    1    0\n",
       "1993    0    0    0    2   27   44   33   30   23   17    9    2\n",
       "1992    0    1    1    5   23   55   42   66   34    6    4    0"
      ]
     },
     "execution_count": 130,
     "metadata": {},
     "output_type": "execute_result"
    }
   ],
   "source": [
    "# YOUR CODE HERE\n",
    "monthly_fire_count_list = []\n",
    "\n",
    "for file in monthly_fire_count_files:\n",
    "    data = pd.read_csv(file)\n",
    "    year = re.search('([0-9]{4})\\.csv', file).group(1)\n",
    "    data[\"year\"] = year\n",
    "    list.append(monthly_fire_count_list, data)\n",
    "\n",
    "monthly_fire_count_df = pd.concat(monthly_fire_count_list)\n",
    "monthly_fire_count_df = monthly_fire_count_df.set_index('year')\n",
    "monthly_fire_count_df"
   ]
  },
  {
   "cell_type": "code",
   "execution_count": 131,
   "metadata": {
    "deletable": false,
    "editable": false,
    "hideCode": false,
    "hidePrompt": false,
    "nbgrader": {
     "cell_type": "code",
     "checksum": "29d6a2ec95e659acd54974dea3532963",
     "grade": true,
     "grade_id": "student-count-year-test-1",
     "locked": true,
     "points": 0,
     "schema_version": 3,
     "solution": false,
     "task": false
    }
   },
   "outputs": [
    {
     "name": "stdout",
     "output_type": "stream",
     "text": [
      "✅ Object created is a dataframe, good job!\n",
      "✅ Successfully read in the year column as the index!\n"
     ]
    }
   ],
   "source": [
    "# DO NOT MODIFY THIS CELL\n",
    "student_dataframe_monthly_count = monthly_fire_count_df\n",
    "\n",
    "if isinstance(student_dataframe_monthly_count, pd.DataFrame):\n",
    "    print(\"\\u2705 Object created is a dataframe, good job!\")\n",
    "else:\n",
    "    print(\"\\u274C Object created is not a dataframe.\")\n",
    "\n",
    "if student_dataframe_monthly_count.index.name == 'year':\n",
    "    print(\"\\u2705 Successfully read in the year column as the index!\")\n",
    "else:\n",
    "    print(\"\\u274C The index is not set to the year column.\")"
   ]
  },
  {
   "cell_type": "code",
   "execution_count": 132,
   "metadata": {
    "deletable": false,
    "editable": false,
    "hideCode": false,
    "hidePrompt": false,
    "nbgrader": {
     "cell_type": "code",
     "checksum": "fe4dacbb08722b927eee5f11ae99b887",
     "grade": true,
     "grade_id": "cell-student-count-year-test-2",
     "locked": true,
     "points": 5,
     "schema_version": 3,
     "solution": false,
     "task": false
    }
   },
   "outputs": [],
   "source": [
    "# DO NOT MODIFY THIS CELL"
   ]
  },
  {
   "cell_type": "markdown",
   "metadata": {
    "deletable": false,
    "editable": false,
    "hideCode": false,
    "hidePrompt": false,
    "nbgrader": {
     "cell_type": "markdown",
     "checksum": "9a96b7874ffd7aba16dddedd3e60618c",
     "grade": false,
     "grade_id": "cell-016680d27d8302d2",
     "locked": true,
     "schema_version": 3,
     "solution": false,
     "task": false
    }
   },
   "source": [
    "## Challenge 3: Calculate Monthly Mean Fire Count\n",
    "\n",
    "In the cell below use Pandas to calculate the **mean monthly fire count**.\n",
    "You should have one value for each month as an output. \n",
    "\n",
    "Set the display options to:\n",
    "\n",
    "`pd.options.display.float_format = '{:.1f}'.format`\n",
    "\n",
    "To ensure that the values returned are rounded.\n",
    "Be sure to call the object at the end of the cell so that it renders as cell output.\n",
    "**DO NOT USE THE PRINT STATEMENT!**"
   ]
  },
  {
   "cell_type": "code",
   "execution_count": 133,
   "metadata": {
    "deletable": false,
    "hideCode": false,
    "hidePrompt": false,
    "nbgrader": {
     "cell_type": "code",
     "checksum": "1fe82e57cc366bb9c28cdd3af4ba2501",
     "grade": false,
     "grade_id": "student-monthly-mean-answer",
     "locked": false,
     "schema_version": 3,
     "solution": true,
     "task": false
    }
   },
   "outputs": [
    {
     "data": {
      "text/plain": [
       "Jan    0.9\n",
       "Feb    0.9\n",
       "Mar    1.5\n",
       "Apr    3.7\n",
       "May   14.1\n",
       "Jun   34.0\n",
       "Jul   40.3\n",
       "Aug   37.9\n",
       "Sep   21.7\n",
       "Oct   11.5\n",
       "Nov    3.4\n",
       "Dec    1.0\n",
       "dtype: float64"
      ]
     },
     "execution_count": 133,
     "metadata": {},
     "output_type": "execute_result"
    }
   ],
   "source": [
    "# YOUR CODE HERE\n",
    "pd.options.display.float_format = '{:.1f}'.format\n",
    "\n",
    "mean_monthly_fire_count = monthly_fire_count_df.mean(axis = 0)\n",
    "mean_monthly_fire_count"
   ]
  },
  {
   "cell_type": "code",
   "execution_count": 134,
   "metadata": {
    "deletable": false,
    "editable": false,
    "hideCode": false,
    "hidePrompt": false,
    "nbgrader": {
     "cell_type": "code",
     "checksum": "b53342fcd9f83ea2062d5cd1eaf1c4dd",
     "grade": true,
     "grade_id": "student-monthly-mean-test",
     "locked": true,
     "points": 5,
     "schema_version": 3,
     "solution": false,
     "task": false
    }
   },
   "outputs": [],
   "source": [
    "# DO NOT MODIFY THIS CELL"
   ]
  },
  {
   "cell_type": "markdown",
   "metadata": {
    "deletable": false,
    "editable": false,
    "nbgrader": {
     "cell_type": "markdown",
     "checksum": "92e63211fe374fca76e9667d102455a2",
     "grade": false,
     "grade_id": "cell-8269ec0155cd4cf9",
     "locked": true,
     "schema_version": 3,
     "solution": false,
     "task": false
    }
   },
   "source": [
    "<img style=\"float: left;\" src=\"colored-bar.png\"/>"
   ]
  },
  {
   "cell_type": "markdown",
   "metadata": {
    "deletable": false,
    "editable": false,
    "hideCode": false,
    "hidePrompt": false,
    "nbgrader": {
     "cell_type": "markdown",
     "checksum": "ddb0c616f0d39c18f8597ecccd4cdb76",
     "grade": false,
     "grade_id": "challenge-4-description",
     "locked": true,
     "schema_version": 3,
     "solution": false,
     "task": false
    }
   },
   "source": [
    "## Challenge 4: Calculate Yearly Mean Fire Count\n",
    "\n",
    "In the cell below use pandas to calculate the mean yearly fire count.\n",
    "HINT: similar to `numpy.mean()`, using `axis=` when you call `.mean()` will help you \n",
    "calculate a mean per row (by year) rather than by column (by month). \n",
    "\n",
    "For your answer below, use `pd.options.display.float_format = '{:.1f}'.format` to \n",
    "ensure that your data values are rounded to one decimal point. \n",
    "\n",
    "IMPORTANT: Call the object that contains mean values at the end of the cell so the \n",
    "output renders as output below."
   ]
  },
  {
   "cell_type": "code",
   "execution_count": 135,
   "metadata": {
    "deletable": false,
    "hideCode": false,
    "hidePrompt": false,
    "nbgrader": {
     "cell_type": "code",
     "checksum": "25e94302ea4bc11edeb3af1f2d48542f",
     "grade": false,
     "grade_id": "student_yearly_mean_answer",
     "locked": false,
     "schema_version": 3,
     "solution": true,
     "task": false
    }
   },
   "outputs": [
    {
     "data": {
      "text/plain": [
       "year\n",
       "1999   18.2\n",
       "1998   11.2\n",
       "2010    7.8\n",
       "2004   12.2\n",
       "2005   14.2\n",
       "2011   11.6\n",
       "2007   13.3\n",
       "2013   10.2\n",
       "2012   10.6\n",
       "2006   19.6\n",
       "2002   13.9\n",
       "2003   17.5\n",
       "2015   11.0\n",
       "2001   12.4\n",
       "2000    9.4\n",
       "2014    7.5\n",
       "2008   23.4\n",
       "2009   10.0\n",
       "1995   15.8\n",
       "1994   16.8\n",
       "1996   27.8\n",
       "1997   11.9\n",
       "1993   15.6\n",
       "1992   19.8\n",
       "dtype: float64"
      ]
     },
     "execution_count": 135,
     "metadata": {},
     "output_type": "execute_result"
    }
   ],
   "source": [
    "# YOUR CODE HERE\n",
    "mean_yearly_fire_count = monthly_fire_count_df.mean(axis = 1)\n",
    "mean_yearly_fire_count"
   ]
  },
  {
   "cell_type": "code",
   "execution_count": 136,
   "metadata": {
    "deletable": false,
    "editable": false,
    "hideCode": false,
    "hidePrompt": false,
    "nbgrader": {
     "cell_type": "code",
     "checksum": "78888eb18bbe1c918ca7b1e24ddf41cc",
     "grade": true,
     "grade_id": "student_yearly_mean_test",
     "locked": true,
     "points": 5,
     "schema_version": 3,
     "solution": false,
     "task": false
    }
   },
   "outputs": [],
   "source": [
    "# DO NOT MODIFY THIS CELL"
   ]
  },
  {
   "cell_type": "markdown",
   "metadata": {
    "deletable": false,
    "editable": false,
    "nbgrader": {
     "cell_type": "markdown",
     "checksum": "bf74e8c1a225a65ab85788082856b0d5",
     "grade": false,
     "grade_id": "cell-a8e5f076177ae396",
     "locked": true,
     "schema_version": 3,
     "solution": false,
     "task": false
    }
   },
   "source": [
    "<img style=\"float: left;\" src=\"colored-bar.png\"/>"
   ]
  },
  {
   "cell_type": "markdown",
   "metadata": {
    "deletable": false,
    "editable": false,
    "hideCode": false,
    "hidePrompt": false,
    "nbgrader": {
     "cell_type": "markdown",
     "checksum": "edd11f78697df27679cd11bd7a8a3ddc",
     "grade": false,
     "grade_id": "cell-challenge-5-desc",
     "locked": true,
     "schema_version": 3,
     "solution": false,
     "task": false
    }
   },
   "source": [
    "## Challenge 5: Open and Create a Fire Size DataFrame With A Year Column\n",
    "\n",
    "Use a `for` loop to open and add the data in the directory:\n",
    "\n",
    "`earthpy-downloads/ca-fire-data/yearly_data/mean_fire_size`\n",
    "\n",
    "to a new DataFrame following the same steps that you completed above.\n",
    "\n",
    "1. loop through each `.csv` file sorted by name\n",
    "2. open that file using pandas\n",
    "3. add a new column to each `DataFrame` that contains the year associated with the data. You will need to extract the year from the file name similar to what you did above. \n",
    "4. Outside of the for loop, combine all of the files into a single DataFrame and set the year column to be an index (just like you did for the fire count data above). \n",
    "\n",
    "Call the new DataFrame object at the end of the cell."
   ]
  },
  {
   "cell_type": "code",
   "execution_count": 137,
   "metadata": {
    "deletable": false,
    "hideCode": false,
    "hidePrompt": false,
    "nbgrader": {
     "cell_type": "code",
     "checksum": "7249d7e82e1edc8f1fc058669084455c",
     "grade": false,
     "grade_id": "create-fire-size-answer",
     "locked": false,
     "schema_version": 3,
     "solution": true,
     "task": false
    }
   },
   "outputs": [
    {
     "data": {
      "text/html": [
       "<div>\n",
       "<style scoped>\n",
       "    .dataframe tbody tr th:only-of-type {\n",
       "        vertical-align: middle;\n",
       "    }\n",
       "\n",
       "    .dataframe tbody tr th {\n",
       "        vertical-align: top;\n",
       "    }\n",
       "\n",
       "    .dataframe thead th {\n",
       "        text-align: right;\n",
       "    }\n",
       "</style>\n",
       "<table border=\"1\" class=\"dataframe\">\n",
       "  <thead>\n",
       "    <tr style=\"text-align: right;\">\n",
       "      <th></th>\n",
       "      <th>Jan</th>\n",
       "      <th>Feb</th>\n",
       "      <th>Mar</th>\n",
       "      <th>Apr</th>\n",
       "      <th>May</th>\n",
       "      <th>Jun</th>\n",
       "      <th>Jul</th>\n",
       "      <th>Aug</th>\n",
       "      <th>Sep</th>\n",
       "      <th>Oct</th>\n",
       "      <th>Nov</th>\n",
       "      <th>Dec</th>\n",
       "    </tr>\n",
       "    <tr>\n",
       "      <th>year</th>\n",
       "      <th></th>\n",
       "      <th></th>\n",
       "      <th></th>\n",
       "      <th></th>\n",
       "      <th></th>\n",
       "      <th></th>\n",
       "      <th></th>\n",
       "      <th></th>\n",
       "      <th></th>\n",
       "      <th></th>\n",
       "      <th></th>\n",
       "      <th></th>\n",
       "    </tr>\n",
       "  </thead>\n",
       "  <tbody>\n",
       "    <tr>\n",
       "      <th>1992</th>\n",
       "      <td>0.0</td>\n",
       "      <td>120.0</td>\n",
       "      <td>1800.0</td>\n",
       "      <td>1390.8</td>\n",
       "      <td>402.9</td>\n",
       "      <td>444.7</td>\n",
       "      <td>436.2</td>\n",
       "      <td>2255.9</td>\n",
       "      <td>1684.8</td>\n",
       "      <td>321.7</td>\n",
       "      <td>283.0</td>\n",
       "      <td>0.0</td>\n",
       "    </tr>\n",
       "    <tr>\n",
       "      <th>1993</th>\n",
       "      <td>0.0</td>\n",
       "      <td>0.0</td>\n",
       "      <td>0.0</td>\n",
       "      <td>250.5</td>\n",
       "      <td>923.4</td>\n",
       "      <td>1003.0</td>\n",
       "      <td>444.1</td>\n",
       "      <td>804.4</td>\n",
       "      <td>2159.7</td>\n",
       "      <td>7375.5</td>\n",
       "      <td>1451.9</td>\n",
       "      <td>240.0</td>\n",
       "    </tr>\n",
       "    <tr>\n",
       "      <th>1994</th>\n",
       "      <td>280.0</td>\n",
       "      <td>0.0</td>\n",
       "      <td>0.0</td>\n",
       "      <td>936.3</td>\n",
       "      <td>1255.9</td>\n",
       "      <td>1364.5</td>\n",
       "      <td>1889.2</td>\n",
       "      <td>2550.0</td>\n",
       "      <td>2755.8</td>\n",
       "      <td>535.6</td>\n",
       "      <td>0.0</td>\n",
       "      <td>250.0</td>\n",
       "    </tr>\n",
       "    <tr>\n",
       "      <th>1995</th>\n",
       "      <td>0.0</td>\n",
       "      <td>160.0</td>\n",
       "      <td>0.0</td>\n",
       "      <td>0.0</td>\n",
       "      <td>400.8</td>\n",
       "      <td>1307.8</td>\n",
       "      <td>885.6</td>\n",
       "      <td>1798.8</td>\n",
       "      <td>480.6</td>\n",
       "      <td>1250.1</td>\n",
       "      <td>362.7</td>\n",
       "      <td>179.3</td>\n",
       "    </tr>\n",
       "    <tr>\n",
       "      <th>1996</th>\n",
       "      <td>1940.0</td>\n",
       "      <td>0.0</td>\n",
       "      <td>1000.0</td>\n",
       "      <td>3892.9</td>\n",
       "      <td>799.0</td>\n",
       "      <td>1044.0</td>\n",
       "      <td>828.0</td>\n",
       "      <td>4020.1</td>\n",
       "      <td>438.6</td>\n",
       "      <td>3070.8</td>\n",
       "      <td>134.7</td>\n",
       "      <td>150.0</td>\n",
       "    </tr>\n",
       "    <tr>\n",
       "      <th>1997</th>\n",
       "      <td>0.0</td>\n",
       "      <td>0.0</td>\n",
       "      <td>406.0</td>\n",
       "      <td>423.0</td>\n",
       "      <td>2277.0</td>\n",
       "      <td>896.7</td>\n",
       "      <td>580.2</td>\n",
       "      <td>4648.3</td>\n",
       "      <td>1050.3</td>\n",
       "      <td>7302.1</td>\n",
       "      <td>375.0</td>\n",
       "      <td>0.0</td>\n",
       "    </tr>\n",
       "    <tr>\n",
       "      <th>1998</th>\n",
       "      <td>0.0</td>\n",
       "      <td>0.0</td>\n",
       "      <td>0.0</td>\n",
       "      <td>134.0</td>\n",
       "      <td>198.0</td>\n",
       "      <td>254.8</td>\n",
       "      <td>780.6</td>\n",
       "      <td>1216.7</td>\n",
       "      <td>293.6</td>\n",
       "      <td>3556.6</td>\n",
       "      <td>229.2</td>\n",
       "      <td>246.5</td>\n",
       "    </tr>\n",
       "    <tr>\n",
       "      <th>1999</th>\n",
       "      <td>0.0</td>\n",
       "      <td>600.0</td>\n",
       "      <td>1325.0</td>\n",
       "      <td>537.7</td>\n",
       "      <td>2221.7</td>\n",
       "      <td>486.2</td>\n",
       "      <td>1138.3</td>\n",
       "      <td>4971.5</td>\n",
       "      <td>4813.1</td>\n",
       "      <td>4060.6</td>\n",
       "      <td>437.3</td>\n",
       "      <td>2560.5</td>\n",
       "    </tr>\n",
       "    <tr>\n",
       "      <th>2000</th>\n",
       "      <td>0.0</td>\n",
       "      <td>0.0</td>\n",
       "      <td>465.0</td>\n",
       "      <td>785.0</td>\n",
       "      <td>277.2</td>\n",
       "      <td>709.9</td>\n",
       "      <td>3826.2</td>\n",
       "      <td>3547.2</td>\n",
       "      <td>863.4</td>\n",
       "      <td>767.6</td>\n",
       "      <td>0.0</td>\n",
       "      <td>337.7</td>\n",
       "    </tr>\n",
       "    <tr>\n",
       "      <th>2001</th>\n",
       "      <td>5254.0</td>\n",
       "      <td>2400.0</td>\n",
       "      <td>200.0</td>\n",
       "      <td>0.0</td>\n",
       "      <td>755.8</td>\n",
       "      <td>873.0</td>\n",
       "      <td>1144.3</td>\n",
       "      <td>4941.7</td>\n",
       "      <td>2349.5</td>\n",
       "      <td>1369.0</td>\n",
       "      <td>194.0</td>\n",
       "      <td>1200.0</td>\n",
       "    </tr>\n",
       "    <tr>\n",
       "      <th>2002</th>\n",
       "      <td>0.0</td>\n",
       "      <td>2133.0</td>\n",
       "      <td>626.1</td>\n",
       "      <td>403.0</td>\n",
       "      <td>699.5</td>\n",
       "      <td>2661.5</td>\n",
       "      <td>7624.2</td>\n",
       "      <td>523.0</td>\n",
       "      <td>3745.0</td>\n",
       "      <td>493.3</td>\n",
       "      <td>750.0</td>\n",
       "      <td>0.0</td>\n",
       "    </tr>\n",
       "    <tr>\n",
       "      <th>2003</th>\n",
       "      <td>389.3</td>\n",
       "      <td>12000.0</td>\n",
       "      <td>0.0</td>\n",
       "      <td>444.9</td>\n",
       "      <td>515.0</td>\n",
       "      <td>593.1</td>\n",
       "      <td>1474.3</td>\n",
       "      <td>2116.1</td>\n",
       "      <td>1302.9</td>\n",
       "      <td>34215.9</td>\n",
       "      <td>301.0</td>\n",
       "      <td>0.0</td>\n",
       "    </tr>\n",
       "    <tr>\n",
       "      <th>2004</th>\n",
       "      <td>0.0</td>\n",
       "      <td>122.0</td>\n",
       "      <td>350.0</td>\n",
       "      <td>485.8</td>\n",
       "      <td>2134.1</td>\n",
       "      <td>999.7</td>\n",
       "      <td>2090.1</td>\n",
       "      <td>1764.5</td>\n",
       "      <td>975.2</td>\n",
       "      <td>9506.4</td>\n",
       "      <td>131.0</td>\n",
       "      <td>0.0</td>\n",
       "    </tr>\n",
       "    <tr>\n",
       "      <th>2005</th>\n",
       "      <td>0.0</td>\n",
       "      <td>0.0</td>\n",
       "      <td>0.0</td>\n",
       "      <td>181.0</td>\n",
       "      <td>404.4</td>\n",
       "      <td>3348.1</td>\n",
       "      <td>1114.1</td>\n",
       "      <td>867.0</td>\n",
       "      <td>1160.6</td>\n",
       "      <td>922.7</td>\n",
       "      <td>1147.0</td>\n",
       "      <td>0.0</td>\n",
       "    </tr>\n",
       "    <tr>\n",
       "      <th>2006</th>\n",
       "      <td>485.0</td>\n",
       "      <td>6699.5</td>\n",
       "      <td>0.0</td>\n",
       "      <td>0.0</td>\n",
       "      <td>577.7</td>\n",
       "      <td>892.6</td>\n",
       "      <td>4143.6</td>\n",
       "      <td>606.0</td>\n",
       "      <td>10769.0</td>\n",
       "      <td>4122.9</td>\n",
       "      <td>313.2</td>\n",
       "      <td>11442.2</td>\n",
       "    </tr>\n",
       "    <tr>\n",
       "      <th>2007</th>\n",
       "      <td>404.0</td>\n",
       "      <td>169.0</td>\n",
       "      <td>1116.2</td>\n",
       "      <td>882.5</td>\n",
       "      <td>613.1</td>\n",
       "      <td>1033.7</td>\n",
       "      <td>10025.8</td>\n",
       "      <td>565.4</td>\n",
       "      <td>12097.6</td>\n",
       "      <td>20224.9</td>\n",
       "      <td>2041.0</td>\n",
       "      <td>0.0</td>\n",
       "    </tr>\n",
       "    <tr>\n",
       "      <th>2008</th>\n",
       "      <td>0.0</td>\n",
       "      <td>400.0</td>\n",
       "      <td>680.0</td>\n",
       "      <td>489.0</td>\n",
       "      <td>1949.6</td>\n",
       "      <td>6863.3</td>\n",
       "      <td>3264.1</td>\n",
       "      <td>2171.6</td>\n",
       "      <td>1681.3</td>\n",
       "      <td>1736.8</td>\n",
       "      <td>14489.0</td>\n",
       "      <td>0.0</td>\n",
       "    </tr>\n",
       "    <tr>\n",
       "      <th>2009</th>\n",
       "      <td>0.0</td>\n",
       "      <td>945.0</td>\n",
       "      <td>0.0</td>\n",
       "      <td>778.6</td>\n",
       "      <td>1226.2</td>\n",
       "      <td>707.1</td>\n",
       "      <td>1224.7</td>\n",
       "      <td>8838.8</td>\n",
       "      <td>1347.8</td>\n",
       "      <td>2158.8</td>\n",
       "      <td>145.0</td>\n",
       "      <td>0.0</td>\n",
       "    </tr>\n",
       "    <tr>\n",
       "      <th>2010</th>\n",
       "      <td>107.0</td>\n",
       "      <td>0.0</td>\n",
       "      <td>130.0</td>\n",
       "      <td>0.0</td>\n",
       "      <td>657.6</td>\n",
       "      <td>410.7</td>\n",
       "      <td>2247.5</td>\n",
       "      <td>496.8</td>\n",
       "      <td>1625.0</td>\n",
       "      <td>438.2</td>\n",
       "      <td>145.3</td>\n",
       "      <td>0.0</td>\n",
       "    </tr>\n",
       "    <tr>\n",
       "      <th>2011</th>\n",
       "      <td>0.0</td>\n",
       "      <td>0.0</td>\n",
       "      <td>622.5</td>\n",
       "      <td>206.2</td>\n",
       "      <td>333.7</td>\n",
       "      <td>719.4</td>\n",
       "      <td>1765.9</td>\n",
       "      <td>745.3</td>\n",
       "      <td>2400.8</td>\n",
       "      <td>1162.1</td>\n",
       "      <td>178.3</td>\n",
       "      <td>411.0</td>\n",
       "    </tr>\n",
       "    <tr>\n",
       "      <th>2012</th>\n",
       "      <td>0.0</td>\n",
       "      <td>200.0</td>\n",
       "      <td>0.0</td>\n",
       "      <td>143.0</td>\n",
       "      <td>1469.9</td>\n",
       "      <td>544.8</td>\n",
       "      <td>4999.9</td>\n",
       "      <td>12179.8</td>\n",
       "      <td>3011.2</td>\n",
       "      <td>214.2</td>\n",
       "      <td>350.0</td>\n",
       "      <td>0.0</td>\n",
       "    </tr>\n",
       "    <tr>\n",
       "      <th>2013</th>\n",
       "      <td>335.0</td>\n",
       "      <td>353.5</td>\n",
       "      <td>0.0</td>\n",
       "      <td>183.9</td>\n",
       "      <td>3434.6</td>\n",
       "      <td>630.9</td>\n",
       "      <td>4021.0</td>\n",
       "      <td>11833.1</td>\n",
       "      <td>1432.4</td>\n",
       "      <td>228.3</td>\n",
       "      <td>1023.2</td>\n",
       "      <td>0.0</td>\n",
       "    </tr>\n",
       "    <tr>\n",
       "      <th>2014</th>\n",
       "      <td>806.5</td>\n",
       "      <td>0.0</td>\n",
       "      <td>203.3</td>\n",
       "      <td>826.7</td>\n",
       "      <td>3141.9</td>\n",
       "      <td>851.6</td>\n",
       "      <td>8337.1</td>\n",
       "      <td>9679.5</td>\n",
       "      <td>10195.6</td>\n",
       "      <td>1209.7</td>\n",
       "      <td>105.0</td>\n",
       "      <td>0.0</td>\n",
       "    </tr>\n",
       "    <tr>\n",
       "      <th>2015</th>\n",
       "      <td>0.0</td>\n",
       "      <td>2417.0</td>\n",
       "      <td>0.0</td>\n",
       "      <td>1081.0</td>\n",
       "      <td>270.5</td>\n",
       "      <td>4577.2</td>\n",
       "      <td>8862.4</td>\n",
       "      <td>2815.7</td>\n",
       "      <td>16728.0</td>\n",
       "      <td>413.0</td>\n",
       "      <td>323.0</td>\n",
       "      <td>1288.0</td>\n",
       "    </tr>\n",
       "  </tbody>\n",
       "</table>\n",
       "</div>"
      ],
      "text/plain": [
       "        Jan     Feb    Mar    Apr    May    Jun     Jul     Aug     Sep  \\\n",
       "year                                                                      \n",
       "1992    0.0   120.0 1800.0 1390.8  402.9  444.7   436.2  2255.9  1684.8   \n",
       "1993    0.0     0.0    0.0  250.5  923.4 1003.0   444.1   804.4  2159.7   \n",
       "1994  280.0     0.0    0.0  936.3 1255.9 1364.5  1889.2  2550.0  2755.8   \n",
       "1995    0.0   160.0    0.0    0.0  400.8 1307.8   885.6  1798.8   480.6   \n",
       "1996 1940.0     0.0 1000.0 3892.9  799.0 1044.0   828.0  4020.1   438.6   \n",
       "1997    0.0     0.0  406.0  423.0 2277.0  896.7   580.2  4648.3  1050.3   \n",
       "1998    0.0     0.0    0.0  134.0  198.0  254.8   780.6  1216.7   293.6   \n",
       "1999    0.0   600.0 1325.0  537.7 2221.7  486.2  1138.3  4971.5  4813.1   \n",
       "2000    0.0     0.0  465.0  785.0  277.2  709.9  3826.2  3547.2   863.4   \n",
       "2001 5254.0  2400.0  200.0    0.0  755.8  873.0  1144.3  4941.7  2349.5   \n",
       "2002    0.0  2133.0  626.1  403.0  699.5 2661.5  7624.2   523.0  3745.0   \n",
       "2003  389.3 12000.0    0.0  444.9  515.0  593.1  1474.3  2116.1  1302.9   \n",
       "2004    0.0   122.0  350.0  485.8 2134.1  999.7  2090.1  1764.5   975.2   \n",
       "2005    0.0     0.0    0.0  181.0  404.4 3348.1  1114.1   867.0  1160.6   \n",
       "2006  485.0  6699.5    0.0    0.0  577.7  892.6  4143.6   606.0 10769.0   \n",
       "2007  404.0   169.0 1116.2  882.5  613.1 1033.7 10025.8   565.4 12097.6   \n",
       "2008    0.0   400.0  680.0  489.0 1949.6 6863.3  3264.1  2171.6  1681.3   \n",
       "2009    0.0   945.0    0.0  778.6 1226.2  707.1  1224.7  8838.8  1347.8   \n",
       "2010  107.0     0.0  130.0    0.0  657.6  410.7  2247.5   496.8  1625.0   \n",
       "2011    0.0     0.0  622.5  206.2  333.7  719.4  1765.9   745.3  2400.8   \n",
       "2012    0.0   200.0    0.0  143.0 1469.9  544.8  4999.9 12179.8  3011.2   \n",
       "2013  335.0   353.5    0.0  183.9 3434.6  630.9  4021.0 11833.1  1432.4   \n",
       "2014  806.5     0.0  203.3  826.7 3141.9  851.6  8337.1  9679.5 10195.6   \n",
       "2015    0.0  2417.0    0.0 1081.0  270.5 4577.2  8862.4  2815.7 16728.0   \n",
       "\n",
       "         Oct     Nov     Dec  \n",
       "year                          \n",
       "1992   321.7   283.0     0.0  \n",
       "1993  7375.5  1451.9   240.0  \n",
       "1994   535.6     0.0   250.0  \n",
       "1995  1250.1   362.7   179.3  \n",
       "1996  3070.8   134.7   150.0  \n",
       "1997  7302.1   375.0     0.0  \n",
       "1998  3556.6   229.2   246.5  \n",
       "1999  4060.6   437.3  2560.5  \n",
       "2000   767.6     0.0   337.7  \n",
       "2001  1369.0   194.0  1200.0  \n",
       "2002   493.3   750.0     0.0  \n",
       "2003 34215.9   301.0     0.0  \n",
       "2004  9506.4   131.0     0.0  \n",
       "2005   922.7  1147.0     0.0  \n",
       "2006  4122.9   313.2 11442.2  \n",
       "2007 20224.9  2041.0     0.0  \n",
       "2008  1736.8 14489.0     0.0  \n",
       "2009  2158.8   145.0     0.0  \n",
       "2010   438.2   145.3     0.0  \n",
       "2011  1162.1   178.3   411.0  \n",
       "2012   214.2   350.0     0.0  \n",
       "2013   228.3  1023.2     0.0  \n",
       "2014  1209.7   105.0     0.0  \n",
       "2015   413.0   323.0  1288.0  "
      ]
     },
     "execution_count": 137,
     "metadata": {},
     "output_type": "execute_result"
    }
   ],
   "source": [
    "# YOUR CODE HERE\n",
    "monthly_mean_size_files = glob(os.path.join(data_path, \"monthly-mean-size\", \"*.csv\"))\n",
    "\n",
    "monthly_mean_size_list = []\n",
    "for file in monthly_mean_size_files:\n",
    "    data = pd.read_csv(file)\n",
    "    year = re.search(\"([0-9]{4})\\.csv\", file).group(1)\n",
    "    data['year'] = year\n",
    "    list.append(monthly_mean_size_list, data)\n",
    "\n",
    "monthly_mean_size_df = pd.concat(monthly_mean_size_list)\n",
    "monthly_mean_size_df = monthly_mean_size_df.set_index('year')\n",
    "\n",
    "monthly_mean_size_df = monthly_mean_size_df.sort_index()\n",
    "monthly_mean_size_df\n"
   ]
  },
  {
   "cell_type": "code",
   "execution_count": 138,
   "metadata": {
    "deletable": false,
    "editable": false,
    "hideCode": false,
    "hidePrompt": false,
    "nbgrader": {
     "cell_type": "code",
     "checksum": "686834ea3bf452a9d94fbfc1e4b0eae2",
     "grade": true,
     "grade_id": "create-fire-size-test-1",
     "locked": true,
     "points": 0,
     "schema_version": 3,
     "solution": false,
     "task": false
    }
   },
   "outputs": [
    {
     "name": "stdout",
     "output_type": "stream",
     "text": [
      "✅ Object created is a dataframe, good job!\n",
      "✅ Successfully read in the year column as the index!\n"
     ]
    }
   ],
   "source": [
    "# DO NOT MODIFY THIS CELL\n",
    "# Visible test that there is a DataFrame with a year index\n",
    "\n",
    "student_size_df = monthly_mean_size_df\n",
    "\n",
    "if isinstance(student_size_df, pd.DataFrame):\n",
    "    print(\"\\u2705 Object created is a dataframe, good job!\")\n",
    "else:\n",
    "    print(\"\\u274C Object created is not a dataframe.\")\n",
    "\n",
    "\n",
    "if student_size_df.index.name == 'year':\n",
    "    print(\"\\u2705 Successfully read in the year column as the index!\")\n",
    "else:\n",
    "    print(\"\\u274C The index is not set to the year column.\")"
   ]
  },
  {
   "cell_type": "code",
   "execution_count": 139,
   "metadata": {
    "deletable": false,
    "editable": false,
    "hideCode": false,
    "hidePrompt": false,
    "nbgrader": {
     "cell_type": "code",
     "checksum": "124e01284b33b2ba78aa300ffd0b15a5",
     "grade": true,
     "grade_id": "create-fire-size-test-2",
     "locked": true,
     "points": 5,
     "schema_version": 3,
     "solution": false,
     "task": false
    }
   },
   "outputs": [],
   "source": [
    "# DO NOT MODIFY THIS CELL"
   ]
  },
  {
   "cell_type": "markdown",
   "metadata": {
    "deletable": false,
    "editable": false,
    "hideCode": false,
    "hidePrompt": false,
    "nbgrader": {
     "cell_type": "markdown",
     "checksum": "ecffaf5769a8cad11a59bbcc811201c5",
     "grade": false,
     "grade_id": "cell-1f5b560a0831556a",
     "locked": true,
     "schema_version": 3,
     "solution": false,
     "task": false
    }
   },
   "source": [
    "## Challenge 6: Calculate the Monthly  Max Values for Fire Size \n",
    "\n",
    "In the cell below calculate the max fire size value **for each month** (summarized across all years).\n",
    "\n",
    "You should have one value per month as the output. \n",
    "Be sure to call the object in the cell so it renders below (DO NOT USE PRINT)."
   ]
  },
  {
   "cell_type": "code",
   "execution_count": 140,
   "metadata": {
    "deletable": false,
    "hideCode": false,
    "hidePrompt": false,
    "nbgrader": {
     "cell_type": "code",
     "checksum": "6be6836e689483146d468cb204b8e789",
     "grade": false,
     "grade_id": "fire-size-monthly-max-answer",
     "locked": false,
     "schema_version": 3,
     "solution": true,
     "task": false
    }
   },
   "outputs": [
    {
     "data": {
      "text/plain": [
       "Jan    5254.0\n",
       "Feb   12000.0\n",
       "Mar    1800.0\n",
       "Apr    3892.9\n",
       "May    3434.6\n",
       "Jun    6863.3\n",
       "Jul   10025.8\n",
       "Aug   12179.8\n",
       "Sep   16728.0\n",
       "Oct   34215.9\n",
       "Nov   14489.0\n",
       "Dec   11442.2\n",
       "dtype: float64"
      ]
     },
     "execution_count": 140,
     "metadata": {},
     "output_type": "execute_result"
    }
   ],
   "source": [
    "# YOUR CODE HERE\n",
    "max_monthly_mean_size = monthly_mean_size_df.max(axis=0)\n",
    "max_monthly_mean_size"
   ]
  },
  {
   "cell_type": "code",
   "execution_count": 141,
   "metadata": {
    "deletable": false,
    "editable": false,
    "nbgrader": {
     "cell_type": "code",
     "checksum": "da9e885f46b081d7e2050ccc5c77998f",
     "grade": true,
     "grade_id": "fire-size-monthly-max-test-1",
     "locked": true,
     "points": 0,
     "schema_version": 3,
     "solution": false,
     "task": false
    }
   },
   "outputs": [
    {
     "name": "stdout",
     "output_type": "stream",
     "text": [
      "✅ Great work - you have 12 objects in your <class 'pandas.core.series.Series'> object\n"
     ]
    }
   ],
   "source": [
    "# DO NOT MODIFY THIS CELL\n",
    "student_monthly_max_size = max_monthly_mean_size\n",
    "\n",
    "if len(student_monthly_max_size) == 12:\n",
    "    print(\"\\u2705 Great work - you have 12 objects in your {} object\".format(type(student_size_df.max())))\n",
    "else:\n",
    "    print(\"\\u274C Oops! You don't have 12 objects in your output.\")"
   ]
  },
  {
   "cell_type": "code",
   "execution_count": 142,
   "metadata": {
    "deletable": false,
    "editable": false,
    "hideCode": false,
    "hidePrompt": false,
    "nbgrader": {
     "cell_type": "code",
     "checksum": "c26035d2f1f427d91c71aef97fab691c",
     "grade": true,
     "grade_id": "fire-size-monthly-max-test-2",
     "locked": true,
     "points": 5,
     "schema_version": 3,
     "solution": false,
     "task": false
    }
   },
   "outputs": [],
   "source": [
    "# DO NOT MODIFY THIS CELL"
   ]
  },
  {
   "cell_type": "markdown",
   "metadata": {
    "deletable": false,
    "editable": false,
    "nbgrader": {
     "cell_type": "markdown",
     "checksum": "1eddf2f98a076e8556b2b7cf0338e8f2",
     "grade": false,
     "grade_id": "cell-4e648217a670a773",
     "locked": true,
     "schema_version": 3,
     "solution": false,
     "task": false
    }
   },
   "source": [
    "<img style=\"float: left;\" src=\"colored-bar.png\"/>"
   ]
  },
  {
   "cell_type": "markdown",
   "metadata": {
    "deletable": false,
    "editable": false,
    "hideCode": false,
    "hidePrompt": false,
    "nbgrader": {
     "cell_type": "markdown",
     "checksum": "f54c4f18b9d9cd04d9546fbdd606d337",
     "grade": false,
     "grade_id": "challenge7-question-plot",
     "locked": true,
     "schema_version": 3,
     "solution": false
    }
   },
   "source": [
    "## Challenge 7: Figure of Fire Season in California\n",
    "\n",
    "You have been asked to create a figure that describes the number of fires (fire count)\n",
    "and the associated size of fires in California. The goal of this figure it so \n",
    "look at what time of the year we are seeing the largest and most fires. \n",
    "\n",
    "In the cell below complete the following task:\n",
    "\n",
    "* Create one multi-plot figure that contains two subplots that are **vertically spaced - one on top \n",
    "of the other**:\n",
    "    * **top plot**: Plot the mean **fire count** for each month\n",
    "    * **bottom plot** : Plot the mean of **fire size** for each month\n",
    "* **Use a different color for each plot but you can use the same style if you like.** \n",
    "    * For each plot, be sure to include appropriate titles and axes labels including units of measurement where appropriate. \n",
    "* Add an overall title for the entire figure. \n",
    "\n",
    "For your title and labels, be sure to think about the following pieces of information that could help someone easily interpret the plot:\n",
    "* geographic coverage or extent of data.\n",
    "* duration or temporal extent of the data.\n",
    "* what was actually measured and/or represented by the data.\n",
    "* units of measurement.\n",
    "\n",
    "**REMINDER:** comment out the code line `plt.show()` in your plot code like this: `# plt.show()`."
   ]
  },
  {
   "cell_type": "code",
   "execution_count": 150,
   "metadata": {
    "deletable": false,
    "hideCode": false,
    "hidePrompt": false,
    "nbgrader": {
     "cell_type": "code",
     "checksum": "1c28d422b32f11ce52c1bc206566f065",
     "grade": false,
     "grade_id": "student-create-plot-1-answer",
     "locked": false,
     "schema_version": 3,
     "solution": true,
     "task": false
    }
   },
   "outputs": [
    {
     "data": {
      "image/png": "[encoded data removed]",
      "text/plain": [
       "<Figure size 432x288 with 2 Axes>"
      ]
     },
     "metadata": {
      "needs_background": "light"
     },
     "output_type": "display_data"
    }
   ],
   "source": [
    "# YOUR CODE HERE\n",
    "monthly_mean_count = monthly_fire_count_df.mean(axis=0)\n",
    "monthly_mean_size = monthly_mean_size_df.mean(axis=0)\n",
    "\n",
    "f, axs = plt.subplots(2, 1, constrained_layout = True)\n",
    "\n",
    "monthly_mean_count.plot(x = \"month\",\n",
    "          kind = \"bar\",\n",
    "          color = \"green\",\n",
    "          xlabel = \"Month\",\n",
    "          ylabel = \"Mean number of fires\",\n",
    "          title = \"Mean number of fires per month\",\n",
    "          ax = axs[0])\n",
    "\n",
    "monthly_mean_size.plot(x = \"month\",\n",
    "          kind = \"bar\",\n",
    "          color = \"goldenrod\",\n",
    "          xlabel = \"Month\",\n",
    "          ylabel = \"Mean fire size\",\n",
    "          title = \"Mean fire size by month\",\n",
    "          ax = axs[1])\n",
    "\n",
    "plt.suptitle('Graphs with fire information')\n",
    "\n",
    "### DO NOT REMOVE LINE BELOW ###\n",
    "hist_plot_1 = nb.convert_axes(plt, which_axes=\"all\")\n"
   ]
  },
  {
   "cell_type": "code",
   "execution_count": 151,
   "metadata": {
    "deletable": false,
    "editable": false,
    "nbgrader": {
     "cell_type": "code",
     "checksum": "746a01450395c83d599b6447953f5eec",
     "grade": true,
     "grade_id": "plot-1-tests",
     "locked": true,
     "points": 20,
     "schema_version": 3,
     "solution": false,
     "task": false
    }
   },
   "outputs": [
    {
     "name": "stdout",
     "output_type": "stream",
     "text": [
      "✅ First plot is a bar plot!\n",
      "✅ Second plot is a bar plot!\n"
     ]
    }
   ],
   "source": [
    "# DO NOT MODIFY THIS CELL\n",
    "count_hist = PlotTester(hist_plot_1[0])\n",
    "size_hist = PlotTester(hist_plot_1[1])\n",
    "bar_plot_1, bar_plot_2 = False, False\n",
    "\n",
    "try:\n",
    "    count_hist.assert_plot_type('bar')\n",
    "    print(\"\\u2705 First plot is a bar plot!\")\n",
    "    bar_plot_1 = True\n",
    "except AssertionError:\n",
    "    print(\"\\u274C The first plot is not a bar plot, make sure to make it to a bar plot. Tests will not run successfully if this does not pass.\")\n",
    "\n",
    "try:\n",
    "    size_hist.assert_plot_type('bar')\n",
    "    print(\"\\u2705 Second plot is a bar plot!\")\n",
    "    bar_plot_2 = True\n",
    "except AssertionError:\n",
    "    print(\"\\u274C The second plot is not a bar plot, make sure to make it to a bar plot. Tests will not run successfully if this does not pass.\")\n"
   ]
  },
  {
   "cell_type": "markdown",
   "metadata": {
    "deletable": false,
    "editable": false,
    "hideCode": false,
    "hidePrompt": false,
    "nbgrader": {
     "cell_type": "markdown",
     "checksum": "126bd1036142c7d92e18ddef779aaf1a",
     "grade": false,
     "grade_id": "question-explain-pep-8",
     "locked": true,
     "schema_version": 3,
     "solution": false,
     "task": false
    }
   },
   "source": [
    "## Discuss Your Plot\n",
    "\n",
    "In the Markdown cell below, answer the following questions using a Markdown list.\n",
    "\n",
    "1. In what month are fires the largest during the time period represented in the two datasets?\n",
    "2. In what month are there the most fires during the time period represented in this data?\n",
    "3. If the above answers are different months, can you think of a reason why this trend might occur?\n"
   ]
  },
  {
   "cell_type": "markdown",
   "metadata": {
    "deletable": false,
    "hideCode": false,
    "hidePrompt": false,
    "nbgrader": {
     "cell_type": "markdown",
     "checksum": "4f413fa0b0ec10b6be713e09bf4b6e9b",
     "grade": true,
     "grade_id": "cell-e5b21fde84e3e84e",
     "locked": false,
     "points": 10,
     "schema_version": 3,
     "solution": true,
     "task": false
    }
   },
   "source": [
    "1. October\n",
    "2. July\n",
    "3. Over the summer several smaller fires can combine to form larger ones."
   ]
  },
  {
   "cell_type": "markdown",
   "metadata": {
    "deletable": false,
    "editable": false,
    "nbgrader": {
     "cell_type": "markdown",
     "checksum": "cc0f580f85aa055eaa733e4cdcd2007c",
     "grade": false,
     "grade_id": "cell-25302b6b552f8180",
     "locked": true,
     "schema_version": 3,
     "solution": false,
     "task": false
    }
   },
   "source": [
    "<img style=\"float: left;\" src=\"colored-bar.png\"/>"
   ]
  },
  {
   "cell_type": "markdown",
   "metadata": {
    "deletable": false,
    "editable": false,
    "hideCode": false,
    "hideOutput": true,
    "hidePrompt": false,
    "nbgrader": {
     "cell_type": "markdown",
     "checksum": "83e8030467ea36952c273d37e42caf41",
     "grade": false,
     "grade_id": "challenge-8-description",
     "locked": true,
     "schema_version": 3,
     "solution": false,
     "task": false
    }
   },
   "source": [
    "## Challenge 8: Fires by Cause Data\n",
    "\n",
    "In the cell below do the following: \n",
    "\n",
    "1. Loop through, open and combine all of the files in the \n",
    "`earthpy-downloads/ca-fires-yearly/1992-2015-gt-100-acres` directory\n",
    "2. Add a year column to the data\n",
    "3. Calculate the total count of fires by \"cause\" using pandas `df.size()`."
   ]
  },
  {
   "cell_type": "code",
   "execution_count": 167,
   "metadata": {
    "deletable": false,
    "nbgrader": {
     "cell_type": "code",
     "checksum": "f955cb415fce1737fe380c992eea8ab8",
     "grade": false,
     "grade_id": "open-cause-data-answer",
     "locked": false,
     "schema_version": 3,
     "solution": true,
     "task": false
    }
   },
   "outputs": [
    {
     "data": {
      "text/plain": [
       "cause\n",
       "Arson                 449\n",
       "Campfire              150\n",
       "Children               51\n",
       "Debris Burning        189\n",
       "Equipment Use         923\n",
       "Fireworks              10\n",
       "Lightning             875\n",
       "Miscellaneous        1013\n",
       "Missing/Undefined     278\n",
       "Powerline              64\n",
       "Railroad               24\n",
       "Smoking                67\n",
       "Structure               8\n",
       "dtype: int64"
      ]
     },
     "execution_count": 167,
     "metadata": {},
     "output_type": "execute_result"
    }
   ],
   "source": [
    "# YOUR CODE HER\n",
    "fires_by_cause_files = glob(os.path.join(data_path, \"1992-2015-gt-100-acres\", \"*\"))\n",
    "\n",
    "fires_by_cause_list = []\n",
    "for file in fires_by_cause_files:\n",
    "    data = pd.read_csv(file)\n",
    "    year = re.search(\"([0-9]{4})\\.csv\", file).group(1)\n",
    "    data['year'] = year\n",
    "    list.append(fires_by_cause_list, data)\n",
    "\n",
    "fires_by_cause_df = pd.concat(fires_by_cause_list)\n",
    "\n",
    "fires_by_cause = fires_by_cause_df.groupby('cause').size()\n",
    "fires_by_cause"
   ]
  },
  {
   "cell_type": "code",
   "execution_count": 168,
   "metadata": {
    "deletable": false,
    "editable": false,
    "nbgrader": {
     "cell_type": "code",
     "checksum": "ba71c707260b27aee9edc2d243240e21",
     "grade": true,
     "grade_id": "open-cause-data-test-1",
     "locked": true,
     "points": 0,
     "schema_version": 3,
     "solution": false,
     "task": false
    }
   },
   "outputs": [
    {
     "name": "stdout",
     "output_type": "stream",
     "text": [
      "✅ Your output is a Pandas Series, good job!\n"
     ]
    }
   ],
   "source": [
    "student_fires_by_cause = fires_by_cause\n",
    "\n",
    "if isinstance(student_fires_by_cause, pd.Series):\n",
    "    print(\"\\u2705 Your output is a Pandas Series, good job!\")\n",
    "else:\n",
    "    print(\"\\u274C Your output is not a Pandas Series, make sure you are running groupby at the end of the cell.\")"
   ]
  },
  {
   "cell_type": "code",
   "execution_count": 169,
   "metadata": {
    "deletable": false,
    "editable": false,
    "nbgrader": {
     "cell_type": "code",
     "checksum": "7a8699f74064ce4320a3369ab891f8d5",
     "grade": true,
     "grade_id": "open-cause-data-test-2",
     "locked": true,
     "points": 8,
     "schema_version": 3,
     "solution": false,
     "task": false
    }
   },
   "outputs": [],
   "source": [
    "# DO NOT MODIFY THIS CELL"
   ]
  },
  {
   "cell_type": "markdown",
   "metadata": {
    "deletable": false,
    "editable": false,
    "nbgrader": {
     "cell_type": "markdown",
     "checksum": "19073ea3423b0b9791918000e8ff94b9",
     "grade": false,
     "grade_id": "cell-cebfb3fcc6d60603",
     "locked": true,
     "schema_version": 3,
     "solution": false,
     "task": false
    }
   },
   "source": [
    "In the cell below subset your fires DataFrame so it only contains fires\n",
    "that are of fire_class_size \"G\"."
   ]
  },
  {
   "cell_type": "code",
   "execution_count": 173,
   "metadata": {
    "deletable": false,
    "nbgrader": {
     "cell_type": "code",
     "checksum": "8c0190d44042b43131218efc1020e17a",
     "grade": false,
     "grade_id": "filter-g-answer",
     "locked": false,
     "schema_version": 3,
     "solution": true,
     "task": false
    }
   },
   "outputs": [],
   "source": [
    "# YOUR CODE HERE\n",
    "g_fires = fires_by_cause_df[fires_by_cause_df.fire_size_class == \"G\"]"
   ]
  },
  {
   "cell_type": "code",
   "execution_count": 174,
   "metadata": {
    "deletable": false,
    "editable": false,
    "nbgrader": {
     "cell_type": "code",
     "checksum": "096da97a15eb3a90be5e6dcd1dacfb69",
     "grade": true,
     "grade_id": "filter-g-test",
     "locked": true,
     "points": 4,
     "schema_version": 3,
     "solution": false,
     "task": false
    }
   },
   "outputs": [
    {
     "name": "stdout",
     "output_type": "stream",
     "text": [
      "✅ Correct number of rows in your class G dataframe!\n",
      "✅ Successfully filtered dataframe to only contain class G fires!\n",
      "\n",
      " ➡ You received 4 out of 4 points for filtering the class G fires correctly.\n"
     ]
    },
    {
     "data": {
      "text/plain": [
       "4"
      ]
     },
     "execution_count": 174,
     "metadata": {},
     "output_type": "execute_result"
    }
   ],
   "source": [
    "# DO NOT MODIFY THIS CELL\n",
    "# Test class g filter\n",
    "\n",
    "student_class_g_fires = g_fires\n",
    "\n",
    "class_g_points = 0\n",
    "\n",
    "if len(student_class_g_fires == 394):\n",
    "    print(\"\\u2705 Correct number of rows in your class G dataframe!\")\n",
    "    class_g_points += 2\n",
    "else:\n",
    "    print(\"\\u274C There are not the correct amount of rows in your class G dataframe.\")\n",
    "\n",
    "if all(x == 'G' for x in student_class_g_fires.fire_size_class.to_list()):\n",
    "    print(\"\\u2705 Successfully filtered dataframe to only contain class G fires!\")\n",
    "    class_g_points += 2\n",
    "else:\n",
    "    print(\"\\u274C Dataframe does not contain only class G fires.\")\n",
    "\n",
    "print(\"\\n \\u27A1 You received {} out of 4 points for filtering the class G fires correctly.\".format(\n",
    "    class_g_points))\n",
    "class_g_points"
   ]
  },
  {
   "cell_type": "markdown",
   "metadata": {
    "deletable": false,
    "editable": false,
    "nbgrader": {
     "cell_type": "markdown",
     "checksum": "5f785df9022cd89dc88d0f7f60b75359",
     "grade": false,
     "grade_id": "challenge-9-description",
     "locked": true,
     "schema_version": 3,
     "solution": false,
     "task": false
    }
   },
   "source": [
    "## Challenge 9: Subset Fire Cause Data\n",
    "\n",
    "In the cell below, create two dataframe objects:\n",
    "\n",
    "1. Create one that  contains data for the years 1995 to 2000 (this DF should contain values for 1995 through 2000).\n",
    "2. Create a dataframe object that contains data for the years1995 to 2000 (this DF should contain values for 2010 through 2015).\n",
    "\n",
    "At the end of the cell, call both objects on the same line using the syntax:\n",
    "\n",
    "`df-one, df-two`\n",
    "\n",
    "The first and last 5 rows for both objects should then print below the cell."
   ]
  },
  {
   "cell_type": "code",
   "execution_count": 195,
   "metadata": {
    "deletable": false,
    "nbgrader": {
     "cell_type": "code",
     "checksum": "dff3363e01a1806e9ceac1f266994efd",
     "grade": false,
     "grade_id": "student-class-g-time-filter-answer",
     "locked": false,
     "schema_version": 3,
     "solution": true,
     "task": false
    }
   },
   "outputs": [
    {
     "name": "stderr",
     "output_type": "stream",
     "text": [
      "/var/folders/nb/qps0bcwd16qcyqb4ghpw5sk40000gn/T/ipykernel_3269/3324882506.py:2: SettingWithCopyWarning: \n",
      "A value is trying to be set on a copy of a slice from a DataFrame.\n",
      "Try using .loc[row_indexer,col_indexer] = value instead\n",
      "\n",
      "See the caveats in the documentation: https://pandas.pydata.org/pandas-docs/stable/user_guide/indexing.html#returning-a-view-versus-a-copy\n",
      "  g_fires.year = g_fires.year.astype(int)\n"
     ]
    },
    {
     "data": {
      "text/plain": [
       "(     fd_unq_id  source_reporting_unit_name                  fire_name  \\\n",
       " 21     1333522       Sonoma-Lake Napa Unit  BERRYESSA                   \n",
       " 31      315556        Bakersfield District                      SHELL   \n",
       " 45     1272339   Cleveland National Forest                   PECHANGA   \n",
       " 47      365024  Death Valley National Park                      HAPPY   \n",
       " 48      135309     Sequoia National Forest                     MANTER   \n",
       " ..         ...                         ...                        ...   \n",
       " 99      103776     Sequoia National Forest                      JACKS   \n",
       " 104     104758     Angeles National Forest                    NARROWS   \n",
       " 116     217328        Bakersfield District                   WILLIAMS   \n",
       " 138     103568   Cleveland National Forest                      BAKER   \n",
       " 141    1328823                 Tulare Unit  FERNANDEZ                   \n",
       " \n",
       "          month  month_num           cause  fire_size fire_size_class state  \\\n",
       " 21        June          6   Equipment Use     5731.0               G    CA   \n",
       " 31        July          7   Equipment Use     6762.0               G    CA   \n",
       " 45        July          7           Arson    10380.2               G    CA   \n",
       " 47        July          7  Debris Burning     5861.0               G    CA   \n",
       " 48        July          7   Miscellaneous    75000.0               G    CA   \n",
       " ..         ...        ...             ...        ...             ...   ...   \n",
       " 99      August          8       Lightning     5693.0               G    CA   \n",
       " 104     August          8  Debris Burning    18186.0               G    CA   \n",
       " 116  September          9   Equipment Use     5745.0               G    CA   \n",
       " 138    October         10  Debris Burning     6317.0               G    CA   \n",
       " 141    October         10   Miscellaneous    43700.0               G    CA   \n",
       " \n",
       "     county  year  \n",
       " 21     NaN  2000  \n",
       " 31    Kern  2000  \n",
       " 45     NaN  2000  \n",
       " 47     NaN  2000  \n",
       " 48     NaN  2000  \n",
       " ..     ...   ...  \n",
       " 99     NaN  1997  \n",
       " 104    NaN  1997  \n",
       " 116    NaN  1997  \n",
       " 138    NaN  1997  \n",
       " 141    NaN  1997  \n",
       " \n",
       " [84 rows x 11 columns],\n",
       "     fd_unq_id            source_reporting_unit_name      fire_name      month  \\\n",
       " 28    1432347               Sequoia National Forest           BULL       July   \n",
       " 33    1473423          Northern California District       MCDONALD       July   \n",
       " 36    1473198            California Desert District          CROWN       July   \n",
       " 53    1477099  Sequoia & Kings Canyon National Park  SHEEP COMPLEX       July   \n",
       " 80    1433249               Sequoia National Forest         CANYON  September   \n",
       " ..        ...                                   ...            ...        ...   \n",
       " 58  300335348                        Mendocino Unit  LODGE COMPLEX       July   \n",
       " 68  300000289               Klamath National Forest     FAULKSTEIN     August   \n",
       " 69  300001006               Klamath National Forest     FRYING PAN     August   \n",
       " 71  300003906               Klamath National Forest            MAN     August   \n",
       " 76  300156672              Eldorado National Forest           KING  September   \n",
       " \n",
       "     month_num              cause  fire_size fire_size_class state  \\\n",
       " 28          7      Miscellaneous    16442.0               G    CA   \n",
       " 33          7          Lightning     9408.0               G    CA   \n",
       " 36          7      Equipment Use    13918.0               G    CA   \n",
       " 53          7          Lightning     9020.0               G    CA   \n",
       " 80          9      Miscellaneous     9820.0               G    CA   \n",
       " ..        ...                ...        ...             ...   ...   \n",
       " 58          7      Miscellaneous    12535.0               G    CA   \n",
       " 68          8          Lightning     5225.0               G    CA   \n",
       " 69          8          Lightning   115279.2               G    CA   \n",
       " 71          8          Lightning    13110.0               G    CA   \n",
       " 76          9  Missing/Undefined    97717.0               G    CA   \n",
       " \n",
       "          county  year  \n",
       " 28         Kern  2010  \n",
       " 33       Lassen  2010  \n",
       " 36  Los Angeles  2010  \n",
       " 53          NaN  2010  \n",
       " 80         Kern  2010  \n",
       " ..          ...   ...  \n",
       " 58          NaN  2014  \n",
       " 68     Siskiyou  2014  \n",
       " 69     Siskiyou  2014  \n",
       " 71     Siskiyou  2014  \n",
       " 76    El Dorado  2014  \n",
       " \n",
       " [88 rows x 11 columns])"
      ]
     },
     "execution_count": 195,
     "metadata": {},
     "output_type": "execute_result"
    }
   ],
   "source": [
    "# YOUR CODE HERE\n",
    "g_fires.year = g_fires.year.astype(int)\n",
    "fires_1995_2000 = g_fires[g_fires['year'].between(1995, 2000, inclusive = 'both')]\n",
    "fires_2010_2015 = g_fires[g_fires['year'].between(2010, 2015, inclusive = 'both')]\n",
    "\n",
    "fires_1995_2000, fires_2010_2015"
   ]
  },
  {
   "cell_type": "code",
   "execution_count": 196,
   "metadata": {
    "deletable": false,
    "editable": false,
    "nbgrader": {
     "cell_type": "code",
     "checksum": "1803f0d41218bf67e80f0f0009a0c048",
     "grade": true,
     "grade_id": "class-g-filter-tests-2",
     "locked": true,
     "points": 0,
     "schema_version": 3,
     "solution": false,
     "task": false
    }
   },
   "outputs": [
    {
     "name": "stdout",
     "output_type": "stream",
     "text": [
      "✅ Great, your first object is a Pandas DataFrame!\n",
      "✅ Great, your second object is a Pandas DataFrame!\n",
      "✅ DataFrames have the correct number of rows in them!\n"
     ]
    }
   ],
   "source": [
    "# DO NOT MODIFY THIS CELL\n",
    "# Tests to make sure your dataframes were correctly made\n",
    "\n",
    "student_g_fires_by_year = fires_1995_2000, fires_2010_2015\n",
    "\n",
    "if isinstance(student_g_fires_by_year[0], pd.core.frame.DataFrame):\n",
    "    print(\"\\u2705 Great, your first object is a Pandas DataFrame!\")\n",
    "else:\n",
    "    print(\"\\u274C Didn't call both dataframes at the end of the cell.\")\n",
    "\n",
    "if isinstance(student_g_fires_by_year[1], pd.core.frame.DataFrame):\n",
    "    print(\"\\u2705 Great, your second object is a Pandas DataFrame!\")\n",
    "else:\n",
    "    print(\"\\u274C Didn't call both dataframes at the end of the cell.\")\n",
    "\n",
    "student_df_lengths = len(student_g_fires_by_year[0]), len(\n",
    "    student_g_fires_by_year[1])\n",
    "\n",
    "if (84, 88) == student_df_lengths or (88, 84) == student_df_lengths:\n",
    "    print(\"\\u2705 DataFrames have the correct number of rows in them!\")\n",
    "else:\n",
    "    print(\"\\u274C One or both of the dataframes doesn't have the correct number or rows in the results.\")"
   ]
  },
  {
   "cell_type": "markdown",
   "metadata": {
    "deletable": false,
    "editable": false,
    "nbgrader": {
     "cell_type": "markdown",
     "checksum": "db04a3afa78777882d483db09b8f4bfe",
     "grade": false,
     "grade_id": "cell-b2bdddfab95ac95c",
     "locked": true,
     "schema_version": 3,
     "solution": false,
     "task": false
    }
   },
   "source": [
    "<img style=\"float: left;\" src=\"colored-bar.png\"/>"
   ]
  },
  {
   "cell_type": "markdown",
   "metadata": {
    "deletable": false,
    "editable": false,
    "hideCode": false,
    "hidePrompt": false,
    "nbgrader": {
     "cell_type": "markdown",
     "checksum": "83942f6e883241183e234e3eadf4cc87",
     "grade": false,
     "grade_id": "challenge-10-description",
     "locked": true,
     "schema_version": 3,
     "solution": false,
     "task": false
    }
   },
   "source": [
    "## Challenge 10: Figure - Fires by Cause\n",
    "\n",
    "Create a figure with two stacked subplots that rendered as **scatterplots** (points) using `ax.plot()` to plot the `1992-2015-gt-100-acres` data. \n",
    "\n",
    "For each subplot: \n",
    "\n",
    "* Only include points that represent fires of size_class `G` (this is data that you subsetted above).\n",
    "* Color the points in your plot using the `cause` column in your data. There are a few ways to do this, but for this exercise, color the points by `human-caused` vs `Non-human caused` using a **conditional statement**\n",
    "within the for loop that you write to create your plot. \n",
    "\n",
    "The following causes should be labeled as `human-caused`\n",
    "\n",
    "`[\"Arson\", \"Smoking\", \"Equipment Use\", \"Campfire\", \"Powerline\", \"Railroad\"]`\n",
    "\n",
    "(HINT: To make the plot look like a scatter plot you can adjust the line and marker options on the plot)\n",
    "\n",
    "You will use the data / `DataFrame` that you worked with above in the  `1992-2015-gt-100-acres` directory to produce this plot. \n",
    "\n",
    "1. The top subplot will contain fires colored by cause for the years: 2010-2015\n",
    "2. The bottom subplot will contain fires colored by cause for the years 1995-2000\n",
    "\n",
    "\n",
    "To create these plots, you will need to create a for loop that plots groups pandas dataframes. \n",
    "\n",
    "*********\n",
    "HINT:\n",
    "\n",
    "* A conditional statement can be used to test whether a string is in an existing list of strings:\n",
    "```\n",
    "list_of_things = [\"item1\", \"item2\"]\n",
    "\n",
    "if acategory in list_of_things:\n",
    "    # Set color\n",
    "else:\n",
    "    # Set color  \n",
    "```\n",
    "\n",
    "For your plot, be sure to do the following:\n",
    "\n",
    "1. Use a shared x and y axis by adding `sharex` and `sharey` to your `plt.subplots()` call\n",
    "example: `plt.subplots(sharex=True)`\n",
    "2. Use `.scatter()` to create your plot.\n",
    "3. Add titles to each subplot\n",
    "4. Color each category by human vs other cause. You should have a total of two colors  on your plot.\n",
    "5. Add an overall figure title\n",
    "6. Add a legend for each plot. The legend should have multiple \"causes\" (e.g. arson, lightning, etc) but only two different point colors (one for human caused and one for non human caused) \n"
   ]
  },
  {
   "cell_type": "code",
   "execution_count": 217,
   "metadata": {
    "deletable": false,
    "hideCode": false,
    "hidePrompt": false,
    "nbgrader": {
     "cell_type": "code",
     "checksum": "dccc6da49fc2bd92f5ced5342611ec69",
     "grade": false,
     "grade_id": "fires-by-cause-figure-answer",
     "locked": false,
     "schema_version": 3,
     "solution": true,
     "task": false
    }
   },
   "outputs": [
    {
     "name": "stderr",
     "output_type": "stream",
     "text": [
      "/var/folders/nb/qps0bcwd16qcyqb4ghpw5sk40000gn/T/ipykernel_3269/3918925400.py:3: SettingWithCopyWarning: \n",
      "A value is trying to be set on a copy of a slice from a DataFrame.\n",
      "Try using .loc[row_indexer,col_indexer] = value instead\n",
      "\n",
      "See the caveats in the documentation: https://pandas.pydata.org/pandas-docs/stable/user_guide/indexing.html#returning-a-view-versus-a-copy\n",
      "  fires_2010_2015['color'] = ['green' if cause in human_caused else 'purple' for cause in fires_2010_2015.cause]\n",
      "/var/folders/nb/qps0bcwd16qcyqb4ghpw5sk40000gn/T/ipykernel_3269/3918925400.py:4: SettingWithCopyWarning: \n",
      "A value is trying to be set on a copy of a slice from a DataFrame.\n",
      "Try using .loc[row_indexer,col_indexer] = value instead\n",
      "\n",
      "See the caveats in the documentation: https://pandas.pydata.org/pandas-docs/stable/user_guide/indexing.html#returning-a-view-versus-a-copy\n",
      "  fires_1995_2000['color'] = ['green' if cause in human_caused else 'purple' for cause in fires_1995_2000.cause]\n"
     ]
    },
    {
     "data": {
      "image/png": "[encoded data removed]",
      "text/plain": [
       "<Figure size 432x288 with 2 Axes>"
      ]
     },
     "metadata": {
      "needs_background": "light"
     },
     "output_type": "display_data"
    }
   ],
   "source": [
    "# YOUR CODE HERE\n",
    "human_caused = [\"Arson\", \"Smoking\", \"Equipment Use\", \"Campfire\", \"Powerline\", \"Railroad\"]\n",
    "fires_2010_2015['color'] = ['green' if cause in human_caused else 'purple' for cause in fires_2010_2015.cause]\n",
    "fires_1995_2000['color'] = ['green' if cause in human_caused else 'purple' for cause in fires_1995_2000.cause]\n",
    "\n",
    "fires_2010_2015\n",
    "\n",
    "f, axs = plt.subplots(2, 1, constrained_layout=True, sharex=True, sharey=True)\n",
    "\n",
    "axs[0].scatter(\n",
    "    x = \"month_num\",\n",
    "    y = \"fire_size\",\n",
    "    c = \"color\",\n",
    "    data = fires_2010_2015\n",
    ")\n",
    "\n",
    "axs[1].scatter(\n",
    "    x = \"month_num\",\n",
    "    y = \"fire_size\",\n",
    "    c = \"color\",\n",
    "    data = fires_1995_2000\n",
    ")\n",
    "\n",
    "### DO NOT REMOVE LINE BELOW ###\n",
    "fire_causes_plot = nb.convert_axes(plt, which_axes=\"all\")"
   ]
  },
  {
   "cell_type": "code",
   "execution_count": 218,
   "metadata": {
    "deletable": false,
    "editable": false,
    "nbgrader": {
     "cell_type": "code",
     "checksum": "2230ea2270bef762426caaeef5ff4df1",
     "grade": true,
     "grade_id": "fire-cause-by-figure-test-1",
     "locked": true,
     "points": 0,
     "schema_version": 3,
     "solution": false,
     "task": false
    }
   },
   "outputs": [
    {
     "name": "stdout",
     "output_type": "stream",
     "text": [
      "✅ You successfully added two plots to your figure, good job!\n"
     ]
    }
   ],
   "source": [
    "# NOTE: 2010-2015 Data NEEDS TO BE THE TOP PLOT FOR THE AUTOGRADER TO WORK!\n",
    "\n",
    "if len(fire_causes_plot) == 2:\n",
    "    print(\"\\u2705 You successfully added two plots to your figure, good job!\")\n",
    "else:\n",
    "    print(\"\\u274C There are not two plots in your figure, make sure you plot the 2000 and 2015 data.\")"
   ]
  },
  {
   "cell_type": "code",
   "execution_count": 219,
   "metadata": {
    "deletable": false,
    "editable": false,
    "nbgrader": {
     "cell_type": "code",
     "checksum": "6833023853c70772116304c81e32f573",
     "grade": true,
     "grade_id": "hidden-tests-answer",
     "locked": true,
     "points": 0,
     "schema_version": 3,
     "solution": false,
     "task": false
    }
   },
   "outputs": [],
   "source": [
    "# DO NOT MODIFY THIS CELL"
   ]
  },
  {
   "cell_type": "code",
   "execution_count": 220,
   "metadata": {
    "deletable": false,
    "editable": false,
    "nbgrader": {
     "cell_type": "code",
     "checksum": "bbd9a1e7a53059a10413e7effd8e0c53",
     "grade": true,
     "grade_id": "fire-cause-by-figure-test-2",
     "locked": true,
     "points": 32,
     "schema_version": 3,
     "solution": false,
     "task": false
    }
   },
   "outputs": [],
   "source": [
    "# DO NOT MODIFY THIS CELL"
   ]
  },
  {
   "cell_type": "markdown",
   "metadata": {
    "deletable": false,
    "editable": false,
    "nbgrader": {
     "cell_type": "markdown",
     "checksum": "28a1a340858bc27bd085c4ad3a187632",
     "grade": false,
     "grade_id": "cell-6564fb6e8bf0ee1c",
     "locked": true,
     "schema_version": 3,
     "solution": false,
     "task": false
    }
   },
   "source": [
    "## Challenge 11: Discuss Your Plot\n",
    "\n",
    "Look at the plot above. Do you notice a difference in fire size between 1995-2000 and 2010-2015?\n",
    "Add your answer to the markdown cell below."
   ]
  },
  {
   "cell_type": "markdown",
   "metadata": {
    "deletable": false,
    "nbgrader": {
     "cell_type": "markdown",
     "checksum": "49cb883e2f22964d3f67c1b60ec9b489",
     "grade": true,
     "grade_id": "cell-4c52b3438af0547d",
     "locked": false,
     "points": 5,
     "schema_version": 3,
     "solution": true,
     "task": false
    }
   },
   "source": [
    "YOUR ANSWER HERE"
   ]
  },
  {
   "cell_type": "markdown",
   "metadata": {
    "deletable": false,
    "editable": false,
    "nbgrader": {
     "cell_type": "markdown",
     "checksum": "9398dd42cf1cabfc5d6be0cf4d2a452b",
     "grade": false,
     "grade_id": "cell-f2f22d600ee329c7",
     "locked": true,
     "points": 10,
     "schema_version": 3,
     "solution": false,
     "task": true
    }
   },
   "source": [
    "## Pep 8, Spelling and Does the Notebook Run?\n",
    "In this cell, we will give you points for the following\n",
    "\n",
    "1. PEP 8 is followed throughout the notebook (4 points)\n",
    "2. Spelling and grammar are considered in your written responses above (4 points)\n",
    "3. The notebook runs from top to bottom without any editing (it is reproducible) - 4 points"
   ]
  }
 ],
 "metadata": {
  "hide_code_all_hidden": false,
  "kernelspec": {
   "display_name": "Python 3 (ipykernel)",
   "language": "python",
   "name": "python3"
  },
  "language_info": {
   "codemirror_mode": {
    "name": "ipython",
    "version": 3
   },
   "file_extension": ".py",
   "mimetype": "text/x-python",
   "name": "python",
   "nbconvert_exporter": "python",
   "pygments_lexer": "ipython3",
   "version": "3.8.12"
  },
  "toc": {
   "base_numbering": 1,
   "nav_menu": {},
   "number_sections": true,
   "sideBar": true,
   "skip_h1_title": true,
   "title_cell": "Table of Contents",
   "title_sidebar": "Contents",
   "toc_cell": false,
   "toc_position": {
    "height": "calc(100% - 180px)",
    "left": "10px",
    "top": "150px",
    "width": "285.8px"
   },
   "toc_section_display": true,
   "toc_window_display": true
  },
  "varInspector": {
   "cols": {
    "lenName": 16,
    "lenType": 16,
    "lenVar": 40
   },
   "kernels_config": {
    "python": {
     "delete_cmd_postfix": "",
     "delete_cmd_prefix": "del ",
     "library": "var_list.py",
     "varRefreshCmd": "print(var_dic_list())"
    },
    "r": {
     "delete_cmd_postfix": ") ",
     "delete_cmd_prefix": "rm(",
     "library": "var_list.r",
     "varRefreshCmd": "cat(var_dic_list()) "
    }
   },
   "types_to_exclude": [
    "module",
    "function",
    "builtin_function_or_method",
    "instance",
    "_Feature"
   ],
   "window_display": false
  }
 },
 "nbformat": 4,
 "nbformat_minor": 2
}
