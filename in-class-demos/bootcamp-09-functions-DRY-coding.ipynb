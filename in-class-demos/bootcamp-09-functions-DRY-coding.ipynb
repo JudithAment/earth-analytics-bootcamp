{
 "cells": [
  {
   "cell_type": "code",
   "execution_count": 1,
   "metadata": {},
   "outputs": [],
   "source": [
    "import os\n",
    "from glob import glob\n",
    "\n",
    "import matplotlib.pyplot as plt\n",
    "import numpy as np\n",
    "import pandas as pd\n",
    "import earthpy as et"
   ]
  },
  {
   "cell_type": "markdown",
   "metadata": {},
   "source": [
    "### Writing Pseudocode:\n",
    "### Challenge 1: Import Monthly Fire Count Data\n",
    "\n",
    "In the cell below complete the following task:\n",
    "\n",
    "* Create a for loop that prints the file name  for each `.csv` file in the `earthpy-downloads\\ca-fires-yearly\\monthly-fire-count` directory\n",
    "* In that same loop, extract the date for each year in each `.csv` file name and add it to a new list sorted in order from earliest to most recent  year using `list.append()`.\n",
    "\n",
    "Your final list should look something like this (with more years however): \n",
    "\n",
    "`[\"1992\", \"1993\", \"1994\"]`\n",
    "\n",
    "At the end of the cell, call the list object of years so that it prints below \n",
    "the cell as standard output (**do not use the print statement**)."
   ]
  },
  {
   "cell_type": "code",
   "execution_count": 18,
   "metadata": {},
   "outputs": [
    {
     "name": "stdout",
     "output_type": "stream",
     "text": [
      "/Users/judith/earth-analytics/data/earthpy-downloads/ca-fires-yearly/monthly-fire-count/monthly-fire-count-1999.csv\n",
      "/Users/judith/earth-analytics/data/earthpy-downloads/ca-fires-yearly/monthly-fire-count/monthly-fire-count-1998.csv\n",
      "/Users/judith/earth-analytics/data/earthpy-downloads/ca-fires-yearly/monthly-fire-count/monthly-fire-count-2010.csv\n",
      "/Users/judith/earth-analytics/data/earthpy-downloads/ca-fires-yearly/monthly-fire-count/monthly-fire-count-2004.csv\n",
      "/Users/judith/earth-analytics/data/earthpy-downloads/ca-fires-yearly/monthly-fire-count/monthly-fire-count-2005.csv\n",
      "/Users/judith/earth-analytics/data/earthpy-downloads/ca-fires-yearly/monthly-fire-count/monthly-fire-count-2011.csv\n",
      "/Users/judith/earth-analytics/data/earthpy-downloads/ca-fires-yearly/monthly-fire-count/monthly-fire-count-2007.csv\n",
      "/Users/judith/earth-analytics/data/earthpy-downloads/ca-fires-yearly/monthly-fire-count/monthly-fire-count-2013.csv\n",
      "/Users/judith/earth-analytics/data/earthpy-downloads/ca-fires-yearly/monthly-fire-count/monthly-fire-count-2012.csv\n",
      "/Users/judith/earth-analytics/data/earthpy-downloads/ca-fires-yearly/monthly-fire-count/monthly-fire-count-2006.csv\n",
      "/Users/judith/earth-analytics/data/earthpy-downloads/ca-fires-yearly/monthly-fire-count/monthly-fire-count-2002.csv\n",
      "/Users/judith/earth-analytics/data/earthpy-downloads/ca-fires-yearly/monthly-fire-count/monthly-fire-count-2003.csv\n",
      "/Users/judith/earth-analytics/data/earthpy-downloads/ca-fires-yearly/monthly-fire-count/monthly-fire-count-2015.csv\n",
      "/Users/judith/earth-analytics/data/earthpy-downloads/ca-fires-yearly/monthly-fire-count/monthly-fire-count-2001.csv\n",
      "/Users/judith/earth-analytics/data/earthpy-downloads/ca-fires-yearly/monthly-fire-count/monthly-fire-count-2000.csv\n",
      "/Users/judith/earth-analytics/data/earthpy-downloads/ca-fires-yearly/monthly-fire-count/monthly-fire-count-2014.csv\n",
      "/Users/judith/earth-analytics/data/earthpy-downloads/ca-fires-yearly/monthly-fire-count/monthly-fire-count-2008.csv\n",
      "/Users/judith/earth-analytics/data/earthpy-downloads/ca-fires-yearly/monthly-fire-count/monthly-fire-count-2009.csv\n",
      "/Users/judith/earth-analytics/data/earthpy-downloads/ca-fires-yearly/monthly-fire-count/monthly-fire-count-1995.csv\n",
      "/Users/judith/earth-analytics/data/earthpy-downloads/ca-fires-yearly/monthly-fire-count/monthly-fire-count-1994.csv\n",
      "/Users/judith/earth-analytics/data/earthpy-downloads/ca-fires-yearly/monthly-fire-count/monthly-fire-count-1996.csv\n",
      "/Users/judith/earth-analytics/data/earthpy-downloads/ca-fires-yearly/monthly-fire-count/monthly-fire-count-1997.csv\n",
      "/Users/judith/earth-analytics/data/earthpy-downloads/ca-fires-yearly/monthly-fire-count/monthly-fire-count-1993.csv\n",
      "/Users/judith/earth-analytics/data/earthpy-downloads/ca-fires-yearly/monthly-fire-count/monthly-fire-count-1992.csv\n"
     ]
    },
    {
     "data": {
      "text/plain": [
       "['1992',\n",
       " '1993',\n",
       " '1994',\n",
       " '1995',\n",
       " '1996',\n",
       " '1997',\n",
       " '1998',\n",
       " '1999',\n",
       " '2000',\n",
       " '2001',\n",
       " '2002',\n",
       " '2003',\n",
       " '2004',\n",
       " '2005',\n",
       " '2006',\n",
       " '2007',\n",
       " '2008',\n",
       " '2009',\n",
       " '2010',\n",
       " '2011',\n",
       " '2012',\n",
       " '2013',\n",
       " '2014',\n",
       " '2015']"
      ]
     },
     "execution_count": 18,
     "metadata": {},
     "output_type": "execute_result"
    }
   ],
   "source": [
    "import re\n",
    "\n",
    "data_path = os.path.join(et.io.HOME,\n",
    "                      \"earth-analytics\",\n",
    "                      \"data\",\n",
    "                      \"earthpy-downloads\",\n",
    "                      \"ca-fires-yearly\",\n",
    "                      \"monthly-fire-count\")\n",
    "\n",
    "# Print all dirs found by glob\n",
    "data_dirs = os.path.join(data_path, \"*\")\n",
    "all_files = glob(data_dirs)\n",
    "\n",
    "year_list = []\n",
    "for filename in all_files:\n",
    "    year = re.search('([0-9]{4})\\.csv', filename).group(1)\n",
    "    list.append(year_list, year)\n",
    "    print(filename)\n",
    "\n",
    "year_list.sort()\n",
    "year_list"
   ]
  },
  {
   "cell_type": "markdown",
   "metadata": {},
   "source": [
    "### DRY Coding\n",
    "\n",
    "1. Easier to follow and read\n",
    "2. Easier to update and maintain\n",
    "\n",
    "### Custom function:"
   ]
  },
  {
   "cell_type": "code",
   "execution_count": 19,
   "metadata": {},
   "outputs": [],
   "source": [
    "def fahr_to_kelvin(fahr):\n",
    "    \"\"\"Convert temperature in Fahrenheit to kelvin.\n",
    "\n",
    "    Parameters:\n",
    "    -----------\n",
    "    fahr: int or float\n",
    "        The temperature in Fahrenheit.\n",
    "    \n",
    "    Returns:\n",
    "    -----------\n",
    "    kelvin : int or float\n",
    "        The temperature in kelvin.\n",
    "    \"\"\"\n",
    "    kelvin = ((fahr - 32) * (5 / 9)) + 273.15\n",
    "    return kelvin"
   ]
  },
  {
   "cell_type": "code",
   "execution_count": 20,
   "metadata": {},
   "outputs": [
    {
     "name": "stdout",
     "output_type": "stream",
     "text": [
      "255.3722222222222\n",
      "297.0388888888889\n"
     ]
    }
   ],
   "source": [
    "print(fahr_to_kelvin(0))\n",
    "print(fahr_to_kelvin(75))"
   ]
  },
  {
   "cell_type": "markdown",
   "metadata": {},
   "source": [
    "### Anatomy of a Function:\n",
    "\n",
    "* def keyword\n",
    "* function_name - concise but descriptive of what the function does!\n",
    "* parameter(s): input required to perform the task\n",
    "* return statement: output returned by the function"
   ]
  },
  {
   "cell_type": "code",
   "execution_count": 21,
   "metadata": {},
   "outputs": [],
   "source": [
    "def function_name(parameter):\n",
    "    print(\"some code here\")   \n",
    "    return output"
   ]
  },
  {
   "cell_type": "markdown",
   "metadata": {},
   "source": [
    "### Doc String: \n",
    "\n",
    "multi-line documentation comment, that provides details about the function, including the specifics of the input parameters and the returns (e.g. type of objects, additional description) and any other important documentation about how to use the function.\n",
    "\n",
    "You can learn more about docstrings in the PEP 257 guidelines focused on docstrings. This textbook uses the docstring standard that is outlined in the numpy documentation."
   ]
  },
  {
   "cell_type": "code",
   "execution_count": 22,
   "metadata": {},
   "outputs": [],
   "source": [
    "def function_name(data):\n",
    "    \"\"\"Docstrings should include a description of the function here \n",
    "    as well as identify the parameters (inputs) that the function \n",
    "    can take and the return (output) provided by the function,\n",
    "    as shown below. \n",
    "    \n",
    "    Parameters\n",
    "    ----------\n",
    "    input : type\n",
    "        Description of input.\n",
    "    \n",
    "    Returns\n",
    "    ------\n",
    "    output : type\n",
    "        Description of output.\n",
    "    \"\"\"\n",
    "    print(\"some code here\")\n",
    "    \n",
    "    return output"
   ]
  },
  {
   "cell_type": "markdown",
   "metadata": {},
   "source": [
    "### function to convert mm to inches\n",
    "* descriptive function name\n",
    "* input parameter is original value in mm\n",
    "* output value in inches\n",
    "* add docstring"
   ]
  },
  {
   "cell_type": "code",
   "execution_count": 23,
   "metadata": {},
   "outputs": [],
   "source": [
    "def mm_to_in(mm):\n",
    "    \"\"\"Convert input from millimeters to inches. \n",
    "    \n",
    "    Parameters\n",
    "    ----------\n",
    "    mm : int or float\n",
    "        Numeric value with units in millimeters.\n",
    "\n",
    "    Returns\n",
    "    ------\n",
    "    inches : int or float\n",
    "        Numeric value with units in inches.\n",
    "    \"\"\"\n",
    "    inches = mm / 25.4    \n",
    "    return inches"
   ]
  },
  {
   "cell_type": "markdown",
   "metadata": {},
   "source": [
    "### Calling a custom function"
   ]
  },
  {
   "cell_type": "code",
   "execution_count": 24,
   "metadata": {},
   "outputs": [],
   "source": [
    "# Average monthly precip (mm) in Jan for Boulder, CO\n",
    "precip_jan_mm = 17.78\n",
    "\n",
    "# Convert to inches\n",
    "precip_jan_in = mm_to_in(mm = precip_jan_mm)"
   ]
  },
  {
   "cell_type": "code",
   "execution_count": 25,
   "metadata": {},
   "outputs": [
    {
     "name": "stdout",
     "output_type": "stream",
     "text": [
      "17.78\n",
      "0.7000000000000001\n"
     ]
    }
   ],
   "source": [
    "print(precip_jan_mm)\n",
    "print(precip_jan_in)"
   ]
  },
  {
   "cell_type": "markdown",
   "metadata": {},
   "source": [
    "### Placeholder variables in functions\n",
    "Placeholder variables hold a different value each time the function is called\n",
    "\n",
    "** They don't exist outside of the function!"
   ]
  },
  {
   "cell_type": "code",
   "execution_count": 26,
   "metadata": {},
   "outputs": [],
   "source": [
    "# Create new variable with converted values\n",
    "precip_jan_in = mm_to_in(mm = precip_jan_mm) # mm is a placeholder variable for input of the function\n",
    "# inches is placeholder for the output of the function"
   ]
  },
  {
   "cell_type": "code",
   "execution_count": 27,
   "metadata": {},
   "outputs": [
    {
     "data": {
      "text/plain": [
       "array([0.7 , 0.75, 1.85, 2.93, 3.05, 2.02, 1.93, 1.62, 1.84, 1.31, 1.39,\n",
       "       0.84])"
      ]
     },
     "execution_count": 27,
     "metadata": {},
     "output_type": "execute_result"
    }
   ],
   "source": [
    "# Average monthly precip (mm) for Boulder, CO\n",
    "avg_monthly_precip_mm = np.array([17.78, 19.05, 46.99, 74.422, \n",
    "                                  77.47, 51.308, 49.022, 41.148, \n",
    "                                  46.736, 33.274, 35.306, 21.336])\n",
    "\n",
    "# Convert to inches\n",
    "mm_to_in(mm = avg_monthly_precip_mm)"
   ]
  },
  {
   "cell_type": "code",
   "execution_count": 28,
   "metadata": {},
   "outputs": [],
   "source": [
    "# Define a precip dataframe\n",
    "precip_2002 = pd.DataFrame(columns=[\"month\", \"precip_mm\"],\n",
    "                           data=[\n",
    "                                [\"Jan\", 27.178],  [\"Feb\", 11.176],\n",
    "                                [\"Mar\", 38.100],  [\"Apr\", 5.080],\n",
    "                                [\"May\", 81.280],  [\"June\", 29.972],\n",
    "                                [\"July\", 2.286],  [\"Aug\", 36.576],\n",
    "                                [\"Sept\", 38.608], [\"Oct\", 61.976],\n",
    "                                [\"Nov\", 19.812],  [\"Dec\", 0.508]\n",
    "                           ])"
   ]
  },
  {
   "cell_type": "code",
   "execution_count": 29,
   "metadata": {},
   "outputs": [
    {
     "data": {
      "text/html": [
       "<div>\n",
       "<style scoped>\n",
       "    .dataframe tbody tr th:only-of-type {\n",
       "        vertical-align: middle;\n",
       "    }\n",
       "\n",
       "    .dataframe tbody tr th {\n",
       "        vertical-align: top;\n",
       "    }\n",
       "\n",
       "    .dataframe thead th {\n",
       "        text-align: right;\n",
       "    }\n",
       "</style>\n",
       "<table border=\"1\" class=\"dataframe\">\n",
       "  <thead>\n",
       "    <tr style=\"text-align: right;\">\n",
       "      <th></th>\n",
       "      <th>month</th>\n",
       "      <th>precip_mm</th>\n",
       "      <th>precip_in</th>\n",
       "    </tr>\n",
       "  </thead>\n",
       "  <tbody>\n",
       "    <tr>\n",
       "      <th>0</th>\n",
       "      <td>Jan</td>\n",
       "      <td>27.178</td>\n",
       "      <td>1.07</td>\n",
       "    </tr>\n",
       "    <tr>\n",
       "      <th>1</th>\n",
       "      <td>Feb</td>\n",
       "      <td>11.176</td>\n",
       "      <td>0.44</td>\n",
       "    </tr>\n",
       "    <tr>\n",
       "      <th>2</th>\n",
       "      <td>Mar</td>\n",
       "      <td>38.100</td>\n",
       "      <td>1.50</td>\n",
       "    </tr>\n",
       "    <tr>\n",
       "      <th>3</th>\n",
       "      <td>Apr</td>\n",
       "      <td>5.080</td>\n",
       "      <td>0.20</td>\n",
       "    </tr>\n",
       "    <tr>\n",
       "      <th>4</th>\n",
       "      <td>May</td>\n",
       "      <td>81.280</td>\n",
       "      <td>3.20</td>\n",
       "    </tr>\n",
       "    <tr>\n",
       "      <th>5</th>\n",
       "      <td>June</td>\n",
       "      <td>29.972</td>\n",
       "      <td>1.18</td>\n",
       "    </tr>\n",
       "    <tr>\n",
       "      <th>6</th>\n",
       "      <td>July</td>\n",
       "      <td>2.286</td>\n",
       "      <td>0.09</td>\n",
       "    </tr>\n",
       "    <tr>\n",
       "      <th>7</th>\n",
       "      <td>Aug</td>\n",
       "      <td>36.576</td>\n",
       "      <td>1.44</td>\n",
       "    </tr>\n",
       "    <tr>\n",
       "      <th>8</th>\n",
       "      <td>Sept</td>\n",
       "      <td>38.608</td>\n",
       "      <td>1.52</td>\n",
       "    </tr>\n",
       "    <tr>\n",
       "      <th>9</th>\n",
       "      <td>Oct</td>\n",
       "      <td>61.976</td>\n",
       "      <td>2.44</td>\n",
       "    </tr>\n",
       "    <tr>\n",
       "      <th>10</th>\n",
       "      <td>Nov</td>\n",
       "      <td>19.812</td>\n",
       "      <td>0.78</td>\n",
       "    </tr>\n",
       "    <tr>\n",
       "      <th>11</th>\n",
       "      <td>Dec</td>\n",
       "      <td>0.508</td>\n",
       "      <td>0.02</td>\n",
       "    </tr>\n",
       "  </tbody>\n",
       "</table>\n",
       "</div>"
      ],
      "text/plain": [
       "   month  precip_mm  precip_in\n",
       "0    Jan     27.178       1.07\n",
       "1    Feb     11.176       0.44\n",
       "2    Mar     38.100       1.50\n",
       "3    Apr      5.080       0.20\n",
       "4    May     81.280       3.20\n",
       "5   June     29.972       1.18\n",
       "6   July      2.286       0.09\n",
       "7    Aug     36.576       1.44\n",
       "8   Sept     38.608       1.52\n",
       "9    Oct     61.976       2.44\n",
       "10   Nov     19.812       0.78\n",
       "11   Dec      0.508       0.02"
      ]
     },
     "execution_count": 29,
     "metadata": {},
     "output_type": "execute_result"
    }
   ],
   "source": [
    "# Create new column with precip in inches\n",
    "precip_2002[\"precip_in\"] = mm_to_in(mm = precip_2002[\"precip_mm\"])\n",
    "\n",
    "precip_2002"
   ]
  },
  {
   "cell_type": "markdown",
   "metadata": {},
   "source": [
    "### Calling Help on a Function"
   ]
  },
  {
   "cell_type": "code",
   "execution_count": 30,
   "metadata": {},
   "outputs": [
    {
     "name": "stdout",
     "output_type": "stream",
     "text": [
      "Help on function mean in module numpy:\n",
      "\n",
      "mean(a, axis=None, dtype=None, out=None, keepdims=<no value>, *, where=<no value>)\n",
      "    Compute the arithmetic mean along the specified axis.\n",
      "    \n",
      "    Returns the average of the array elements.  The average is taken over\n",
      "    the flattened array by default, otherwise over the specified axis.\n",
      "    `float64` intermediate and return values are used for integer inputs.\n",
      "    \n",
      "    Parameters\n",
      "    ----------\n",
      "    a : array_like\n",
      "        Array containing numbers whose mean is desired. If `a` is not an\n",
      "        array, a conversion is attempted.\n",
      "    axis : None or int or tuple of ints, optional\n",
      "        Axis or axes along which the means are computed. The default is to\n",
      "        compute the mean of the flattened array.\n",
      "    \n",
      "        .. versionadded:: 1.7.0\n",
      "    \n",
      "        If this is a tuple of ints, a mean is performed over multiple axes,\n",
      "        instead of a single axis or all the axes as before.\n",
      "    dtype : data-type, optional\n",
      "        Type to use in computing the mean.  For integer inputs, the default\n",
      "        is `float64`; for floating point inputs, it is the same as the\n",
      "        input dtype.\n",
      "    out : ndarray, optional\n",
      "        Alternate output array in which to place the result.  The default\n",
      "        is ``None``; if provided, it must have the same shape as the\n",
      "        expected output, but the type will be cast if necessary.\n",
      "        See :ref:`ufuncs-output-type` for more details.\n",
      "    \n",
      "    keepdims : bool, optional\n",
      "        If this is set to True, the axes which are reduced are left\n",
      "        in the result as dimensions with size one. With this option,\n",
      "        the result will broadcast correctly against the input array.\n",
      "    \n",
      "        If the default value is passed, then `keepdims` will not be\n",
      "        passed through to the `mean` method of sub-classes of\n",
      "        `ndarray`, however any non-default value will be.  If the\n",
      "        sub-class' method does not implement `keepdims` any\n",
      "        exceptions will be raised.\n",
      "    \n",
      "    where : array_like of bool, optional\n",
      "        Elements to include in the mean. See `~numpy.ufunc.reduce` for details.\n",
      "    \n",
      "        .. versionadded:: 1.20.0\n",
      "    \n",
      "    Returns\n",
      "    -------\n",
      "    m : ndarray, see dtype parameter above\n",
      "        If `out=None`, returns a new array containing the mean values,\n",
      "        otherwise a reference to the output array is returned.\n",
      "    \n",
      "    See Also\n",
      "    --------\n",
      "    average : Weighted average\n",
      "    std, var, nanmean, nanstd, nanvar\n",
      "    \n",
      "    Notes\n",
      "    -----\n",
      "    The arithmetic mean is the sum of the elements along the axis divided\n",
      "    by the number of elements.\n",
      "    \n",
      "    Note that for floating-point input, the mean is computed using the\n",
      "    same precision the input has.  Depending on the input data, this can\n",
      "    cause the results to be inaccurate, especially for `float32` (see\n",
      "    example below).  Specifying a higher-precision accumulator using the\n",
      "    `dtype` keyword can alleviate this issue.\n",
      "    \n",
      "    By default, `float16` results are computed using `float32` intermediates\n",
      "    for extra precision.\n",
      "    \n",
      "    Examples\n",
      "    --------\n",
      "    >>> a = np.array([[1, 2], [3, 4]])\n",
      "    >>> np.mean(a)\n",
      "    2.5\n",
      "    >>> np.mean(a, axis=0)\n",
      "    array([2., 3.])\n",
      "    >>> np.mean(a, axis=1)\n",
      "    array([1.5, 3.5])\n",
      "    \n",
      "    In single precision, `mean` can be inaccurate:\n",
      "    \n",
      "    >>> a = np.zeros((2, 512*512), dtype=np.float32)\n",
      "    >>> a[0, :] = 1.0\n",
      "    >>> a[1, :] = 0.1\n",
      "    >>> np.mean(a)\n",
      "    0.54999924\n",
      "    \n",
      "    Computing the mean in float64 is more accurate:\n",
      "    \n",
      "    >>> np.mean(a, dtype=np.float64)\n",
      "    0.55000000074505806 # may vary\n",
      "    \n",
      "    Specifying a where argument:\n",
      "    >>> a = np.array([[5, 9, 13], [14, 10, 12], [11, 15, 19]])\n",
      "    >>> np.mean(a)\n",
      "    12.0\n",
      "    >>> np.mean(a, where=[[True], [False], [False]])\n",
      "    9.0\n",
      "\n"
     ]
    }
   ],
   "source": [
    "help(np.mean)"
   ]
  },
  {
   "cell_type": "code",
   "execution_count": 31,
   "metadata": {},
   "outputs": [
    {
     "name": "stdout",
     "output_type": "stream",
     "text": [
      "Help on function mm_to_in in module __main__:\n",
      "\n",
      "mm_to_in(mm)\n",
      "    Convert input from millimeters to inches. \n",
      "    \n",
      "    Parameters\n",
      "    ----------\n",
      "    mm : int or float\n",
      "        Numeric value with units in millimeters.\n",
      "    \n",
      "    Returns\n",
      "    ------\n",
      "    inches : int or float\n",
      "        Numeric value with units in inches.\n",
      "\n"
     ]
    }
   ],
   "source": [
    "help(mm_to_in)"
   ]
  },
  {
   "cell_type": "markdown",
   "metadata": {},
   "source": [
    "### Combining function calls\n",
    "The output of mm_to_in -> np.mean"
   ]
  },
  {
   "cell_type": "code",
   "execution_count": 32,
   "metadata": {},
   "outputs": [
    {
     "data": {
      "text/plain": [
       "1.6858333333333333"
      ]
     },
     "execution_count": 32,
     "metadata": {},
     "output_type": "execute_result"
    }
   ],
   "source": [
    "avg_monthly_precip_in = np.mean(mm_to_in(mm = avg_monthly_precip_mm))\n",
    "avg_monthly_precip_in"
   ]
  },
  {
   "cell_type": "markdown",
   "metadata": {},
   "source": [
    "### Multiple parameters"
   ]
  },
  {
   "cell_type": "code",
   "execution_count": 33,
   "metadata": {},
   "outputs": [],
   "source": [
    "def multiply_values(x,y):\n",
    "    \"\"\"Calculate product of two inputs. \n",
    "    \n",
    "    Parameters\n",
    "    ----------\n",
    "    x : int or float\n",
    "    y : int or float\n",
    "\n",
    "    Returns\n",
    "    ------\n",
    "    z : int or float\n",
    "    \"\"\"\n",
    "    z = x * y\n",
    "    return z"
   ]
  },
  {
   "cell_type": "code",
   "execution_count": 34,
   "metadata": {},
   "outputs": [
    {
     "data": {
      "text/plain": [
       "17.779999999999998"
      ]
     },
     "execution_count": 34,
     "metadata": {},
     "output_type": "execute_result"
    }
   ],
   "source": [
    "# Call function with numeric values\n",
    "multiply_values(x = 0.7, y = 25.4)"
   ]
  },
  {
   "cell_type": "markdown",
   "metadata": {},
   "source": [
    "### Multiple parameters - combine functions"
   ]
  },
  {
   "cell_type": "code",
   "execution_count": 35,
   "metadata": {},
   "outputs": [],
   "source": [
    "def mean_mm_to_in_arr(arr_mm, axis_value):\n",
    "    \"\"\"Calculate mean values of input array along a specified\n",
    "    axis and convert values from millimeters to inches.\n",
    "    \n",
    "    Parameters\n",
    "    ----------\n",
    "    arr_mm : numpy array\n",
    "        Numeric values in millimeters.\n",
    "    axis_value : int\n",
    "        0 to calculate mean for each column.\n",
    "        1 to calculate mean for each row.\n",
    "\n",
    "    Returns\n",
    "    ------\n",
    "    mean_arr_in : numpy array\n",
    "        Mean values of input array in inches.\n",
    "    \"\"\"    \n",
    "    mean_arr_mm = np.mean(arr_mm, axis = axis_value)\n",
    "    mean_arr_in = mean_arr_mm / 25.4 \n",
    "        \n",
    "    return mean_arr_in"
   ]
  },
  {
   "cell_type": "code",
   "execution_count": 36,
   "metadata": {},
   "outputs": [],
   "source": [
    "# 2d array of average monthly precip (mm) for 2002 and 2013 in Boulder, CO\n",
    "precip_2002_2013_mm = np.array([[27.178, 11.176, 38.1, 5.08, 81.28, 29.972, \n",
    "                                 2.286, 36.576, 38.608, 61.976, 19.812, 0.508],\n",
    "                                [6.858, 28.702, 43.688, 105.156, 67.564, 15.494,  \n",
    "                                 26.162, 35.56 , 461.264, 56.896, 7.366, 12.7]\n",
    "                               ])"
   ]
  },
  {
   "cell_type": "code",
   "execution_count": 37,
   "metadata": {},
   "outputs": [
    {
     "data": {
      "text/plain": [
       "array([0.67 , 0.785, 1.61 , 2.17 , 2.93 , 0.895, 0.56 , 1.42 , 9.84 ,\n",
       "       2.34 , 0.535, 0.26 ])"
      ]
     },
     "execution_count": 37,
     "metadata": {},
     "output_type": "execute_result"
    }
   ],
   "source": [
    "# Calculate monthly mean (inches) for precip_2002_2013\n",
    "monthly_mean_in = mean_mm_to_in_arr(arr_mm = precip_2002_2013_mm, \n",
    "                                    axis_value = 0)\n",
    "\n",
    "monthly_mean_in"
   ]
  },
  {
   "cell_type": "code",
   "execution_count": 38,
   "metadata": {},
   "outputs": [
    {
     "data": {
      "text/plain": [
       "array([1.15666667, 2.84583333])"
      ]
     },
     "execution_count": 38,
     "metadata": {},
     "output_type": "execute_result"
    }
   ],
   "source": [
    "# Calculate monthly mean (inches) for precip_2002_2013\n",
    "monthly_mean_in = mean_mm_to_in_arr(arr_mm = precip_2002_2013_mm, \n",
    "                                    axis_value = 1)\n",
    "\n",
    "monthly_mean_in"
   ]
  },
  {
   "cell_type": "markdown",
   "metadata": {},
   "source": [
    "### Define optional input parameter for a function"
   ]
  },
  {
   "cell_type": "code",
   "execution_count": 39,
   "metadata": {},
   "outputs": [],
   "source": [
    "def mean_mm_to_in_arr(arr_mm, axis_value=None):\n",
    "    \"\"\"Calculate mean values of input array and convert values \n",
    "    from millimeters to inches. If an axis is specified,\n",
    "    the mean will be calculated along that axis. \n",
    "\n",
    "    \n",
    "    Parameters\n",
    "    ----------\n",
    "    arr_mm : numpy array\n",
    "        Numeric values in millimeters.\n",
    "    axis_value : int (optional)\n",
    "        0 to calculate mean for each column.\n",
    "        1 to calculate mean for each row.\n",
    "\n",
    "    Returns\n",
    "    ------\n",
    "    mean_arr_in : numpy array\n",
    "        Mean values of input array in inches.\n",
    "    \"\"\"   \n",
    "    if axis_value is None:\n",
    "        mean_arr_mm = np.mean(arr_mm)        \n",
    "    else:\n",
    "        mean_arr_mm = np.mean(arr_mm, axis = axis_value)\n",
    "    \n",
    "    mean_arr_in = mean_arr_mm / 25.4 \n",
    "        \n",
    "    return mean_arr_in"
   ]
  },
  {
   "cell_type": "markdown",
   "metadata": {},
   "source": [
    "### File download function"
   ]
  },
  {
   "cell_type": "code",
   "execution_count": 40,
   "metadata": {},
   "outputs": [],
   "source": [
    "def download_import_df(file_url, path):   \n",
    "    \"\"\"Download file from specified URL and import file\n",
    "    into a pandas dataframe from a specified path. \n",
    "    \n",
    "    Working directory is set to earth-analytics directory \n",
    "    under home, which is automatically created by the\n",
    "    download. \n",
    "\n",
    "    \n",
    "    Parameters\n",
    "    ----------\n",
    "    file_url : str\n",
    "        URL to CSV file (http or https).\n",
    "    path : str\n",
    "        Path to CSV file using relative path\n",
    "        to earth-analytics directory under home.        \n",
    "\n",
    "    Returns\n",
    "    ------\n",
    "    df : pandas dataframe\n",
    "        Dataframe imported from downloaded CSV file.\n",
    "    \"\"\" \n",
    "    \n",
    "    et.data.get_data(url=file_url)      \n",
    "    os.chdir(os.path.join(et.io.HOME, \"earth-analytics\"))    \n",
    "    df = pd.read_csv(path)\n",
    "    \n",
    "    return df"
   ]
  },
  {
   "cell_type": "markdown",
   "metadata": {},
   "source": [
    "### Concatenating dataframes"
   ]
  },
  {
   "cell_type": "code",
   "execution_count": 41,
   "metadata": {},
   "outputs": [
    {
     "name": "stdout",
     "output_type": "stream",
     "text": [
      "(1, 13)\n",
      "year:  1999\n",
      "(1, 13)\n",
      "year:  2000\n",
      "(1, 13)\n",
      "year:  2001\n",
      "(1, 13)\n",
      "year:  2002\n",
      "(1, 13)\n",
      "year:  2003\n"
     ]
    },
    {
     "data": {
      "text/html": [
       "<div>\n",
       "<style scoped>\n",
       "    .dataframe tbody tr th:only-of-type {\n",
       "        vertical-align: middle;\n",
       "    }\n",
       "\n",
       "    .dataframe tbody tr th {\n",
       "        vertical-align: top;\n",
       "    }\n",
       "\n",
       "    .dataframe thead th {\n",
       "        text-align: right;\n",
       "    }\n",
       "</style>\n",
       "<table border=\"1\" class=\"dataframe\">\n",
       "  <thead>\n",
       "    <tr style=\"text-align: right;\">\n",
       "      <th></th>\n",
       "      <th>Year</th>\n",
       "      <th>January</th>\n",
       "      <th>February</th>\n",
       "      <th>March</th>\n",
       "      <th>April</th>\n",
       "      <th>May</th>\n",
       "      <th>June</th>\n",
       "      <th>July</th>\n",
       "      <th>August</th>\n",
       "      <th>September</th>\n",
       "      <th>October</th>\n",
       "      <th>November</th>\n",
       "      <th>December</th>\n",
       "    </tr>\n",
       "  </thead>\n",
       "  <tbody>\n",
       "    <tr>\n",
       "      <th>0</th>\n",
       "      <td>1999</td>\n",
       "      <td>65.2</td>\n",
       "      <td>64.9</td>\n",
       "      <td>63.6</td>\n",
       "      <td>64.6</td>\n",
       "      <td>64.4</td>\n",
       "      <td>66.9</td>\n",
       "      <td>72.7</td>\n",
       "      <td>72.7</td>\n",
       "      <td>71.4</td>\n",
       "      <td>77.7</td>\n",
       "      <td>67.4</td>\n",
       "      <td>67.6</td>\n",
       "    </tr>\n",
       "    <tr>\n",
       "      <th>0</th>\n",
       "      <td>2000</td>\n",
       "      <td>65.8</td>\n",
       "      <td>65.3</td>\n",
       "      <td>63.7</td>\n",
       "      <td>67.7</td>\n",
       "      <td>69.1</td>\n",
       "      <td>72.4</td>\n",
       "      <td>73.5</td>\n",
       "      <td>76.3</td>\n",
       "      <td>75.5</td>\n",
       "      <td>69.5</td>\n",
       "      <td>66.0</td>\n",
       "      <td>66.9</td>\n",
       "    </tr>\n",
       "    <tr>\n",
       "      <th>0</th>\n",
       "      <td>2001</td>\n",
       "      <td>62.2</td>\n",
       "      <td>61.7</td>\n",
       "      <td>63.7</td>\n",
       "      <td>63.6</td>\n",
       "      <td>67.5</td>\n",
       "      <td>72.0</td>\n",
       "      <td>73.0</td>\n",
       "      <td>73.5</td>\n",
       "      <td>73.2</td>\n",
       "      <td>71.1</td>\n",
       "      <td>66.9</td>\n",
       "      <td>63.3</td>\n",
       "    </tr>\n",
       "    <tr>\n",
       "      <th>0</th>\n",
       "      <td>2002</td>\n",
       "      <td>63.0</td>\n",
       "      <td>66.2</td>\n",
       "      <td>63.6</td>\n",
       "      <td>63.7</td>\n",
       "      <td>66.1</td>\n",
       "      <td>68.7</td>\n",
       "      <td>71.8</td>\n",
       "      <td>73.4</td>\n",
       "      <td>75.5</td>\n",
       "      <td>68.4</td>\n",
       "      <td>71.4</td>\n",
       "      <td>63.7</td>\n",
       "    </tr>\n",
       "    <tr>\n",
       "      <th>0</th>\n",
       "      <td>2003</td>\n",
       "      <td>71.4</td>\n",
       "      <td>64.6</td>\n",
       "      <td>66.5</td>\n",
       "      <td>65.2</td>\n",
       "      <td>66.9</td>\n",
       "      <td>67.4</td>\n",
       "      <td>74.3</td>\n",
       "      <td>77.5</td>\n",
       "      <td>74.0</td>\n",
       "      <td>73.1</td>\n",
       "      <td>67.4</td>\n",
       "      <td>64.6</td>\n",
       "    </tr>\n",
       "  </tbody>\n",
       "</table>\n",
       "</div>"
      ],
      "text/plain": [
       "   Year  January  February  March  April   May  June  July  August  September  \\\n",
       "0  1999     65.2      64.9   63.6   64.6  64.4  66.9  72.7    72.7       71.4   \n",
       "0  2000     65.8      65.3   63.7   67.7  69.1  72.4  73.5    76.3       75.5   \n",
       "0  2001     62.2      61.7   63.7   63.6  67.5  72.0  73.0    73.5       73.2   \n",
       "0  2002     63.0      66.2   63.6   63.7  66.1  68.7  71.8    73.4       75.5   \n",
       "0  2003     71.4      64.6   66.5   65.2  66.9  67.4  74.3    77.5       74.0   \n",
       "\n",
       "   October  November  December  \n",
       "0     77.7      67.4      67.6  \n",
       "0     69.5      66.0      66.9  \n",
       "0     71.1      66.9      63.3  \n",
       "0     68.4      71.4      63.7  \n",
       "0     73.1      67.4      64.6  "
      ]
     },
     "execution_count": 41,
     "metadata": {},
     "output_type": "execute_result"
    }
   ],
   "source": [
    "data_dir = os.path.join(et.io.HOME,'earth-analytics','data')\n",
    "file_path = os.path.join(data_dir,\"earthpy-downloads\",\"avg-monthly-temp-fahr\",\"san-diego\",\"*\")\n",
    "file_list = glob(file_path)\n",
    "\n",
    "sd_list = []\n",
    "file_list.sort()\n",
    "for f in file_list:\n",
    "    file_name = os.path.basename(f)\n",
    "    df = pd.read_csv(f)\n",
    "    print(df.shape)\n",
    "    print(\"year: \",file_name[10:14])\n",
    "    sd_list.append(df)\n",
    "    \n",
    "sd_data = pd.concat(sd_list)\n",
    "sd_data"
   ]
  },
  {
   "cell_type": "markdown",
   "metadata": {},
   "source": [
    "### Plotting using groupby and nested loop"
   ]
  },
  {
   "cell_type": "code",
   "execution_count": 42,
   "metadata": {},
   "outputs": [
    {
     "ename": "FileNotFoundError",
     "evalue": "[Errno 2] No such file or directory: '/Users/judith/earth-analytics/data/demo_data.csv'",
     "output_type": "error",
     "traceback": [
      "\u001b[0;31m---------------------------------------------------------------------------\u001b[0m",
      "\u001b[0;31mFileNotFoundError\u001b[0m                         Traceback (most recent call last)",
      "\u001b[1;32m/Users/judith/earth-analytics/earth-analytics-bootcamp/in-class-demos/bootcamp-09-functions-DRY-coding.ipynb Cell 41'\u001b[0m in \u001b[0;36m<module>\u001b[0;34m\u001b[0m\n\u001b[0;32m----> <a href='vscode-notebook-cell:/Users/judith/earth-analytics/earth-analytics-bootcamp/in-class-demos/bootcamp-09-functions-DRY-coding.ipynb#ch0000040?line=0'>1</a>\u001b[0m df \u001b[39m=\u001b[39m pd\u001b[39m.\u001b[39;49mread_csv(\u001b[39m'\u001b[39;49m\u001b[39m~/earth-analytics/data/demo_data.csv\u001b[39;49m\u001b[39m'\u001b[39;49m)\n\u001b[1;32m      <a href='vscode-notebook-cell:/Users/judith/earth-analytics/earth-analytics-bootcamp/in-class-demos/bootcamp-09-functions-DRY-coding.ipynb#ch0000040?line=1'>2</a>\u001b[0m plot_grp_one \u001b[39m=\u001b[39m df\u001b[39m.\u001b[39mgroupby([\u001b[39m'\u001b[39m\u001b[39myear\u001b[39m\u001b[39m'\u001b[39m])\n\u001b[1;32m      <a href='vscode-notebook-cell:/Users/judith/earth-analytics/earth-analytics-bootcamp/in-class-demos/bootcamp-09-functions-DRY-coding.ipynb#ch0000040?line=4'>5</a>\u001b[0m fig, ax \u001b[39m=\u001b[39m plt\u001b[39m.\u001b[39msubplots()\n",
      "File \u001b[0;32m~/opt/anaconda3/envs/earth-analytics-python/lib/python3.8/site-packages/pandas/util/_decorators.py:311\u001b[0m, in \u001b[0;36mdeprecate_nonkeyword_arguments.<locals>.decorate.<locals>.wrapper\u001b[0;34m(*args, **kwargs)\u001b[0m\n\u001b[1;32m    <a href='file:///Users/judith/opt/anaconda3/envs/earth-analytics-python/lib/python3.8/site-packages/pandas/util/_decorators.py?line=304'>305</a>\u001b[0m \u001b[39mif\u001b[39;00m \u001b[39mlen\u001b[39m(args) \u001b[39m>\u001b[39m num_allow_args:\n\u001b[1;32m    <a href='file:///Users/judith/opt/anaconda3/envs/earth-analytics-python/lib/python3.8/site-packages/pandas/util/_decorators.py?line=305'>306</a>\u001b[0m     warnings\u001b[39m.\u001b[39mwarn(\n\u001b[1;32m    <a href='file:///Users/judith/opt/anaconda3/envs/earth-analytics-python/lib/python3.8/site-packages/pandas/util/_decorators.py?line=306'>307</a>\u001b[0m         msg\u001b[39m.\u001b[39mformat(arguments\u001b[39m=\u001b[39marguments),\n\u001b[1;32m    <a href='file:///Users/judith/opt/anaconda3/envs/earth-analytics-python/lib/python3.8/site-packages/pandas/util/_decorators.py?line=307'>308</a>\u001b[0m         \u001b[39mFutureWarning\u001b[39;00m,\n\u001b[1;32m    <a href='file:///Users/judith/opt/anaconda3/envs/earth-analytics-python/lib/python3.8/site-packages/pandas/util/_decorators.py?line=308'>309</a>\u001b[0m         stacklevel\u001b[39m=\u001b[39mstacklevel,\n\u001b[1;32m    <a href='file:///Users/judith/opt/anaconda3/envs/earth-analytics-python/lib/python3.8/site-packages/pandas/util/_decorators.py?line=309'>310</a>\u001b[0m     )\n\u001b[0;32m--> <a href='file:///Users/judith/opt/anaconda3/envs/earth-analytics-python/lib/python3.8/site-packages/pandas/util/_decorators.py?line=310'>311</a>\u001b[0m \u001b[39mreturn\u001b[39;00m func(\u001b[39m*\u001b[39;49margs, \u001b[39m*\u001b[39;49m\u001b[39m*\u001b[39;49mkwargs)\n",
      "File \u001b[0;32m~/opt/anaconda3/envs/earth-analytics-python/lib/python3.8/site-packages/pandas/io/parsers/readers.py:680\u001b[0m, in \u001b[0;36mread_csv\u001b[0;34m(filepath_or_buffer, sep, delimiter, header, names, index_col, usecols, squeeze, prefix, mangle_dupe_cols, dtype, engine, converters, true_values, false_values, skipinitialspace, skiprows, skipfooter, nrows, na_values, keep_default_na, na_filter, verbose, skip_blank_lines, parse_dates, infer_datetime_format, keep_date_col, date_parser, dayfirst, cache_dates, iterator, chunksize, compression, thousands, decimal, lineterminator, quotechar, quoting, doublequote, escapechar, comment, encoding, encoding_errors, dialect, error_bad_lines, warn_bad_lines, on_bad_lines, delim_whitespace, low_memory, memory_map, float_precision, storage_options)\u001b[0m\n\u001b[1;32m    <a href='file:///Users/judith/opt/anaconda3/envs/earth-analytics-python/lib/python3.8/site-packages/pandas/io/parsers/readers.py?line=664'>665</a>\u001b[0m kwds_defaults \u001b[39m=\u001b[39m _refine_defaults_read(\n\u001b[1;32m    <a href='file:///Users/judith/opt/anaconda3/envs/earth-analytics-python/lib/python3.8/site-packages/pandas/io/parsers/readers.py?line=665'>666</a>\u001b[0m     dialect,\n\u001b[1;32m    <a href='file:///Users/judith/opt/anaconda3/envs/earth-analytics-python/lib/python3.8/site-packages/pandas/io/parsers/readers.py?line=666'>667</a>\u001b[0m     delimiter,\n\u001b[0;32m   (...)\u001b[0m\n\u001b[1;32m    <a href='file:///Users/judith/opt/anaconda3/envs/earth-analytics-python/lib/python3.8/site-packages/pandas/io/parsers/readers.py?line=675'>676</a>\u001b[0m     defaults\u001b[39m=\u001b[39m{\u001b[39m\"\u001b[39m\u001b[39mdelimiter\u001b[39m\u001b[39m\"\u001b[39m: \u001b[39m\"\u001b[39m\u001b[39m,\u001b[39m\u001b[39m\"\u001b[39m},\n\u001b[1;32m    <a href='file:///Users/judith/opt/anaconda3/envs/earth-analytics-python/lib/python3.8/site-packages/pandas/io/parsers/readers.py?line=676'>677</a>\u001b[0m )\n\u001b[1;32m    <a href='file:///Users/judith/opt/anaconda3/envs/earth-analytics-python/lib/python3.8/site-packages/pandas/io/parsers/readers.py?line=677'>678</a>\u001b[0m kwds\u001b[39m.\u001b[39mupdate(kwds_defaults)\n\u001b[0;32m--> <a href='file:///Users/judith/opt/anaconda3/envs/earth-analytics-python/lib/python3.8/site-packages/pandas/io/parsers/readers.py?line=679'>680</a>\u001b[0m \u001b[39mreturn\u001b[39;00m _read(filepath_or_buffer, kwds)\n",
      "File \u001b[0;32m~/opt/anaconda3/envs/earth-analytics-python/lib/python3.8/site-packages/pandas/io/parsers/readers.py:575\u001b[0m, in \u001b[0;36m_read\u001b[0;34m(filepath_or_buffer, kwds)\u001b[0m\n\u001b[1;32m    <a href='file:///Users/judith/opt/anaconda3/envs/earth-analytics-python/lib/python3.8/site-packages/pandas/io/parsers/readers.py?line=571'>572</a>\u001b[0m _validate_names(kwds\u001b[39m.\u001b[39mget(\u001b[39m\"\u001b[39m\u001b[39mnames\u001b[39m\u001b[39m\"\u001b[39m, \u001b[39mNone\u001b[39;00m))\n\u001b[1;32m    <a href='file:///Users/judith/opt/anaconda3/envs/earth-analytics-python/lib/python3.8/site-packages/pandas/io/parsers/readers.py?line=573'>574</a>\u001b[0m \u001b[39m# Create the parser.\u001b[39;00m\n\u001b[0;32m--> <a href='file:///Users/judith/opt/anaconda3/envs/earth-analytics-python/lib/python3.8/site-packages/pandas/io/parsers/readers.py?line=574'>575</a>\u001b[0m parser \u001b[39m=\u001b[39m TextFileReader(filepath_or_buffer, \u001b[39m*\u001b[39;49m\u001b[39m*\u001b[39;49mkwds)\n\u001b[1;32m    <a href='file:///Users/judith/opt/anaconda3/envs/earth-analytics-python/lib/python3.8/site-packages/pandas/io/parsers/readers.py?line=576'>577</a>\u001b[0m \u001b[39mif\u001b[39;00m chunksize \u001b[39mor\u001b[39;00m iterator:\n\u001b[1;32m    <a href='file:///Users/judith/opt/anaconda3/envs/earth-analytics-python/lib/python3.8/site-packages/pandas/io/parsers/readers.py?line=577'>578</a>\u001b[0m     \u001b[39mreturn\u001b[39;00m parser\n",
      "File \u001b[0;32m~/opt/anaconda3/envs/earth-analytics-python/lib/python3.8/site-packages/pandas/io/parsers/readers.py:933\u001b[0m, in \u001b[0;36mTextFileReader.__init__\u001b[0;34m(self, f, engine, **kwds)\u001b[0m\n\u001b[1;32m    <a href='file:///Users/judith/opt/anaconda3/envs/earth-analytics-python/lib/python3.8/site-packages/pandas/io/parsers/readers.py?line=929'>930</a>\u001b[0m     \u001b[39mself\u001b[39m\u001b[39m.\u001b[39moptions[\u001b[39m\"\u001b[39m\u001b[39mhas_index_names\u001b[39m\u001b[39m\"\u001b[39m] \u001b[39m=\u001b[39m kwds[\u001b[39m\"\u001b[39m\u001b[39mhas_index_names\u001b[39m\u001b[39m\"\u001b[39m]\n\u001b[1;32m    <a href='file:///Users/judith/opt/anaconda3/envs/earth-analytics-python/lib/python3.8/site-packages/pandas/io/parsers/readers.py?line=931'>932</a>\u001b[0m \u001b[39mself\u001b[39m\u001b[39m.\u001b[39mhandles: IOHandles \u001b[39m|\u001b[39m \u001b[39mNone\u001b[39;00m \u001b[39m=\u001b[39m \u001b[39mNone\u001b[39;00m\n\u001b[0;32m--> <a href='file:///Users/judith/opt/anaconda3/envs/earth-analytics-python/lib/python3.8/site-packages/pandas/io/parsers/readers.py?line=932'>933</a>\u001b[0m \u001b[39mself\u001b[39m\u001b[39m.\u001b[39m_engine \u001b[39m=\u001b[39m \u001b[39mself\u001b[39;49m\u001b[39m.\u001b[39;49m_make_engine(f, \u001b[39mself\u001b[39;49m\u001b[39m.\u001b[39;49mengine)\n",
      "File \u001b[0;32m~/opt/anaconda3/envs/earth-analytics-python/lib/python3.8/site-packages/pandas/io/parsers/readers.py:1217\u001b[0m, in \u001b[0;36mTextFileReader._make_engine\u001b[0;34m(self, f, engine)\u001b[0m\n\u001b[1;32m   <a href='file:///Users/judith/opt/anaconda3/envs/earth-analytics-python/lib/python3.8/site-packages/pandas/io/parsers/readers.py?line=1212'>1213</a>\u001b[0m     mode \u001b[39m=\u001b[39m \u001b[39m\"\u001b[39m\u001b[39mrb\u001b[39m\u001b[39m\"\u001b[39m\n\u001b[1;32m   <a href='file:///Users/judith/opt/anaconda3/envs/earth-analytics-python/lib/python3.8/site-packages/pandas/io/parsers/readers.py?line=1213'>1214</a>\u001b[0m \u001b[39m# error: No overload variant of \"get_handle\" matches argument types\u001b[39;00m\n\u001b[1;32m   <a href='file:///Users/judith/opt/anaconda3/envs/earth-analytics-python/lib/python3.8/site-packages/pandas/io/parsers/readers.py?line=1214'>1215</a>\u001b[0m \u001b[39m# \"Union[str, PathLike[str], ReadCsvBuffer[bytes], ReadCsvBuffer[str]]\"\u001b[39;00m\n\u001b[1;32m   <a href='file:///Users/judith/opt/anaconda3/envs/earth-analytics-python/lib/python3.8/site-packages/pandas/io/parsers/readers.py?line=1215'>1216</a>\u001b[0m \u001b[39m# , \"str\", \"bool\", \"Any\", \"Any\", \"Any\", \"Any\", \"Any\"\u001b[39;00m\n\u001b[0;32m-> <a href='file:///Users/judith/opt/anaconda3/envs/earth-analytics-python/lib/python3.8/site-packages/pandas/io/parsers/readers.py?line=1216'>1217</a>\u001b[0m \u001b[39mself\u001b[39m\u001b[39m.\u001b[39mhandles \u001b[39m=\u001b[39m get_handle(  \u001b[39m# type: ignore[call-overload]\u001b[39;49;00m\n\u001b[1;32m   <a href='file:///Users/judith/opt/anaconda3/envs/earth-analytics-python/lib/python3.8/site-packages/pandas/io/parsers/readers.py?line=1217'>1218</a>\u001b[0m     f,\n\u001b[1;32m   <a href='file:///Users/judith/opt/anaconda3/envs/earth-analytics-python/lib/python3.8/site-packages/pandas/io/parsers/readers.py?line=1218'>1219</a>\u001b[0m     mode,\n\u001b[1;32m   <a href='file:///Users/judith/opt/anaconda3/envs/earth-analytics-python/lib/python3.8/site-packages/pandas/io/parsers/readers.py?line=1219'>1220</a>\u001b[0m     encoding\u001b[39m=\u001b[39;49m\u001b[39mself\u001b[39;49m\u001b[39m.\u001b[39;49moptions\u001b[39m.\u001b[39;49mget(\u001b[39m\"\u001b[39;49m\u001b[39mencoding\u001b[39;49m\u001b[39m\"\u001b[39;49m, \u001b[39mNone\u001b[39;49;00m),\n\u001b[1;32m   <a href='file:///Users/judith/opt/anaconda3/envs/earth-analytics-python/lib/python3.8/site-packages/pandas/io/parsers/readers.py?line=1220'>1221</a>\u001b[0m     compression\u001b[39m=\u001b[39;49m\u001b[39mself\u001b[39;49m\u001b[39m.\u001b[39;49moptions\u001b[39m.\u001b[39;49mget(\u001b[39m\"\u001b[39;49m\u001b[39mcompression\u001b[39;49m\u001b[39m\"\u001b[39;49m, \u001b[39mNone\u001b[39;49;00m),\n\u001b[1;32m   <a href='file:///Users/judith/opt/anaconda3/envs/earth-analytics-python/lib/python3.8/site-packages/pandas/io/parsers/readers.py?line=1221'>1222</a>\u001b[0m     memory_map\u001b[39m=\u001b[39;49m\u001b[39mself\u001b[39;49m\u001b[39m.\u001b[39;49moptions\u001b[39m.\u001b[39;49mget(\u001b[39m\"\u001b[39;49m\u001b[39mmemory_map\u001b[39;49m\u001b[39m\"\u001b[39;49m, \u001b[39mFalse\u001b[39;49;00m),\n\u001b[1;32m   <a href='file:///Users/judith/opt/anaconda3/envs/earth-analytics-python/lib/python3.8/site-packages/pandas/io/parsers/readers.py?line=1222'>1223</a>\u001b[0m     is_text\u001b[39m=\u001b[39;49mis_text,\n\u001b[1;32m   <a href='file:///Users/judith/opt/anaconda3/envs/earth-analytics-python/lib/python3.8/site-packages/pandas/io/parsers/readers.py?line=1223'>1224</a>\u001b[0m     errors\u001b[39m=\u001b[39;49m\u001b[39mself\u001b[39;49m\u001b[39m.\u001b[39;49moptions\u001b[39m.\u001b[39;49mget(\u001b[39m\"\u001b[39;49m\u001b[39mencoding_errors\u001b[39;49m\u001b[39m\"\u001b[39;49m, \u001b[39m\"\u001b[39;49m\u001b[39mstrict\u001b[39;49m\u001b[39m\"\u001b[39;49m),\n\u001b[1;32m   <a href='file:///Users/judith/opt/anaconda3/envs/earth-analytics-python/lib/python3.8/site-packages/pandas/io/parsers/readers.py?line=1224'>1225</a>\u001b[0m     storage_options\u001b[39m=\u001b[39;49m\u001b[39mself\u001b[39;49m\u001b[39m.\u001b[39;49moptions\u001b[39m.\u001b[39;49mget(\u001b[39m\"\u001b[39;49m\u001b[39mstorage_options\u001b[39;49m\u001b[39m\"\u001b[39;49m, \u001b[39mNone\u001b[39;49;00m),\n\u001b[1;32m   <a href='file:///Users/judith/opt/anaconda3/envs/earth-analytics-python/lib/python3.8/site-packages/pandas/io/parsers/readers.py?line=1225'>1226</a>\u001b[0m )\n\u001b[1;32m   <a href='file:///Users/judith/opt/anaconda3/envs/earth-analytics-python/lib/python3.8/site-packages/pandas/io/parsers/readers.py?line=1226'>1227</a>\u001b[0m \u001b[39massert\u001b[39;00m \u001b[39mself\u001b[39m\u001b[39m.\u001b[39mhandles \u001b[39mis\u001b[39;00m \u001b[39mnot\u001b[39;00m \u001b[39mNone\u001b[39;00m\n\u001b[1;32m   <a href='file:///Users/judith/opt/anaconda3/envs/earth-analytics-python/lib/python3.8/site-packages/pandas/io/parsers/readers.py?line=1227'>1228</a>\u001b[0m f \u001b[39m=\u001b[39m \u001b[39mself\u001b[39m\u001b[39m.\u001b[39mhandles\u001b[39m.\u001b[39mhandle\n",
      "File \u001b[0;32m~/opt/anaconda3/envs/earth-analytics-python/lib/python3.8/site-packages/pandas/io/common.py:789\u001b[0m, in \u001b[0;36mget_handle\u001b[0;34m(path_or_buf, mode, encoding, compression, memory_map, is_text, errors, storage_options)\u001b[0m\n\u001b[1;32m    <a href='file:///Users/judith/opt/anaconda3/envs/earth-analytics-python/lib/python3.8/site-packages/pandas/io/common.py?line=783'>784</a>\u001b[0m \u001b[39melif\u001b[39;00m \u001b[39misinstance\u001b[39m(handle, \u001b[39mstr\u001b[39m):\n\u001b[1;32m    <a href='file:///Users/judith/opt/anaconda3/envs/earth-analytics-python/lib/python3.8/site-packages/pandas/io/common.py?line=784'>785</a>\u001b[0m     \u001b[39m# Check whether the filename is to be opened in binary mode.\u001b[39;00m\n\u001b[1;32m    <a href='file:///Users/judith/opt/anaconda3/envs/earth-analytics-python/lib/python3.8/site-packages/pandas/io/common.py?line=785'>786</a>\u001b[0m     \u001b[39m# Binary mode does not support 'encoding' and 'newline'.\u001b[39;00m\n\u001b[1;32m    <a href='file:///Users/judith/opt/anaconda3/envs/earth-analytics-python/lib/python3.8/site-packages/pandas/io/common.py?line=786'>787</a>\u001b[0m     \u001b[39mif\u001b[39;00m ioargs\u001b[39m.\u001b[39mencoding \u001b[39mand\u001b[39;00m \u001b[39m\"\u001b[39m\u001b[39mb\u001b[39m\u001b[39m\"\u001b[39m \u001b[39mnot\u001b[39;00m \u001b[39min\u001b[39;00m ioargs\u001b[39m.\u001b[39mmode:\n\u001b[1;32m    <a href='file:///Users/judith/opt/anaconda3/envs/earth-analytics-python/lib/python3.8/site-packages/pandas/io/common.py?line=787'>788</a>\u001b[0m         \u001b[39m# Encoding\u001b[39;00m\n\u001b[0;32m--> <a href='file:///Users/judith/opt/anaconda3/envs/earth-analytics-python/lib/python3.8/site-packages/pandas/io/common.py?line=788'>789</a>\u001b[0m         handle \u001b[39m=\u001b[39m \u001b[39mopen\u001b[39;49m(\n\u001b[1;32m    <a href='file:///Users/judith/opt/anaconda3/envs/earth-analytics-python/lib/python3.8/site-packages/pandas/io/common.py?line=789'>790</a>\u001b[0m             handle,\n\u001b[1;32m    <a href='file:///Users/judith/opt/anaconda3/envs/earth-analytics-python/lib/python3.8/site-packages/pandas/io/common.py?line=790'>791</a>\u001b[0m             ioargs\u001b[39m.\u001b[39;49mmode,\n\u001b[1;32m    <a href='file:///Users/judith/opt/anaconda3/envs/earth-analytics-python/lib/python3.8/site-packages/pandas/io/common.py?line=791'>792</a>\u001b[0m             encoding\u001b[39m=\u001b[39;49mioargs\u001b[39m.\u001b[39;49mencoding,\n\u001b[1;32m    <a href='file:///Users/judith/opt/anaconda3/envs/earth-analytics-python/lib/python3.8/site-packages/pandas/io/common.py?line=792'>793</a>\u001b[0m             errors\u001b[39m=\u001b[39;49merrors,\n\u001b[1;32m    <a href='file:///Users/judith/opt/anaconda3/envs/earth-analytics-python/lib/python3.8/site-packages/pandas/io/common.py?line=793'>794</a>\u001b[0m             newline\u001b[39m=\u001b[39;49m\u001b[39m\"\u001b[39;49m\u001b[39m\"\u001b[39;49m,\n\u001b[1;32m    <a href='file:///Users/judith/opt/anaconda3/envs/earth-analytics-python/lib/python3.8/site-packages/pandas/io/common.py?line=794'>795</a>\u001b[0m         )\n\u001b[1;32m    <a href='file:///Users/judith/opt/anaconda3/envs/earth-analytics-python/lib/python3.8/site-packages/pandas/io/common.py?line=795'>796</a>\u001b[0m     \u001b[39melse\u001b[39;00m:\n\u001b[1;32m    <a href='file:///Users/judith/opt/anaconda3/envs/earth-analytics-python/lib/python3.8/site-packages/pandas/io/common.py?line=796'>797</a>\u001b[0m         \u001b[39m# Binary mode\u001b[39;00m\n\u001b[1;32m    <a href='file:///Users/judith/opt/anaconda3/envs/earth-analytics-python/lib/python3.8/site-packages/pandas/io/common.py?line=797'>798</a>\u001b[0m         handle \u001b[39m=\u001b[39m \u001b[39mopen\u001b[39m(handle, ioargs\u001b[39m.\u001b[39mmode)\n",
      "\u001b[0;31mFileNotFoundError\u001b[0m: [Errno 2] No such file or directory: '/Users/judith/earth-analytics/data/demo_data.csv'"
     ]
    }
   ],
   "source": [
    "df = pd.read_csv('~/earth-analytics/data/demo_data.csv')\n",
    "plot_grp_one = df.groupby(['year'])\n",
    "\n",
    "\n",
    "fig, ax = plt.subplots()\n",
    "for year, fire_list in plot_grp_one:\n",
    "    for cause, fire_size in zip(fire_list.cause.values, fire_list.fire_size.values):\n",
    "        ax.scatter(year,\n",
    "                   fire_size,\n",
    "                   label=cause)\n",
    "ax.set(title=\"Large Fire Cause Analysis 1995-2000\",\n",
    "            xlabel=\"Month Number\",\n",
    "            ylabel=\"Fire Size (acres)\")\n",
    "\n",
    "handles, labels = ax.get_legend_handles_labels()\n",
    "unique = [(h, l) for i, (h, l) in enumerate(zip(handles, labels)) if l not in labels[:i]]\n",
    "ax.legend(*zip(*unique))\n",
    "\n",
    "plt.show()"
   ]
  },
  {
   "cell_type": "code",
   "execution_count": null,
   "metadata": {},
   "outputs": [],
   "source": []
  }
 ],
 "metadata": {
  "kernelspec": {
   "display_name": "Python 3",
   "language": "python",
   "name": "python3"
  },
  "language_info": {
   "codemirror_mode": {
    "name": "ipython",
    "version": 3
   },
   "file_extension": ".py",
   "mimetype": "text/x-python",
   "name": "python",
   "nbconvert_exporter": "python",
   "pygments_lexer": "ipython3",
   "version": "3.8.5"
  }
 },
 "nbformat": 4,
 "nbformat_minor": 4
}
