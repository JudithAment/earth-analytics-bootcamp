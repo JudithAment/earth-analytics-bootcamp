{
 "cells": [
  {
   "cell_type": "code",
   "execution_count": 1,
   "id": "51cc025a",
   "metadata": {},
   "outputs": [
    {
     "data": {
      "image/png": "[encoded data removed]",
      "text/plain": [
       "<Figure size 432x288 with 1 Axes>"
      ]
     },
     "metadata": {
      "needs_background": "light"
     },
     "output_type": "display_data"
    }
   ],
   "source": [
    "# Import necessary packages\n",
    "import matplotlib.pyplot as plt\n",
    "import pandas as pd\n",
    "\n",
    "# Create data\n",
    "boulder_precip = pd.DataFrame(columns=[\"date\", \"precip\"], \n",
    "                              data=[\n",
    "                                  [\"2013-09-09\", 0.1], [\"2013-09-10\", 1.0], \n",
    "                                  [\"2013-09-11\", 2.3], [\"2013-09-12\", 9.8], [\"2013-09-13\", 1.9],\n",
    "                                  [\"2013-09-14\", 0.01], [\"2013-09-15\", 1.4], [\"2013-09-16\", 0.4]])      \n",
    "# Create plot\n",
    "fig, ax = plt.subplots()\n",
    "ax.bar(boulder_precip['date'].values, boulder_precip['precip'].values)\n",
    "ax.set(title=\"Daily Precipitation (inches)\\nBoulder, Colorado 2013\", \n",
    "       xlabel=\"Date\", ylabel=\"Precipitation (Inches)\")\n",
    "plt.setp(ax.get_xticklabels(), rotation=45);"
   ]
  },
  {
   "cell_type": "code",
   "execution_count": 2,
   "id": "0c203e22",
   "metadata": {},
   "outputs": [
    {
     "data": {
      "text/plain": [
       "12"
      ]
     },
     "execution_count": 2,
     "metadata": {},
     "output_type": "execute_result"
    }
   ],
   "source": [
    "16 - 4"
   ]
  },
  {
   "cell_type": "code",
   "execution_count": 3,
   "id": "a9c35aea",
   "metadata": {},
   "outputs": [
    {
     "data": {
      "text/plain": [
       "6.0"
      ]
     },
     "execution_count": 3,
     "metadata": {},
     "output_type": "execute_result"
    }
   ],
   "source": [
    "24 / 4"
   ]
  },
  {
   "cell_type": "code",
   "execution_count": 4,
   "id": "2c3bccf8",
   "metadata": {},
   "outputs": [
    {
     "data": {
      "text/plain": [
       "8"
      ]
     },
     "execution_count": 4,
     "metadata": {},
     "output_type": "execute_result"
    }
   ],
   "source": [
    "2 * 4"
   ]
  },
  {
   "cell_type": "code",
   "execution_count": 5,
   "id": "4e1f76fa",
   "metadata": {},
   "outputs": [
    {
     "data": {
      "text/plain": [
       "16"
      ]
     },
     "execution_count": 5,
     "metadata": {},
     "output_type": "execute_result"
    }
   ],
   "source": [
    "2 ** 4"
   ]
  }
 ],
 "metadata": {
  "kernelspec": {
   "display_name": "Python 3 (ipykernel)",
   "language": "python",
   "name": "python3"
  },
  "language_info": {
   "codemirror_mode": {
    "name": "ipython",
    "version": 3
   },
   "file_extension": ".py",
   "mimetype": "text/x-python",
   "name": "python",
   "nbconvert_exporter": "python",
   "pygments_lexer": "ipython3",
   "version": "3.9.7"
  }
 },
 "nbformat": 4,
 "nbformat_minor": 5
}
